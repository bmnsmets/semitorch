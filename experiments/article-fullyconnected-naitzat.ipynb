{
 "cells": [
  {
   "cell_type": "markdown",
   "metadata": {},
   "source": [
    "# Fully Connected Experiments: Naitzat\n",
    "\n",
    "This notebook contains the experiments with fully connected neural networks on [Naitzat](https://github.com/topnn/topnn_framework) (circles, rings and spheres).\n",
    "\n",
    "\n",
    "## 1 Setup"
   ]
  },
  {
   "cell_type": "code",
   "execution_count": 1,
   "metadata": {},
   "outputs": [
    {
     "name": "stdout",
     "output_type": "stream",
     "text": [
      "[Taichi] version 1.6.0, llvm 15.0.1, commit f1c6fbbd, win, python 3.11.4\n",
      "[Taichi] Starting on arch=cuda\n",
      "data path = c:\\Users\\Bart Smets\\Documents\\semitorch\\data\n",
      "device = cuda\n"
     ]
    }
   ],
   "source": [
    "import torch\n",
    "import torch.nn as nn\n",
    "from torchvision import transforms\n",
    "from torchvision.datasets import FashionMNIST\n",
    "from torch.utils.data import DataLoader, Dataset\n",
    "\n",
    "import semitorch\n",
    "from semitorch import MultiLRScheduler, MultiOptimizer\n",
    "\n",
    "import matplotlib.pyplot as plt\n",
    "import gc\n",
    "import random\n",
    "import numpy as np\n",
    "from IPython import display\n",
    "from tqdm.notebook import tqdm, trange\n",
    "import pandas as pd\n",
    "import os\n",
    "from collections import OrderedDict\n",
    "from itertools import chain\n",
    "from typing import Union, Tuple\n",
    "\n",
    "# Reproducibility\n",
    "RNG_SEED = 42\n",
    "torch.manual_seed(RNG_SEED)\n",
    "random.seed(RNG_SEED)\n",
    "np.random.seed(RNG_SEED)\n",
    "\n",
    "\n",
    "def seed_worker(worker_id):\n",
    "    worker_seed = torch.initial_seed()\n",
    "    np.random.seed(worker_seed)\n",
    "    random.seed(worker_seed)\n",
    "\n",
    "\n",
    "data_path = os.path.abspath(\"./data\" if os.path.isdir(\"./data\") else \"../data\")\n",
    "device = \"cuda\" if torch.cuda.is_available() else \"cpu\"\n",
    "print(f\"data path = {data_path}\\ndevice = {device}\")\n",
    "\n",
    "\n",
    "def split_dataset(dataset: torch.utils.data.Dataset, train_ratio: float = 0.5):\n",
    "    train_size = int(train_ratio * len(dataset))\n",
    "    test_size = len(dataset) - train_size\n",
    "    return torch.utils.data.random_split(dataset, [train_size, test_size])\n",
    "\n",
    "\n",
    "def count_parameters(model):\n",
    "    return sum(p.numel() for p in model.parameters() if p.requires_grad)\n",
    "\n",
    "\n",
    "def resetmodel(model: nn.Module) -> None:\n",
    "    @torch.no_grad()\n",
    "    def weight_reset(m: nn.Module):\n",
    "        reset_parameters = getattr(m, \"reset_parameters\", None)\n",
    "        if callable(reset_parameters):\n",
    "            m.reset_parameters()\n",
    "\n",
    "    model.apply(fn=weight_reset)\n",
    "\n",
    "\n",
    "def count_features(ds: Dataset) -> int:\n",
    "    ds[0][0].shape"
   ]
  },
  {
   "cell_type": "markdown",
   "metadata": {},
   "source": [
    "#### Load Naitzat data\n",
    "\n",
    "[https://github.com/topnn/topnn_framework](https://github.com/topnn/topnn_framework)"
   ]
  },
  {
   "cell_type": "code",
   "execution_count": 2,
   "metadata": {},
   "outputs": [
    {
     "name": "stdout",
     "output_type": "stream",
     "text": [
      "Circles dataset: input features = 2, classes = 2, samples = 15950\n",
      "Rings dataset: input features = 3, classes = 2, samples = 45000\n",
      "Spheres dataset: input features = 3, classes = 2, samples = 37800\n"
     ]
    }
   ],
   "source": [
    "circles_x, circles_y = torch.load(\n",
    "    os.path.join(data_path, \"naitzat\", \"circles_type_8.pt\")\n",
    ")\n",
    "circles_train, circles_test = split_dataset(\n",
    "    torch.utils.data.TensorDataset(circles_x, circles_y[:,0]),\n",
    "    train_ratio=0.5,\n",
    ")\n",
    "circles_num_features = circles_x.shape[1]\n",
    "circles_num_classes = torch.unique(circles_y).shape[0]\n",
    "print(\n",
    "    f\"Circles dataset: input features = {circles_x.shape[1]}, classes = {torch.unique(circles_y).shape[0]}, samples = {len(circles_y)}\"\n",
    ")\n",
    "\n",
    "rings_x, rings_y = torch.load(os.path.join(data_path, \"naitzat\", \"rings_9.pt\"))\n",
    "rings_train, rings_test = split_dataset(\n",
    "    torch.utils.data.TensorDataset(rings_x, rings_y[:,0]),\n",
    "    train_ratio=0.5,\n",
    ")\n",
    "rings_num_features = rings_x.shape[1]\n",
    "rings_num_classes = torch.unique(rings_y).shape[0]\n",
    "print(\n",
    "    f\"Rings dataset: input features = {rings_x.shape[1]}, classes = {torch.unique(rings_y).shape[0]}, samples = {len(rings_y)}\"\n",
    ")\n",
    "\n",
    "spheres_x, spheres_y = torch.load(os.path.join(data_path, \"naitzat\", \"spheres_9.pt\"))\n",
    "spheres_train, spheres_test = split_dataset(\n",
    "    torch.utils.data.TensorDataset(spheres_x, spheres_y[:,0]),\n",
    "    train_ratio=0.5,\n",
    ")\n",
    "spheres_num_features = spheres_x.shape[1]\n",
    "spheres_num_classes = torch.unique(spheres_y).shape[0]\n",
    "print(\n",
    "    f\"Spheres dataset: input features = {spheres_x.shape[1]}, classes = {torch.unique(spheres_y).shape[0]}, samples = {len(spheres_y)}\"\n",
    ")"
   ]
  },
  {
   "cell_type": "markdown",
   "metadata": {},
   "source": [
    "#### Create Dataloaders"
   ]
  },
  {
   "cell_type": "code",
   "execution_count": 3,
   "metadata": {},
   "outputs": [],
   "source": [
    "circles_train_loader = DataLoader(circles_train, batch_size=16, shuffle=True)\n",
    "circles_test_loader = DataLoader(\n",
    "    circles_test, batch_size=len(circles_test), shuffle=True\n",
    ")\n",
    "\n",
    "rings_train_loader = DataLoader(rings_train, batch_size=16, shuffle=True)\n",
    "rings_test_loader = DataLoader(rings_test, batch_size=len(rings_test), shuffle=True)\n",
    "\n",
    "spheres_train_loader = DataLoader(spheres_train, batch_size=16, shuffle=True)\n",
    "spheres_test_loader = DataLoader(\n",
    "    spheres_test, batch_size=len(spheres_test), shuffle=True\n",
    ")"
   ]
  },
  {
   "cell_type": "markdown",
   "metadata": {},
   "source": [
    "## 2 Models"
   ]
  },
  {
   "cell_type": "markdown",
   "metadata": {},
   "source": [
    "### 2.1 Baseline linear-ReLU network"
   ]
  },
  {
   "cell_type": "code",
   "execution_count": 4,
   "metadata": {},
   "outputs": [],
   "source": [
    "\n",
    "class LinearReLU(nn.Module):\n",
    "    def __init__(self, num_features: int, num_classes: int, width: int = 16):\n",
    "        super().__init__()\n",
    "        self.stem = nn.Linear(num_features, width, bias=False)\n",
    "        self.layer1 = nn.Sequential(\n",
    "            nn.Linear(width, width, bias=False),\n",
    "            nn.ReLU(),\n",
    "        )\n",
    "        self.layer2 = nn.Sequential(\n",
    "            nn.Linear(width, width, bias=False),\n",
    "            nn.ReLU(),\n",
    "        )\n",
    "        self.head = nn.Linear(width, num_classes, bias=False)\n",
    "\n",
    "    def forward(self, x):\n",
    "        y = self.stem(x)\n",
    "        y = y + self.layer1(y)\n",
    "        y = y + self.layer2(y)\n",
    "        return self.head(y)\n",
    "\n",
    "    def get_optimizer_and_scheduler(self, epochs: int, steps_per_epoch: int):\n",
    "        lr = 5e-3\n",
    "        optimizer = torch.optim.AdamW(self.parameters(), lr=lr, weight_decay=0.00001)\n",
    "        scheduler = torch.optim.lr_scheduler.OneCycleLR(\n",
    "            optimizer,\n",
    "            max_lr=lr,\n",
    "            anneal_strategy=\"linear\",\n",
    "            pct_start=0.1,\n",
    "            three_phase=True,\n",
    "            final_div_factor=500.0,\n",
    "            div_factor=10.0,\n",
    "            steps_per_epoch=steps_per_epoch,\n",
    "            epochs=epochs,\n",
    "        )\n",
    "        return optimizer, scheduler"
   ]
  },
  {
   "cell_type": "markdown",
   "metadata": {},
   "source": [
    "## 2.2 Tropical networks"
   ]
  },
  {
   "cell_type": "code",
   "execution_count": 5,
   "metadata": {},
   "outputs": [],
   "source": [
    "class LinearMaxPlus(nn.Module):\n",
    "    def __init__(self, num_features: int, num_classes: int, width: int = 16):\n",
    "        super().__init__()\n",
    "        self.stem = nn.Linear(num_features, width, bias=False)\n",
    "        self.layer1 = nn.Sequential(\n",
    "            nn.Linear(width, width // 2, bias=False),\n",
    "            semitorch.MaxPlus(width // 2, width, bias=False),\n",
    "        )\n",
    "        self.layer2 = nn.Sequential(\n",
    "            nn.Linear(width, width // 2, bias=False),\n",
    "            semitorch.MaxPlus(width // 2, width, bias=False),\n",
    "        )\n",
    "        self.head = nn.Linear(width, num_classes, bias=False)\n",
    "\n",
    "    def forward(self, x):\n",
    "        y = self.stem(x)\n",
    "        y = y + self.layer1(y)\n",
    "        y = y + self.layer2(y)\n",
    "        return self.head(y)\n",
    "\n",
    "    def get_optimizer_and_scheduler(self, epochs: int, steps_per_epoch: int):\n",
    "        return tropcial_optimizer_and_scheduler(self, epochs, steps_per_epoch)\n",
    "\n",
    "\n",
    "class LinearMinPlus(nn.Module):\n",
    "    def __init__(self, num_features: int, num_classes: int, width: int = 16):\n",
    "        super().__init__()\n",
    "        self.stem = nn.Linear(num_features, width, bias=False)\n",
    "        self.layer1 = nn.Sequential(\n",
    "            nn.Linear(width, width // 2, bias=False),\n",
    "            semitorch.MinPlus(width // 2, width, bias=False),\n",
    "        )\n",
    "        self.layer2 = nn.Sequential(\n",
    "            nn.Linear(width, width // 2, bias=False),\n",
    "            semitorch.MinPlus(width // 2, width, bias=False),\n",
    "        )\n",
    "        self.head = nn.Linear(width, num_classes, bias=False)\n",
    "\n",
    "    def forward(self, x):\n",
    "        y = self.stem(x)\n",
    "        y = y + self.layer1(y)\n",
    "        y = y + self.layer2(y)\n",
    "        return self.head(y)\n",
    "\n",
    "    def get_optimizer_and_scheduler(self, epochs: int, steps_per_epoch: int):\n",
    "        return tropcial_optimizer_and_scheduler(self, epochs, steps_per_epoch)\n",
    "\n",
    "\n",
    "def tropcial_optimizer_and_scheduler(\n",
    "    model: Union[LinearMaxPlus, LinearMinPlus], epochs: int, steps_per_epoch: int\n",
    "):\n",
    "    linear_params = chain(\n",
    "        model.stem.parameters(),\n",
    "        model.layer1[0].parameters(),\n",
    "        model.layer2[0].parameters(),\n",
    "        model.head.parameters(),\n",
    "    )\n",
    "    tropical_params = chain(model.layer1[1].parameters(), model.layer2[1].parameters())\n",
    "    opt1 = torch.optim.AdamW(linear_params, lr=2e-2, weight_decay=0.01)\n",
    "    sch1 = torch.optim.lr_scheduler.OneCycleLR(\n",
    "        opt1,\n",
    "        max_lr=2e-2,\n",
    "        anneal_strategy=\"linear\",\n",
    "        pct_start=0.1,\n",
    "        three_phase=True,\n",
    "        final_div_factor=1000.0,\n",
    "        div_factor=10.0,\n",
    "        steps_per_epoch=steps_per_epoch,\n",
    "        epochs=epochs,\n",
    "    )\n",
    "    opt2 = torch.optim.AdamW(tropical_params, lr=4e-3, weight_decay=0.01)\n",
    "    sch2 = torch.optim.lr_scheduler.OneCycleLR(\n",
    "        opt2,\n",
    "        max_lr=4e-3,\n",
    "        anneal_strategy=\"linear\",\n",
    "        pct_start=0.1,\n",
    "        three_phase=True,\n",
    "        final_div_factor=500.0,\n",
    "        div_factor=10.0,\n",
    "        steps_per_epoch=steps_per_epoch,\n",
    "        epochs=epochs,\n",
    "    )\n",
    "    optimizer = MultiOptimizer(opt1, opt2)\n",
    "    scheduler = MultiLRScheduler(sch1, sch2)\n",
    "    return optimizer, scheduler"
   ]
  },
  {
   "cell_type": "markdown",
   "metadata": {},
   "source": [
    "## 2.3 Logarithmic Models"
   ]
  },
  {
   "cell_type": "code",
   "execution_count": 6,
   "metadata": {},
   "outputs": [],
   "source": [
    "class LinearLogPlus(nn.Module):\n",
    "    def __init__(\n",
    "        self, num_features: int, num_classes: int, width: int = 16, mu: float = 1.0\n",
    "    ):\n",
    "        super().__init__()\n",
    "        self.mu = mu\n",
    "        self.stem = nn.Linear(num_features, width, bias=False)\n",
    "        self.layer1 = nn.Sequential(\n",
    "            nn.Linear(width, width // 2, bias=False),\n",
    "            semitorch.LogPlus(width // 2, width, mu=mu, bias=False),\n",
    "        )\n",
    "        self.layer2 = nn.Sequential(\n",
    "            nn.Linear(width, width // 2, bias=False),\n",
    "            semitorch.LogPlus(width // 2, width, mu=mu, bias=False),\n",
    "        )\n",
    "        self.head = nn.Linear(width, num_classes, bias=False)\n",
    "\n",
    "    def forward(self, x):\n",
    "        y = self.stem(x)\n",
    "        y = y + self.layer1(y)\n",
    "        y = y + self.layer2(y)\n",
    "        return self.head(y)\n",
    "\n",
    "    def get_optimizer_and_scheduler(self, epochs: int, steps_per_epoch: int):\n",
    "        lr = 5e-3\n",
    "        optimizer = torch.optim.AdamW(self.parameters(), lr=lr, weight_decay=0.01)\n",
    "        scheduler = torch.optim.lr_scheduler.OneCycleLR(\n",
    "            optimizer,\n",
    "            max_lr=lr,\n",
    "            anneal_strategy=\"linear\",\n",
    "            pct_start=0.1,\n",
    "            three_phase=True,\n",
    "            final_div_factor=500.0,\n",
    "            div_factor=10.0,\n",
    "            steps_per_epoch=steps_per_epoch,\n",
    "            epochs=epochs,\n",
    "        )\n",
    "        return optimizer, scheduler"
   ]
  },
  {
   "cell_type": "markdown",
   "metadata": {},
   "source": [
    "# Training"
   ]
  },
  {
   "cell_type": "code",
   "execution_count": 7,
   "metadata": {},
   "outputs": [],
   "source": [
    "def accuracy(model, x, y):\n",
    "    with torch.no_grad():\n",
    "        yout = model(x)\n",
    "        _, prediction = torch.max(yout.cpu(), dim=1)\n",
    "        return (y.cpu() == prediction).sum().item() / float(y.numel())\n",
    "\n",
    "\n",
    "def test(model, device, testloader):\n",
    "    model.eval()\n",
    "    accs = []\n",
    "    with torch.no_grad():\n",
    "        for x, y in testloader:\n",
    "            x = x.to(device)\n",
    "            accs.append(accuracy(model, x, y))\n",
    "    return sum(accs) / len(accs)\n",
    "\n",
    "\n",
    "def train(model, device, trainloader, testloader, optimizer, scheduler, loss, epochs):\n",
    "    accs = []  # list of accuracy on the test dataset for every epoch\n",
    "    trainaccs = []  # a list of the accuracies of all the training batches\n",
    "    epoch_len = len(trainloader)\n",
    "\n",
    "    fig, ax = plt.subplots(1, 1, figsize=[4, 3])\n",
    "    hdisplay = display.display(\"\", display_id=True)\n",
    "\n",
    "    for epoch in trange(epochs):\n",
    "        model.train()\n",
    "        for x, y in trainloader:\n",
    "            x, y = x.to(device), y.to(device)\n",
    "            optimizer.zero_grad()\n",
    "            yout = model(x)\n",
    "            _, prediction = torch.max(yout.cpu(), dim=1)\n",
    "            trainaccs.append((y.cpu() == prediction).sum().item() / float(y.numel()))\n",
    "            l = loss(yout, y)\n",
    "            l.backward()\n",
    "            optimizer.step()\n",
    "            if scheduler != None:\n",
    "                scheduler.step()\n",
    "\n",
    "        accs.append(test(model, device, testloader))\n",
    "\n",
    "        ax.clear()\n",
    "        ax.set_xlim(0, epochs)\n",
    "        ax.set_ylim(-0.02, 1.02)\n",
    "        ax.plot(\n",
    "            np.linspace(0, len(accs), len(trainaccs)),\n",
    "            trainaccs,\n",
    "            \".\",\n",
    "            markersize=1.5,\n",
    "            markerfacecolor=(0, 0, 1, 0.3),\n",
    "        )\n",
    "        ax.plot(np.linspace(1, len(accs), len(accs)), accs)\n",
    "        ax.text(\n",
    "            0.55 * epochs,\n",
    "            0.2,\n",
    "            f\"max test acc = {max(accs):.2%}\",\n",
    "            ha=\"center\",\n",
    "            fontsize=6,\n",
    "        )\n",
    "        train100acc = sum(trainaccs[-epoch_len:]) / len(trainaccs[-epoch_len:])\n",
    "        ax.text(\n",
    "            0.55 * epochs,\n",
    "            0.1,\n",
    "            f\"train acc (last epoch) = {train100acc:.2%}\",\n",
    "            ha=\"center\",\n",
    "            fontsize=6,\n",
    "        )\n",
    "        hdisplay.update(fig)\n",
    "\n",
    "        # prevents OOM when GPU memory is tight\n",
    "        torch.cuda.empty_cache()\n",
    "        gc.collect()\n",
    "\n",
    "    plt.close(fig)\n",
    "    return sum(trainaccs[-epoch_len:]) / len(trainaccs[-epoch_len:]), max(accs)"
   ]
  },
  {
   "cell_type": "code",
   "execution_count": 8,
   "metadata": {},
   "outputs": [
    {
     "name": "stdout",
     "output_type": "stream",
     "text": [
      "\n",
      "\n",
      "model = circles_linear_relu:\n"
     ]
    },
    {
     "data": {
      "image/png": "[encoded data removed]",
      "text/plain": [
       "<Figure size 400x300 with 1 Axes>"
      ]
     },
     "metadata": {},
     "output_type": "display_data"
    },
    {
     "data": {
      "application/vnd.jupyter.widget-view+json": {
       "model_id": "82cde42dc38a43d79041efa65042de3f",
       "version_major": 2,
       "version_minor": 0
      },
      "text/plain": [
       "  0%|          | 0/40 [00:00<?, ?it/s]"
      ]
     },
     "metadata": {},
     "output_type": "display_data"
    },
    {
     "name": "stdout",
     "output_type": "stream",
     "text": [
      "\n",
      "\n",
      "model = circles_linear_maxplus:\n"
     ]
    },
    {
     "data": {
      "image/png": "[encoded data removed]",
      "text/plain": [
       "<Figure size 400x300 with 1 Axes>"
      ]
     },
     "metadata": {},
     "output_type": "display_data"
    },
    {
     "data": {
      "application/vnd.jupyter.widget-view+json": {
       "model_id": "e63bbb0d3b2142088a6bd5c13fd7e907",
       "version_major": 2,
       "version_minor": 0
      },
      "text/plain": [
       "  0%|          | 0/40 [00:00<?, ?it/s]"
      ]
     },
     "metadata": {},
     "output_type": "display_data"
    },
    {
     "ename": "KeyboardInterrupt",
     "evalue": "",
     "output_type": "error",
     "traceback": [
      "\u001b[1;31m---------------------------------------------------------------------------\u001b[0m",
      "\u001b[1;31mKeyboardInterrupt\u001b[0m                         Traceback (most recent call last)",
      "\u001b[1;32mc:\\Users\\Bart Smets\\Documents\\semitorch\\experiments\\article-fullyconnected-naitzat.ipynb Cell 16\u001b[0m line \u001b[0;36m5\n\u001b[0;32m     <a href='vscode-notebook-cell:/c%3A/Users/Bart%20Smets/Documents/semitorch/experiments/article-fullyconnected-naitzat.ipynb#X21sZmlsZQ%3D%3D?line=55'>56</a>\u001b[0m optimizer, scheduler \u001b[39m=\u001b[39m m\u001b[39m.\u001b[39mget_optimizer_and_scheduler(epochs, \u001b[39mlen\u001b[39m(circles_train_loader))\n\u001b[0;32m     <a href='vscode-notebook-cell:/c%3A/Users/Bart%20Smets/Documents/semitorch/experiments/article-fullyconnected-naitzat.ipynb#X21sZmlsZQ%3D%3D?line=56'>57</a>\u001b[0m \u001b[39mprint\u001b[39m(\u001b[39mf\u001b[39m\u001b[39m\"\u001b[39m\u001b[39m\\n\u001b[39;00m\u001b[39m\\n\u001b[39;00m\u001b[39mmodel = \u001b[39m\u001b[39m{\u001b[39;00mm\u001b[39m.\u001b[39mtag\u001b[39m}\u001b[39;00m\u001b[39m:\u001b[39m\u001b[39m\"\u001b[39m)\n\u001b[1;32m---> <a href='vscode-notebook-cell:/c%3A/Users/Bart%20Smets/Documents/semitorch/experiments/article-fullyconnected-naitzat.ipynb#X21sZmlsZQ%3D%3D?line=57'>58</a>\u001b[0m train100acc, testacc \u001b[39m=\u001b[39m train(\n\u001b[0;32m     <a href='vscode-notebook-cell:/c%3A/Users/Bart%20Smets/Documents/semitorch/experiments/article-fullyconnected-naitzat.ipynb#X21sZmlsZQ%3D%3D?line=58'>59</a>\u001b[0m     m,\n\u001b[0;32m     <a href='vscode-notebook-cell:/c%3A/Users/Bart%20Smets/Documents/semitorch/experiments/article-fullyconnected-naitzat.ipynb#X21sZmlsZQ%3D%3D?line=59'>60</a>\u001b[0m     device,\n\u001b[0;32m     <a href='vscode-notebook-cell:/c%3A/Users/Bart%20Smets/Documents/semitorch/experiments/article-fullyconnected-naitzat.ipynb#X21sZmlsZQ%3D%3D?line=60'>61</a>\u001b[0m     circles_train_loader,\n\u001b[0;32m     <a href='vscode-notebook-cell:/c%3A/Users/Bart%20Smets/Documents/semitorch/experiments/article-fullyconnected-naitzat.ipynb#X21sZmlsZQ%3D%3D?line=61'>62</a>\u001b[0m     circles_test_loader,\n\u001b[0;32m     <a href='vscode-notebook-cell:/c%3A/Users/Bart%20Smets/Documents/semitorch/experiments/article-fullyconnected-naitzat.ipynb#X21sZmlsZQ%3D%3D?line=62'>63</a>\u001b[0m     optimizer,\n\u001b[0;32m     <a href='vscode-notebook-cell:/c%3A/Users/Bart%20Smets/Documents/semitorch/experiments/article-fullyconnected-naitzat.ipynb#X21sZmlsZQ%3D%3D?line=63'>64</a>\u001b[0m     scheduler,\n\u001b[0;32m     <a href='vscode-notebook-cell:/c%3A/Users/Bart%20Smets/Documents/semitorch/experiments/article-fullyconnected-naitzat.ipynb#X21sZmlsZQ%3D%3D?line=64'>65</a>\u001b[0m     loss,\n\u001b[0;32m     <a href='vscode-notebook-cell:/c%3A/Users/Bart%20Smets/Documents/semitorch/experiments/article-fullyconnected-naitzat.ipynb#X21sZmlsZQ%3D%3D?line=65'>66</a>\u001b[0m     epochs\n\u001b[0;32m     <a href='vscode-notebook-cell:/c%3A/Users/Bart%20Smets/Documents/semitorch/experiments/article-fullyconnected-naitzat.ipynb#X21sZmlsZQ%3D%3D?line=66'>67</a>\u001b[0m )\n\u001b[0;32m     <a href='vscode-notebook-cell:/c%3A/Users/Bart%20Smets/Documents/semitorch/experiments/article-fullyconnected-naitzat.ipynb#X21sZmlsZQ%3D%3D?line=67'>68</a>\u001b[0m circles_train100accs\u001b[39m.\u001b[39mappend(train100acc)\n\u001b[0;32m     <a href='vscode-notebook-cell:/c%3A/Users/Bart%20Smets/Documents/semitorch/experiments/article-fullyconnected-naitzat.ipynb#X21sZmlsZQ%3D%3D?line=68'>69</a>\u001b[0m circles_testaccs\u001b[39m.\u001b[39mappend(testacc)\n",
      "\u001b[1;32mc:\\Users\\Bart Smets\\Documents\\semitorch\\experiments\\article-fullyconnected-naitzat.ipynb Cell 16\u001b[0m line \u001b[0;36m3\n\u001b[0;32m     <a href='vscode-notebook-cell:/c%3A/Users/Bart%20Smets/Documents/semitorch/experiments/article-fullyconnected-naitzat.ipynb#X21sZmlsZQ%3D%3D?line=32'>33</a>\u001b[0m trainaccs\u001b[39m.\u001b[39mappend((y\u001b[39m.\u001b[39mcpu() \u001b[39m==\u001b[39m prediction)\u001b[39m.\u001b[39msum()\u001b[39m.\u001b[39mitem() \u001b[39m/\u001b[39m \u001b[39mfloat\u001b[39m(y\u001b[39m.\u001b[39mnumel()))\n\u001b[0;32m     <a href='vscode-notebook-cell:/c%3A/Users/Bart%20Smets/Documents/semitorch/experiments/article-fullyconnected-naitzat.ipynb#X21sZmlsZQ%3D%3D?line=33'>34</a>\u001b[0m l \u001b[39m=\u001b[39m loss(yout, y)\n\u001b[1;32m---> <a href='vscode-notebook-cell:/c%3A/Users/Bart%20Smets/Documents/semitorch/experiments/article-fullyconnected-naitzat.ipynb#X21sZmlsZQ%3D%3D?line=34'>35</a>\u001b[0m l\u001b[39m.\u001b[39;49mbackward()\n\u001b[0;32m     <a href='vscode-notebook-cell:/c%3A/Users/Bart%20Smets/Documents/semitorch/experiments/article-fullyconnected-naitzat.ipynb#X21sZmlsZQ%3D%3D?line=35'>36</a>\u001b[0m optimizer\u001b[39m.\u001b[39mstep()\n\u001b[0;32m     <a href='vscode-notebook-cell:/c%3A/Users/Bart%20Smets/Documents/semitorch/experiments/article-fullyconnected-naitzat.ipynb#X21sZmlsZQ%3D%3D?line=36'>37</a>\u001b[0m \u001b[39mif\u001b[39;00m scheduler \u001b[39m!=\u001b[39m \u001b[39mNone\u001b[39;00m:\n",
      "File \u001b[1;32mc:\\mambaforge\\envs\\torch20\\Lib\\site-packages\\torch\\_tensor.py:487\u001b[0m, in \u001b[0;36mTensor.backward\u001b[1;34m(self, gradient, retain_graph, create_graph, inputs)\u001b[0m\n\u001b[0;32m    477\u001b[0m \u001b[39mif\u001b[39;00m has_torch_function_unary(\u001b[39mself\u001b[39m):\n\u001b[0;32m    478\u001b[0m     \u001b[39mreturn\u001b[39;00m handle_torch_function(\n\u001b[0;32m    479\u001b[0m         Tensor\u001b[39m.\u001b[39mbackward,\n\u001b[0;32m    480\u001b[0m         (\u001b[39mself\u001b[39m,),\n\u001b[1;32m   (...)\u001b[0m\n\u001b[0;32m    485\u001b[0m         inputs\u001b[39m=\u001b[39minputs,\n\u001b[0;32m    486\u001b[0m     )\n\u001b[1;32m--> 487\u001b[0m torch\u001b[39m.\u001b[39;49mautograd\u001b[39m.\u001b[39;49mbackward(\n\u001b[0;32m    488\u001b[0m     \u001b[39mself\u001b[39;49m, gradient, retain_graph, create_graph, inputs\u001b[39m=\u001b[39;49minputs\n\u001b[0;32m    489\u001b[0m )\n",
      "File \u001b[1;32mc:\\mambaforge\\envs\\torch20\\Lib\\site-packages\\torch\\autograd\\__init__.py:200\u001b[0m, in \u001b[0;36mbackward\u001b[1;34m(tensors, grad_tensors, retain_graph, create_graph, grad_variables, inputs)\u001b[0m\n\u001b[0;32m    195\u001b[0m     retain_graph \u001b[39m=\u001b[39m create_graph\n\u001b[0;32m    197\u001b[0m \u001b[39m# The reason we repeat same the comment below is that\u001b[39;00m\n\u001b[0;32m    198\u001b[0m \u001b[39m# some Python versions print out the first line of a multi-line function\u001b[39;00m\n\u001b[0;32m    199\u001b[0m \u001b[39m# calls in the traceback and some print out the last line\u001b[39;00m\n\u001b[1;32m--> 200\u001b[0m Variable\u001b[39m.\u001b[39;49m_execution_engine\u001b[39m.\u001b[39;49mrun_backward(  \u001b[39m# Calls into the C++ engine to run the backward pass\u001b[39;49;00m\n\u001b[0;32m    201\u001b[0m     tensors, grad_tensors_, retain_graph, create_graph, inputs,\n\u001b[0;32m    202\u001b[0m     allow_unreachable\u001b[39m=\u001b[39;49m\u001b[39mTrue\u001b[39;49;00m, accumulate_grad\u001b[39m=\u001b[39;49m\u001b[39mTrue\u001b[39;49;00m)\n",
      "\u001b[1;31mKeyboardInterrupt\u001b[0m: "
     ]
    },
    {
     "data": {
      "image/png": "[encoded data removed]",
      "text/plain": [
       "<Figure size 400x300 with 1 Axes>"
      ]
     },
     "metadata": {},
     "output_type": "display_data"
    }
   ],
   "source": [
    "circles_model_width = 8 # must be even for the number of parameters to match\n",
    "\n",
    "circles_linear_relu = LinearReLU(\n",
    "    circles_num_features, circles_num_classes, width=circles_model_width\n",
    ")\n",
    "circles_linear_relu.tag = \"circles_linear_relu\"\n",
    "\n",
    "circles_linear_maxplus = LinearMaxPlus(\n",
    "    circles_num_features, circles_num_classes, width=circles_model_width\n",
    ")\n",
    "circles_linear_maxplus.tag = \"circles_linear_maxplus\"\n",
    "\n",
    "circles_linear_minplus = LinearMinPlus(\n",
    "    circles_num_features, circles_num_classes, width=circles_model_width\n",
    ")\n",
    "circles_linear_minplus.tag = \"circles_linear_minplus\"\n",
    "\n",
    "circles_linear_logplus_m10 = LinearLogPlus(\n",
    "    circles_num_features, circles_num_classes, width=circles_model_width, mu=-10\n",
    ")\n",
    "circles_linear_logplus_m10.tag = \"circles_linear_logplus_m10\"\n",
    "\n",
    "circles_linear_logplus_m1 = LinearLogPlus(\n",
    "    circles_num_features, circles_num_classes, width=circles_model_width, mu=-1\n",
    ")\n",
    "circles_linear_logplus_m1.tag = \"circles_linear_logplust_m1\"\n",
    "\n",
    "circles_linear_logplus_p1 = LinearLogPlus(\n",
    "    circles_num_features, circles_num_classes, width=circles_model_width, mu=1\n",
    ")\n",
    "circles_linear_logplus_p1.tag = \"circles_linear_logplust_p1\"\n",
    "\n",
    "circles_linear_logplus_p10 = LinearLogPlus(\n",
    "    circles_num_features, circles_num_classes, width=circles_model_width, mu=10\n",
    ")\n",
    "circles_linear_logplus_p10.tag = \"circles_linear_logplust_p10\"\n",
    "\n",
    "circles_models = [\n",
    "    circles_linear_relu,\n",
    "    circles_linear_maxplus,\n",
    "    circles_linear_minplus,\n",
    "    circles_linear_logplus_m10,\n",
    "    circles_linear_logplus_m1,\n",
    "    circles_linear_logplus_p1,\n",
    "    circles_linear_logplus_p10,\n",
    "]\n",
    "\n",
    "circles_models = [m.to(device) for m in circles_models]\n",
    "\n",
    "loss = nn.CrossEntropyLoss(weight=torch.Tensor([1-0.6186,0.6186]).to(device))\n",
    "epochs = 40\n",
    "\n",
    "circles_train100accs = []\n",
    "circles_testaccs = []\n",
    "for im, m in enumerate(circles_models):\n",
    "    optimizer, scheduler = m.get_optimizer_and_scheduler(epochs, len(circles_train_loader))\n",
    "    print(f\"\\n\\nmodel = {m.tag}:\")\n",
    "    train100acc, testacc = train(\n",
    "        m,\n",
    "        device,\n",
    "        circles_train_loader,\n",
    "        circles_test_loader,\n",
    "        optimizer,\n",
    "        scheduler,\n",
    "        loss,\n",
    "        epochs\n",
    "    )\n",
    "    circles_train100accs.append(train100acc)\n",
    "    circles_testaccs.append(testacc)\n",
    "\n",
    "print(f\"train accuracies (last epoch): {circles_train100accs}\")\n",
    "print(f\"test accuracies: {circles_testaccs}\")"
   ]
  },
  {
   "cell_type": "code",
   "execution_count": null,
   "metadata": {},
   "outputs": [],
   "source": []
  }
 ],
 "metadata": {
  "kernelspec": {
   "display_name": "pytorch200cu118",
   "language": "python",
   "name": "python3"
  },
  "language_info": {
   "codemirror_mode": {
    "name": "ipython",
    "version": 3
   },
   "file_extension": ".py",
   "mimetype": "text/x-python",
   "name": "python",
   "nbconvert_exporter": "python",
   "pygments_lexer": "ipython3",
   "version": "3.11.4"
  },
  "orig_nbformat": 4
 },
 "nbformat": 4,
 "nbformat_minor": 2
}
