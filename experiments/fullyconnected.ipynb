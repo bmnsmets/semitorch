{
 "cells": [
  {
   "attachments": {},
   "cell_type": "markdown",
   "metadata": {},
   "source": [
    "# Fully Connected Experiments\n",
    "\n",
    "\n",
    "## 1. Setup"
   ]
  },
  {
   "cell_type": "code",
   "execution_count": 1,
   "metadata": {
    "ExecuteTime": {
     "end_time": "2023-09-02T10:34:56.381045800Z",
     "start_time": "2023-09-02T10:34:52.403716Z"
    }
   },
   "outputs": [
    {
     "name": "stdout",
     "output_type": "stream",
     "text": [
      "[Taichi] version 1.6.0, llvm 15.0.1, commit f1c6fbbd, win, python 3.10.7\n",
      "[Taichi] Starting on arch=cuda\n"
     ]
    }
   ],
   "source": [
    "import gc\n",
    "import matplotlib.pyplot as plt\n",
    "import numpy as np\n",
    "import os\n",
    "import pandas as pd\n",
    "import torch\n",
    "import torch.nn as nn\n",
    "import semitorch\n",
    "\n",
    "from collections import OrderedDict\n",
    "from IPython import display\n",
    "from statistics import quantiles\n",
    "from torch.utils.data import DataLoader\n",
    "from tqdm.notebook import trange\n",
    "\n",
    "data_path = os.path.abspath(\"./data\" if os.path.isdir(\"./data\") else \"../data\")\n",
    "device = \"cuda\" if torch.cuda.is_available() else \"cpu\"\n",
    "\n",
    "\n",
    "def split_dataset(dataset: torch.utils.data.Dataset):\n",
    "    train_size = int(0.8 * len(dataset))\n",
    "    test_size = len(dataset) - train_size\n",
    "\n",
    "    return torch.utils.data.random_split(dataset, [train_size, test_size])"
   ]
  },
  {
   "attachments": {},
   "cell_type": "markdown",
   "metadata": {},
   "source": [
    "### Load iris data\n",
    "[https://www.kaggle.com/datasets/uciml/iris](https://www.kaggle.com/datasets/uciml/iris)"
   ]
  },
  {
   "cell_type": "code",
   "execution_count": 2,
   "metadata": {
    "ExecuteTime": {
     "end_time": "2023-09-02T10:34:57.635595900Z",
     "start_time": "2023-09-02T10:34:56.377567600Z"
    }
   },
   "outputs": [
    {
     "name": "stdout",
     "output_type": "stream",
     "text": [
      "Iris dataset: input features = 4, classes = 3, samples = 150\n"
     ]
    },
    {
     "data": {
      "text/plain": "tensor([[0.0706, 0.0927, 0.0275, 0.0115],\n        [0.0678, 0.0794, 0.0275, 0.0115],\n        [0.0650, 0.0847, 0.0256, 0.0115],\n        [0.0636, 0.0821, 0.0295, 0.0115],\n        [0.0692, 0.0953, 0.0275, 0.0115],\n        [0.0747, 0.1032, 0.0334, 0.0230],\n        [0.0636, 0.0900, 0.0275, 0.0173],\n        [0.0692, 0.0900, 0.0295, 0.0115],\n        [0.0609, 0.0768, 0.0275, 0.0115],\n        [0.0678, 0.0821, 0.0295, 0.0058],\n        [0.0747, 0.0979, 0.0295, 0.0115],\n        [0.0664, 0.0900, 0.0315, 0.0115],\n        [0.0664, 0.0794, 0.0275, 0.0058],\n        [0.0595, 0.0794, 0.0216, 0.0058],\n        [0.0802, 0.1059, 0.0236, 0.0115],\n        [0.0789, 0.1165, 0.0295, 0.0230],\n        [0.0747, 0.1032, 0.0256, 0.0230],\n        [0.0706, 0.0927, 0.0275, 0.0173],\n        [0.0789, 0.1006, 0.0334, 0.0173],\n        [0.0706, 0.1006, 0.0295, 0.0173],\n        [0.0747, 0.0900, 0.0334, 0.0115],\n        [0.0706, 0.0979, 0.0295, 0.0230],\n        [0.0636, 0.0953, 0.0197, 0.0115],\n        [0.0706, 0.0874, 0.0334, 0.0288],\n        [0.0664, 0.0900, 0.0374, 0.0115],\n        [0.0692, 0.0794, 0.0315, 0.0115],\n        [0.0692, 0.0900, 0.0315, 0.0230],\n        [0.0719, 0.0927, 0.0295, 0.0115],\n        [0.0719, 0.0900, 0.0275, 0.0115],\n        [0.0650, 0.0847, 0.0315, 0.0115],\n        [0.0664, 0.0821, 0.0315, 0.0115],\n        [0.0747, 0.0900, 0.0295, 0.0230],\n        [0.0719, 0.1085, 0.0295, 0.0058],\n        [0.0761, 0.1112, 0.0275, 0.0115],\n        [0.0678, 0.0821, 0.0295, 0.0058],\n        [0.0692, 0.0847, 0.0236, 0.0115],\n        [0.0761, 0.0927, 0.0256, 0.0115],\n        [0.0678, 0.0821, 0.0295, 0.0058],\n        [0.0609, 0.0794, 0.0256, 0.0115],\n        [0.0706, 0.0900, 0.0295, 0.0115],\n        [0.0692, 0.0927, 0.0256, 0.0173],\n        [0.0623, 0.0609, 0.0256, 0.0173],\n        [0.0609, 0.0847, 0.0256, 0.0115],\n        [0.0692, 0.0927, 0.0315, 0.0345],\n        [0.0706, 0.1006, 0.0374, 0.0230],\n        [0.0664, 0.0794, 0.0275, 0.0173],\n        [0.0706, 0.1006, 0.0315, 0.0115],\n        [0.0636, 0.0847, 0.0275, 0.0115],\n        [0.0733, 0.0979, 0.0295, 0.0115],\n        [0.0692, 0.0874, 0.0275, 0.0115],\n        [0.0969, 0.0847, 0.0925, 0.0805],\n        [0.0885, 0.0847, 0.0885, 0.0863],\n        [0.0955, 0.0821, 0.0964, 0.0863],\n        [0.0761, 0.0609, 0.0787, 0.0748],\n        [0.0899, 0.0741, 0.0905, 0.0863],\n        [0.0789, 0.0741, 0.0885, 0.0748],\n        [0.0872, 0.0874, 0.0925, 0.0920],\n        [0.0678, 0.0635, 0.0649, 0.0575],\n        [0.0913, 0.0768, 0.0905, 0.0748],\n        [0.0719, 0.0715, 0.0767, 0.0805],\n        [0.0692, 0.0529, 0.0689, 0.0575],\n        [0.0816, 0.0794, 0.0826, 0.0863],\n        [0.0830, 0.0582, 0.0787, 0.0575],\n        [0.0844, 0.0768, 0.0925, 0.0805],\n        [0.0775, 0.0768, 0.0708, 0.0748],\n        [0.0927, 0.0821, 0.0866, 0.0805],\n        [0.0775, 0.0794, 0.0885, 0.0863],\n        [0.0802, 0.0715, 0.0807, 0.0575],\n        [0.0858, 0.0582, 0.0885, 0.0863],\n        [0.0775, 0.0662, 0.0767, 0.0633],\n        [0.0816, 0.0847, 0.0944, 0.1035],\n        [0.0844, 0.0741, 0.0787, 0.0748],\n        [0.0872, 0.0662, 0.0964, 0.0863],\n        [0.0844, 0.0741, 0.0925, 0.0690],\n        [0.0885, 0.0768, 0.0846, 0.0748],\n        [0.0913, 0.0794, 0.0866, 0.0805],\n        [0.0941, 0.0741, 0.0944, 0.0805],\n        [0.0927, 0.0794, 0.0984, 0.0978],\n        [0.0830, 0.0768, 0.0885, 0.0863],\n        [0.0789, 0.0688, 0.0689, 0.0575],\n        [0.0761, 0.0635, 0.0748, 0.0633],\n        [0.0761, 0.0635, 0.0728, 0.0575],\n        [0.0802, 0.0715, 0.0767, 0.0690],\n        [0.0830, 0.0715, 0.1003, 0.0920],\n        [0.0747, 0.0794, 0.0885, 0.0863],\n        [0.0830, 0.0900, 0.0885, 0.0920],\n        [0.0927, 0.0821, 0.0925, 0.0863],\n        [0.0872, 0.0609, 0.0866, 0.0748],\n        [0.0775, 0.0794, 0.0807, 0.0748],\n        [0.0761, 0.0662, 0.0787, 0.0748],\n        [0.0761, 0.0688, 0.0866, 0.0690],\n        [0.0844, 0.0794, 0.0905, 0.0805],\n        [0.0802, 0.0688, 0.0787, 0.0690],\n        [0.0692, 0.0609, 0.0649, 0.0575],\n        [0.0775, 0.0715, 0.0826, 0.0748],\n        [0.0789, 0.0794, 0.0826, 0.0690],\n        [0.0789, 0.0768, 0.0826, 0.0748],\n        [0.0858, 0.0768, 0.0846, 0.0748],\n        [0.0706, 0.0662, 0.0590, 0.0633],\n        [0.0789, 0.0741, 0.0807, 0.0748],\n        [0.0872, 0.0874, 0.1181, 0.1438],\n        [0.0802, 0.0715, 0.1003, 0.1093],\n        [0.0982, 0.0794, 0.1161, 0.1208],\n        [0.0872, 0.0768, 0.1102, 0.1035],\n        [0.0899, 0.0794, 0.1141, 0.1265],\n        [0.1052, 0.0794, 0.1299, 0.1208],\n        [0.0678, 0.0662, 0.0885, 0.0978],\n        [0.1010, 0.0768, 0.1240, 0.1035],\n        [0.0927, 0.0662, 0.1141, 0.1035],\n        [0.0996, 0.0953, 0.1200, 0.1438],\n        [0.0899, 0.0847, 0.1003, 0.1150],\n        [0.0885, 0.0715, 0.1043, 0.1093],\n        [0.0941, 0.0794, 0.1082, 0.1208],\n        [0.0789, 0.0662, 0.0984, 0.1150],\n        [0.0802, 0.0741, 0.1003, 0.1380],\n        [0.0885, 0.0847, 0.1043, 0.1323],\n        [0.0899, 0.0794, 0.1082, 0.1035],\n        [0.1065, 0.1006, 0.1318, 0.1265],\n        [0.1065, 0.0688, 0.1358, 0.1323],\n        [0.0830, 0.0582, 0.0984, 0.0863],\n        [0.0955, 0.0847, 0.1122, 0.1323],\n        [0.0775, 0.0741, 0.0964, 0.1150],\n        [0.1065, 0.0741, 0.1318, 0.1150],\n        [0.0872, 0.0715, 0.0964, 0.1035],\n        [0.0927, 0.0874, 0.1122, 0.1208],\n        [0.0996, 0.0847, 0.1181, 0.1035],\n        [0.0858, 0.0741, 0.0944, 0.1035],\n        [0.0844, 0.0794, 0.0964, 0.1035],\n        [0.0885, 0.0741, 0.1102, 0.1208],\n        [0.0996, 0.0794, 0.1141, 0.0920],\n        [0.1024, 0.0741, 0.1200, 0.1093],\n        [0.1093, 0.1006, 0.1259, 0.1150],\n        [0.0885, 0.0741, 0.1102, 0.1265],\n        [0.0872, 0.0741, 0.1003, 0.0863],\n        [0.0844, 0.0688, 0.1102, 0.0805],\n        [0.1065, 0.0794, 0.1200, 0.1323],\n        [0.0872, 0.0900, 0.1102, 0.1380],\n        [0.0885, 0.0821, 0.1082, 0.1035],\n        [0.0830, 0.0794, 0.0944, 0.1035],\n        [0.0955, 0.0821, 0.1063, 0.1208],\n        [0.0927, 0.0821, 0.1102, 0.1380],\n        [0.0955, 0.0821, 0.1003, 0.1323],\n        [0.0802, 0.0715, 0.1003, 0.1093],\n        [0.0941, 0.0847, 0.1161, 0.1323],\n        [0.0927, 0.0874, 0.1122, 0.1438],\n        [0.0927, 0.0794, 0.1023, 0.1323],\n        [0.0872, 0.0662, 0.0984, 0.1093],\n        [0.0899, 0.0794, 0.1023, 0.1150],\n        [0.0858, 0.0900, 0.1063, 0.1323],\n        [0.0816, 0.0794, 0.1003, 0.1035]], device='cuda:0')"
     },
     "execution_count": 2,
     "metadata": {},
     "output_type": "execute_result"
    }
   ],
   "source": [
    "iris_df = pd.read_csv(\n",
    "    os.path.join(data_path, \"iris.csv\"), index_col=0, dtype={\"Species\": \"string\"}\n",
    ")\n",
    "iris_x = torch.Tensor(iris_df.iloc[:, [0, 1, 2, 3]].to_numpy()).to(device)\n",
    "\n",
    "iris_y = (\n",
    "    iris_df[\"Species\"]\n",
    "    .map({\n",
    "        \"Iris-setosa\": 0,\n",
    "        \"Iris-versicolor\": 1,\n",
    "        \"Iris-virginica\": 2,\n",
    "    }).to_numpy()\n",
    ")\n",
    "iris_y = torch.Tensor(iris_y).to(torch.int64).to(device)\n",
    "print(f\"Iris dataset: input features = {iris_x.shape[1]}, \"\n",
    "      f\"classes = {torch.unique(iris_y).shape[0]}, \"\n",
    "      f\"samples = {len(iris_y)}\")\n",
    "\n",
    "# normalize\n",
    "torch.nn.functional.normalize(iris_x, dim=0, out=iris_x)\n",
    "\n",
    "iris_train, iris_test = split_dataset(torch.utils.data.TensorDataset(iris_x, iris_y))"
   ]
  },
  {
   "attachments": {},
   "cell_type": "markdown",
   "metadata": {},
   "source": [
    "### Load heart disease data\n",
    "\n",
    "[https://www.kaggle.com/datasets/johnsmith88/heart-disease-dataset](https://www.kaggle.com/datasets/johnsmith88/heart-disease-dataset)"
   ]
  },
  {
   "cell_type": "code",
   "execution_count": 3,
   "metadata": {
    "ExecuteTime": {
     "end_time": "2023-09-02T10:34:57.739576600Z",
     "start_time": "2023-09-02T10:34:57.636092900Z"
    }
   },
   "outputs": [
    {
     "name": "stdout",
     "output_type": "stream",
     "text": [
      "Heart disease dataset: input features = 13, classes = 2, samples = 303\n"
     ]
    },
    {
     "data": {
      "text/plain": "tensor([[0.0657, 0.0695, 0.1220,  ..., 0.0000, 0.0000, 0.0240],\n        [0.0386, 0.0695, 0.0813,  ..., 0.0000, 0.0000, 0.0480],\n        [0.0427, 0.0000, 0.0407,  ..., 0.0752, 0.0000, 0.0480],\n        ...,\n        [0.0709, 0.0695, 0.0000,  ..., 0.0376, 0.0916, 0.0720],\n        [0.0594, 0.0695, 0.0000,  ..., 0.0376, 0.0458, 0.0720],\n        [0.0594, 0.0000, 0.0407,  ..., 0.0376, 0.0458, 0.0480]],\n       device='cuda:0')"
     },
     "execution_count": 3,
     "metadata": {},
     "output_type": "execute_result"
    }
   ],
   "source": [
    "heart_df = pd.read_csv(os.path.join(data_path, \"heart.csv\"))\n",
    "heart_x = (torch.Tensor(heart_df.iloc[:, range(13)].to_numpy()).to(torch.float32).to(device))\n",
    "heart_y = torch.Tensor(heart_df.iloc[:, -1].to_numpy()).to(torch.int64).to(device)\n",
    "\n",
    "print(f\"Heart disease dataset: input features = {heart_x.shape[1]}, \"\n",
    "      f\"classes = {torch.unique(heart_y).shape[0]}, \"\n",
    "      f\"samples = {len(heart_y)}\")\n",
    "\n",
    "# normalize\n",
    "torch.nn.functional.normalize(heart_x, dim=0, out=heart_x)\n",
    "\n",
    "heart_train, heart_test = split_dataset(torch.utils.data.TensorDataset(heart_x, heart_y))"
   ]
  },
  {
   "attachments": {},
   "cell_type": "markdown",
   "metadata": {},
   "source": [
    "### Load Naitzat data\n",
    "\n",
    "[https://github.com/topnn/topnn_framework](https://github.com/topnn/topnn_framework)"
   ]
  },
  {
   "cell_type": "code",
   "execution_count": 4,
   "metadata": {
    "ExecuteTime": {
     "end_time": "2023-09-02T10:34:57.767885400Z",
     "start_time": "2023-09-02T10:34:57.667198100Z"
    }
   },
   "outputs": [
    {
     "name": "stdout",
     "output_type": "stream",
     "text": [
      "Circles dataset: input features = 2, classes = 2, samples = 15950\n",
      "Rings dataset: input features = 3, classes = 2, samples = 45000\n",
      "Spheres dataset: input features = 3, classes = 2, samples = 37800\n"
     ]
    }
   ],
   "source": [
    "circles_x, circles_y = torch.load(os.path.join(data_path, \"naitzat\", \"circles_type_8.pt\"))\n",
    "circles_y = torch.squeeze(circles_y)\n",
    "circles_train, circles_test = split_dataset(torch.utils.data.TensorDataset(circles_x, circles_y))\n",
    "print(f\"Circles dataset: input features = {circles_x.shape[1]}, \"\n",
    "      f\"classes = {torch.unique(circles_y).shape[0]}, \"\n",
    "      f\"samples = {len(circles_y)}\")\n",
    "\n",
    "rings_x, rings_y = torch.load(os.path.join(data_path, \"naitzat\", \"rings_9.pt\"))\n",
    "rings_y = torch.squeeze(rings_y)\n",
    "rings_train, rings_test = split_dataset(torch.utils.data.TensorDataset(rings_x, rings_y))\n",
    "print(f\"Rings dataset: input features = {rings_x.shape[1]}, \"\n",
    "      f\"classes = {torch.unique(rings_y).shape[0]}, \"\n",
    "      f\"samples = {len(rings_y)}\")\n",
    "\n",
    "spheres_x, spheres_y = torch.load(os.path.join(data_path, \"naitzat\", \"spheres_9.pt\"))\n",
    "spheres_y = torch.squeeze(spheres_y)\n",
    "spheres_train, spheres_test = split_dataset(torch.utils.data.TensorDataset(spheres_x, spheres_y))\n",
    "print(f\"Spheres dataset: input features = {spheres_x.shape[1]}, \"\n",
    "      f\"classes = {torch.unique(spheres_y).shape[0]}, \"\n",
    "      f\"samples = {len(spheres_y)}\")"
   ]
  },
  {
   "attachments": {},
   "cell_type": "markdown",
   "metadata": {},
   "source": [
    "## 2. Models"
   ]
  },
  {
   "cell_type": "code",
   "execution_count": 5,
   "metadata": {
    "ExecuteTime": {
     "end_time": "2023-09-02T10:34:57.767885400Z",
     "start_time": "2023-09-02T10:34:57.695693700Z"
    }
   },
   "outputs": [],
   "source": [
    "def create_model(\n",
    "        model_name: str,\n",
    "        num_features: int,\n",
    "        num_classes: int,\n",
    "        num_layers: int = 1,\n",
    "        channel_size: int = 16,\n",
    "        use_good_init: bool = True,\n",
    ") -> nn.Sequential:\n",
    "    BACKBONE_FEATURES = channel_size\n",
    "\n",
    "    if model_name == \"linear_relu\":\n",
    "        layers = [\n",
    "                     nn.Linear(BACKBONE_FEATURES, BACKBONE_FEATURES),\n",
    "                     nn.ReLU(),\n",
    "                     nn.Linear(BACKBONE_FEATURES, BACKBONE_FEATURES),\n",
    "                     nn.ReLU(),\n",
    "                 ] * (num_layers - 1)\n",
    "\n",
    "        backbone = nn.Sequential(\n",
    "            nn.Linear(num_features, BACKBONE_FEATURES),\n",
    "            nn.ReLU(),\n",
    "            nn.Linear(BACKBONE_FEATURES, BACKBONE_FEATURES),\n",
    "            nn.ReLU(),\n",
    "            *layers,\n",
    "        )\n",
    "    elif model_name == \"linear_maxplus\":\n",
    "        layers = [\n",
    "                     nn.Linear(BACKBONE_FEATURES, BACKBONE_FEATURES),\n",
    "                     semitorch.MaxPlus(BACKBONE_FEATURES, BACKBONE_FEATURES, use_good_init=use_good_init),\n",
    "                 ] * (num_layers - 1)\n",
    "\n",
    "        backbone = nn.Sequential(\n",
    "            nn.Linear(num_features, BACKBONE_FEATURES),\n",
    "            semitorch.MaxPlus(BACKBONE_FEATURES, BACKBONE_FEATURES, use_good_init=use_good_init),\n",
    "            *layers,\n",
    "        )\n",
    "    elif model_name == \"linear_minplus\":\n",
    "        layers = [\n",
    "                     nn.Linear(BACKBONE_FEATURES, BACKBONE_FEATURES),\n",
    "                     semitorch.MinPlus(BACKBONE_FEATURES, BACKBONE_FEATURES, use_good_init=use_good_init),\n",
    "                 ] * (num_layers - 1)\n",
    "\n",
    "        backbone = nn.Sequential(\n",
    "            nn.Linear(num_features, BACKBONE_FEATURES),\n",
    "            semitorch.MinPlus(BACKBONE_FEATURES, BACKBONE_FEATURES, use_good_init=use_good_init),\n",
    "            *layers,\n",
    "        )\n",
    "    else:\n",
    "        raise RuntimeError(f\"Unknown model ({model_name})\")\n",
    "\n",
    "    head = nn.Linear(BACKBONE_FEATURES, num_classes, bias=False)\n",
    "    model = nn.Sequential(OrderedDict([(\"backbone\", backbone), (\"head\", head)]))\n",
    "\n",
    "    model.name = model_name\n",
    "\n",
    "    return model\n",
    "\n",
    "\n",
    "def count_parameters(model: nn.Sequential) -> int:\n",
    "    return sum(p.numel() for p in model.parameters() if p.requires_grad)"
   ]
  },
  {
   "attachments": {},
   "cell_type": "markdown",
   "metadata": {},
   "source": [
    "## 3. Training"
   ]
  },
  {
   "cell_type": "code",
   "execution_count": 6,
   "metadata": {
    "ExecuteTime": {
     "end_time": "2023-09-02T10:34:57.768381400Z",
     "start_time": "2023-09-02T10:34:57.711166200Z"
    }
   },
   "outputs": [],
   "source": [
    "def accuracy(model: nn.Sequential, x: torch.Tensor, y: torch.Tensor) -> float:\n",
    "    with torch.no_grad():\n",
    "        yout = model(x)\n",
    "        _, prediction = torch.max(yout.cpu(), dim=1)\n",
    "\n",
    "        return (y.cpu() == prediction).sum().item() / float(y.numel())\n",
    "\n",
    "\n",
    "def test(model: nn.Sequential, device: str, testloader: DataLoader) -> float:\n",
    "    model.eval()\n",
    "    accs = []\n",
    "\n",
    "    with torch.no_grad():\n",
    "        for x, y in testloader:\n",
    "            x = x.to(device)\n",
    "            accs.append(accuracy(model, x, y))\n",
    "\n",
    "    return sum(accs) / len(accs)\n",
    "\n",
    "\n",
    "def train(\n",
    "        model: nn.Sequential,\n",
    "        device: str,\n",
    "        trainloader: DataLoader,\n",
    "        testloader: DataLoader,\n",
    "        optimizer: torch.optim.Optimizer,\n",
    "        scheduler: torch.optim.lr_scheduler,\n",
    "        loss: torch.nn.modules.loss,\n",
    "        epochs: int,\n",
    "        statistics_mode: bool = False\n",
    ") -> float | None:\n",
    "    accs = []  # list of accuracy on the test dataset for every epoch\n",
    "    trainaccs = []  # a list of the accuracies of all the training batches\n",
    "\n",
    "    if not statistics_mode:\n",
    "        fig, ax = plt.subplots(1, 1, figsize=[6, 4])\n",
    "        hdisplay = display.display(\"\", display_id=True)\n",
    "\n",
    "    for _ in trange(epochs):\n",
    "        model.train()\n",
    "\n",
    "        for x, y in trainloader:\n",
    "            x, y = x.to(device), y.to(device)\n",
    "            optimizer.zero_grad()\n",
    "            yout = model(x)\n",
    "            _, prediction = torch.max(yout.cpu(), dim=1)\n",
    "            trainaccs.append((y.cpu() == prediction).sum().item() / float(y.numel()))\n",
    "\n",
    "            l = loss(yout, y.squeeze())\n",
    "            l.backward()\n",
    "            optimizer.step()\n",
    "            if scheduler is not None:\n",
    "                scheduler.step()\n",
    "\n",
    "        accs.append(test(model, device, testloader))\n",
    "\n",
    "        if not statistics_mode:\n",
    "            ax.clear()\n",
    "            ax.set_xlim(0, epochs)\n",
    "            ax.set_ylim(-0.02, 1.02)\n",
    "            ax.plot(\n",
    "                np.linspace(0, len(accs), len(trainaccs)),\n",
    "                trainaccs,\n",
    "                \".\",\n",
    "                markersize=1.5,\n",
    "                markerfacecolor=(0, 0, 1, 0.3),\n",
    "            )\n",
    "            ax.plot(np.linspace(1, len(accs), len(accs)), accs)\n",
    "            ax.text(\n",
    "                0.6 * epochs,\n",
    "                0.80,\n",
    "                f\"max test acc = {max(accs):.2%}\",\n",
    "                ha=\"center\",\n",
    "                fontsize=10,\n",
    "            )\n",
    "            hdisplay.update(fig)\n",
    "\n",
    "        # prevents OOM when GPU memory is tight\n",
    "        torch.cuda.empty_cache()\n",
    "        gc.collect()\n",
    "        \n",
    "    if statistics_mode:\n",
    "        return max(accs)\n",
    "\n",
    "\n",
    "def resetmodel(model: nn.Module) -> None:\n",
    "    @torch.no_grad()\n",
    "    def weight_reset(m: nn.Module):\n",
    "        reset_parameters = getattr(m, \"reset_parameters\", None)\n",
    "        if callable(reset_parameters):\n",
    "            m.reset_parameters()\n",
    "\n",
    "    model.apply(fn=weight_reset)"
   ]
  },
  {
   "cell_type": "code",
   "execution_count": 7,
   "metadata": {
    "ExecuteTime": {
     "end_time": "2023-09-02T10:34:57.769385900Z",
     "start_time": "2023-09-02T10:34:57.726616Z"
    }
   },
   "outputs": [],
   "source": [
    "iris_train_loader = DataLoader(iris_train, batch_size=8, shuffle=True)\n",
    "iris_test_loader = DataLoader(iris_test, batch_size=len(iris_test), shuffle=False)\n",
    "\n",
    "heart_train_loader = DataLoader(heart_train, batch_size=32, shuffle=True)\n",
    "heart_test_loader = DataLoader(heart_test, batch_size=len(heart_test))\n",
    "\n",
    "circles_train_loader = DataLoader(circles_train, batch_size=16, shuffle=True)\n",
    "circles_test_loader = DataLoader(circles_test, batch_size=len(circles_test), shuffle=True)\n",
    "\n",
    "rings_train_loader = DataLoader(rings_train, batch_size=16, shuffle=True)\n",
    "rings_test_loader = DataLoader(rings_test, batch_size=len(rings_test), shuffle=True)\n",
    "\n",
    "spheres_train_loader = DataLoader(spheres_train, batch_size=16, shuffle=True)\n",
    "spheres_test_loader = DataLoader(spheres_test, batch_size=len(spheres_test), shuffle=True)"
   ]
  },
  {
   "cell_type": "code",
   "execution_count": 8,
   "metadata": {
    "ExecuteTime": {
     "end_time": "2023-09-01T12:31:04.743778100Z",
     "start_time": "2023-09-01T12:30:29.787244400Z"
    }
   },
   "outputs": [
    {
     "name": "stdout",
     "output_type": "stream",
     "text": [
      "linear/relu model has 400 trainable parameters\n",
      "linear/maxplus model has 400 trainable parameters\n",
      "linear/minplus model has 400 trainable parameters\n"
     ]
    },
    {
     "data": {
      "text/plain": "''"
     },
     "metadata": {},
     "output_type": "display_data"
    },
    {
     "data": {
      "text/plain": "  0%|          | 0/40 [00:00<?, ?it/s]",
      "application/vnd.jupyter.widget-view+json": {
       "version_major": 2,
       "version_minor": 0,
       "model_id": "fe068a1adf644f93aea207159d8215e7"
      }
     },
     "metadata": {},
     "output_type": "display_data"
    },
    {
     "data": {
      "text/plain": "''"
     },
     "metadata": {},
     "output_type": "display_data"
    },
    {
     "data": {
      "text/plain": "  0%|          | 0/40 [00:00<?, ?it/s]",
      "application/vnd.jupyter.widget-view+json": {
       "version_major": 2,
       "version_minor": 0,
       "model_id": "22dff2bd76434faaaf4be004b4de5bab"
      }
     },
     "metadata": {},
     "output_type": "display_data"
    },
    {
     "data": {
      "text/plain": "''"
     },
     "metadata": {},
     "output_type": "display_data"
    },
    {
     "data": {
      "text/plain": "  0%|          | 0/40 [00:00<?, ?it/s]",
      "application/vnd.jupyter.widget-view+json": {
       "version_major": 2,
       "version_minor": 0,
       "model_id": "7ed0e53085154ed1bfe379770f3813d2"
      }
     },
     "metadata": {},
     "output_type": "display_data"
    },
    {
     "data": {
      "text/plain": "<Figure size 600x400 with 1 Axes>",
      "image/png": "[encoded data removed]"
     },
     "metadata": {},
     "output_type": "display_data"
    },
    {
     "data": {
      "text/plain": "<Figure size 600x400 with 1 Axes>",
      "image/png": "[encoded data removed]"
     },
     "metadata": {},
     "output_type": "display_data"
    },
    {
     "data": {
      "text/plain": "<Figure size 600x400 with 1 Axes>",
      "image/png": "[encoded data removed]"
     },
     "metadata": {},
     "output_type": "display_data"
    }
   ],
   "source": [
    "iris_models = [\n",
    "    create_model(\"linear_relu\", num_features=4, num_classes=3).to(device),\n",
    "    create_model(\"linear_maxplus\", num_features=4, num_classes=3).to(device),\n",
    "    create_model(\"linear_minplus\", num_features=4, num_classes=3).to(device),\n",
    "]\n",
    "\n",
    "for model in iris_models:\n",
    "    model_ref = model.name.replace(\"_\", \"/\")\n",
    "    print(f\"{model_ref} model has {count_parameters(model)} trainable parameters\")\n",
    "\n",
    "loss = nn.CrossEntropyLoss()\n",
    "epochs = 40\n",
    "\n",
    "for model in iris_models:\n",
    "    if model.name == \"linear_relu\":\n",
    "        optimizer = torch.optim.AdamW(model.parameters(), lr=2e-2)\n",
    "        scheduler = torch.optim.lr_scheduler.OneCycleLR(\n",
    "            optimizer,\n",
    "            max_lr=2e-2,\n",
    "            anneal_strategy=\"linear\",\n",
    "            pct_start=0.3,\n",
    "            three_phase=True,\n",
    "            final_div_factor=1000.0,\n",
    "            div_factor=10.0,\n",
    "            steps_per_epoch=len(iris_train),\n",
    "            epochs=epochs,\n",
    "        )\n",
    "    elif model.name == \"linear_maxplus\":\n",
    "        optimizer = torch.optim.AdamW(model.parameters(), lr=2e-2)\n",
    "        scheduler = torch.optim.lr_scheduler.OneCycleLR(\n",
    "            optimizer,\n",
    "            max_lr=2e-2,\n",
    "            anneal_strategy=\"linear\",\n",
    "            pct_start=0.3,\n",
    "            three_phase=True,\n",
    "            final_div_factor=1000.0,\n",
    "            div_factor=10.0,\n",
    "            steps_per_epoch=len(iris_train),\n",
    "            epochs=epochs,\n",
    "        )\n",
    "    elif model.name == \"linear_minplus\":\n",
    "        optimizer = torch.optim.AdamW(model.parameters(), lr=2e-2)\n",
    "        scheduler = torch.optim.lr_scheduler.OneCycleLR(\n",
    "            optimizer,\n",
    "            max_lr=2e-2,\n",
    "            anneal_strategy=\"linear\",\n",
    "            pct_start=0.3,\n",
    "            three_phase=True,\n",
    "            final_div_factor=1000.0,\n",
    "            div_factor=10.0,\n",
    "            steps_per_epoch=len(iris_train),\n",
    "            epochs=epochs,\n",
    "        )\n",
    "    else:\n",
    "        raise RuntimeError(f\"Unknown model ({model.name})\")\n",
    "\n",
    "    train(\n",
    "        model,\n",
    "        device,\n",
    "        iris_train_loader,\n",
    "        iris_test_loader,\n",
    "        optimizer,\n",
    "        scheduler,\n",
    "        loss,\n",
    "        epochs,\n",
    "    )"
   ]
  },
  {
   "cell_type": "code",
   "execution_count": 9,
   "outputs": [
    {
     "data": {
      "text/plain": "  0%|          | 0/40 [00:00<?, ?it/s]",
      "application/vnd.jupyter.widget-view+json": {
       "version_major": 2,
       "version_minor": 0,
       "model_id": "b1e3e7873fbf4dd9ac5bd3646de46b1b"
      }
     },
     "metadata": {},
     "output_type": "display_data"
    },
    {
     "data": {
      "text/plain": "  0%|          | 0/40 [00:00<?, ?it/s]",
      "application/vnd.jupyter.widget-view+json": {
       "version_major": 2,
       "version_minor": 0,
       "model_id": "cb8b65b2606941d5a4e9f88c1760da5a"
      }
     },
     "metadata": {},
     "output_type": "display_data"
    },
    {
     "data": {
      "text/plain": "  0%|          | 0/40 [00:00<?, ?it/s]",
      "application/vnd.jupyter.widget-view+json": {
       "version_major": 2,
       "version_minor": 0,
       "model_id": "0ebaa003eccb46d7bbaf66f52d806ee5"
      }
     },
     "metadata": {},
     "output_type": "display_data"
    },
    {
     "data": {
      "text/plain": "  0%|          | 0/40 [00:00<?, ?it/s]",
      "application/vnd.jupyter.widget-view+json": {
       "version_major": 2,
       "version_minor": 0,
       "model_id": "6f97037fd0214d589c82222e84b4deb5"
      }
     },
     "metadata": {},
     "output_type": "display_data"
    },
    {
     "data": {
      "text/plain": "  0%|          | 0/40 [00:00<?, ?it/s]",
      "application/vnd.jupyter.widget-view+json": {
       "version_major": 2,
       "version_minor": 0,
       "model_id": "a4f4ed64133c4cb499cc67e755e88e83"
      }
     },
     "metadata": {},
     "output_type": "display_data"
    },
    {
     "data": {
      "text/plain": "  0%|          | 0/40 [00:00<?, ?it/s]",
      "application/vnd.jupyter.widget-view+json": {
       "version_major": 2,
       "version_minor": 0,
       "model_id": "c1803cea20714225b0f1897736dfcb50"
      }
     },
     "metadata": {},
     "output_type": "display_data"
    },
    {
     "data": {
      "text/plain": "  0%|          | 0/40 [00:00<?, ?it/s]",
      "application/vnd.jupyter.widget-view+json": {
       "version_major": 2,
       "version_minor": 0,
       "model_id": "578bab095fd847acbe70d1df0e625024"
      }
     },
     "metadata": {},
     "output_type": "display_data"
    },
    {
     "data": {
      "text/plain": "  0%|          | 0/40 [00:00<?, ?it/s]",
      "application/vnd.jupyter.widget-view+json": {
       "version_major": 2,
       "version_minor": 0,
       "model_id": "336248d0c860455bb43d18d7fffb573b"
      }
     },
     "metadata": {},
     "output_type": "display_data"
    },
    {
     "data": {
      "text/plain": "  0%|          | 0/40 [00:00<?, ?it/s]",
      "application/vnd.jupyter.widget-view+json": {
       "version_major": 2,
       "version_minor": 0,
       "model_id": "30b1bd26678d45a094f9e170dee0ac15"
      }
     },
     "metadata": {},
     "output_type": "display_data"
    },
    {
     "data": {
      "text/plain": "  0%|          | 0/40 [00:00<?, ?it/s]",
      "application/vnd.jupyter.widget-view+json": {
       "version_major": 2,
       "version_minor": 0,
       "model_id": "270c73930ae24d5db3894704c90503fa"
      }
     },
     "metadata": {},
     "output_type": "display_data"
    },
    {
     "data": {
      "text/plain": "  0%|          | 0/40 [00:00<?, ?it/s]",
      "application/vnd.jupyter.widget-view+json": {
       "version_major": 2,
       "version_minor": 0,
       "model_id": "824a0b2e15754404b29846e22465a4cd"
      }
     },
     "metadata": {},
     "output_type": "display_data"
    },
    {
     "data": {
      "text/plain": "  0%|          | 0/40 [00:00<?, ?it/s]",
      "application/vnd.jupyter.widget-view+json": {
       "version_major": 2,
       "version_minor": 0,
       "model_id": "7a69d76aa2b04386a3ac558203935bf3"
      }
     },
     "metadata": {},
     "output_type": "display_data"
    },
    {
     "data": {
      "text/plain": "  0%|          | 0/40 [00:00<?, ?it/s]",
      "application/vnd.jupyter.widget-view+json": {
       "version_major": 2,
       "version_minor": 0,
       "model_id": "94de16fa081045fdbed8b325ffee1980"
      }
     },
     "metadata": {},
     "output_type": "display_data"
    },
    {
     "data": {
      "text/plain": "  0%|          | 0/40 [00:00<?, ?it/s]",
      "application/vnd.jupyter.widget-view+json": {
       "version_major": 2,
       "version_minor": 0,
       "model_id": "abedfc9d582242b38709e3a3cae0cb71"
      }
     },
     "metadata": {},
     "output_type": "display_data"
    },
    {
     "data": {
      "text/plain": "  0%|          | 0/40 [00:00<?, ?it/s]",
      "application/vnd.jupyter.widget-view+json": {
       "version_major": 2,
       "version_minor": 0,
       "model_id": "46e8abc9b5fb4f35b4acad5f8c6952ba"
      }
     },
     "metadata": {},
     "output_type": "display_data"
    },
    {
     "data": {
      "text/plain": "  0%|          | 0/40 [00:00<?, ?it/s]",
      "application/vnd.jupyter.widget-view+json": {
       "version_major": 2,
       "version_minor": 0,
       "model_id": "6b9a524adee94531b9f4b1d0e6ecb6e5"
      }
     },
     "metadata": {},
     "output_type": "display_data"
    },
    {
     "data": {
      "text/plain": "  0%|          | 0/40 [00:00<?, ?it/s]",
      "application/vnd.jupyter.widget-view+json": {
       "version_major": 2,
       "version_minor": 0,
       "model_id": "771a51dadd284a4fa1f1627da99910fd"
      }
     },
     "metadata": {},
     "output_type": "display_data"
    },
    {
     "data": {
      "text/plain": "  0%|          | 0/40 [00:00<?, ?it/s]",
      "application/vnd.jupyter.widget-view+json": {
       "version_major": 2,
       "version_minor": 0,
       "model_id": "2ced2432644f41c1b755cc53c6406c1c"
      }
     },
     "metadata": {},
     "output_type": "display_data"
    },
    {
     "data": {
      "text/plain": "  0%|          | 0/40 [00:00<?, ?it/s]",
      "application/vnd.jupyter.widget-view+json": {
       "version_major": 2,
       "version_minor": 0,
       "model_id": "c4a01e2c32bc4660bbedc617d0b05151"
      }
     },
     "metadata": {},
     "output_type": "display_data"
    },
    {
     "data": {
      "text/plain": "  0%|          | 0/40 [00:00<?, ?it/s]",
      "application/vnd.jupyter.widget-view+json": {
       "version_major": 2,
       "version_minor": 0,
       "model_id": "4288d48f156d4f9f8651952a8edc94b7"
      }
     },
     "metadata": {},
     "output_type": "display_data"
    },
    {
     "data": {
      "text/plain": "  0%|          | 0/40 [00:00<?, ?it/s]",
      "application/vnd.jupyter.widget-view+json": {
       "version_major": 2,
       "version_minor": 0,
       "model_id": "3680f86328b247d3b55f42ec871a6d89"
      }
     },
     "metadata": {},
     "output_type": "display_data"
    },
    {
     "data": {
      "text/plain": "  0%|          | 0/40 [00:00<?, ?it/s]",
      "application/vnd.jupyter.widget-view+json": {
       "version_major": 2,
       "version_minor": 0,
       "model_id": "96c3b76dfef048708d50ac2d6e96e12b"
      }
     },
     "metadata": {},
     "output_type": "display_data"
    },
    {
     "data": {
      "text/plain": "  0%|          | 0/40 [00:00<?, ?it/s]",
      "application/vnd.jupyter.widget-view+json": {
       "version_major": 2,
       "version_minor": 0,
       "model_id": "eaa39a8d1bff40a093848004995c0e1b"
      }
     },
     "metadata": {},
     "output_type": "display_data"
    },
    {
     "data": {
      "text/plain": "  0%|          | 0/40 [00:00<?, ?it/s]",
      "application/vnd.jupyter.widget-view+json": {
       "version_major": 2,
       "version_minor": 0,
       "model_id": "1aae2e0017d9469587e19fe9d8fe9b01"
      }
     },
     "metadata": {},
     "output_type": "display_data"
    },
    {
     "data": {
      "text/plain": "  0%|          | 0/40 [00:00<?, ?it/s]",
      "application/vnd.jupyter.widget-view+json": {
       "version_major": 2,
       "version_minor": 0,
       "model_id": "e77e56ab30374434b10b345e80da8c69"
      }
     },
     "metadata": {},
     "output_type": "display_data"
    },
    {
     "data": {
      "text/plain": "  0%|          | 0/40 [00:00<?, ?it/s]",
      "application/vnd.jupyter.widget-view+json": {
       "version_major": 2,
       "version_minor": 0,
       "model_id": "a2976d4edbd64d7ea83af934f5f8729e"
      }
     },
     "metadata": {},
     "output_type": "display_data"
    },
    {
     "data": {
      "text/plain": "  0%|          | 0/40 [00:00<?, ?it/s]",
      "application/vnd.jupyter.widget-view+json": {
       "version_major": 2,
       "version_minor": 0,
       "model_id": "4dff0bd55334429fa7aa9e8271b2a2cf"
      }
     },
     "metadata": {},
     "output_type": "display_data"
    },
    {
     "data": {
      "text/plain": "  0%|          | 0/40 [00:00<?, ?it/s]",
      "application/vnd.jupyter.widget-view+json": {
       "version_major": 2,
       "version_minor": 0,
       "model_id": "e8e6fecc5261419898a133fd3dc95df2"
      }
     },
     "metadata": {},
     "output_type": "display_data"
    },
    {
     "data": {
      "text/plain": "  0%|          | 0/40 [00:00<?, ?it/s]",
      "application/vnd.jupyter.widget-view+json": {
       "version_major": 2,
       "version_minor": 0,
       "model_id": "11aadc61661942d58188d5603f5e3ee4"
      }
     },
     "metadata": {},
     "output_type": "display_data"
    },
    {
     "data": {
      "text/plain": "  0%|          | 0/40 [00:00<?, ?it/s]",
      "application/vnd.jupyter.widget-view+json": {
       "version_major": 2,
       "version_minor": 0,
       "model_id": "de58ea05f3794126bf16cea4a01cf086"
      }
     },
     "metadata": {},
     "output_type": "display_data"
    },
    {
     "data": {
      "text/plain": "  0%|          | 0/40 [00:00<?, ?it/s]",
      "application/vnd.jupyter.widget-view+json": {
       "version_major": 2,
       "version_minor": 0,
       "model_id": "4bef8af686ae45ae81676c0e663e8a04"
      }
     },
     "metadata": {},
     "output_type": "display_data"
    },
    {
     "data": {
      "text/plain": "  0%|          | 0/40 [00:00<?, ?it/s]",
      "application/vnd.jupyter.widget-view+json": {
       "version_major": 2,
       "version_minor": 0,
       "model_id": "ffbec57e3c2441bba946981864be76fa"
      }
     },
     "metadata": {},
     "output_type": "display_data"
    },
    {
     "data": {
      "text/plain": "  0%|          | 0/40 [00:00<?, ?it/s]",
      "application/vnd.jupyter.widget-view+json": {
       "version_major": 2,
       "version_minor": 0,
       "model_id": "8fffc0bbb09c4343905f2a417ddd5df9"
      }
     },
     "metadata": {},
     "output_type": "display_data"
    },
    {
     "data": {
      "text/plain": "  0%|          | 0/40 [00:00<?, ?it/s]",
      "application/vnd.jupyter.widget-view+json": {
       "version_major": 2,
       "version_minor": 0,
       "model_id": "c2ad14523ed24aa6b4aa1363494a69ad"
      }
     },
     "metadata": {},
     "output_type": "display_data"
    },
    {
     "data": {
      "text/plain": "  0%|          | 0/40 [00:00<?, ?it/s]",
      "application/vnd.jupyter.widget-view+json": {
       "version_major": 2,
       "version_minor": 0,
       "model_id": "1adda7c97be04bd5ad76cec8636edfd9"
      }
     },
     "metadata": {},
     "output_type": "display_data"
    },
    {
     "data": {
      "text/plain": "  0%|          | 0/40 [00:00<?, ?it/s]",
      "application/vnd.jupyter.widget-view+json": {
       "version_major": 2,
       "version_minor": 0,
       "model_id": "a6dab4493b0d443296edb9fc1eaaa12f"
      }
     },
     "metadata": {},
     "output_type": "display_data"
    },
    {
     "data": {
      "text/plain": "  0%|          | 0/40 [00:00<?, ?it/s]",
      "application/vnd.jupyter.widget-view+json": {
       "version_major": 2,
       "version_minor": 0,
       "model_id": "f4e6edef9e904d77ab1ec43d7cab4fa3"
      }
     },
     "metadata": {},
     "output_type": "display_data"
    },
    {
     "data": {
      "text/plain": "  0%|          | 0/40 [00:00<?, ?it/s]",
      "application/vnd.jupyter.widget-view+json": {
       "version_major": 2,
       "version_minor": 0,
       "model_id": "2d778c536dad40d58a53b2f80f43a1d8"
      }
     },
     "metadata": {},
     "output_type": "display_data"
    },
    {
     "data": {
      "text/plain": "  0%|          | 0/40 [00:00<?, ?it/s]",
      "application/vnd.jupyter.widget-view+json": {
       "version_major": 2,
       "version_minor": 0,
       "model_id": "932d15a9f38d4db08fdfe79023355151"
      }
     },
     "metadata": {},
     "output_type": "display_data"
    },
    {
     "data": {
      "text/plain": "  0%|          | 0/40 [00:00<?, ?it/s]",
      "application/vnd.jupyter.widget-view+json": {
       "version_major": 2,
       "version_minor": 0,
       "model_id": "3c5ebadfe3554bb884345f073496e838"
      }
     },
     "metadata": {},
     "output_type": "display_data"
    },
    {
     "data": {
      "text/plain": "  0%|          | 0/40 [00:00<?, ?it/s]",
      "application/vnd.jupyter.widget-view+json": {
       "version_major": 2,
       "version_minor": 0,
       "model_id": "2c40e591294543e6846c4a4bca4000d1"
      }
     },
     "metadata": {},
     "output_type": "display_data"
    },
    {
     "data": {
      "text/plain": "  0%|          | 0/40 [00:00<?, ?it/s]",
      "application/vnd.jupyter.widget-view+json": {
       "version_major": 2,
       "version_minor": 0,
       "model_id": "1530a0359524433c8ac0c8f982bb1b08"
      }
     },
     "metadata": {},
     "output_type": "display_data"
    },
    {
     "data": {
      "text/plain": "  0%|          | 0/40 [00:00<?, ?it/s]",
      "application/vnd.jupyter.widget-view+json": {
       "version_major": 2,
       "version_minor": 0,
       "model_id": "bc302c3355ba43bba56fa900f9e222c5"
      }
     },
     "metadata": {},
     "output_type": "display_data"
    },
    {
     "data": {
      "text/plain": "  0%|          | 0/40 [00:00<?, ?it/s]",
      "application/vnd.jupyter.widget-view+json": {
       "version_major": 2,
       "version_minor": 0,
       "model_id": "a0bd9c46b0024f489430268fa9590a08"
      }
     },
     "metadata": {},
     "output_type": "display_data"
    },
    {
     "data": {
      "text/plain": "  0%|          | 0/40 [00:00<?, ?it/s]",
      "application/vnd.jupyter.widget-view+json": {
       "version_major": 2,
       "version_minor": 0,
       "model_id": "9070dcf8c2b24cb4bbb19c1184a7c031"
      }
     },
     "metadata": {},
     "output_type": "display_data"
    },
    {
     "data": {
      "text/plain": "  0%|          | 0/40 [00:00<?, ?it/s]",
      "application/vnd.jupyter.widget-view+json": {
       "version_major": 2,
       "version_minor": 0,
       "model_id": "eaf6aeb2ca60437cbd848a2e8d9128e5"
      }
     },
     "metadata": {},
     "output_type": "display_data"
    },
    {
     "data": {
      "text/plain": "  0%|          | 0/40 [00:00<?, ?it/s]",
      "application/vnd.jupyter.widget-view+json": {
       "version_major": 2,
       "version_minor": 0,
       "model_id": "04d508962ada4084b51841a23e143d3a"
      }
     },
     "metadata": {},
     "output_type": "display_data"
    },
    {
     "data": {
      "text/plain": "  0%|          | 0/40 [00:00<?, ?it/s]",
      "application/vnd.jupyter.widget-view+json": {
       "version_major": 2,
       "version_minor": 0,
       "model_id": "83f908a1512e42c2937f8ae7417066f1"
      }
     },
     "metadata": {},
     "output_type": "display_data"
    },
    {
     "data": {
      "text/plain": "  0%|          | 0/40 [00:00<?, ?it/s]",
      "application/vnd.jupyter.widget-view+json": {
       "version_major": 2,
       "version_minor": 0,
       "model_id": "177edfc6761d42e68d7e09973d14bf7e"
      }
     },
     "metadata": {},
     "output_type": "display_data"
    },
    {
     "data": {
      "text/plain": "  0%|          | 0/40 [00:00<?, ?it/s]",
      "application/vnd.jupyter.widget-view+json": {
       "version_major": 2,
       "version_minor": 0,
       "model_id": "9e3507d157de49a59d2d794de4f5d772"
      }
     },
     "metadata": {},
     "output_type": "display_data"
    },
    {
     "data": {
      "text/plain": "  0%|          | 0/40 [00:00<?, ?it/s]",
      "application/vnd.jupyter.widget-view+json": {
       "version_major": 2,
       "version_minor": 0,
       "model_id": "2733a659c23a4796b1d08cb2fb06d247"
      }
     },
     "metadata": {},
     "output_type": "display_data"
    },
    {
     "data": {
      "text/plain": "  0%|          | 0/40 [00:00<?, ?it/s]",
      "application/vnd.jupyter.widget-view+json": {
       "version_major": 2,
       "version_minor": 0,
       "model_id": "080fc86bdfbf424297aac55820a4e56f"
      }
     },
     "metadata": {},
     "output_type": "display_data"
    },
    {
     "data": {
      "text/plain": "  0%|          | 0/40 [00:00<?, ?it/s]",
      "application/vnd.jupyter.widget-view+json": {
       "version_major": 2,
       "version_minor": 0,
       "model_id": "ced574b21bf4480998294fe8573455c4"
      }
     },
     "metadata": {},
     "output_type": "display_data"
    },
    {
     "data": {
      "text/plain": "  0%|          | 0/40 [00:00<?, ?it/s]",
      "application/vnd.jupyter.widget-view+json": {
       "version_major": 2,
       "version_minor": 0,
       "model_id": "90f842c9a222440fa8e1e01e8619a0e7"
      }
     },
     "metadata": {},
     "output_type": "display_data"
    },
    {
     "data": {
      "text/plain": "  0%|          | 0/40 [00:00<?, ?it/s]",
      "application/vnd.jupyter.widget-view+json": {
       "version_major": 2,
       "version_minor": 0,
       "model_id": "84cd6d6c5a1d42e6871c404b672b9a20"
      }
     },
     "metadata": {},
     "output_type": "display_data"
    },
    {
     "data": {
      "text/plain": "  0%|          | 0/40 [00:00<?, ?it/s]",
      "application/vnd.jupyter.widget-view+json": {
       "version_major": 2,
       "version_minor": 0,
       "model_id": "fe665fb469af4ff0ac0375ea547c90c1"
      }
     },
     "metadata": {},
     "output_type": "display_data"
    },
    {
     "data": {
      "text/plain": "  0%|          | 0/40 [00:00<?, ?it/s]",
      "application/vnd.jupyter.widget-view+json": {
       "version_major": 2,
       "version_minor": 0,
       "model_id": "de991fa5d0b744eaad883b3a79c32015"
      }
     },
     "metadata": {},
     "output_type": "display_data"
    },
    {
     "data": {
      "text/plain": "  0%|          | 0/40 [00:00<?, ?it/s]",
      "application/vnd.jupyter.widget-view+json": {
       "version_major": 2,
       "version_minor": 0,
       "model_id": "3dee0d38d6f34d1eb63472ee5b64ee80"
      }
     },
     "metadata": {},
     "output_type": "display_data"
    },
    {
     "data": {
      "text/plain": "  0%|          | 0/40 [00:00<?, ?it/s]",
      "application/vnd.jupyter.widget-view+json": {
       "version_major": 2,
       "version_minor": 0,
       "model_id": "9848d4ab913c476a9817201580e2ecce"
      }
     },
     "metadata": {},
     "output_type": "display_data"
    },
    {
     "data": {
      "text/plain": "  0%|          | 0/40 [00:00<?, ?it/s]",
      "application/vnd.jupyter.widget-view+json": {
       "version_major": 2,
       "version_minor": 0,
       "model_id": "dd412a9c07964f29a302efec1f4634e1"
      }
     },
     "metadata": {},
     "output_type": "display_data"
    },
    {
     "data": {
      "text/plain": "  0%|          | 0/40 [00:00<?, ?it/s]",
      "application/vnd.jupyter.widget-view+json": {
       "version_major": 2,
       "version_minor": 0,
       "model_id": "2c90dfbe9f004e2abe575163699706d0"
      }
     },
     "metadata": {},
     "output_type": "display_data"
    },
    {
     "data": {
      "text/plain": "  0%|          | 0/40 [00:00<?, ?it/s]",
      "application/vnd.jupyter.widget-view+json": {
       "version_major": 2,
       "version_minor": 0,
       "model_id": "864df59817854defa3770bd05360c284"
      }
     },
     "metadata": {},
     "output_type": "display_data"
    },
    {
     "data": {
      "text/plain": "  0%|          | 0/40 [00:00<?, ?it/s]",
      "application/vnd.jupyter.widget-view+json": {
       "version_major": 2,
       "version_minor": 0,
       "model_id": "69bf5b241e424df7be043478b5eeadd0"
      }
     },
     "metadata": {},
     "output_type": "display_data"
    },
    {
     "data": {
      "text/plain": "  0%|          | 0/40 [00:00<?, ?it/s]",
      "application/vnd.jupyter.widget-view+json": {
       "version_major": 2,
       "version_minor": 0,
       "model_id": "6a765bd4165041e59e2e06d0c61df977"
      }
     },
     "metadata": {},
     "output_type": "display_data"
    },
    {
     "data": {
      "text/plain": "  0%|          | 0/40 [00:00<?, ?it/s]",
      "application/vnd.jupyter.widget-view+json": {
       "version_major": 2,
       "version_minor": 0,
       "model_id": "811f8dbd2daa4ab4a3d970cf4ce396e3"
      }
     },
     "metadata": {},
     "output_type": "display_data"
    },
    {
     "data": {
      "text/plain": "  0%|          | 0/40 [00:00<?, ?it/s]",
      "application/vnd.jupyter.widget-view+json": {
       "version_major": 2,
       "version_minor": 0,
       "model_id": "00c3b392e11b443581970810aeff364f"
      }
     },
     "metadata": {},
     "output_type": "display_data"
    },
    {
     "data": {
      "text/plain": "  0%|          | 0/40 [00:00<?, ?it/s]",
      "application/vnd.jupyter.widget-view+json": {
       "version_major": 2,
       "version_minor": 0,
       "model_id": "d96f10a974224bfab3df7098523cdb46"
      }
     },
     "metadata": {},
     "output_type": "display_data"
    },
    {
     "data": {
      "text/plain": "  0%|          | 0/40 [00:00<?, ?it/s]",
      "application/vnd.jupyter.widget-view+json": {
       "version_major": 2,
       "version_minor": 0,
       "model_id": "c0a8c86f01cb4b65b2d7dc5efa7ce5ae"
      }
     },
     "metadata": {},
     "output_type": "display_data"
    },
    {
     "data": {
      "text/plain": "  0%|          | 0/40 [00:00<?, ?it/s]",
      "application/vnd.jupyter.widget-view+json": {
       "version_major": 2,
       "version_minor": 0,
       "model_id": "c6c7d599dc804fc1803929307c2e8522"
      }
     },
     "metadata": {},
     "output_type": "display_data"
    },
    {
     "data": {
      "text/plain": "  0%|          | 0/40 [00:00<?, ?it/s]",
      "application/vnd.jupyter.widget-view+json": {
       "version_major": 2,
       "version_minor": 0,
       "model_id": "c751800405db4577b19c5876db0a36b5"
      }
     },
     "metadata": {},
     "output_type": "display_data"
    },
    {
     "data": {
      "text/plain": "  0%|          | 0/40 [00:00<?, ?it/s]",
      "application/vnd.jupyter.widget-view+json": {
       "version_major": 2,
       "version_minor": 0,
       "model_id": "90e9b7dd3fc14d37b9de0be1ea7e0938"
      }
     },
     "metadata": {},
     "output_type": "display_data"
    },
    {
     "data": {
      "text/plain": "  0%|          | 0/40 [00:00<?, ?it/s]",
      "application/vnd.jupyter.widget-view+json": {
       "version_major": 2,
       "version_minor": 0,
       "model_id": "d289cb66cf194230adda9c6f4c259465"
      }
     },
     "metadata": {},
     "output_type": "display_data"
    },
    {
     "data": {
      "text/plain": "  0%|          | 0/40 [00:00<?, ?it/s]",
      "application/vnd.jupyter.widget-view+json": {
       "version_major": 2,
       "version_minor": 0,
       "model_id": "56bba75d9fff4f91b8239e8169664498"
      }
     },
     "metadata": {},
     "output_type": "display_data"
    },
    {
     "data": {
      "text/plain": "  0%|          | 0/40 [00:00<?, ?it/s]",
      "application/vnd.jupyter.widget-view+json": {
       "version_major": 2,
       "version_minor": 0,
       "model_id": "e7bfbe009f4e44cca97a644b7ae09bae"
      }
     },
     "metadata": {},
     "output_type": "display_data"
    },
    {
     "data": {
      "text/plain": "  0%|          | 0/40 [00:00<?, ?it/s]",
      "application/vnd.jupyter.widget-view+json": {
       "version_major": 2,
       "version_minor": 0,
       "model_id": "af76cd14a7fe41a1800a34d4499cd76f"
      }
     },
     "metadata": {},
     "output_type": "display_data"
    },
    {
     "data": {
      "text/plain": "  0%|          | 0/40 [00:00<?, ?it/s]",
      "application/vnd.jupyter.widget-view+json": {
       "version_major": 2,
       "version_minor": 0,
       "model_id": "467edf24d38d4eba85de5480cc782d0e"
      }
     },
     "metadata": {},
     "output_type": "display_data"
    },
    {
     "data": {
      "text/plain": "  0%|          | 0/40 [00:00<?, ?it/s]",
      "application/vnd.jupyter.widget-view+json": {
       "version_major": 2,
       "version_minor": 0,
       "model_id": "5c370f4e4a074aeaa0499858b70c9af9"
      }
     },
     "metadata": {},
     "output_type": "display_data"
    },
    {
     "data": {
      "text/plain": "  0%|          | 0/40 [00:00<?, ?it/s]",
      "application/vnd.jupyter.widget-view+json": {
       "version_major": 2,
       "version_minor": 0,
       "model_id": "61e92b97754448e9a828592076b1a139"
      }
     },
     "metadata": {},
     "output_type": "display_data"
    },
    {
     "data": {
      "text/plain": "  0%|          | 0/40 [00:00<?, ?it/s]",
      "application/vnd.jupyter.widget-view+json": {
       "version_major": 2,
       "version_minor": 0,
       "model_id": "19ae4185125747b9b2de2a89fade44d8"
      }
     },
     "metadata": {},
     "output_type": "display_data"
    },
    {
     "data": {
      "text/plain": "  0%|          | 0/40 [00:00<?, ?it/s]",
      "application/vnd.jupyter.widget-view+json": {
       "version_major": 2,
       "version_minor": 0,
       "model_id": "9799038b3e4444e382d5b5ebd8fa6a73"
      }
     },
     "metadata": {},
     "output_type": "display_data"
    },
    {
     "data": {
      "text/plain": "  0%|          | 0/40 [00:00<?, ?it/s]",
      "application/vnd.jupyter.widget-view+json": {
       "version_major": 2,
       "version_minor": 0,
       "model_id": "c0a1a4403b524b6b833e40d8b7c0f308"
      }
     },
     "metadata": {},
     "output_type": "display_data"
    },
    {
     "data": {
      "text/plain": "  0%|          | 0/40 [00:00<?, ?it/s]",
      "application/vnd.jupyter.widget-view+json": {
       "version_major": 2,
       "version_minor": 0,
       "model_id": "6fe0745bfd084243a107bcc1d79e0165"
      }
     },
     "metadata": {},
     "output_type": "display_data"
    },
    {
     "data": {
      "text/plain": "  0%|          | 0/40 [00:00<?, ?it/s]",
      "application/vnd.jupyter.widget-view+json": {
       "version_major": 2,
       "version_minor": 0,
       "model_id": "17930713b2144e6cb9ea934311a6ff68"
      }
     },
     "metadata": {},
     "output_type": "display_data"
    },
    {
     "data": {
      "text/plain": "  0%|          | 0/40 [00:00<?, ?it/s]",
      "application/vnd.jupyter.widget-view+json": {
       "version_major": 2,
       "version_minor": 0,
       "model_id": "a817d2b4495b482aa03e73e06b212e00"
      }
     },
     "metadata": {},
     "output_type": "display_data"
    },
    {
     "data": {
      "text/plain": "  0%|          | 0/40 [00:00<?, ?it/s]",
      "application/vnd.jupyter.widget-view+json": {
       "version_major": 2,
       "version_minor": 0,
       "model_id": "c75744401a9041968d75d565c9c70cd3"
      }
     },
     "metadata": {},
     "output_type": "display_data"
    },
    {
     "data": {
      "text/plain": "  0%|          | 0/40 [00:00<?, ?it/s]",
      "application/vnd.jupyter.widget-view+json": {
       "version_major": 2,
       "version_minor": 0,
       "model_id": "36ed94a06a37418582b95abf50a44641"
      }
     },
     "metadata": {},
     "output_type": "display_data"
    },
    {
     "data": {
      "text/plain": "  0%|          | 0/40 [00:00<?, ?it/s]",
      "application/vnd.jupyter.widget-view+json": {
       "version_major": 2,
       "version_minor": 0,
       "model_id": "9cc86d0167b744a9a8d3f2a2329dbc24"
      }
     },
     "metadata": {},
     "output_type": "display_data"
    },
    {
     "data": {
      "text/plain": "  0%|          | 0/40 [00:00<?, ?it/s]",
      "application/vnd.jupyter.widget-view+json": {
       "version_major": 2,
       "version_minor": 0,
       "model_id": "3a8f146055254c6c8498fc0acbc611ef"
      }
     },
     "metadata": {},
     "output_type": "display_data"
    },
    {
     "data": {
      "text/plain": "  0%|          | 0/40 [00:00<?, ?it/s]",
      "application/vnd.jupyter.widget-view+json": {
       "version_major": 2,
       "version_minor": 0,
       "model_id": "9d8d7f77eafb4180afcec9b2198a30e8"
      }
     },
     "metadata": {},
     "output_type": "display_data"
    },
    {
     "data": {
      "text/plain": "  0%|          | 0/40 [00:00<?, ?it/s]",
      "application/vnd.jupyter.widget-view+json": {
       "version_major": 2,
       "version_minor": 0,
       "model_id": "03c6c68e67914540b0411fc2c8e013d0"
      }
     },
     "metadata": {},
     "output_type": "display_data"
    },
    {
     "data": {
      "text/plain": "  0%|          | 0/40 [00:00<?, ?it/s]",
      "application/vnd.jupyter.widget-view+json": {
       "version_major": 2,
       "version_minor": 0,
       "model_id": "0b282683e46346799385336203b13c3e"
      }
     },
     "metadata": {},
     "output_type": "display_data"
    },
    {
     "data": {
      "text/plain": "  0%|          | 0/40 [00:00<?, ?it/s]",
      "application/vnd.jupyter.widget-view+json": {
       "version_major": 2,
       "version_minor": 0,
       "model_id": "663747fc416f425e9db795a2ea7930c9"
      }
     },
     "metadata": {},
     "output_type": "display_data"
    },
    {
     "data": {
      "text/plain": "  0%|          | 0/40 [00:00<?, ?it/s]",
      "application/vnd.jupyter.widget-view+json": {
       "version_major": 2,
       "version_minor": 0,
       "model_id": "08c42a72403a4e3799de459d7e195204"
      }
     },
     "metadata": {},
     "output_type": "display_data"
    },
    {
     "data": {
      "text/plain": "  0%|          | 0/40 [00:00<?, ?it/s]",
      "application/vnd.jupyter.widget-view+json": {
       "version_major": 2,
       "version_minor": 0,
       "model_id": "497a004a1af044cdb94036d1b3248963"
      }
     },
     "metadata": {},
     "output_type": "display_data"
    },
    {
     "data": {
      "text/plain": "  0%|          | 0/40 [00:00<?, ?it/s]",
      "application/vnd.jupyter.widget-view+json": {
       "version_major": 2,
       "version_minor": 0,
       "model_id": "ac2a061c621845ad9542345566eeafe3"
      }
     },
     "metadata": {},
     "output_type": "display_data"
    },
    {
     "data": {
      "text/plain": "  0%|          | 0/40 [00:00<?, ?it/s]",
      "application/vnd.jupyter.widget-view+json": {
       "version_major": 2,
       "version_minor": 0,
       "model_id": "8fdfaf4608214d4e83294bcdf13f7d3f"
      }
     },
     "metadata": {},
     "output_type": "display_data"
    },
    {
     "data": {
      "text/plain": "  0%|          | 0/40 [00:00<?, ?it/s]",
      "application/vnd.jupyter.widget-view+json": {
       "version_major": 2,
       "version_minor": 0,
       "model_id": "4c8e692273654306a50d7c0402f6426f"
      }
     },
     "metadata": {},
     "output_type": "display_data"
    },
    {
     "data": {
      "text/plain": "  0%|          | 0/40 [00:00<?, ?it/s]",
      "application/vnd.jupyter.widget-view+json": {
       "version_major": 2,
       "version_minor": 0,
       "model_id": "1d59e146d9874241b46afecf91aa01b8"
      }
     },
     "metadata": {},
     "output_type": "display_data"
    },
    {
     "data": {
      "text/plain": "  0%|          | 0/40 [00:00<?, ?it/s]",
      "application/vnd.jupyter.widget-view+json": {
       "version_major": 2,
       "version_minor": 0,
       "model_id": "9a088f251fd44f51aa8dd5eb8418086c"
      }
     },
     "metadata": {},
     "output_type": "display_data"
    },
    {
     "data": {
      "text/plain": "  0%|          | 0/40 [00:00<?, ?it/s]",
      "application/vnd.jupyter.widget-view+json": {
       "version_major": 2,
       "version_minor": 0,
       "model_id": "6e36abc5a4da4ae596ca229492a31c30"
      }
     },
     "metadata": {},
     "output_type": "display_data"
    },
    {
     "data": {
      "text/plain": "  0%|          | 0/40 [00:00<?, ?it/s]",
      "application/vnd.jupyter.widget-view+json": {
       "version_major": 2,
       "version_minor": 0,
       "model_id": "4eef78d2cf404295a400f18fc9ef636e"
      }
     },
     "metadata": {},
     "output_type": "display_data"
    },
    {
     "data": {
      "text/plain": "  0%|          | 0/40 [00:00<?, ?it/s]",
      "application/vnd.jupyter.widget-view+json": {
       "version_major": 2,
       "version_minor": 0,
       "model_id": "f0db68adf5f94a53991f6f0fdfbeb3c4"
      }
     },
     "metadata": {},
     "output_type": "display_data"
    },
    {
     "data": {
      "text/plain": "  0%|          | 0/40 [00:00<?, ?it/s]",
      "application/vnd.jupyter.widget-view+json": {
       "version_major": 2,
       "version_minor": 0,
       "model_id": "652b5a89bd7f40faa3794f429d0f2f02"
      }
     },
     "metadata": {},
     "output_type": "display_data"
    },
    {
     "data": {
      "text/plain": "  0%|          | 0/40 [00:00<?, ?it/s]",
      "application/vnd.jupyter.widget-view+json": {
       "version_major": 2,
       "version_minor": 0,
       "model_id": "53272497c5da4c2fa60936dfdaa89b06"
      }
     },
     "metadata": {},
     "output_type": "display_data"
    },
    {
     "data": {
      "text/plain": "  0%|          | 0/40 [00:00<?, ?it/s]",
      "application/vnd.jupyter.widget-view+json": {
       "version_major": 2,
       "version_minor": 0,
       "model_id": "a82cfdd98464472fab12e13f966fb637"
      }
     },
     "metadata": {},
     "output_type": "display_data"
    },
    {
     "data": {
      "text/plain": "  0%|          | 0/40 [00:00<?, ?it/s]",
      "application/vnd.jupyter.widget-view+json": {
       "version_major": 2,
       "version_minor": 0,
       "model_id": "1a316c14e28c4afd868a9e77bbfdb430"
      }
     },
     "metadata": {},
     "output_type": "display_data"
    },
    {
     "data": {
      "text/plain": "  0%|          | 0/40 [00:00<?, ?it/s]",
      "application/vnd.jupyter.widget-view+json": {
       "version_major": 2,
       "version_minor": 0,
       "model_id": "e3602c944c8946c3b54f07197d023679"
      }
     },
     "metadata": {},
     "output_type": "display_data"
    },
    {
     "data": {
      "text/plain": "  0%|          | 0/40 [00:00<?, ?it/s]",
      "application/vnd.jupyter.widget-view+json": {
       "version_major": 2,
       "version_minor": 0,
       "model_id": "b34862a193144fce97e410dd8bad6886"
      }
     },
     "metadata": {},
     "output_type": "display_data"
    },
    {
     "data": {
      "text/plain": "  0%|          | 0/40 [00:00<?, ?it/s]",
      "application/vnd.jupyter.widget-view+json": {
       "version_major": 2,
       "version_minor": 0,
       "model_id": "479f0b0ed01e4fcb8f9c88238ed29a69"
      }
     },
     "metadata": {},
     "output_type": "display_data"
    },
    {
     "data": {
      "text/plain": "  0%|          | 0/40 [00:00<?, ?it/s]",
      "application/vnd.jupyter.widget-view+json": {
       "version_major": 2,
       "version_minor": 0,
       "model_id": "b0f2576cdbab49939ca02498a0448a5c"
      }
     },
     "metadata": {},
     "output_type": "display_data"
    },
    {
     "data": {
      "text/plain": "  0%|          | 0/40 [00:00<?, ?it/s]",
      "application/vnd.jupyter.widget-view+json": {
       "version_major": 2,
       "version_minor": 0,
       "model_id": "c1dd6e120db84c63bff56f51b9f05a24"
      }
     },
     "metadata": {},
     "output_type": "display_data"
    },
    {
     "data": {
      "text/plain": "  0%|          | 0/40 [00:00<?, ?it/s]",
      "application/vnd.jupyter.widget-view+json": {
       "version_major": 2,
       "version_minor": 0,
       "model_id": "c07b7fddc08a48649e49e04af7010c5a"
      }
     },
     "metadata": {},
     "output_type": "display_data"
    },
    {
     "data": {
      "text/plain": "  0%|          | 0/40 [00:00<?, ?it/s]",
      "application/vnd.jupyter.widget-view+json": {
       "version_major": 2,
       "version_minor": 0,
       "model_id": "0343658511b24c3fbe52cef68c261abb"
      }
     },
     "metadata": {},
     "output_type": "display_data"
    },
    {
     "data": {
      "text/plain": "  0%|          | 0/40 [00:00<?, ?it/s]",
      "application/vnd.jupyter.widget-view+json": {
       "version_major": 2,
       "version_minor": 0,
       "model_id": "a3a93d87c65f41dfadfa33f115c0f533"
      }
     },
     "metadata": {},
     "output_type": "display_data"
    },
    {
     "data": {
      "text/plain": "  0%|          | 0/40 [00:00<?, ?it/s]",
      "application/vnd.jupyter.widget-view+json": {
       "version_major": 2,
       "version_minor": 0,
       "model_id": "dcafb91ccad745a99f2520fef286c581"
      }
     },
     "metadata": {},
     "output_type": "display_data"
    },
    {
     "data": {
      "text/plain": "  0%|          | 0/40 [00:00<?, ?it/s]",
      "application/vnd.jupyter.widget-view+json": {
       "version_major": 2,
       "version_minor": 0,
       "model_id": "8be8721178464aa5babbfc5cb6bf43eb"
      }
     },
     "metadata": {},
     "output_type": "display_data"
    },
    {
     "data": {
      "text/plain": "  0%|          | 0/40 [00:00<?, ?it/s]",
      "application/vnd.jupyter.widget-view+json": {
       "version_major": 2,
       "version_minor": 0,
       "model_id": "6033f9dec3944b978bf0424b237e01f3"
      }
     },
     "metadata": {},
     "output_type": "display_data"
    },
    {
     "data": {
      "text/plain": "  0%|          | 0/40 [00:00<?, ?it/s]",
      "application/vnd.jupyter.widget-view+json": {
       "version_major": 2,
       "version_minor": 0,
       "model_id": "4d1622afe3c04318af38a23c2aa7dbbc"
      }
     },
     "metadata": {},
     "output_type": "display_data"
    },
    {
     "data": {
      "text/plain": "  0%|          | 0/40 [00:00<?, ?it/s]",
      "application/vnd.jupyter.widget-view+json": {
       "version_major": 2,
       "version_minor": 0,
       "model_id": "68bb045cc9ab40ccb6b81874c1bc635a"
      }
     },
     "metadata": {},
     "output_type": "display_data"
    },
    {
     "data": {
      "text/plain": "  0%|          | 0/40 [00:00<?, ?it/s]",
      "application/vnd.jupyter.widget-view+json": {
       "version_major": 2,
       "version_minor": 0,
       "model_id": "e38e50807cd44e2eab360ba4b6f262ff"
      }
     },
     "metadata": {},
     "output_type": "display_data"
    },
    {
     "data": {
      "text/plain": "  0%|          | 0/40 [00:00<?, ?it/s]",
      "application/vnd.jupyter.widget-view+json": {
       "version_major": 2,
       "version_minor": 0,
       "model_id": "0259c253b79a4979994e7c6e06b9b707"
      }
     },
     "metadata": {},
     "output_type": "display_data"
    },
    {
     "data": {
      "text/plain": "  0%|          | 0/40 [00:00<?, ?it/s]",
      "application/vnd.jupyter.widget-view+json": {
       "version_major": 2,
       "version_minor": 0,
       "model_id": "3e6aedde309b47b7925a0736aa6c1808"
      }
     },
     "metadata": {},
     "output_type": "display_data"
    },
    {
     "data": {
      "text/plain": "  0%|          | 0/40 [00:00<?, ?it/s]",
      "application/vnd.jupyter.widget-view+json": {
       "version_major": 2,
       "version_minor": 0,
       "model_id": "8c81087a1bf4422b866d5496b0e9b64d"
      }
     },
     "metadata": {},
     "output_type": "display_data"
    },
    {
     "data": {
      "text/plain": "  0%|          | 0/40 [00:00<?, ?it/s]",
      "application/vnd.jupyter.widget-view+json": {
       "version_major": 2,
       "version_minor": 0,
       "model_id": "cf32ccda2589443188c42ca4c9b36366"
      }
     },
     "metadata": {},
     "output_type": "display_data"
    },
    {
     "data": {
      "text/plain": "  0%|          | 0/40 [00:00<?, ?it/s]",
      "application/vnd.jupyter.widget-view+json": {
       "version_major": 2,
       "version_minor": 0,
       "model_id": "c88c062bab16422183c959353d00f81f"
      }
     },
     "metadata": {},
     "output_type": "display_data"
    },
    {
     "data": {
      "text/plain": "  0%|          | 0/40 [00:00<?, ?it/s]",
      "application/vnd.jupyter.widget-view+json": {
       "version_major": 2,
       "version_minor": 0,
       "model_id": "f9cc87b355f9482dbc790bd9a727c15c"
      }
     },
     "metadata": {},
     "output_type": "display_data"
    },
    {
     "data": {
      "text/plain": "  0%|          | 0/40 [00:00<?, ?it/s]",
      "application/vnd.jupyter.widget-view+json": {
       "version_major": 2,
       "version_minor": 0,
       "model_id": "914757ed3836466f99f7ab31b19ad997"
      }
     },
     "metadata": {},
     "output_type": "display_data"
    },
    {
     "data": {
      "text/plain": "  0%|          | 0/40 [00:00<?, ?it/s]",
      "application/vnd.jupyter.widget-view+json": {
       "version_major": 2,
       "version_minor": 0,
       "model_id": "1ef35d24af4e4522b2f1f7da4dea6947"
      }
     },
     "metadata": {},
     "output_type": "display_data"
    },
    {
     "data": {
      "text/plain": "  0%|          | 0/40 [00:00<?, ?it/s]",
      "application/vnd.jupyter.widget-view+json": {
       "version_major": 2,
       "version_minor": 0,
       "model_id": "612b5cd0cfee48b992ecfa255b8abfb9"
      }
     },
     "metadata": {},
     "output_type": "display_data"
    },
    {
     "data": {
      "text/plain": "  0%|          | 0/40 [00:00<?, ?it/s]",
      "application/vnd.jupyter.widget-view+json": {
       "version_major": 2,
       "version_minor": 0,
       "model_id": "4be2a60e245b4922b22ba07f03f6e720"
      }
     },
     "metadata": {},
     "output_type": "display_data"
    },
    {
     "data": {
      "text/plain": "  0%|          | 0/40 [00:00<?, ?it/s]",
      "application/vnd.jupyter.widget-view+json": {
       "version_major": 2,
       "version_minor": 0,
       "model_id": "62a80fa36b2a4c3cab97df2204002b24"
      }
     },
     "metadata": {},
     "output_type": "display_data"
    },
    {
     "data": {
      "text/plain": "  0%|          | 0/40 [00:00<?, ?it/s]",
      "application/vnd.jupyter.widget-view+json": {
       "version_major": 2,
       "version_minor": 0,
       "model_id": "8d4cf5fc25234ad2945652b965467ae5"
      }
     },
     "metadata": {},
     "output_type": "display_data"
    },
    {
     "data": {
      "text/plain": "  0%|          | 0/40 [00:00<?, ?it/s]",
      "application/vnd.jupyter.widget-view+json": {
       "version_major": 2,
       "version_minor": 0,
       "model_id": "072b671383f844f5b683b5bb86c9f67f"
      }
     },
     "metadata": {},
     "output_type": "display_data"
    },
    {
     "data": {
      "text/plain": "  0%|          | 0/40 [00:00<?, ?it/s]",
      "application/vnd.jupyter.widget-view+json": {
       "version_major": 2,
       "version_minor": 0,
       "model_id": "d0f9ad3119dc483c8e4b30c36a325bf8"
      }
     },
     "metadata": {},
     "output_type": "display_data"
    },
    {
     "data": {
      "text/plain": "  0%|          | 0/40 [00:00<?, ?it/s]",
      "application/vnd.jupyter.widget-view+json": {
       "version_major": 2,
       "version_minor": 0,
       "model_id": "de1a14a7a2134dcd9dc7763fd039a00c"
      }
     },
     "metadata": {},
     "output_type": "display_data"
    },
    {
     "data": {
      "text/plain": "  0%|          | 0/40 [00:00<?, ?it/s]",
      "application/vnd.jupyter.widget-view+json": {
       "version_major": 2,
       "version_minor": 0,
       "model_id": "b25e77027aec49b7bbdc52242aeffde5"
      }
     },
     "metadata": {},
     "output_type": "display_data"
    },
    {
     "data": {
      "text/plain": "  0%|          | 0/40 [00:00<?, ?it/s]",
      "application/vnd.jupyter.widget-view+json": {
       "version_major": 2,
       "version_minor": 0,
       "model_id": "ccfdb0d663c6404daad45bea0c3e1284"
      }
     },
     "metadata": {},
     "output_type": "display_data"
    },
    {
     "data": {
      "text/plain": "  0%|          | 0/40 [00:00<?, ?it/s]",
      "application/vnd.jupyter.widget-view+json": {
       "version_major": 2,
       "version_minor": 0,
       "model_id": "973b718888994ac397788ede2410cc55"
      }
     },
     "metadata": {},
     "output_type": "display_data"
    },
    {
     "data": {
      "text/plain": "  0%|          | 0/40 [00:00<?, ?it/s]",
      "application/vnd.jupyter.widget-view+json": {
       "version_major": 2,
       "version_minor": 0,
       "model_id": "cd38e5d0a6934bf092c902ac7a84b2ef"
      }
     },
     "metadata": {},
     "output_type": "display_data"
    },
    {
     "data": {
      "text/plain": "  0%|          | 0/40 [00:00<?, ?it/s]",
      "application/vnd.jupyter.widget-view+json": {
       "version_major": 2,
       "version_minor": 0,
       "model_id": "7cd7e6d1184c46358ea5d5a26593f4f7"
      }
     },
     "metadata": {},
     "output_type": "display_data"
    },
    {
     "data": {
      "text/plain": "  0%|          | 0/40 [00:00<?, ?it/s]",
      "application/vnd.jupyter.widget-view+json": {
       "version_major": 2,
       "version_minor": 0,
       "model_id": "d7d64e983c62407ab2819ae13d3d098a"
      }
     },
     "metadata": {},
     "output_type": "display_data"
    },
    {
     "data": {
      "text/plain": "  0%|          | 0/40 [00:00<?, ?it/s]",
      "application/vnd.jupyter.widget-view+json": {
       "version_major": 2,
       "version_minor": 0,
       "model_id": "f89e9d74facf4178956ab3fe202c641e"
      }
     },
     "metadata": {},
     "output_type": "display_data"
    },
    {
     "data": {
      "text/plain": "  0%|          | 0/40 [00:00<?, ?it/s]",
      "application/vnd.jupyter.widget-view+json": {
       "version_major": 2,
       "version_minor": 0,
       "model_id": "e146baf4e7774a98bf11ef942319ed0b"
      }
     },
     "metadata": {},
     "output_type": "display_data"
    },
    {
     "data": {
      "text/plain": "  0%|          | 0/40 [00:00<?, ?it/s]",
      "application/vnd.jupyter.widget-view+json": {
       "version_major": 2,
       "version_minor": 0,
       "model_id": "47bf2a09673041ffa54e2e7e70441ba1"
      }
     },
     "metadata": {},
     "output_type": "display_data"
    },
    {
     "data": {
      "text/plain": "  0%|          | 0/40 [00:00<?, ?it/s]",
      "application/vnd.jupyter.widget-view+json": {
       "version_major": 2,
       "version_minor": 0,
       "model_id": "051abfeea9ed42eea479db88bb591d9a"
      }
     },
     "metadata": {},
     "output_type": "display_data"
    },
    {
     "data": {
      "text/plain": "  0%|          | 0/40 [00:00<?, ?it/s]",
      "application/vnd.jupyter.widget-view+json": {
       "version_major": 2,
       "version_minor": 0,
       "model_id": "65ff025d461b4a1c8d953732ed8909ce"
      }
     },
     "metadata": {},
     "output_type": "display_data"
    },
    {
     "data": {
      "text/plain": "  0%|          | 0/40 [00:00<?, ?it/s]",
      "application/vnd.jupyter.widget-view+json": {
       "version_major": 2,
       "version_minor": 0,
       "model_id": "30da67f17ffe4a40bcb06d3d52b73d53"
      }
     },
     "metadata": {},
     "output_type": "display_data"
    },
    {
     "data": {
      "text/plain": "  0%|          | 0/40 [00:00<?, ?it/s]",
      "application/vnd.jupyter.widget-view+json": {
       "version_major": 2,
       "version_minor": 0,
       "model_id": "d8350270bc0f47479a0216b7f01b3e5b"
      }
     },
     "metadata": {},
     "output_type": "display_data"
    },
    {
     "data": {
      "text/plain": "  0%|          | 0/40 [00:00<?, ?it/s]",
      "application/vnd.jupyter.widget-view+json": {
       "version_major": 2,
       "version_minor": 0,
       "model_id": "6d941ede7610499b912ff94c235aa1d5"
      }
     },
     "metadata": {},
     "output_type": "display_data"
    },
    {
     "data": {
      "text/plain": "  0%|          | 0/40 [00:00<?, ?it/s]",
      "application/vnd.jupyter.widget-view+json": {
       "version_major": 2,
       "version_minor": 0,
       "model_id": "61a4ba296a5f443ab91ee50335f56dc0"
      }
     },
     "metadata": {},
     "output_type": "display_data"
    },
    {
     "data": {
      "text/plain": "  0%|          | 0/40 [00:00<?, ?it/s]",
      "application/vnd.jupyter.widget-view+json": {
       "version_major": 2,
       "version_minor": 0,
       "model_id": "435e93e467b644c6a432743172bc8d0f"
      }
     },
     "metadata": {},
     "output_type": "display_data"
    },
    {
     "data": {
      "text/plain": "  0%|          | 0/40 [00:00<?, ?it/s]",
      "application/vnd.jupyter.widget-view+json": {
       "version_major": 2,
       "version_minor": 0,
       "model_id": "6e8e3b68c09d405e931f8606009aa4c7"
      }
     },
     "metadata": {},
     "output_type": "display_data"
    },
    {
     "data": {
      "text/plain": "  0%|          | 0/40 [00:00<?, ?it/s]",
      "application/vnd.jupyter.widget-view+json": {
       "version_major": 2,
       "version_minor": 0,
       "model_id": "11ca9858af924465b521d104327cb375"
      }
     },
     "metadata": {},
     "output_type": "display_data"
    },
    {
     "data": {
      "text/plain": "  0%|          | 0/40 [00:00<?, ?it/s]",
      "application/vnd.jupyter.widget-view+json": {
       "version_major": 2,
       "version_minor": 0,
       "model_id": "e3723e2a251a4bbcb22284969f4c8b41"
      }
     },
     "metadata": {},
     "output_type": "display_data"
    },
    {
     "data": {
      "text/plain": "  0%|          | 0/40 [00:00<?, ?it/s]",
      "application/vnd.jupyter.widget-view+json": {
       "version_major": 2,
       "version_minor": 0,
       "model_id": "31a963d08c694d19829981580b14a2b0"
      }
     },
     "metadata": {},
     "output_type": "display_data"
    },
    {
     "data": {
      "text/plain": "  0%|          | 0/40 [00:00<?, ?it/s]",
      "application/vnd.jupyter.widget-view+json": {
       "version_major": 2,
       "version_minor": 0,
       "model_id": "89b1249fc4684b85bcc2ef394b7eb240"
      }
     },
     "metadata": {},
     "output_type": "display_data"
    },
    {
     "data": {
      "text/plain": "  0%|          | 0/40 [00:00<?, ?it/s]",
      "application/vnd.jupyter.widget-view+json": {
       "version_major": 2,
       "version_minor": 0,
       "model_id": "0b6544f57cdd4317b9e0a03be8e33d9b"
      }
     },
     "metadata": {},
     "output_type": "display_data"
    },
    {
     "data": {
      "text/plain": "  0%|          | 0/40 [00:00<?, ?it/s]",
      "application/vnd.jupyter.widget-view+json": {
       "version_major": 2,
       "version_minor": 0,
       "model_id": "669d22227cfc40f2aab7b7a80a1f5529"
      }
     },
     "metadata": {},
     "output_type": "display_data"
    },
    {
     "data": {
      "text/plain": "  0%|          | 0/40 [00:00<?, ?it/s]",
      "application/vnd.jupyter.widget-view+json": {
       "version_major": 2,
       "version_minor": 0,
       "model_id": "1605293de1964c968fe6b0799337f278"
      }
     },
     "metadata": {},
     "output_type": "display_data"
    },
    {
     "data": {
      "text/plain": "  0%|          | 0/40 [00:00<?, ?it/s]",
      "application/vnd.jupyter.widget-view+json": {
       "version_major": 2,
       "version_minor": 0,
       "model_id": "bfadee47c51b4d0d8596dd1acdba4822"
      }
     },
     "metadata": {},
     "output_type": "display_data"
    },
    {
     "data": {
      "text/plain": "  0%|          | 0/40 [00:00<?, ?it/s]",
      "application/vnd.jupyter.widget-view+json": {
       "version_major": 2,
       "version_minor": 0,
       "model_id": "5fbcd7e2ee5f4825b2ca5fd3ed00751a"
      }
     },
     "metadata": {},
     "output_type": "display_data"
    },
    {
     "data": {
      "text/plain": "  0%|          | 0/40 [00:00<?, ?it/s]",
      "application/vnd.jupyter.widget-view+json": {
       "version_major": 2,
       "version_minor": 0,
       "model_id": "45528eea6ca44fb69e4e2bbc50e8b53a"
      }
     },
     "metadata": {},
     "output_type": "display_data"
    },
    {
     "data": {
      "text/plain": "  0%|          | 0/40 [00:00<?, ?it/s]",
      "application/vnd.jupyter.widget-view+json": {
       "version_major": 2,
       "version_minor": 0,
       "model_id": "abdcd7c912064cd9970142fad76acbb4"
      }
     },
     "metadata": {},
     "output_type": "display_data"
    },
    {
     "data": {
      "text/plain": "  0%|          | 0/40 [00:00<?, ?it/s]",
      "application/vnd.jupyter.widget-view+json": {
       "version_major": 2,
       "version_minor": 0,
       "model_id": "658e17f921fd471ab21b72f1479991f4"
      }
     },
     "metadata": {},
     "output_type": "display_data"
    },
    {
     "data": {
      "text/plain": "  0%|          | 0/40 [00:00<?, ?it/s]",
      "application/vnd.jupyter.widget-view+json": {
       "version_major": 2,
       "version_minor": 0,
       "model_id": "dd76cfd638df475188aabcf2c3c8dd55"
      }
     },
     "metadata": {},
     "output_type": "display_data"
    },
    {
     "data": {
      "text/plain": "  0%|          | 0/40 [00:00<?, ?it/s]",
      "application/vnd.jupyter.widget-view+json": {
       "version_major": 2,
       "version_minor": 0,
       "model_id": "a46866f1e9c946779fdf568e7d61ba20"
      }
     },
     "metadata": {},
     "output_type": "display_data"
    },
    {
     "data": {
      "text/plain": "  0%|          | 0/40 [00:00<?, ?it/s]",
      "application/vnd.jupyter.widget-view+json": {
       "version_major": 2,
       "version_minor": 0,
       "model_id": "2e05b032ff45410e8930f96219acc17e"
      }
     },
     "metadata": {},
     "output_type": "display_data"
    },
    {
     "data": {
      "text/plain": "  0%|          | 0/40 [00:00<?, ?it/s]",
      "application/vnd.jupyter.widget-view+json": {
       "version_major": 2,
       "version_minor": 0,
       "model_id": "9ff996481b144af2a7869b03e91a2e1d"
      }
     },
     "metadata": {},
     "output_type": "display_data"
    },
    {
     "data": {
      "text/plain": "  0%|          | 0/40 [00:00<?, ?it/s]",
      "application/vnd.jupyter.widget-view+json": {
       "version_major": 2,
       "version_minor": 0,
       "model_id": "5822050a24024544a4e0c662c26bf7cc"
      }
     },
     "metadata": {},
     "output_type": "display_data"
    },
    {
     "data": {
      "text/plain": "  0%|          | 0/40 [00:00<?, ?it/s]",
      "application/vnd.jupyter.widget-view+json": {
       "version_major": 2,
       "version_minor": 0,
       "model_id": "100dbb1a8b07470999ccf64528726b97"
      }
     },
     "metadata": {},
     "output_type": "display_data"
    },
    {
     "data": {
      "text/plain": "  0%|          | 0/40 [00:00<?, ?it/s]",
      "application/vnd.jupyter.widget-view+json": {
       "version_major": 2,
       "version_minor": 0,
       "model_id": "23938e1e5b234a8e9814d3d7260c1775"
      }
     },
     "metadata": {},
     "output_type": "display_data"
    },
    {
     "data": {
      "text/plain": "  0%|          | 0/40 [00:00<?, ?it/s]",
      "application/vnd.jupyter.widget-view+json": {
       "version_major": 2,
       "version_minor": 0,
       "model_id": "a62d744b06ab41369f738e64cddf78f0"
      }
     },
     "metadata": {},
     "output_type": "display_data"
    },
    {
     "data": {
      "text/plain": "  0%|          | 0/40 [00:00<?, ?it/s]",
      "application/vnd.jupyter.widget-view+json": {
       "version_major": 2,
       "version_minor": 0,
       "model_id": "1dc1dc247d9140189d62f0057abb750c"
      }
     },
     "metadata": {},
     "output_type": "display_data"
    },
    {
     "data": {
      "text/plain": "  0%|          | 0/40 [00:00<?, ?it/s]",
      "application/vnd.jupyter.widget-view+json": {
       "version_major": 2,
       "version_minor": 0,
       "model_id": "1d88f9d32dff4ccbad4d7ddc33e5669c"
      }
     },
     "metadata": {},
     "output_type": "display_data"
    },
    {
     "data": {
      "text/plain": "  0%|          | 0/40 [00:00<?, ?it/s]",
      "application/vnd.jupyter.widget-view+json": {
       "version_major": 2,
       "version_minor": 0,
       "model_id": "b20d4d3f9e0444fe862a0c508d41fd73"
      }
     },
     "metadata": {},
     "output_type": "display_data"
    },
    {
     "data": {
      "text/plain": "  0%|          | 0/40 [00:00<?, ?it/s]",
      "application/vnd.jupyter.widget-view+json": {
       "version_major": 2,
       "version_minor": 0,
       "model_id": "49359c811de74d13ab7b5fb20098e423"
      }
     },
     "metadata": {},
     "output_type": "display_data"
    },
    {
     "data": {
      "text/plain": "  0%|          | 0/40 [00:00<?, ?it/s]",
      "application/vnd.jupyter.widget-view+json": {
       "version_major": 2,
       "version_minor": 0,
       "model_id": "65f331f162bd495a879afbcdf4dd6425"
      }
     },
     "metadata": {},
     "output_type": "display_data"
    },
    {
     "data": {
      "text/plain": "  0%|          | 0/40 [00:00<?, ?it/s]",
      "application/vnd.jupyter.widget-view+json": {
       "version_major": 2,
       "version_minor": 0,
       "model_id": "9b9dc5dfc6654a04a4193c1ccfaba2b7"
      }
     },
     "metadata": {},
     "output_type": "display_data"
    },
    {
     "data": {
      "text/plain": "  0%|          | 0/40 [00:00<?, ?it/s]",
      "application/vnd.jupyter.widget-view+json": {
       "version_major": 2,
       "version_minor": 0,
       "model_id": "efc416ef11cc4547adc227ad89290046"
      }
     },
     "metadata": {},
     "output_type": "display_data"
    },
    {
     "data": {
      "text/plain": "  0%|          | 0/40 [00:00<?, ?it/s]",
      "application/vnd.jupyter.widget-view+json": {
       "version_major": 2,
       "version_minor": 0,
       "model_id": "d7a8a33694d04a8a8373a92fe4b01d53"
      }
     },
     "metadata": {},
     "output_type": "display_data"
    },
    {
     "data": {
      "text/plain": "  0%|          | 0/40 [00:00<?, ?it/s]",
      "application/vnd.jupyter.widget-view+json": {
       "version_major": 2,
       "version_minor": 0,
       "model_id": "f98b87a3fd2a472998d4f022259a8698"
      }
     },
     "metadata": {},
     "output_type": "display_data"
    },
    {
     "data": {
      "text/plain": "  0%|          | 0/40 [00:00<?, ?it/s]",
      "application/vnd.jupyter.widget-view+json": {
       "version_major": 2,
       "version_minor": 0,
       "model_id": "5d388592f2c347c6be633ba745e31b75"
      }
     },
     "metadata": {},
     "output_type": "display_data"
    },
    {
     "data": {
      "text/plain": "  0%|          | 0/40 [00:00<?, ?it/s]",
      "application/vnd.jupyter.widget-view+json": {
       "version_major": 2,
       "version_minor": 0,
       "model_id": "3480e42b218d419c81a0c5d5a50b4a8f"
      }
     },
     "metadata": {},
     "output_type": "display_data"
    },
    {
     "data": {
      "text/plain": "  0%|          | 0/40 [00:00<?, ?it/s]",
      "application/vnd.jupyter.widget-view+json": {
       "version_major": 2,
       "version_minor": 0,
       "model_id": "d6c7b7efca304242baf70a51bf49c551"
      }
     },
     "metadata": {},
     "output_type": "display_data"
    },
    {
     "data": {
      "text/plain": "  0%|          | 0/40 [00:00<?, ?it/s]",
      "application/vnd.jupyter.widget-view+json": {
       "version_major": 2,
       "version_minor": 0,
       "model_id": "96be4262fd8d4f6e8a09d83c308ad0c6"
      }
     },
     "metadata": {},
     "output_type": "display_data"
    },
    {
     "data": {
      "text/plain": "  0%|          | 0/40 [00:00<?, ?it/s]",
      "application/vnd.jupyter.widget-view+json": {
       "version_major": 2,
       "version_minor": 0,
       "model_id": "ceed17598b52428999fda8bc7e7c08c8"
      }
     },
     "metadata": {},
     "output_type": "display_data"
    },
    {
     "data": {
      "text/plain": "  0%|          | 0/40 [00:00<?, ?it/s]",
      "application/vnd.jupyter.widget-view+json": {
       "version_major": 2,
       "version_minor": 0,
       "model_id": "c2013c6d46ee469f8d9b017bb9553aaa"
      }
     },
     "metadata": {},
     "output_type": "display_data"
    },
    {
     "data": {
      "text/plain": "  0%|          | 0/40 [00:00<?, ?it/s]",
      "application/vnd.jupyter.widget-view+json": {
       "version_major": 2,
       "version_minor": 0,
       "model_id": "ecf63619da164fe7aff719ef38c49331"
      }
     },
     "metadata": {},
     "output_type": "display_data"
    },
    {
     "data": {
      "text/plain": "  0%|          | 0/40 [00:00<?, ?it/s]",
      "application/vnd.jupyter.widget-view+json": {
       "version_major": 2,
       "version_minor": 0,
       "model_id": "1ebccc985d5c4376a42ef9872a6104a1"
      }
     },
     "metadata": {},
     "output_type": "display_data"
    },
    {
     "data": {
      "text/plain": "  0%|          | 0/40 [00:00<?, ?it/s]",
      "application/vnd.jupyter.widget-view+json": {
       "version_major": 2,
       "version_minor": 0,
       "model_id": "4d4f845f1c804028843877089dd626a5"
      }
     },
     "metadata": {},
     "output_type": "display_data"
    },
    {
     "data": {
      "text/plain": "  0%|          | 0/40 [00:00<?, ?it/s]",
      "application/vnd.jupyter.widget-view+json": {
       "version_major": 2,
       "version_minor": 0,
       "model_id": "728915e69e6d445f96f4f2ea34702e52"
      }
     },
     "metadata": {},
     "output_type": "display_data"
    },
    {
     "data": {
      "text/plain": "  0%|          | 0/40 [00:00<?, ?it/s]",
      "application/vnd.jupyter.widget-view+json": {
       "version_major": 2,
       "version_minor": 0,
       "model_id": "f366b4e45cc3422aa540ac4c82440a7b"
      }
     },
     "metadata": {},
     "output_type": "display_data"
    },
    {
     "data": {
      "text/plain": "  0%|          | 0/40 [00:00<?, ?it/s]",
      "application/vnd.jupyter.widget-view+json": {
       "version_major": 2,
       "version_minor": 0,
       "model_id": "10c49b8c752c401f894fb467a1f5541e"
      }
     },
     "metadata": {},
     "output_type": "display_data"
    },
    {
     "data": {
      "text/plain": "  0%|          | 0/40 [00:00<?, ?it/s]",
      "application/vnd.jupyter.widget-view+json": {
       "version_major": 2,
       "version_minor": 0,
       "model_id": "c05f9df49f654ef4aa7471a4f68b8fa5"
      }
     },
     "metadata": {},
     "output_type": "display_data"
    },
    {
     "data": {
      "text/plain": "  0%|          | 0/40 [00:00<?, ?it/s]",
      "application/vnd.jupyter.widget-view+json": {
       "version_major": 2,
       "version_minor": 0,
       "model_id": "a21905259456495db46c01f9946bfeb9"
      }
     },
     "metadata": {},
     "output_type": "display_data"
    },
    {
     "data": {
      "text/plain": "  0%|          | 0/40 [00:00<?, ?it/s]",
      "application/vnd.jupyter.widget-view+json": {
       "version_major": 2,
       "version_minor": 0,
       "model_id": "6706f312296c48429743b63d7fe53fe0"
      }
     },
     "metadata": {},
     "output_type": "display_data"
    },
    {
     "data": {
      "text/plain": "  0%|          | 0/40 [00:00<?, ?it/s]",
      "application/vnd.jupyter.widget-view+json": {
       "version_major": 2,
       "version_minor": 0,
       "model_id": "eeedc3067c0f4f6e922fa1814ec18106"
      }
     },
     "metadata": {},
     "output_type": "display_data"
    },
    {
     "data": {
      "text/plain": "  0%|          | 0/40 [00:00<?, ?it/s]",
      "application/vnd.jupyter.widget-view+json": {
       "version_major": 2,
       "version_minor": 0,
       "model_id": "29a0d9c183704e528b53f6af2845dcd2"
      }
     },
     "metadata": {},
     "output_type": "display_data"
    },
    {
     "data": {
      "text/plain": "  0%|          | 0/40 [00:00<?, ?it/s]",
      "application/vnd.jupyter.widget-view+json": {
       "version_major": 2,
       "version_minor": 0,
       "model_id": "f1f6ed12b6a9437ca0969b39ada8887d"
      }
     },
     "metadata": {},
     "output_type": "display_data"
    },
    {
     "data": {
      "text/plain": "  0%|          | 0/40 [00:00<?, ?it/s]",
      "application/vnd.jupyter.widget-view+json": {
       "version_major": 2,
       "version_minor": 0,
       "model_id": "d31a588a19284ea7b4351a2475e15499"
      }
     },
     "metadata": {},
     "output_type": "display_data"
    },
    {
     "data": {
      "text/plain": "  0%|          | 0/40 [00:00<?, ?it/s]",
      "application/vnd.jupyter.widget-view+json": {
       "version_major": 2,
       "version_minor": 0,
       "model_id": "0d1ef05d651546c79795fbe4cd1f6d14"
      }
     },
     "metadata": {},
     "output_type": "display_data"
    },
    {
     "data": {
      "text/plain": "  0%|          | 0/40 [00:00<?, ?it/s]",
      "application/vnd.jupyter.widget-view+json": {
       "version_major": 2,
       "version_minor": 0,
       "model_id": "70c6631a32a94a5eb8178d58933efdf4"
      }
     },
     "metadata": {},
     "output_type": "display_data"
    },
    {
     "data": {
      "text/plain": "  0%|          | 0/40 [00:00<?, ?it/s]",
      "application/vnd.jupyter.widget-view+json": {
       "version_major": 2,
       "version_minor": 0,
       "model_id": "c9f701dc7d5f42ceb33a12d988e004b1"
      }
     },
     "metadata": {},
     "output_type": "display_data"
    },
    {
     "data": {
      "text/plain": "  0%|          | 0/40 [00:00<?, ?it/s]",
      "application/vnd.jupyter.widget-view+json": {
       "version_major": 2,
       "version_minor": 0,
       "model_id": "ecb0e8dfc5e94bf6987b20b81c32b779"
      }
     },
     "metadata": {},
     "output_type": "display_data"
    },
    {
     "data": {
      "text/plain": "  0%|          | 0/40 [00:00<?, ?it/s]",
      "application/vnd.jupyter.widget-view+json": {
       "version_major": 2,
       "version_minor": 0,
       "model_id": "820d265afd8e47ba9d9b11a691e42845"
      }
     },
     "metadata": {},
     "output_type": "display_data"
    },
    {
     "data": {
      "text/plain": "  0%|          | 0/40 [00:00<?, ?it/s]",
      "application/vnd.jupyter.widget-view+json": {
       "version_major": 2,
       "version_minor": 0,
       "model_id": "89542ebe375a46a28b745a4d5f3b813a"
      }
     },
     "metadata": {},
     "output_type": "display_data"
    },
    {
     "data": {
      "text/plain": "  0%|          | 0/40 [00:00<?, ?it/s]",
      "application/vnd.jupyter.widget-view+json": {
       "version_major": 2,
       "version_minor": 0,
       "model_id": "35c0d06ba9574e6994c18067644800e0"
      }
     },
     "metadata": {},
     "output_type": "display_data"
    },
    {
     "data": {
      "text/plain": "  0%|          | 0/40 [00:00<?, ?it/s]",
      "application/vnd.jupyter.widget-view+json": {
       "version_major": 2,
       "version_minor": 0,
       "model_id": "5c942b7962e440b39b6f374d5b9b19c3"
      }
     },
     "metadata": {},
     "output_type": "display_data"
    },
    {
     "data": {
      "text/plain": "  0%|          | 0/40 [00:00<?, ?it/s]",
      "application/vnd.jupyter.widget-view+json": {
       "version_major": 2,
       "version_minor": 0,
       "model_id": "55a81c6a0b504a98b9187e9b88525679"
      }
     },
     "metadata": {},
     "output_type": "display_data"
    },
    {
     "data": {
      "text/plain": "  0%|          | 0/40 [00:00<?, ?it/s]",
      "application/vnd.jupyter.widget-view+json": {
       "version_major": 2,
       "version_minor": 0,
       "model_id": "9703e1cebd9a4311a033e08fdb69973a"
      }
     },
     "metadata": {},
     "output_type": "display_data"
    },
    {
     "data": {
      "text/plain": "  0%|          | 0/40 [00:00<?, ?it/s]",
      "application/vnd.jupyter.widget-view+json": {
       "version_major": 2,
       "version_minor": 0,
       "model_id": "a25996793e5b427a9d04d0ae71d64cb0"
      }
     },
     "metadata": {},
     "output_type": "display_data"
    },
    {
     "data": {
      "text/plain": "  0%|          | 0/40 [00:00<?, ?it/s]",
      "application/vnd.jupyter.widget-view+json": {
       "version_major": 2,
       "version_minor": 0,
       "model_id": "8ca194a17fb847909b22155cd2312ea8"
      }
     },
     "metadata": {},
     "output_type": "display_data"
    },
    {
     "data": {
      "text/plain": "  0%|          | 0/40 [00:00<?, ?it/s]",
      "application/vnd.jupyter.widget-view+json": {
       "version_major": 2,
       "version_minor": 0,
       "model_id": "59e4caa46f874dde977e4ca43838dd9b"
      }
     },
     "metadata": {},
     "output_type": "display_data"
    },
    {
     "data": {
      "text/plain": "  0%|          | 0/40 [00:00<?, ?it/s]",
      "application/vnd.jupyter.widget-view+json": {
       "version_major": 2,
       "version_minor": 0,
       "model_id": "7a425027a29b4de0b2cc5a5a3bdbdfc3"
      }
     },
     "metadata": {},
     "output_type": "display_data"
    },
    {
     "data": {
      "text/plain": "  0%|          | 0/40 [00:00<?, ?it/s]",
      "application/vnd.jupyter.widget-view+json": {
       "version_major": 2,
       "version_minor": 0,
       "model_id": "78c6b9c164464885b94533dc6609c271"
      }
     },
     "metadata": {},
     "output_type": "display_data"
    },
    {
     "data": {
      "text/plain": "  0%|          | 0/40 [00:00<?, ?it/s]",
      "application/vnd.jupyter.widget-view+json": {
       "version_major": 2,
       "version_minor": 0,
       "model_id": "ab4e19078acb47eea4267d29ed66f173"
      }
     },
     "metadata": {},
     "output_type": "display_data"
    },
    {
     "data": {
      "text/plain": "  0%|          | 0/40 [00:00<?, ?it/s]",
      "application/vnd.jupyter.widget-view+json": {
       "version_major": 2,
       "version_minor": 0,
       "model_id": "c7a1b80106a8468da50d3931c07b6955"
      }
     },
     "metadata": {},
     "output_type": "display_data"
    },
    {
     "data": {
      "text/plain": "  0%|          | 0/40 [00:00<?, ?it/s]",
      "application/vnd.jupyter.widget-view+json": {
       "version_major": 2,
       "version_minor": 0,
       "model_id": "7a8f445e60ce42768fbc30ad51966ed2"
      }
     },
     "metadata": {},
     "output_type": "display_data"
    },
    {
     "data": {
      "text/plain": "  0%|          | 0/40 [00:00<?, ?it/s]",
      "application/vnd.jupyter.widget-view+json": {
       "version_major": 2,
       "version_minor": 0,
       "model_id": "c9e754bdd5d746b7a573242b777710c8"
      }
     },
     "metadata": {},
     "output_type": "display_data"
    },
    {
     "data": {
      "text/plain": "  0%|          | 0/40 [00:00<?, ?it/s]",
      "application/vnd.jupyter.widget-view+json": {
       "version_major": 2,
       "version_minor": 0,
       "model_id": "313dc9fe61b345cc86a42c674273deb0"
      }
     },
     "metadata": {},
     "output_type": "display_data"
    },
    {
     "data": {
      "text/plain": "  0%|          | 0/40 [00:00<?, ?it/s]",
      "application/vnd.jupyter.widget-view+json": {
       "version_major": 2,
       "version_minor": 0,
       "model_id": "a0eca2546553496b846ed96837129b26"
      }
     },
     "metadata": {},
     "output_type": "display_data"
    },
    {
     "data": {
      "text/plain": "  0%|          | 0/40 [00:00<?, ?it/s]",
      "application/vnd.jupyter.widget-view+json": {
       "version_major": 2,
       "version_minor": 0,
       "model_id": "687845737e71402e9de87a7cda287d0f"
      }
     },
     "metadata": {},
     "output_type": "display_data"
    },
    {
     "data": {
      "text/plain": "  0%|          | 0/40 [00:00<?, ?it/s]",
      "application/vnd.jupyter.widget-view+json": {
       "version_major": 2,
       "version_minor": 0,
       "model_id": "c8506ce06bdb466ba41c350385d74ae1"
      }
     },
     "metadata": {},
     "output_type": "display_data"
    },
    {
     "data": {
      "text/plain": "  0%|          | 0/40 [00:00<?, ?it/s]",
      "application/vnd.jupyter.widget-view+json": {
       "version_major": 2,
       "version_minor": 0,
       "model_id": "9f9c690ba4074b44a5db47fef1b010cd"
      }
     },
     "metadata": {},
     "output_type": "display_data"
    },
    {
     "data": {
      "text/plain": "  0%|          | 0/40 [00:00<?, ?it/s]",
      "application/vnd.jupyter.widget-view+json": {
       "version_major": 2,
       "version_minor": 0,
       "model_id": "c7d22ecee5fd4e00acaa36e80b0121d2"
      }
     },
     "metadata": {},
     "output_type": "display_data"
    },
    {
     "data": {
      "text/plain": "  0%|          | 0/40 [00:00<?, ?it/s]",
      "application/vnd.jupyter.widget-view+json": {
       "version_major": 2,
       "version_minor": 0,
       "model_id": "65ff8bc8d67c40e0b2a8b87213150417"
      }
     },
     "metadata": {},
     "output_type": "display_data"
    },
    {
     "data": {
      "text/plain": "  0%|          | 0/40 [00:00<?, ?it/s]",
      "application/vnd.jupyter.widget-view+json": {
       "version_major": 2,
       "version_minor": 0,
       "model_id": "7b893de94fce4c1cbfce547f3369efd4"
      }
     },
     "metadata": {},
     "output_type": "display_data"
    },
    {
     "data": {
      "text/plain": "  0%|          | 0/40 [00:00<?, ?it/s]",
      "application/vnd.jupyter.widget-view+json": {
       "version_major": 2,
       "version_minor": 0,
       "model_id": "b8edce806d31465393b1aa0ffb1d5567"
      }
     },
     "metadata": {},
     "output_type": "display_data"
    },
    {
     "data": {
      "text/plain": "  0%|          | 0/40 [00:00<?, ?it/s]",
      "application/vnd.jupyter.widget-view+json": {
       "version_major": 2,
       "version_minor": 0,
       "model_id": "0f97f77331d94a43acb8eaeb77a8244d"
      }
     },
     "metadata": {},
     "output_type": "display_data"
    },
    {
     "data": {
      "text/plain": "  0%|          | 0/40 [00:00<?, ?it/s]",
      "application/vnd.jupyter.widget-view+json": {
       "version_major": 2,
       "version_minor": 0,
       "model_id": "76b4120518ba46b3a48d8f354fe960d3"
      }
     },
     "metadata": {},
     "output_type": "display_data"
    },
    {
     "data": {
      "text/plain": "  0%|          | 0/40 [00:00<?, ?it/s]",
      "application/vnd.jupyter.widget-view+json": {
       "version_major": 2,
       "version_minor": 0,
       "model_id": "af72e32ca6dc48d8942f837780b99adf"
      }
     },
     "metadata": {},
     "output_type": "display_data"
    },
    {
     "data": {
      "text/plain": "  0%|          | 0/40 [00:00<?, ?it/s]",
      "application/vnd.jupyter.widget-view+json": {
       "version_major": 2,
       "version_minor": 0,
       "model_id": "d2deac18540f435fa6e2ea417592a725"
      }
     },
     "metadata": {},
     "output_type": "display_data"
    },
    {
     "data": {
      "text/plain": "  0%|          | 0/40 [00:00<?, ?it/s]",
      "application/vnd.jupyter.widget-view+json": {
       "version_major": 2,
       "version_minor": 0,
       "model_id": "b32e837be42d4a689b4d0c797e75cd69"
      }
     },
     "metadata": {},
     "output_type": "display_data"
    },
    {
     "data": {
      "text/plain": "  0%|          | 0/40 [00:00<?, ?it/s]",
      "application/vnd.jupyter.widget-view+json": {
       "version_major": 2,
       "version_minor": 0,
       "model_id": "35533a70e2e64572aed391ad59194856"
      }
     },
     "metadata": {},
     "output_type": "display_data"
    },
    {
     "data": {
      "text/plain": "  0%|          | 0/40 [00:00<?, ?it/s]",
      "application/vnd.jupyter.widget-view+json": {
       "version_major": 2,
       "version_minor": 0,
       "model_id": "61ed54cd855c492daf9bcf0d46210e5f"
      }
     },
     "metadata": {},
     "output_type": "display_data"
    },
    {
     "data": {
      "text/plain": "  0%|          | 0/40 [00:00<?, ?it/s]",
      "application/vnd.jupyter.widget-view+json": {
       "version_major": 2,
       "version_minor": 0,
       "model_id": "1be1ef4b2acd4dc09e347e470c67110c"
      }
     },
     "metadata": {},
     "output_type": "display_data"
    },
    {
     "data": {
      "text/plain": "  0%|          | 0/40 [00:00<?, ?it/s]",
      "application/vnd.jupyter.widget-view+json": {
       "version_major": 2,
       "version_minor": 0,
       "model_id": "4419d38c8c9741b2a97e6036c17ca2cb"
      }
     },
     "metadata": {},
     "output_type": "display_data"
    },
    {
     "data": {
      "text/plain": "  0%|          | 0/40 [00:00<?, ?it/s]",
      "application/vnd.jupyter.widget-view+json": {
       "version_major": 2,
       "version_minor": 0,
       "model_id": "1cdaeac360574cee81d1552ba2c5da1e"
      }
     },
     "metadata": {},
     "output_type": "display_data"
    },
    {
     "data": {
      "text/plain": "  0%|          | 0/40 [00:00<?, ?it/s]",
      "application/vnd.jupyter.widget-view+json": {
       "version_major": 2,
       "version_minor": 0,
       "model_id": "8508c22b188f4de8ac027091d7d91886"
      }
     },
     "metadata": {},
     "output_type": "display_data"
    },
    {
     "data": {
      "text/plain": "  0%|          | 0/40 [00:00<?, ?it/s]",
      "application/vnd.jupyter.widget-view+json": {
       "version_major": 2,
       "version_minor": 0,
       "model_id": "950d2fd6dee544bcb6b95270e4633bec"
      }
     },
     "metadata": {},
     "output_type": "display_data"
    },
    {
     "data": {
      "text/plain": "  0%|          | 0/40 [00:00<?, ?it/s]",
      "application/vnd.jupyter.widget-view+json": {
       "version_major": 2,
       "version_minor": 0,
       "model_id": "a3ff5dee0fb143db9b84e2d33a6b4bfd"
      }
     },
     "metadata": {},
     "output_type": "display_data"
    },
    {
     "data": {
      "text/plain": "  0%|          | 0/40 [00:00<?, ?it/s]",
      "application/vnd.jupyter.widget-view+json": {
       "version_major": 2,
       "version_minor": 0,
       "model_id": "a5dd0b757fd1448b9e58a0475d8a73e2"
      }
     },
     "metadata": {},
     "output_type": "display_data"
    },
    {
     "data": {
      "text/plain": "  0%|          | 0/40 [00:00<?, ?it/s]",
      "application/vnd.jupyter.widget-view+json": {
       "version_major": 2,
       "version_minor": 0,
       "model_id": "f5b6388e271748098692a8a3b481e0da"
      }
     },
     "metadata": {},
     "output_type": "display_data"
    },
    {
     "data": {
      "text/plain": "  0%|          | 0/40 [00:00<?, ?it/s]",
      "application/vnd.jupyter.widget-view+json": {
       "version_major": 2,
       "version_minor": 0,
       "model_id": "307eb66110c04df781616cf96a7e4886"
      }
     },
     "metadata": {},
     "output_type": "display_data"
    },
    {
     "data": {
      "text/plain": "  0%|          | 0/40 [00:00<?, ?it/s]",
      "application/vnd.jupyter.widget-view+json": {
       "version_major": 2,
       "version_minor": 0,
       "model_id": "663e2b7e92414849a3104569fc488433"
      }
     },
     "metadata": {},
     "output_type": "display_data"
    },
    {
     "data": {
      "text/plain": "  0%|          | 0/40 [00:00<?, ?it/s]",
      "application/vnd.jupyter.widget-view+json": {
       "version_major": 2,
       "version_minor": 0,
       "model_id": "8cd5558ddfab4fd4ab072a884e828a61"
      }
     },
     "metadata": {},
     "output_type": "display_data"
    },
    {
     "data": {
      "text/plain": "  0%|          | 0/40 [00:00<?, ?it/s]",
      "application/vnd.jupyter.widget-view+json": {
       "version_major": 2,
       "version_minor": 0,
       "model_id": "16427dc08b4346559364ee933b15a0dc"
      }
     },
     "metadata": {},
     "output_type": "display_data"
    },
    {
     "data": {
      "text/plain": "  0%|          | 0/40 [00:00<?, ?it/s]",
      "application/vnd.jupyter.widget-view+json": {
       "version_major": 2,
       "version_minor": 0,
       "model_id": "e02e7cb7853b4c8798245de80e63fa67"
      }
     },
     "metadata": {},
     "output_type": "display_data"
    },
    {
     "data": {
      "text/plain": "  0%|          | 0/40 [00:00<?, ?it/s]",
      "application/vnd.jupyter.widget-view+json": {
       "version_major": 2,
       "version_minor": 0,
       "model_id": "a6e51f6bec6a4aa3ab0090b8c1813736"
      }
     },
     "metadata": {},
     "output_type": "display_data"
    },
    {
     "data": {
      "text/plain": "  0%|          | 0/40 [00:00<?, ?it/s]",
      "application/vnd.jupyter.widget-view+json": {
       "version_major": 2,
       "version_minor": 0,
       "model_id": "d03f3e2ce8b542f2997a4a948327652f"
      }
     },
     "metadata": {},
     "output_type": "display_data"
    },
    {
     "data": {
      "text/plain": "  0%|          | 0/40 [00:00<?, ?it/s]",
      "application/vnd.jupyter.widget-view+json": {
       "version_major": 2,
       "version_minor": 0,
       "model_id": "c88a0caa3639486994e13221c0e8b19e"
      }
     },
     "metadata": {},
     "output_type": "display_data"
    },
    {
     "data": {
      "text/plain": "  0%|          | 0/40 [00:00<?, ?it/s]",
      "application/vnd.jupyter.widget-view+json": {
       "version_major": 2,
       "version_minor": 0,
       "model_id": "0c1b5272887548cb8769b6f7b57c9495"
      }
     },
     "metadata": {},
     "output_type": "display_data"
    },
    {
     "data": {
      "text/plain": "  0%|          | 0/40 [00:00<?, ?it/s]",
      "application/vnd.jupyter.widget-view+json": {
       "version_major": 2,
       "version_minor": 0,
       "model_id": "391054226e224aee822ee6c9a51ae8fb"
      }
     },
     "metadata": {},
     "output_type": "display_data"
    },
    {
     "data": {
      "text/plain": "  0%|          | 0/40 [00:00<?, ?it/s]",
      "application/vnd.jupyter.widget-view+json": {
       "version_major": 2,
       "version_minor": 0,
       "model_id": "1ac0b9c31fb24a0680cc1efaf71fad91"
      }
     },
     "metadata": {},
     "output_type": "display_data"
    },
    {
     "data": {
      "text/plain": "  0%|          | 0/40 [00:00<?, ?it/s]",
      "application/vnd.jupyter.widget-view+json": {
       "version_major": 2,
       "version_minor": 0,
       "model_id": "f7860007cea74a5aaf3cb5ed75dab160"
      }
     },
     "metadata": {},
     "output_type": "display_data"
    },
    {
     "data": {
      "text/plain": "  0%|          | 0/40 [00:00<?, ?it/s]",
      "application/vnd.jupyter.widget-view+json": {
       "version_major": 2,
       "version_minor": 0,
       "model_id": "0118203f2bb84fb190afa03480bbcb95"
      }
     },
     "metadata": {},
     "output_type": "display_data"
    },
    {
     "data": {
      "text/plain": "  0%|          | 0/40 [00:00<?, ?it/s]",
      "application/vnd.jupyter.widget-view+json": {
       "version_major": 2,
       "version_minor": 0,
       "model_id": "99251d1119dc49059f9ecbd7ce8434cc"
      }
     },
     "metadata": {},
     "output_type": "display_data"
    },
    {
     "data": {
      "text/plain": "  0%|          | 0/40 [00:00<?, ?it/s]",
      "application/vnd.jupyter.widget-view+json": {
       "version_major": 2,
       "version_minor": 0,
       "model_id": "130339c3b8dd4d3ea64353f91aa66c80"
      }
     },
     "metadata": {},
     "output_type": "display_data"
    },
    {
     "data": {
      "text/plain": "  0%|          | 0/40 [00:00<?, ?it/s]",
      "application/vnd.jupyter.widget-view+json": {
       "version_major": 2,
       "version_minor": 0,
       "model_id": "206a1d646f9a4d5c896279e7e46c9ea5"
      }
     },
     "metadata": {},
     "output_type": "display_data"
    },
    {
     "data": {
      "text/plain": "  0%|          | 0/40 [00:00<?, ?it/s]",
      "application/vnd.jupyter.widget-view+json": {
       "version_major": 2,
       "version_minor": 0,
       "model_id": "4e08a3f7249f4259b07a6fb8a4293881"
      }
     },
     "metadata": {},
     "output_type": "display_data"
    },
    {
     "data": {
      "text/plain": "  0%|          | 0/40 [00:00<?, ?it/s]",
      "application/vnd.jupyter.widget-view+json": {
       "version_major": 2,
       "version_minor": 0,
       "model_id": "837ebd2a70dd479d8516c58a9e2254fd"
      }
     },
     "metadata": {},
     "output_type": "display_data"
    },
    {
     "data": {
      "text/plain": "  0%|          | 0/40 [00:00<?, ?it/s]",
      "application/vnd.jupyter.widget-view+json": {
       "version_major": 2,
       "version_minor": 0,
       "model_id": "edd22c9e7ff242aa9e50ba8bfef3625d"
      }
     },
     "metadata": {},
     "output_type": "display_data"
    },
    {
     "data": {
      "text/plain": "  0%|          | 0/40 [00:00<?, ?it/s]",
      "application/vnd.jupyter.widget-view+json": {
       "version_major": 2,
       "version_minor": 0,
       "model_id": "76d10d0a13d0473888b8c2ce5fb4a78d"
      }
     },
     "metadata": {},
     "output_type": "display_data"
    },
    {
     "data": {
      "text/plain": "  0%|          | 0/40 [00:00<?, ?it/s]",
      "application/vnd.jupyter.widget-view+json": {
       "version_major": 2,
       "version_minor": 0,
       "model_id": "46a189d83a4948ca9635a8b558b9c188"
      }
     },
     "metadata": {},
     "output_type": "display_data"
    },
    {
     "data": {
      "text/plain": "  0%|          | 0/40 [00:00<?, ?it/s]",
      "application/vnd.jupyter.widget-view+json": {
       "version_major": 2,
       "version_minor": 0,
       "model_id": "0602bda5eb934f798947549ae6605431"
      }
     },
     "metadata": {},
     "output_type": "display_data"
    },
    {
     "data": {
      "text/plain": "  0%|          | 0/40 [00:00<?, ?it/s]",
      "application/vnd.jupyter.widget-view+json": {
       "version_major": 2,
       "version_minor": 0,
       "model_id": "c720688089664acf8a4b9d49d09fc8fd"
      }
     },
     "metadata": {},
     "output_type": "display_data"
    },
    {
     "data": {
      "text/plain": "  0%|          | 0/40 [00:00<?, ?it/s]",
      "application/vnd.jupyter.widget-view+json": {
       "version_major": 2,
       "version_minor": 0,
       "model_id": "037190330ef14ee2acb017add59df947"
      }
     },
     "metadata": {},
     "output_type": "display_data"
    },
    {
     "data": {
      "text/plain": "  0%|          | 0/40 [00:00<?, ?it/s]",
      "application/vnd.jupyter.widget-view+json": {
       "version_major": 2,
       "version_minor": 0,
       "model_id": "605813c659a841f995fa83c3cba23a9a"
      }
     },
     "metadata": {},
     "output_type": "display_data"
    },
    {
     "data": {
      "text/plain": "  0%|          | 0/40 [00:00<?, ?it/s]",
      "application/vnd.jupyter.widget-view+json": {
       "version_major": 2,
       "version_minor": 0,
       "model_id": "651a6246245a49cfb819700b78e43729"
      }
     },
     "metadata": {},
     "output_type": "display_data"
    },
    {
     "data": {
      "text/plain": "  0%|          | 0/40 [00:00<?, ?it/s]",
      "application/vnd.jupyter.widget-view+json": {
       "version_major": 2,
       "version_minor": 0,
       "model_id": "bae927f068e34038bf32e7dfc642fd9b"
      }
     },
     "metadata": {},
     "output_type": "display_data"
    },
    {
     "data": {
      "text/plain": "  0%|          | 0/40 [00:00<?, ?it/s]",
      "application/vnd.jupyter.widget-view+json": {
       "version_major": 2,
       "version_minor": 0,
       "model_id": "7f8551ce50084ff3af78966a25b6d775"
      }
     },
     "metadata": {},
     "output_type": "display_data"
    },
    {
     "data": {
      "text/plain": "  0%|          | 0/40 [00:00<?, ?it/s]",
      "application/vnd.jupyter.widget-view+json": {
       "version_major": 2,
       "version_minor": 0,
       "model_id": "432c1ee5b9d542718ba6158f258b4f7c"
      }
     },
     "metadata": {},
     "output_type": "display_data"
    },
    {
     "data": {
      "text/plain": "  0%|          | 0/40 [00:00<?, ?it/s]",
      "application/vnd.jupyter.widget-view+json": {
       "version_major": 2,
       "version_minor": 0,
       "model_id": "bcedab4cb4b04f89bd75058557fa40a3"
      }
     },
     "metadata": {},
     "output_type": "display_data"
    },
    {
     "data": {
      "text/plain": "  0%|          | 0/40 [00:00<?, ?it/s]",
      "application/vnd.jupyter.widget-view+json": {
       "version_major": 2,
       "version_minor": 0,
       "model_id": "87716a73a05541d1abf637934fd40a3d"
      }
     },
     "metadata": {},
     "output_type": "display_data"
    },
    {
     "data": {
      "text/plain": "  0%|          | 0/40 [00:00<?, ?it/s]",
      "application/vnd.jupyter.widget-view+json": {
       "version_major": 2,
       "version_minor": 0,
       "model_id": "cac62089335f4eb69f7bea18d13396c6"
      }
     },
     "metadata": {},
     "output_type": "display_data"
    },
    {
     "data": {
      "text/plain": "  0%|          | 0/40 [00:00<?, ?it/s]",
      "application/vnd.jupyter.widget-view+json": {
       "version_major": 2,
       "version_minor": 0,
       "model_id": "871204dc76b9492a93a0554167bcb737"
      }
     },
     "metadata": {},
     "output_type": "display_data"
    },
    {
     "data": {
      "text/plain": "  0%|          | 0/40 [00:00<?, ?it/s]",
      "application/vnd.jupyter.widget-view+json": {
       "version_major": 2,
       "version_minor": 0,
       "model_id": "222e448e0b66439abd299b8872e16f70"
      }
     },
     "metadata": {},
     "output_type": "display_data"
    },
    {
     "data": {
      "text/plain": "  0%|          | 0/40 [00:00<?, ?it/s]",
      "application/vnd.jupyter.widget-view+json": {
       "version_major": 2,
       "version_minor": 0,
       "model_id": "64099986efbc47088b651f2fdb44f54f"
      }
     },
     "metadata": {},
     "output_type": "display_data"
    },
    {
     "data": {
      "text/plain": "  0%|          | 0/40 [00:00<?, ?it/s]",
      "application/vnd.jupyter.widget-view+json": {
       "version_major": 2,
       "version_minor": 0,
       "model_id": "b19e0c4401ec403d987776f1014193ad"
      }
     },
     "metadata": {},
     "output_type": "display_data"
    },
    {
     "data": {
      "text/plain": "  0%|          | 0/40 [00:00<?, ?it/s]",
      "application/vnd.jupyter.widget-view+json": {
       "version_major": 2,
       "version_minor": 0,
       "model_id": "cd9a5c8717614daaa8b329c10541aefd"
      }
     },
     "metadata": {},
     "output_type": "display_data"
    },
    {
     "data": {
      "text/plain": "  0%|          | 0/40 [00:00<?, ?it/s]",
      "application/vnd.jupyter.widget-view+json": {
       "version_major": 2,
       "version_minor": 0,
       "model_id": "22c99cc8314b43658f318cb5e0031c1b"
      }
     },
     "metadata": {},
     "output_type": "display_data"
    },
    {
     "data": {
      "text/plain": "  0%|          | 0/40 [00:00<?, ?it/s]",
      "application/vnd.jupyter.widget-view+json": {
       "version_major": 2,
       "version_minor": 0,
       "model_id": "46f6175372e342c0986da62040458747"
      }
     },
     "metadata": {},
     "output_type": "display_data"
    },
    {
     "data": {
      "text/plain": "  0%|          | 0/40 [00:00<?, ?it/s]",
      "application/vnd.jupyter.widget-view+json": {
       "version_major": 2,
       "version_minor": 0,
       "model_id": "dec355c4063c47919f10a728b66646e4"
      }
     },
     "metadata": {},
     "output_type": "display_data"
    },
    {
     "data": {
      "text/plain": "  0%|          | 0/40 [00:00<?, ?it/s]",
      "application/vnd.jupyter.widget-view+json": {
       "version_major": 2,
       "version_minor": 0,
       "model_id": "eab9f2c98bdb463295e26ed030025457"
      }
     },
     "metadata": {},
     "output_type": "display_data"
    },
    {
     "data": {
      "text/plain": "  0%|          | 0/40 [00:00<?, ?it/s]",
      "application/vnd.jupyter.widget-view+json": {
       "version_major": 2,
       "version_minor": 0,
       "model_id": "eba860b480a744c99d82975edf4e4c98"
      }
     },
     "metadata": {},
     "output_type": "display_data"
    },
    {
     "data": {
      "text/plain": "  0%|          | 0/40 [00:00<?, ?it/s]",
      "application/vnd.jupyter.widget-view+json": {
       "version_major": 2,
       "version_minor": 0,
       "model_id": "37ec07a5c68f4450b680528e7bcdf93c"
      }
     },
     "metadata": {},
     "output_type": "display_data"
    },
    {
     "data": {
      "text/plain": "  0%|          | 0/40 [00:00<?, ?it/s]",
      "application/vnd.jupyter.widget-view+json": {
       "version_major": 2,
       "version_minor": 0,
       "model_id": "5d9f4e911365458c84a4bf583c811a6e"
      }
     },
     "metadata": {},
     "output_type": "display_data"
    },
    {
     "data": {
      "text/plain": "  0%|          | 0/40 [00:00<?, ?it/s]",
      "application/vnd.jupyter.widget-view+json": {
       "version_major": 2,
       "version_minor": 0,
       "model_id": "c500492ccd944186b281b2c69bd935f2"
      }
     },
     "metadata": {},
     "output_type": "display_data"
    },
    {
     "data": {
      "text/plain": "  0%|          | 0/40 [00:00<?, ?it/s]",
      "application/vnd.jupyter.widget-view+json": {
       "version_major": 2,
       "version_minor": 0,
       "model_id": "c2ec435ad6da4e60aaf8de4b92dee72a"
      }
     },
     "metadata": {},
     "output_type": "display_data"
    },
    {
     "data": {
      "text/plain": "  0%|          | 0/40 [00:00<?, ?it/s]",
      "application/vnd.jupyter.widget-view+json": {
       "version_major": 2,
       "version_minor": 0,
       "model_id": "9d53a2c83cc14da0a05b261118924e8d"
      }
     },
     "metadata": {},
     "output_type": "display_data"
    },
    {
     "data": {
      "text/plain": "  0%|          | 0/40 [00:00<?, ?it/s]",
      "application/vnd.jupyter.widget-view+json": {
       "version_major": 2,
       "version_minor": 0,
       "model_id": "615bac16f73b4bd8b8b405383d7afa09"
      }
     },
     "metadata": {},
     "output_type": "display_data"
    },
    {
     "data": {
      "text/plain": "  0%|          | 0/40 [00:00<?, ?it/s]",
      "application/vnd.jupyter.widget-view+json": {
       "version_major": 2,
       "version_minor": 0,
       "model_id": "ae2c6ac4db66471e9e39a95de1cd0269"
      }
     },
     "metadata": {},
     "output_type": "display_data"
    },
    {
     "data": {
      "text/plain": "  0%|          | 0/40 [00:00<?, ?it/s]",
      "application/vnd.jupyter.widget-view+json": {
       "version_major": 2,
       "version_minor": 0,
       "model_id": "ea4223e2dc14448ca781dacc268f5405"
      }
     },
     "metadata": {},
     "output_type": "display_data"
    },
    {
     "data": {
      "text/plain": "  0%|          | 0/40 [00:00<?, ?it/s]",
      "application/vnd.jupyter.widget-view+json": {
       "version_major": 2,
       "version_minor": 0,
       "model_id": "598d26abd4b7449982bed9c257060a8b"
      }
     },
     "metadata": {},
     "output_type": "display_data"
    },
    {
     "data": {
      "text/plain": "  0%|          | 0/40 [00:00<?, ?it/s]",
      "application/vnd.jupyter.widget-view+json": {
       "version_major": 2,
       "version_minor": 0,
       "model_id": "5a1f3bd1fb3e468a92021b09b71c7617"
      }
     },
     "metadata": {},
     "output_type": "display_data"
    },
    {
     "data": {
      "text/plain": "  0%|          | 0/40 [00:00<?, ?it/s]",
      "application/vnd.jupyter.widget-view+json": {
       "version_major": 2,
       "version_minor": 0,
       "model_id": "84d1cb5be0de454080b22322f6957de4"
      }
     },
     "metadata": {},
     "output_type": "display_data"
    },
    {
     "data": {
      "text/plain": "  0%|          | 0/40 [00:00<?, ?it/s]",
      "application/vnd.jupyter.widget-view+json": {
       "version_major": 2,
       "version_minor": 0,
       "model_id": "70190108ab0f44feb4c420c431a931d7"
      }
     },
     "metadata": {},
     "output_type": "display_data"
    },
    {
     "data": {
      "text/plain": "  0%|          | 0/40 [00:00<?, ?it/s]",
      "application/vnd.jupyter.widget-view+json": {
       "version_major": 2,
       "version_minor": 0,
       "model_id": "9a0c279bc95441249913d2dfba9601e9"
      }
     },
     "metadata": {},
     "output_type": "display_data"
    },
    {
     "data": {
      "text/plain": "  0%|          | 0/40 [00:00<?, ?it/s]",
      "application/vnd.jupyter.widget-view+json": {
       "version_major": 2,
       "version_minor": 0,
       "model_id": "1f593c4086f441f2a863f769b6b6cc5c"
      }
     },
     "metadata": {},
     "output_type": "display_data"
    },
    {
     "data": {
      "text/plain": "  0%|          | 0/40 [00:00<?, ?it/s]",
      "application/vnd.jupyter.widget-view+json": {
       "version_major": 2,
       "version_minor": 0,
       "model_id": "08b48e0e8a1b41b2a8e7814a2a6384e5"
      }
     },
     "metadata": {},
     "output_type": "display_data"
    },
    {
     "name": "stdout",
     "output_type": "stream",
     "text": [
      "0.9666666666666667\n",
      "[0.9666666666666667, 0.9666666666666667, 0.9666666666666667]\n",
      "0.9666666666666667\n",
      "-----\n",
      "0.9333333333333333\n",
      "[0.9333333333333333, 0.9666666666666667, 0.9666666666666667]\n",
      "0.9666666666666667\n",
      "-----\n",
      "0.9333333333333333\n",
      "[0.9333333333333333, 0.9666666666666667, 0.9666666666666667]\n",
      "0.9666666666666667\n"
     ]
    }
   ],
   "source": [
    "linear_accs = []\n",
    "maxplus_accs = []\n",
    "minplus_accs = []\n",
    "\n",
    "for _ in range(100):\n",
    "    iris_models = [\n",
    "        create_model(\"linear_relu\", num_features=4, num_classes=3).to(device),\n",
    "        create_model(\"linear_maxplus\", num_features=4, num_classes=3).to(device),\n",
    "        create_model(\"linear_minplus\", num_features=4, num_classes=3).to(device),\n",
    "    ]\n",
    "    \n",
    "    loss = nn.CrossEntropyLoss()\n",
    "    epochs = 40\n",
    "    \n",
    "    for model in iris_models:\n",
    "        if model.name == \"linear_relu\":\n",
    "            optimizer = torch.optim.AdamW(model.parameters(), lr=2e-2)\n",
    "            scheduler = torch.optim.lr_scheduler.OneCycleLR(\n",
    "                optimizer,\n",
    "                max_lr=2e-2,\n",
    "                anneal_strategy=\"linear\",\n",
    "                pct_start=0.3,\n",
    "                three_phase=True,\n",
    "                final_div_factor=1000.0,\n",
    "                div_factor=10.0,\n",
    "                steps_per_epoch=len(iris_train),\n",
    "                epochs=epochs,\n",
    "            )\n",
    "            \n",
    "            linear_accs.append(\n",
    "                train(\n",
    "                    model,\n",
    "                    device,\n",
    "                    iris_train_loader,\n",
    "                    iris_test_loader,\n",
    "                    optimizer,\n",
    "                    scheduler,\n",
    "                    loss,\n",
    "                    epochs,\n",
    "                    statistics_mode=True\n",
    "                )\n",
    "            )\n",
    "        elif model.name == \"linear_maxplus\":\n",
    "            optimizer = torch.optim.AdamW(model.parameters(), lr=2e-2)\n",
    "            scheduler = torch.optim.lr_scheduler.OneCycleLR(\n",
    "                optimizer,\n",
    "                max_lr=2e-2,\n",
    "                anneal_strategy=\"linear\",\n",
    "                pct_start=0.3,\n",
    "                three_phase=True,\n",
    "                final_div_factor=1000.0,\n",
    "                div_factor=10.0,\n",
    "                steps_per_epoch=len(iris_train),\n",
    "                epochs=epochs,\n",
    "            )\n",
    "            \n",
    "            maxplus_accs.append(\n",
    "                train(\n",
    "                    model,\n",
    "                    device,\n",
    "                    iris_train_loader,\n",
    "                    iris_test_loader,\n",
    "                    optimizer,\n",
    "                    scheduler,\n",
    "                    loss,\n",
    "                    epochs,\n",
    "                    statistics_mode=True\n",
    "                )\n",
    "            )\n",
    "        elif model.name == \"linear_minplus\":\n",
    "            optimizer = torch.optim.AdamW(model.parameters(), lr=2e-2)\n",
    "            scheduler = torch.optim.lr_scheduler.OneCycleLR(\n",
    "                optimizer,\n",
    "                max_lr=2e-2,\n",
    "                anneal_strategy=\"linear\",\n",
    "                pct_start=0.3,\n",
    "                three_phase=True,\n",
    "                final_div_factor=1000.0,\n",
    "                div_factor=10.0,\n",
    "                steps_per_epoch=len(iris_train),\n",
    "                epochs=epochs,\n",
    "            )\n",
    "            \n",
    "            minplus_accs.append(\n",
    "                train(\n",
    "                    model,\n",
    "                    device,\n",
    "                    iris_train_loader,\n",
    "                    iris_test_loader,\n",
    "                    optimizer,\n",
    "                    scheduler,\n",
    "                    loss,\n",
    "                    epochs,\n",
    "                    statistics_mode=True\n",
    "                )\n",
    "            )\n",
    "        else:\n",
    "            raise RuntimeError(f\"Unknown model ({model.name})\")\n",
    "        \n",
    "print(min(linear_accs))\n",
    "print(quantiles(linear_accs))\n",
    "print(max(linear_accs))\n",
    "print('-----')\n",
    "print(min(maxplus_accs))\n",
    "print(quantiles(maxplus_accs))\n",
    "print(max(maxplus_accs))\n",
    "print('-----')\n",
    "print(min(minplus_accs))\n",
    "print(quantiles(minplus_accs))\n",
    "print(max(minplus_accs))"
   ],
   "metadata": {
    "collapsed": false,
    "ExecuteTime": {
     "end_time": "2023-09-01T12:58:13.606479100Z",
     "start_time": "2023-09-01T12:31:04.748541100Z"
    }
   }
  },
  {
   "cell_type": "code",
   "execution_count": 10,
   "metadata": {
    "ExecuteTime": {
     "end_time": "2023-09-01T12:58:45.238469800Z",
     "start_time": "2023-09-01T12:58:13.599021200Z"
    }
   },
   "outputs": [
    {
     "name": "stdout",
     "output_type": "stream",
     "text": [
      "linear/relu model has 1072 trainable parameters\n",
      "linear/maxplus model has 1072 trainable parameters\n",
      "linear/minplus model has 1072 trainable parameters\n"
     ]
    },
    {
     "data": {
      "text/plain": "''"
     },
     "metadata": {},
     "output_type": "display_data"
    },
    {
     "data": {
      "text/plain": "  0%|          | 0/40 [00:00<?, ?it/s]",
      "application/vnd.jupyter.widget-view+json": {
       "version_major": 2,
       "version_minor": 0,
       "model_id": "dc49c0bdfb634d469a766f04f1b89fa4"
      }
     },
     "metadata": {},
     "output_type": "display_data"
    },
    {
     "data": {
      "text/plain": "''"
     },
     "metadata": {},
     "output_type": "display_data"
    },
    {
     "data": {
      "text/plain": "  0%|          | 0/40 [00:00<?, ?it/s]",
      "application/vnd.jupyter.widget-view+json": {
       "version_major": 2,
       "version_minor": 0,
       "model_id": "e92dfc25375042bbb4d3b2c9775c0fec"
      }
     },
     "metadata": {},
     "output_type": "display_data"
    },
    {
     "data": {
      "text/plain": "''"
     },
     "metadata": {},
     "output_type": "display_data"
    },
    {
     "data": {
      "text/plain": "  0%|          | 0/40 [00:00<?, ?it/s]",
      "application/vnd.jupyter.widget-view+json": {
       "version_major": 2,
       "version_minor": 0,
       "model_id": "b99667064b5140649548ad2e14224d2c"
      }
     },
     "metadata": {},
     "output_type": "display_data"
    },
    {
     "data": {
      "text/plain": "<Figure size 600x400 with 1 Axes>",
      "image/png": "[encoded data removed]"
     },
     "metadata": {},
     "output_type": "display_data"
    },
    {
     "data": {
      "text/plain": "<Figure size 600x400 with 1 Axes>",
      "image/png": "[encoded data removed]"
     },
     "metadata": {},
     "output_type": "display_data"
    },
    {
     "data": {
      "text/plain": "<Figure size 600x400 with 1 Axes>",
      "image/png": "[encoded data removed]"
     },
     "metadata": {},
     "output_type": "display_data"
    }
   ],
   "source": [
    "heart_models = [\n",
    "    create_model(\"linear_relu\", num_features=13, num_classes=2, num_layers=2).to(device),\n",
    "    create_model(\"linear_maxplus\", num_features=13, num_classes=2, num_layers=2).to(device),\n",
    "    create_model(\"linear_minplus\", num_features=13, num_classes=2, num_layers=2).to(device),\n",
    "]\n",
    "\n",
    "for model in heart_models:\n",
    "    model_ref = model.name.replace(\"_\", \"/\")\n",
    "    print(f\"{model_ref} model has {count_parameters(model)} trainable parameters\")\n",
    "\n",
    "loss = nn.CrossEntropyLoss()\n",
    "epochs = 40\n",
    "\n",
    "for model in heart_models:\n",
    "    if model.name == \"linear_relu\":\n",
    "        optimizer = torch.optim.AdamW(model.parameters(), lr=6e-2)\n",
    "        scheduler = torch.optim.lr_scheduler.OneCycleLR(\n",
    "            optimizer,\n",
    "            max_lr=6e-2,\n",
    "            anneal_strategy=\"linear\",\n",
    "            pct_start=0.3,\n",
    "            three_phase=True,\n",
    "            final_div_factor=1000.0,\n",
    "            div_factor=10.0,\n",
    "            steps_per_epoch=len(heart_train),\n",
    "            epochs=epochs,\n",
    "        )\n",
    "    elif model.name == \"linear_maxplus\":\n",
    "        optimizer = torch.optim.AdamW(model.parameters(), lr=8e-2)\n",
    "        scheduler = torch.optim.lr_scheduler.OneCycleLR(\n",
    "            optimizer,\n",
    "            max_lr=8e-2,\n",
    "            anneal_strategy=\"linear\",\n",
    "            pct_start=0.3,\n",
    "            three_phase=True,\n",
    "            final_div_factor=1000.0,\n",
    "            div_factor=10.0,\n",
    "            steps_per_epoch=len(heart_train),\n",
    "            epochs=epochs,\n",
    "        )\n",
    "    elif model.name == \"linear_minplus\":\n",
    "        optimizer = torch.optim.AdamW(model.parameters(), lr=8e-2)\n",
    "        scheduler = torch.optim.lr_scheduler.OneCycleLR(\n",
    "            optimizer,\n",
    "            max_lr=8e-2,\n",
    "            anneal_strategy=\"linear\",\n",
    "            pct_start=0.3,\n",
    "            three_phase=True,\n",
    "            final_div_factor=1000.0,\n",
    "            div_factor=10.0,\n",
    "            steps_per_epoch=len(heart_train),\n",
    "            epochs=epochs,\n",
    "        )\n",
    "    else:\n",
    "        raise RuntimeError(f\"Unknown model ({model.name})\")\n",
    "\n",
    "    train(\n",
    "        model,\n",
    "        device,\n",
    "        heart_train_loader,\n",
    "        heart_test_loader,\n",
    "        optimizer,\n",
    "        scheduler,\n",
    "        loss,\n",
    "        epochs,\n",
    "    )"
   ]
  },
  {
   "cell_type": "code",
   "execution_count": 11,
   "outputs": [
    {
     "data": {
      "text/plain": "  0%|          | 0/40 [00:00<?, ?it/s]",
      "application/vnd.jupyter.widget-view+json": {
       "version_major": 2,
       "version_minor": 0,
       "model_id": "9e6ea7fbe7284801a4455dd950e6c574"
      }
     },
     "metadata": {},
     "output_type": "display_data"
    },
    {
     "data": {
      "text/plain": "  0%|          | 0/40 [00:00<?, ?it/s]",
      "application/vnd.jupyter.widget-view+json": {
       "version_major": 2,
       "version_minor": 0,
       "model_id": "4e7f528b97544f95aceff421ef2b638e"
      }
     },
     "metadata": {},
     "output_type": "display_data"
    },
    {
     "data": {
      "text/plain": "  0%|          | 0/40 [00:00<?, ?it/s]",
      "application/vnd.jupyter.widget-view+json": {
       "version_major": 2,
       "version_minor": 0,
       "model_id": "07aff9969aaf4a9d8713d4616090ce48"
      }
     },
     "metadata": {},
     "output_type": "display_data"
    },
    {
     "data": {
      "text/plain": "  0%|          | 0/40 [00:00<?, ?it/s]",
      "application/vnd.jupyter.widget-view+json": {
       "version_major": 2,
       "version_minor": 0,
       "model_id": "f64e3c32c9174ee789d9e5cea064ce2c"
      }
     },
     "metadata": {},
     "output_type": "display_data"
    },
    {
     "data": {
      "text/plain": "  0%|          | 0/40 [00:00<?, ?it/s]",
      "application/vnd.jupyter.widget-view+json": {
       "version_major": 2,
       "version_minor": 0,
       "model_id": "03d4160074124a0a83cf6bf6d9473c81"
      }
     },
     "metadata": {},
     "output_type": "display_data"
    },
    {
     "data": {
      "text/plain": "  0%|          | 0/40 [00:00<?, ?it/s]",
      "application/vnd.jupyter.widget-view+json": {
       "version_major": 2,
       "version_minor": 0,
       "model_id": "be4bf1f7a0f84a31bc8a14b692f2c49b"
      }
     },
     "metadata": {},
     "output_type": "display_data"
    },
    {
     "data": {
      "text/plain": "  0%|          | 0/40 [00:00<?, ?it/s]",
      "application/vnd.jupyter.widget-view+json": {
       "version_major": 2,
       "version_minor": 0,
       "model_id": "3381c1b87bb74b96a731eaa8bbd2d24c"
      }
     },
     "metadata": {},
     "output_type": "display_data"
    },
    {
     "data": {
      "text/plain": "  0%|          | 0/40 [00:00<?, ?it/s]",
      "application/vnd.jupyter.widget-view+json": {
       "version_major": 2,
       "version_minor": 0,
       "model_id": "65f27c3910f748a58694d75496e42d67"
      }
     },
     "metadata": {},
     "output_type": "display_data"
    },
    {
     "data": {
      "text/plain": "  0%|          | 0/40 [00:00<?, ?it/s]",
      "application/vnd.jupyter.widget-view+json": {
       "version_major": 2,
       "version_minor": 0,
       "model_id": "90f03e607b024820935b6fd449be4dac"
      }
     },
     "metadata": {},
     "output_type": "display_data"
    },
    {
     "data": {
      "text/plain": "  0%|          | 0/40 [00:00<?, ?it/s]",
      "application/vnd.jupyter.widget-view+json": {
       "version_major": 2,
       "version_minor": 0,
       "model_id": "36d5eedbeb8a4ea4854388b426ff0166"
      }
     },
     "metadata": {},
     "output_type": "display_data"
    },
    {
     "data": {
      "text/plain": "  0%|          | 0/40 [00:00<?, ?it/s]",
      "application/vnd.jupyter.widget-view+json": {
       "version_major": 2,
       "version_minor": 0,
       "model_id": "df6d442a8a9d46038b744a74b8e82097"
      }
     },
     "metadata": {},
     "output_type": "display_data"
    },
    {
     "data": {
      "text/plain": "  0%|          | 0/40 [00:00<?, ?it/s]",
      "application/vnd.jupyter.widget-view+json": {
       "version_major": 2,
       "version_minor": 0,
       "model_id": "dac53e91a4454a23bef4d08444f4688b"
      }
     },
     "metadata": {},
     "output_type": "display_data"
    },
    {
     "data": {
      "text/plain": "  0%|          | 0/40 [00:00<?, ?it/s]",
      "application/vnd.jupyter.widget-view+json": {
       "version_major": 2,
       "version_minor": 0,
       "model_id": "d8e85e8687d64d18b776dc2dce413478"
      }
     },
     "metadata": {},
     "output_type": "display_data"
    },
    {
     "data": {
      "text/plain": "  0%|          | 0/40 [00:00<?, ?it/s]",
      "application/vnd.jupyter.widget-view+json": {
       "version_major": 2,
       "version_minor": 0,
       "model_id": "1f37a46d38ab4229b6583ffef93c2bdd"
      }
     },
     "metadata": {},
     "output_type": "display_data"
    },
    {
     "data": {
      "text/plain": "  0%|          | 0/40 [00:00<?, ?it/s]",
      "application/vnd.jupyter.widget-view+json": {
       "version_major": 2,
       "version_minor": 0,
       "model_id": "e27c8fb9a88b49dd8075c2b8c8fdadf2"
      }
     },
     "metadata": {},
     "output_type": "display_data"
    },
    {
     "data": {
      "text/plain": "  0%|          | 0/40 [00:00<?, ?it/s]",
      "application/vnd.jupyter.widget-view+json": {
       "version_major": 2,
       "version_minor": 0,
       "model_id": "5e2e0aad80bd40d7a8977c14fa9475a3"
      }
     },
     "metadata": {},
     "output_type": "display_data"
    },
    {
     "data": {
      "text/plain": "  0%|          | 0/40 [00:00<?, ?it/s]",
      "application/vnd.jupyter.widget-view+json": {
       "version_major": 2,
       "version_minor": 0,
       "model_id": "1ceaff6eb24b415d83fa6b0ecfa913a0"
      }
     },
     "metadata": {},
     "output_type": "display_data"
    },
    {
     "data": {
      "text/plain": "  0%|          | 0/40 [00:00<?, ?it/s]",
      "application/vnd.jupyter.widget-view+json": {
       "version_major": 2,
       "version_minor": 0,
       "model_id": "8add34866c8a4587964236410f13325d"
      }
     },
     "metadata": {},
     "output_type": "display_data"
    },
    {
     "data": {
      "text/plain": "  0%|          | 0/40 [00:00<?, ?it/s]",
      "application/vnd.jupyter.widget-view+json": {
       "version_major": 2,
       "version_minor": 0,
       "model_id": "cba9aff160d9465490162708ca438422"
      }
     },
     "metadata": {},
     "output_type": "display_data"
    },
    {
     "data": {
      "text/plain": "  0%|          | 0/40 [00:00<?, ?it/s]",
      "application/vnd.jupyter.widget-view+json": {
       "version_major": 2,
       "version_minor": 0,
       "model_id": "98f1061afbda49b5b57f79fdc174762c"
      }
     },
     "metadata": {},
     "output_type": "display_data"
    },
    {
     "data": {
      "text/plain": "  0%|          | 0/40 [00:00<?, ?it/s]",
      "application/vnd.jupyter.widget-view+json": {
       "version_major": 2,
       "version_minor": 0,
       "model_id": "a1ceec4776c54a79b320a2b009178100"
      }
     },
     "metadata": {},
     "output_type": "display_data"
    },
    {
     "data": {
      "text/plain": "  0%|          | 0/40 [00:00<?, ?it/s]",
      "application/vnd.jupyter.widget-view+json": {
       "version_major": 2,
       "version_minor": 0,
       "model_id": "fad6e6decdd349908a77b33b557ae70a"
      }
     },
     "metadata": {},
     "output_type": "display_data"
    },
    {
     "data": {
      "text/plain": "  0%|          | 0/40 [00:00<?, ?it/s]",
      "application/vnd.jupyter.widget-view+json": {
       "version_major": 2,
       "version_minor": 0,
       "model_id": "7c97884961eb4387abcd2f628ec646e2"
      }
     },
     "metadata": {},
     "output_type": "display_data"
    },
    {
     "data": {
      "text/plain": "  0%|          | 0/40 [00:00<?, ?it/s]",
      "application/vnd.jupyter.widget-view+json": {
       "version_major": 2,
       "version_minor": 0,
       "model_id": "a52452599d1c4f81aea157137e7ae8fb"
      }
     },
     "metadata": {},
     "output_type": "display_data"
    },
    {
     "data": {
      "text/plain": "  0%|          | 0/40 [00:00<?, ?it/s]",
      "application/vnd.jupyter.widget-view+json": {
       "version_major": 2,
       "version_minor": 0,
       "model_id": "ffe2c2e07931466dba6d33bdf9b2f65a"
      }
     },
     "metadata": {},
     "output_type": "display_data"
    },
    {
     "data": {
      "text/plain": "  0%|          | 0/40 [00:00<?, ?it/s]",
      "application/vnd.jupyter.widget-view+json": {
       "version_major": 2,
       "version_minor": 0,
       "model_id": "f7765e2e31ca4e3d8153a3b83daabc07"
      }
     },
     "metadata": {},
     "output_type": "display_data"
    },
    {
     "data": {
      "text/plain": "  0%|          | 0/40 [00:00<?, ?it/s]",
      "application/vnd.jupyter.widget-view+json": {
       "version_major": 2,
       "version_minor": 0,
       "model_id": "07d5f668fc1a4bc08cd53a9ab295a96c"
      }
     },
     "metadata": {},
     "output_type": "display_data"
    },
    {
     "data": {
      "text/plain": "  0%|          | 0/40 [00:00<?, ?it/s]",
      "application/vnd.jupyter.widget-view+json": {
       "version_major": 2,
       "version_minor": 0,
       "model_id": "960b64b1c522473dafe05f6e2a5c5521"
      }
     },
     "metadata": {},
     "output_type": "display_data"
    },
    {
     "data": {
      "text/plain": "  0%|          | 0/40 [00:00<?, ?it/s]",
      "application/vnd.jupyter.widget-view+json": {
       "version_major": 2,
       "version_minor": 0,
       "model_id": "1799aea9bda145dcb9fad3c5e211f012"
      }
     },
     "metadata": {},
     "output_type": "display_data"
    },
    {
     "data": {
      "text/plain": "  0%|          | 0/40 [00:00<?, ?it/s]",
      "application/vnd.jupyter.widget-view+json": {
       "version_major": 2,
       "version_minor": 0,
       "model_id": "0e527ec623744541ba3d536708b620c0"
      }
     },
     "metadata": {},
     "output_type": "display_data"
    },
    {
     "data": {
      "text/plain": "  0%|          | 0/40 [00:00<?, ?it/s]",
      "application/vnd.jupyter.widget-view+json": {
       "version_major": 2,
       "version_minor": 0,
       "model_id": "bae7ac9710be425ea44e011d0fc7e6d7"
      }
     },
     "metadata": {},
     "output_type": "display_data"
    },
    {
     "data": {
      "text/plain": "  0%|          | 0/40 [00:00<?, ?it/s]",
      "application/vnd.jupyter.widget-view+json": {
       "version_major": 2,
       "version_minor": 0,
       "model_id": "978d27418d0342b795ddde91b0a51115"
      }
     },
     "metadata": {},
     "output_type": "display_data"
    },
    {
     "data": {
      "text/plain": "  0%|          | 0/40 [00:00<?, ?it/s]",
      "application/vnd.jupyter.widget-view+json": {
       "version_major": 2,
       "version_minor": 0,
       "model_id": "aac452dd18eb4b65b65376571a87e1cf"
      }
     },
     "metadata": {},
     "output_type": "display_data"
    },
    {
     "data": {
      "text/plain": "  0%|          | 0/40 [00:00<?, ?it/s]",
      "application/vnd.jupyter.widget-view+json": {
       "version_major": 2,
       "version_minor": 0,
       "model_id": "74b355c685ef4773b49041cc23a02f41"
      }
     },
     "metadata": {},
     "output_type": "display_data"
    },
    {
     "data": {
      "text/plain": "  0%|          | 0/40 [00:00<?, ?it/s]",
      "application/vnd.jupyter.widget-view+json": {
       "version_major": 2,
       "version_minor": 0,
       "model_id": "cd5999ad151541b4bb6952839bc3469e"
      }
     },
     "metadata": {},
     "output_type": "display_data"
    },
    {
     "data": {
      "text/plain": "  0%|          | 0/40 [00:00<?, ?it/s]",
      "application/vnd.jupyter.widget-view+json": {
       "version_major": 2,
       "version_minor": 0,
       "model_id": "c4a100837ed14f9bbac7daf48e1e7c21"
      }
     },
     "metadata": {},
     "output_type": "display_data"
    },
    {
     "data": {
      "text/plain": "  0%|          | 0/40 [00:00<?, ?it/s]",
      "application/vnd.jupyter.widget-view+json": {
       "version_major": 2,
       "version_minor": 0,
       "model_id": "a526765166ff4a33957aa15c5c4b7f9e"
      }
     },
     "metadata": {},
     "output_type": "display_data"
    },
    {
     "data": {
      "text/plain": "  0%|          | 0/40 [00:00<?, ?it/s]",
      "application/vnd.jupyter.widget-view+json": {
       "version_major": 2,
       "version_minor": 0,
       "model_id": "e9be54fe192e4a80b70ab21bc66d92c0"
      }
     },
     "metadata": {},
     "output_type": "display_data"
    },
    {
     "data": {
      "text/plain": "  0%|          | 0/40 [00:00<?, ?it/s]",
      "application/vnd.jupyter.widget-view+json": {
       "version_major": 2,
       "version_minor": 0,
       "model_id": "34d5bf5a120d4c27820f516ba09ad24c"
      }
     },
     "metadata": {},
     "output_type": "display_data"
    },
    {
     "data": {
      "text/plain": "  0%|          | 0/40 [00:00<?, ?it/s]",
      "application/vnd.jupyter.widget-view+json": {
       "version_major": 2,
       "version_minor": 0,
       "model_id": "9bc9d2f621e4493098cf437355cdf640"
      }
     },
     "metadata": {},
     "output_type": "display_data"
    },
    {
     "data": {
      "text/plain": "  0%|          | 0/40 [00:00<?, ?it/s]",
      "application/vnd.jupyter.widget-view+json": {
       "version_major": 2,
       "version_minor": 0,
       "model_id": "b0eafa1a8bd9406288e80aac492bd844"
      }
     },
     "metadata": {},
     "output_type": "display_data"
    },
    {
     "data": {
      "text/plain": "  0%|          | 0/40 [00:00<?, ?it/s]",
      "application/vnd.jupyter.widget-view+json": {
       "version_major": 2,
       "version_minor": 0,
       "model_id": "0acb7ba06a3d40489caaf77e05025044"
      }
     },
     "metadata": {},
     "output_type": "display_data"
    },
    {
     "data": {
      "text/plain": "  0%|          | 0/40 [00:00<?, ?it/s]",
      "application/vnd.jupyter.widget-view+json": {
       "version_major": 2,
       "version_minor": 0,
       "model_id": "eb00465cad894f4494d84b7498b76759"
      }
     },
     "metadata": {},
     "output_type": "display_data"
    },
    {
     "data": {
      "text/plain": "  0%|          | 0/40 [00:00<?, ?it/s]",
      "application/vnd.jupyter.widget-view+json": {
       "version_major": 2,
       "version_minor": 0,
       "model_id": "639049ac151e4d1e872456f9541a9754"
      }
     },
     "metadata": {},
     "output_type": "display_data"
    },
    {
     "data": {
      "text/plain": "  0%|          | 0/40 [00:00<?, ?it/s]",
      "application/vnd.jupyter.widget-view+json": {
       "version_major": 2,
       "version_minor": 0,
       "model_id": "401bfd7feb4c45a9a74052f2f92c4399"
      }
     },
     "metadata": {},
     "output_type": "display_data"
    },
    {
     "data": {
      "text/plain": "  0%|          | 0/40 [00:00<?, ?it/s]",
      "application/vnd.jupyter.widget-view+json": {
       "version_major": 2,
       "version_minor": 0,
       "model_id": "d286649f23184f2fbc9f3ca442b7901a"
      }
     },
     "metadata": {},
     "output_type": "display_data"
    },
    {
     "data": {
      "text/plain": "  0%|          | 0/40 [00:00<?, ?it/s]",
      "application/vnd.jupyter.widget-view+json": {
       "version_major": 2,
       "version_minor": 0,
       "model_id": "ea937883789046f19ad85d59f44a07d7"
      }
     },
     "metadata": {},
     "output_type": "display_data"
    },
    {
     "data": {
      "text/plain": "  0%|          | 0/40 [00:00<?, ?it/s]",
      "application/vnd.jupyter.widget-view+json": {
       "version_major": 2,
       "version_minor": 0,
       "model_id": "43d3f5dd50074ec692d2a10fdff26b9f"
      }
     },
     "metadata": {},
     "output_type": "display_data"
    },
    {
     "data": {
      "text/plain": "  0%|          | 0/40 [00:00<?, ?it/s]",
      "application/vnd.jupyter.widget-view+json": {
       "version_major": 2,
       "version_minor": 0,
       "model_id": "284d3942bc27467ba54803c72e0aea75"
      }
     },
     "metadata": {},
     "output_type": "display_data"
    },
    {
     "data": {
      "text/plain": "  0%|          | 0/40 [00:00<?, ?it/s]",
      "application/vnd.jupyter.widget-view+json": {
       "version_major": 2,
       "version_minor": 0,
       "model_id": "84b10f9a8ab34685810340d9646b2258"
      }
     },
     "metadata": {},
     "output_type": "display_data"
    },
    {
     "data": {
      "text/plain": "  0%|          | 0/40 [00:00<?, ?it/s]",
      "application/vnd.jupyter.widget-view+json": {
       "version_major": 2,
       "version_minor": 0,
       "model_id": "4f1c172a460b4bb998e8837d2db7203a"
      }
     },
     "metadata": {},
     "output_type": "display_data"
    },
    {
     "data": {
      "text/plain": "  0%|          | 0/40 [00:00<?, ?it/s]",
      "application/vnd.jupyter.widget-view+json": {
       "version_major": 2,
       "version_minor": 0,
       "model_id": "de6d1687bdab4268b7ce4cedca11a0f3"
      }
     },
     "metadata": {},
     "output_type": "display_data"
    },
    {
     "data": {
      "text/plain": "  0%|          | 0/40 [00:00<?, ?it/s]",
      "application/vnd.jupyter.widget-view+json": {
       "version_major": 2,
       "version_minor": 0,
       "model_id": "78628bb8e19544aea302aa8eb8380467"
      }
     },
     "metadata": {},
     "output_type": "display_data"
    },
    {
     "data": {
      "text/plain": "  0%|          | 0/40 [00:00<?, ?it/s]",
      "application/vnd.jupyter.widget-view+json": {
       "version_major": 2,
       "version_minor": 0,
       "model_id": "d40842ea3b4f4e6a8e7269df6c8ad93d"
      }
     },
     "metadata": {},
     "output_type": "display_data"
    },
    {
     "data": {
      "text/plain": "  0%|          | 0/40 [00:00<?, ?it/s]",
      "application/vnd.jupyter.widget-view+json": {
       "version_major": 2,
       "version_minor": 0,
       "model_id": "d203188ec583481dabfbb5596dfdf37d"
      }
     },
     "metadata": {},
     "output_type": "display_data"
    },
    {
     "data": {
      "text/plain": "  0%|          | 0/40 [00:00<?, ?it/s]",
      "application/vnd.jupyter.widget-view+json": {
       "version_major": 2,
       "version_minor": 0,
       "model_id": "f8071cb0489e4842957d82f3f4d3fbcd"
      }
     },
     "metadata": {},
     "output_type": "display_data"
    },
    {
     "data": {
      "text/plain": "  0%|          | 0/40 [00:00<?, ?it/s]",
      "application/vnd.jupyter.widget-view+json": {
       "version_major": 2,
       "version_minor": 0,
       "model_id": "ee32d0b17c9740209b44c7d014fd60c7"
      }
     },
     "metadata": {},
     "output_type": "display_data"
    },
    {
     "data": {
      "text/plain": "  0%|          | 0/40 [00:00<?, ?it/s]",
      "application/vnd.jupyter.widget-view+json": {
       "version_major": 2,
       "version_minor": 0,
       "model_id": "a8511a9c1b2649d1ad20558521e1ca77"
      }
     },
     "metadata": {},
     "output_type": "display_data"
    },
    {
     "data": {
      "text/plain": "  0%|          | 0/40 [00:00<?, ?it/s]",
      "application/vnd.jupyter.widget-view+json": {
       "version_major": 2,
       "version_minor": 0,
       "model_id": "8e84e8ffb77d41d49e1a32ec89ae0c1e"
      }
     },
     "metadata": {},
     "output_type": "display_data"
    },
    {
     "data": {
      "text/plain": "  0%|          | 0/40 [00:00<?, ?it/s]",
      "application/vnd.jupyter.widget-view+json": {
       "version_major": 2,
       "version_minor": 0,
       "model_id": "bc5f7b1acaa84088b697fd3b6e0ccca1"
      }
     },
     "metadata": {},
     "output_type": "display_data"
    },
    {
     "data": {
      "text/plain": "  0%|          | 0/40 [00:00<?, ?it/s]",
      "application/vnd.jupyter.widget-view+json": {
       "version_major": 2,
       "version_minor": 0,
       "model_id": "f7d4f8246ee242039de3786cfe1232e6"
      }
     },
     "metadata": {},
     "output_type": "display_data"
    },
    {
     "data": {
      "text/plain": "  0%|          | 0/40 [00:00<?, ?it/s]",
      "application/vnd.jupyter.widget-view+json": {
       "version_major": 2,
       "version_minor": 0,
       "model_id": "b901e2fe317f403d84ac2ed4dd904851"
      }
     },
     "metadata": {},
     "output_type": "display_data"
    },
    {
     "data": {
      "text/plain": "  0%|          | 0/40 [00:00<?, ?it/s]",
      "application/vnd.jupyter.widget-view+json": {
       "version_major": 2,
       "version_minor": 0,
       "model_id": "939212cc37f4415fad65afbb55e304b0"
      }
     },
     "metadata": {},
     "output_type": "display_data"
    },
    {
     "data": {
      "text/plain": "  0%|          | 0/40 [00:00<?, ?it/s]",
      "application/vnd.jupyter.widget-view+json": {
       "version_major": 2,
       "version_minor": 0,
       "model_id": "5f7310da8a194952ab1bb016c5f2bcca"
      }
     },
     "metadata": {},
     "output_type": "display_data"
    },
    {
     "data": {
      "text/plain": "  0%|          | 0/40 [00:00<?, ?it/s]",
      "application/vnd.jupyter.widget-view+json": {
       "version_major": 2,
       "version_minor": 0,
       "model_id": "ace81bad7fcf43158f9bb7d72c2e2504"
      }
     },
     "metadata": {},
     "output_type": "display_data"
    },
    {
     "data": {
      "text/plain": "  0%|          | 0/40 [00:00<?, ?it/s]",
      "application/vnd.jupyter.widget-view+json": {
       "version_major": 2,
       "version_minor": 0,
       "model_id": "7ec3b17e48e747c490ffbe23469c91f8"
      }
     },
     "metadata": {},
     "output_type": "display_data"
    },
    {
     "data": {
      "text/plain": "  0%|          | 0/40 [00:00<?, ?it/s]",
      "application/vnd.jupyter.widget-view+json": {
       "version_major": 2,
       "version_minor": 0,
       "model_id": "611247cb0fca490cb3829c452cb5a14d"
      }
     },
     "metadata": {},
     "output_type": "display_data"
    },
    {
     "data": {
      "text/plain": "  0%|          | 0/40 [00:00<?, ?it/s]",
      "application/vnd.jupyter.widget-view+json": {
       "version_major": 2,
       "version_minor": 0,
       "model_id": "d9fc3958470d47698081d09f82d15f85"
      }
     },
     "metadata": {},
     "output_type": "display_data"
    },
    {
     "data": {
      "text/plain": "  0%|          | 0/40 [00:00<?, ?it/s]",
      "application/vnd.jupyter.widget-view+json": {
       "version_major": 2,
       "version_minor": 0,
       "model_id": "aa533fe1eb234649afd5f5cb999e3342"
      }
     },
     "metadata": {},
     "output_type": "display_data"
    },
    {
     "data": {
      "text/plain": "  0%|          | 0/40 [00:00<?, ?it/s]",
      "application/vnd.jupyter.widget-view+json": {
       "version_major": 2,
       "version_minor": 0,
       "model_id": "d1d04283631046ba829655896128d73d"
      }
     },
     "metadata": {},
     "output_type": "display_data"
    },
    {
     "data": {
      "text/plain": "  0%|          | 0/40 [00:00<?, ?it/s]",
      "application/vnd.jupyter.widget-view+json": {
       "version_major": 2,
       "version_minor": 0,
       "model_id": "cf2613209bcf4e6095778ea1273aef5a"
      }
     },
     "metadata": {},
     "output_type": "display_data"
    },
    {
     "data": {
      "text/plain": "  0%|          | 0/40 [00:00<?, ?it/s]",
      "application/vnd.jupyter.widget-view+json": {
       "version_major": 2,
       "version_minor": 0,
       "model_id": "20cb320a5ea14d5b9e8e6de02e90242a"
      }
     },
     "metadata": {},
     "output_type": "display_data"
    },
    {
     "data": {
      "text/plain": "  0%|          | 0/40 [00:00<?, ?it/s]",
      "application/vnd.jupyter.widget-view+json": {
       "version_major": 2,
       "version_minor": 0,
       "model_id": "aaa57420e62748f5ba40e9798ec02283"
      }
     },
     "metadata": {},
     "output_type": "display_data"
    },
    {
     "data": {
      "text/plain": "  0%|          | 0/40 [00:00<?, ?it/s]",
      "application/vnd.jupyter.widget-view+json": {
       "version_major": 2,
       "version_minor": 0,
       "model_id": "fe90f7fdea2c4143b257b6df28e7d4e7"
      }
     },
     "metadata": {},
     "output_type": "display_data"
    },
    {
     "data": {
      "text/plain": "  0%|          | 0/40 [00:00<?, ?it/s]",
      "application/vnd.jupyter.widget-view+json": {
       "version_major": 2,
       "version_minor": 0,
       "model_id": "ee43f1ec8e8c46d9a9dd5a8c6fe7e819"
      }
     },
     "metadata": {},
     "output_type": "display_data"
    },
    {
     "data": {
      "text/plain": "  0%|          | 0/40 [00:00<?, ?it/s]",
      "application/vnd.jupyter.widget-view+json": {
       "version_major": 2,
       "version_minor": 0,
       "model_id": "b9e6d64221d743818ba32afa5ca43439"
      }
     },
     "metadata": {},
     "output_type": "display_data"
    },
    {
     "data": {
      "text/plain": "  0%|          | 0/40 [00:00<?, ?it/s]",
      "application/vnd.jupyter.widget-view+json": {
       "version_major": 2,
       "version_minor": 0,
       "model_id": "95c12ac29da044adabc26385d019f364"
      }
     },
     "metadata": {},
     "output_type": "display_data"
    },
    {
     "data": {
      "text/plain": "  0%|          | 0/40 [00:00<?, ?it/s]",
      "application/vnd.jupyter.widget-view+json": {
       "version_major": 2,
       "version_minor": 0,
       "model_id": "0399643652784cc5bf6b39a82f52fa8f"
      }
     },
     "metadata": {},
     "output_type": "display_data"
    },
    {
     "data": {
      "text/plain": "  0%|          | 0/40 [00:00<?, ?it/s]",
      "application/vnd.jupyter.widget-view+json": {
       "version_major": 2,
       "version_minor": 0,
       "model_id": "f7c6824bffb2485c856d4cb7d5e3d089"
      }
     },
     "metadata": {},
     "output_type": "display_data"
    },
    {
     "data": {
      "text/plain": "  0%|          | 0/40 [00:00<?, ?it/s]",
      "application/vnd.jupyter.widget-view+json": {
       "version_major": 2,
       "version_minor": 0,
       "model_id": "44b1f21d3cb3491eac9c26cd34ca5642"
      }
     },
     "metadata": {},
     "output_type": "display_data"
    },
    {
     "data": {
      "text/plain": "  0%|          | 0/40 [00:00<?, ?it/s]",
      "application/vnd.jupyter.widget-view+json": {
       "version_major": 2,
       "version_minor": 0,
       "model_id": "f5c3d5ca8bfb4461be9d3b6fbed1fb27"
      }
     },
     "metadata": {},
     "output_type": "display_data"
    },
    {
     "data": {
      "text/plain": "  0%|          | 0/40 [00:00<?, ?it/s]",
      "application/vnd.jupyter.widget-view+json": {
       "version_major": 2,
       "version_minor": 0,
       "model_id": "33f61ae3ac7b4d0a98935c9edc8b8389"
      }
     },
     "metadata": {},
     "output_type": "display_data"
    },
    {
     "data": {
      "text/plain": "  0%|          | 0/40 [00:00<?, ?it/s]",
      "application/vnd.jupyter.widget-view+json": {
       "version_major": 2,
       "version_minor": 0,
       "model_id": "df5eb442de2042318b50b4abd97b2864"
      }
     },
     "metadata": {},
     "output_type": "display_data"
    },
    {
     "data": {
      "text/plain": "  0%|          | 0/40 [00:00<?, ?it/s]",
      "application/vnd.jupyter.widget-view+json": {
       "version_major": 2,
       "version_minor": 0,
       "model_id": "60a5c2b8739d4b8292e9fdcf26736801"
      }
     },
     "metadata": {},
     "output_type": "display_data"
    },
    {
     "data": {
      "text/plain": "  0%|          | 0/40 [00:00<?, ?it/s]",
      "application/vnd.jupyter.widget-view+json": {
       "version_major": 2,
       "version_minor": 0,
       "model_id": "72f4670a56ed4b278d08f4d818ea1d5e"
      }
     },
     "metadata": {},
     "output_type": "display_data"
    },
    {
     "data": {
      "text/plain": "  0%|          | 0/40 [00:00<?, ?it/s]",
      "application/vnd.jupyter.widget-view+json": {
       "version_major": 2,
       "version_minor": 0,
       "model_id": "e480fa77d9a6433c891c8e2ab65a1ef5"
      }
     },
     "metadata": {},
     "output_type": "display_data"
    },
    {
     "data": {
      "text/plain": "  0%|          | 0/40 [00:00<?, ?it/s]",
      "application/vnd.jupyter.widget-view+json": {
       "version_major": 2,
       "version_minor": 0,
       "model_id": "2e00bcc1868042d38fa09a07a3d0577c"
      }
     },
     "metadata": {},
     "output_type": "display_data"
    },
    {
     "data": {
      "text/plain": "  0%|          | 0/40 [00:00<?, ?it/s]",
      "application/vnd.jupyter.widget-view+json": {
       "version_major": 2,
       "version_minor": 0,
       "model_id": "b45dea95954341d99a8137c752161c3f"
      }
     },
     "metadata": {},
     "output_type": "display_data"
    },
    {
     "data": {
      "text/plain": "  0%|          | 0/40 [00:00<?, ?it/s]",
      "application/vnd.jupyter.widget-view+json": {
       "version_major": 2,
       "version_minor": 0,
       "model_id": "db7427cbbb404f7fb03505ea38176185"
      }
     },
     "metadata": {},
     "output_type": "display_data"
    },
    {
     "data": {
      "text/plain": "  0%|          | 0/40 [00:00<?, ?it/s]",
      "application/vnd.jupyter.widget-view+json": {
       "version_major": 2,
       "version_minor": 0,
       "model_id": "06cf3e30551e41d3b304b077d710ef1c"
      }
     },
     "metadata": {},
     "output_type": "display_data"
    },
    {
     "data": {
      "text/plain": "  0%|          | 0/40 [00:00<?, ?it/s]",
      "application/vnd.jupyter.widget-view+json": {
       "version_major": 2,
       "version_minor": 0,
       "model_id": "b3e6820974fb4ee4bbf978d64e8884f3"
      }
     },
     "metadata": {},
     "output_type": "display_data"
    },
    {
     "data": {
      "text/plain": "  0%|          | 0/40 [00:00<?, ?it/s]",
      "application/vnd.jupyter.widget-view+json": {
       "version_major": 2,
       "version_minor": 0,
       "model_id": "76f8ec3858bf43bb8203eba777391dda"
      }
     },
     "metadata": {},
     "output_type": "display_data"
    },
    {
     "data": {
      "text/plain": "  0%|          | 0/40 [00:00<?, ?it/s]",
      "application/vnd.jupyter.widget-view+json": {
       "version_major": 2,
       "version_minor": 0,
       "model_id": "915b876763dc44a0be0e2e1681f642f3"
      }
     },
     "metadata": {},
     "output_type": "display_data"
    },
    {
     "data": {
      "text/plain": "  0%|          | 0/40 [00:00<?, ?it/s]",
      "application/vnd.jupyter.widget-view+json": {
       "version_major": 2,
       "version_minor": 0,
       "model_id": "6ad8c84ef34145d8b0f3f773107e9fa8"
      }
     },
     "metadata": {},
     "output_type": "display_data"
    },
    {
     "data": {
      "text/plain": "  0%|          | 0/40 [00:00<?, ?it/s]",
      "application/vnd.jupyter.widget-view+json": {
       "version_major": 2,
       "version_minor": 0,
       "model_id": "aa929fbd2bfd4264bb064eb15c51b359"
      }
     },
     "metadata": {},
     "output_type": "display_data"
    },
    {
     "data": {
      "text/plain": "  0%|          | 0/40 [00:00<?, ?it/s]",
      "application/vnd.jupyter.widget-view+json": {
       "version_major": 2,
       "version_minor": 0,
       "model_id": "5ef57543fe474f2e89f0191b9fbea582"
      }
     },
     "metadata": {},
     "output_type": "display_data"
    },
    {
     "data": {
      "text/plain": "  0%|          | 0/40 [00:00<?, ?it/s]",
      "application/vnd.jupyter.widget-view+json": {
       "version_major": 2,
       "version_minor": 0,
       "model_id": "8f55496f37344c0d835ef7908e8396b9"
      }
     },
     "metadata": {},
     "output_type": "display_data"
    },
    {
     "data": {
      "text/plain": "  0%|          | 0/40 [00:00<?, ?it/s]",
      "application/vnd.jupyter.widget-view+json": {
       "version_major": 2,
       "version_minor": 0,
       "model_id": "4046e7f571274cfab5fd90827cb2caaa"
      }
     },
     "metadata": {},
     "output_type": "display_data"
    },
    {
     "data": {
      "text/plain": "  0%|          | 0/40 [00:00<?, ?it/s]",
      "application/vnd.jupyter.widget-view+json": {
       "version_major": 2,
       "version_minor": 0,
       "model_id": "c6df87047ac741d6bf154abc3d1b6ea9"
      }
     },
     "metadata": {},
     "output_type": "display_data"
    },
    {
     "data": {
      "text/plain": "  0%|          | 0/40 [00:00<?, ?it/s]",
      "application/vnd.jupyter.widget-view+json": {
       "version_major": 2,
       "version_minor": 0,
       "model_id": "ceb4bfb7f99d4f2c8ddf6cb7719c5d36"
      }
     },
     "metadata": {},
     "output_type": "display_data"
    },
    {
     "data": {
      "text/plain": "  0%|          | 0/40 [00:00<?, ?it/s]",
      "application/vnd.jupyter.widget-view+json": {
       "version_major": 2,
       "version_minor": 0,
       "model_id": "7ef767b158604fdd9217c8d100684884"
      }
     },
     "metadata": {},
     "output_type": "display_data"
    },
    {
     "data": {
      "text/plain": "  0%|          | 0/40 [00:00<?, ?it/s]",
      "application/vnd.jupyter.widget-view+json": {
       "version_major": 2,
       "version_minor": 0,
       "model_id": "7ea7e1a2510b42458c9e49b8fb2f9b09"
      }
     },
     "metadata": {},
     "output_type": "display_data"
    },
    {
     "data": {
      "text/plain": "  0%|          | 0/40 [00:00<?, ?it/s]",
      "application/vnd.jupyter.widget-view+json": {
       "version_major": 2,
       "version_minor": 0,
       "model_id": "65173c8da2e84519b98ac54333d7166f"
      }
     },
     "metadata": {},
     "output_type": "display_data"
    },
    {
     "data": {
      "text/plain": "  0%|          | 0/40 [00:00<?, ?it/s]",
      "application/vnd.jupyter.widget-view+json": {
       "version_major": 2,
       "version_minor": 0,
       "model_id": "01f46510551841d8abae412cf0251d00"
      }
     },
     "metadata": {},
     "output_type": "display_data"
    },
    {
     "data": {
      "text/plain": "  0%|          | 0/40 [00:00<?, ?it/s]",
      "application/vnd.jupyter.widget-view+json": {
       "version_major": 2,
       "version_minor": 0,
       "model_id": "d386385bf23e4622956cc1950b5a4446"
      }
     },
     "metadata": {},
     "output_type": "display_data"
    },
    {
     "data": {
      "text/plain": "  0%|          | 0/40 [00:00<?, ?it/s]",
      "application/vnd.jupyter.widget-view+json": {
       "version_major": 2,
       "version_minor": 0,
       "model_id": "9b8c715b243a4caca8b2ccf6eb689d4b"
      }
     },
     "metadata": {},
     "output_type": "display_data"
    },
    {
     "data": {
      "text/plain": "  0%|          | 0/40 [00:00<?, ?it/s]",
      "application/vnd.jupyter.widget-view+json": {
       "version_major": 2,
       "version_minor": 0,
       "model_id": "8eadb6c080b846bfa41f6f89f41d1835"
      }
     },
     "metadata": {},
     "output_type": "display_data"
    },
    {
     "data": {
      "text/plain": "  0%|          | 0/40 [00:00<?, ?it/s]",
      "application/vnd.jupyter.widget-view+json": {
       "version_major": 2,
       "version_minor": 0,
       "model_id": "73e9fcaedb15456c8df5eba9c42eb39c"
      }
     },
     "metadata": {},
     "output_type": "display_data"
    },
    {
     "data": {
      "text/plain": "  0%|          | 0/40 [00:00<?, ?it/s]",
      "application/vnd.jupyter.widget-view+json": {
       "version_major": 2,
       "version_minor": 0,
       "model_id": "851948e15dcf421db3bcd8411f28e7d9"
      }
     },
     "metadata": {},
     "output_type": "display_data"
    },
    {
     "data": {
      "text/plain": "  0%|          | 0/40 [00:00<?, ?it/s]",
      "application/vnd.jupyter.widget-view+json": {
       "version_major": 2,
       "version_minor": 0,
       "model_id": "3ca3d06b4c544dfd9f40cf9ff42ea58b"
      }
     },
     "metadata": {},
     "output_type": "display_data"
    },
    {
     "data": {
      "text/plain": "  0%|          | 0/40 [00:00<?, ?it/s]",
      "application/vnd.jupyter.widget-view+json": {
       "version_major": 2,
       "version_minor": 0,
       "model_id": "c9aaf7e31b3f40999a3d5795c3807804"
      }
     },
     "metadata": {},
     "output_type": "display_data"
    },
    {
     "data": {
      "text/plain": "  0%|          | 0/40 [00:00<?, ?it/s]",
      "application/vnd.jupyter.widget-view+json": {
       "version_major": 2,
       "version_minor": 0,
       "model_id": "08148570c3d543f6855658ce2c353084"
      }
     },
     "metadata": {},
     "output_type": "display_data"
    },
    {
     "data": {
      "text/plain": "  0%|          | 0/40 [00:00<?, ?it/s]",
      "application/vnd.jupyter.widget-view+json": {
       "version_major": 2,
       "version_minor": 0,
       "model_id": "6bcc94fd87354753bf5e24f7ef9c7ff7"
      }
     },
     "metadata": {},
     "output_type": "display_data"
    },
    {
     "data": {
      "text/plain": "  0%|          | 0/40 [00:00<?, ?it/s]",
      "application/vnd.jupyter.widget-view+json": {
       "version_major": 2,
       "version_minor": 0,
       "model_id": "2555f14a3c624e7bbc004372edd8adc5"
      }
     },
     "metadata": {},
     "output_type": "display_data"
    },
    {
     "data": {
      "text/plain": "  0%|          | 0/40 [00:00<?, ?it/s]",
      "application/vnd.jupyter.widget-view+json": {
       "version_major": 2,
       "version_minor": 0,
       "model_id": "abcda091a152487c834eb7ae6e1a5f97"
      }
     },
     "metadata": {},
     "output_type": "display_data"
    },
    {
     "data": {
      "text/plain": "  0%|          | 0/40 [00:00<?, ?it/s]",
      "application/vnd.jupyter.widget-view+json": {
       "version_major": 2,
       "version_minor": 0,
       "model_id": "7dd49271e8484651b31f19b222b85cf2"
      }
     },
     "metadata": {},
     "output_type": "display_data"
    },
    {
     "data": {
      "text/plain": "  0%|          | 0/40 [00:00<?, ?it/s]",
      "application/vnd.jupyter.widget-view+json": {
       "version_major": 2,
       "version_minor": 0,
       "model_id": "9ce555c560ef49efac5c2666d35eb69e"
      }
     },
     "metadata": {},
     "output_type": "display_data"
    },
    {
     "data": {
      "text/plain": "  0%|          | 0/40 [00:00<?, ?it/s]",
      "application/vnd.jupyter.widget-view+json": {
       "version_major": 2,
       "version_minor": 0,
       "model_id": "780f07e85b3c4f509a97dbea56312709"
      }
     },
     "metadata": {},
     "output_type": "display_data"
    },
    {
     "data": {
      "text/plain": "  0%|          | 0/40 [00:00<?, ?it/s]",
      "application/vnd.jupyter.widget-view+json": {
       "version_major": 2,
       "version_minor": 0,
       "model_id": "9859ab6f450e44f583263c2f35c3c490"
      }
     },
     "metadata": {},
     "output_type": "display_data"
    },
    {
     "data": {
      "text/plain": "  0%|          | 0/40 [00:00<?, ?it/s]",
      "application/vnd.jupyter.widget-view+json": {
       "version_major": 2,
       "version_minor": 0,
       "model_id": "8b556539240c4352be5762b4ddea3493"
      }
     },
     "metadata": {},
     "output_type": "display_data"
    },
    {
     "data": {
      "text/plain": "  0%|          | 0/40 [00:00<?, ?it/s]",
      "application/vnd.jupyter.widget-view+json": {
       "version_major": 2,
       "version_minor": 0,
       "model_id": "edd0e8611a29446cb3257b6d55f56d5a"
      }
     },
     "metadata": {},
     "output_type": "display_data"
    },
    {
     "data": {
      "text/plain": "  0%|          | 0/40 [00:00<?, ?it/s]",
      "application/vnd.jupyter.widget-view+json": {
       "version_major": 2,
       "version_minor": 0,
       "model_id": "7104e41f13384645bfb9b89d66ce69d6"
      }
     },
     "metadata": {},
     "output_type": "display_data"
    },
    {
     "data": {
      "text/plain": "  0%|          | 0/40 [00:00<?, ?it/s]",
      "application/vnd.jupyter.widget-view+json": {
       "version_major": 2,
       "version_minor": 0,
       "model_id": "3ca7cc7056484078a7a3d8c4c4e9c723"
      }
     },
     "metadata": {},
     "output_type": "display_data"
    },
    {
     "data": {
      "text/plain": "  0%|          | 0/40 [00:00<?, ?it/s]",
      "application/vnd.jupyter.widget-view+json": {
       "version_major": 2,
       "version_minor": 0,
       "model_id": "b899a056ce02450ea49c930a0bc09d19"
      }
     },
     "metadata": {},
     "output_type": "display_data"
    },
    {
     "data": {
      "text/plain": "  0%|          | 0/40 [00:00<?, ?it/s]",
      "application/vnd.jupyter.widget-view+json": {
       "version_major": 2,
       "version_minor": 0,
       "model_id": "444b4bd1cb75476a9b1ad87c822eb0f5"
      }
     },
     "metadata": {},
     "output_type": "display_data"
    },
    {
     "data": {
      "text/plain": "  0%|          | 0/40 [00:00<?, ?it/s]",
      "application/vnd.jupyter.widget-view+json": {
       "version_major": 2,
       "version_minor": 0,
       "model_id": "8ab3fb348e4b45e795fa5ae9cac6556f"
      }
     },
     "metadata": {},
     "output_type": "display_data"
    },
    {
     "data": {
      "text/plain": "  0%|          | 0/40 [00:00<?, ?it/s]",
      "application/vnd.jupyter.widget-view+json": {
       "version_major": 2,
       "version_minor": 0,
       "model_id": "26013c70f77c426bad892eb7eebcbceb"
      }
     },
     "metadata": {},
     "output_type": "display_data"
    },
    {
     "data": {
      "text/plain": "  0%|          | 0/40 [00:00<?, ?it/s]",
      "application/vnd.jupyter.widget-view+json": {
       "version_major": 2,
       "version_minor": 0,
       "model_id": "65d133398a9f4407aae1e675a1066dd1"
      }
     },
     "metadata": {},
     "output_type": "display_data"
    },
    {
     "data": {
      "text/plain": "  0%|          | 0/40 [00:00<?, ?it/s]",
      "application/vnd.jupyter.widget-view+json": {
       "version_major": 2,
       "version_minor": 0,
       "model_id": "553ad5db7148456dbb935b7f48a878e4"
      }
     },
     "metadata": {},
     "output_type": "display_data"
    },
    {
     "data": {
      "text/plain": "  0%|          | 0/40 [00:00<?, ?it/s]",
      "application/vnd.jupyter.widget-view+json": {
       "version_major": 2,
       "version_minor": 0,
       "model_id": "93419ddb1a4c49d2a9d51ad5ddbca96f"
      }
     },
     "metadata": {},
     "output_type": "display_data"
    },
    {
     "data": {
      "text/plain": "  0%|          | 0/40 [00:00<?, ?it/s]",
      "application/vnd.jupyter.widget-view+json": {
       "version_major": 2,
       "version_minor": 0,
       "model_id": "4fcf81061fbd42a7bc0159fe6db44cc4"
      }
     },
     "metadata": {},
     "output_type": "display_data"
    },
    {
     "data": {
      "text/plain": "  0%|          | 0/40 [00:00<?, ?it/s]",
      "application/vnd.jupyter.widget-view+json": {
       "version_major": 2,
       "version_minor": 0,
       "model_id": "fe9f5e288c0a4bf59241db0f174d259e"
      }
     },
     "metadata": {},
     "output_type": "display_data"
    },
    {
     "data": {
      "text/plain": "  0%|          | 0/40 [00:00<?, ?it/s]",
      "application/vnd.jupyter.widget-view+json": {
       "version_major": 2,
       "version_minor": 0,
       "model_id": "1473e4397e9e44ba9f7127b7466f1bae"
      }
     },
     "metadata": {},
     "output_type": "display_data"
    },
    {
     "data": {
      "text/plain": "  0%|          | 0/40 [00:00<?, ?it/s]",
      "application/vnd.jupyter.widget-view+json": {
       "version_major": 2,
       "version_minor": 0,
       "model_id": "f5ea023825d9414291f204c25bf1f800"
      }
     },
     "metadata": {},
     "output_type": "display_data"
    },
    {
     "data": {
      "text/plain": "  0%|          | 0/40 [00:00<?, ?it/s]",
      "application/vnd.jupyter.widget-view+json": {
       "version_major": 2,
       "version_minor": 0,
       "model_id": "5e8e34562627470b9fca04ba8b65e107"
      }
     },
     "metadata": {},
     "output_type": "display_data"
    },
    {
     "data": {
      "text/plain": "  0%|          | 0/40 [00:00<?, ?it/s]",
      "application/vnd.jupyter.widget-view+json": {
       "version_major": 2,
       "version_minor": 0,
       "model_id": "27d81efb66ff4659b60d53c27c1d446b"
      }
     },
     "metadata": {},
     "output_type": "display_data"
    },
    {
     "data": {
      "text/plain": "  0%|          | 0/40 [00:00<?, ?it/s]",
      "application/vnd.jupyter.widget-view+json": {
       "version_major": 2,
       "version_minor": 0,
       "model_id": "062c6a844be64418b00b0885839ae6ff"
      }
     },
     "metadata": {},
     "output_type": "display_data"
    },
    {
     "data": {
      "text/plain": "  0%|          | 0/40 [00:00<?, ?it/s]",
      "application/vnd.jupyter.widget-view+json": {
       "version_major": 2,
       "version_minor": 0,
       "model_id": "c5383516b66d4a80883c4bf32de1b630"
      }
     },
     "metadata": {},
     "output_type": "display_data"
    },
    {
     "data": {
      "text/plain": "  0%|          | 0/40 [00:00<?, ?it/s]",
      "application/vnd.jupyter.widget-view+json": {
       "version_major": 2,
       "version_minor": 0,
       "model_id": "1b9b4eb3728f44e498aa62654535588c"
      }
     },
     "metadata": {},
     "output_type": "display_data"
    },
    {
     "data": {
      "text/plain": "  0%|          | 0/40 [00:00<?, ?it/s]",
      "application/vnd.jupyter.widget-view+json": {
       "version_major": 2,
       "version_minor": 0,
       "model_id": "e4a3eadb2ab3463b8354a61c9d4df96a"
      }
     },
     "metadata": {},
     "output_type": "display_data"
    },
    {
     "data": {
      "text/plain": "  0%|          | 0/40 [00:00<?, ?it/s]",
      "application/vnd.jupyter.widget-view+json": {
       "version_major": 2,
       "version_minor": 0,
       "model_id": "ef47eb77b9f4427dbc173e11a880bc1d"
      }
     },
     "metadata": {},
     "output_type": "display_data"
    },
    {
     "data": {
      "text/plain": "  0%|          | 0/40 [00:00<?, ?it/s]",
      "application/vnd.jupyter.widget-view+json": {
       "version_major": 2,
       "version_minor": 0,
       "model_id": "a1a54e19e1c14f678e67b871c26d11b9"
      }
     },
     "metadata": {},
     "output_type": "display_data"
    },
    {
     "data": {
      "text/plain": "  0%|          | 0/40 [00:00<?, ?it/s]",
      "application/vnd.jupyter.widget-view+json": {
       "version_major": 2,
       "version_minor": 0,
       "model_id": "f847eae7b762478ebefad612633074dc"
      }
     },
     "metadata": {},
     "output_type": "display_data"
    },
    {
     "data": {
      "text/plain": "  0%|          | 0/40 [00:00<?, ?it/s]",
      "application/vnd.jupyter.widget-view+json": {
       "version_major": 2,
       "version_minor": 0,
       "model_id": "1070b2f3191c4bc18afd53ba5bd2558a"
      }
     },
     "metadata": {},
     "output_type": "display_data"
    },
    {
     "data": {
      "text/plain": "  0%|          | 0/40 [00:00<?, ?it/s]",
      "application/vnd.jupyter.widget-view+json": {
       "version_major": 2,
       "version_minor": 0,
       "model_id": "58a8df9e27344c23a2565df8940bc991"
      }
     },
     "metadata": {},
     "output_type": "display_data"
    },
    {
     "data": {
      "text/plain": "  0%|          | 0/40 [00:00<?, ?it/s]",
      "application/vnd.jupyter.widget-view+json": {
       "version_major": 2,
       "version_minor": 0,
       "model_id": "3acf5a4868d8414b951d655cc28819a5"
      }
     },
     "metadata": {},
     "output_type": "display_data"
    },
    {
     "data": {
      "text/plain": "  0%|          | 0/40 [00:00<?, ?it/s]",
      "application/vnd.jupyter.widget-view+json": {
       "version_major": 2,
       "version_minor": 0,
       "model_id": "3cd9c86ca6ca4fe1869362b6d34d730e"
      }
     },
     "metadata": {},
     "output_type": "display_data"
    },
    {
     "data": {
      "text/plain": "  0%|          | 0/40 [00:00<?, ?it/s]",
      "application/vnd.jupyter.widget-view+json": {
       "version_major": 2,
       "version_minor": 0,
       "model_id": "5c8fd6f097234c9d853da34f7bfce865"
      }
     },
     "metadata": {},
     "output_type": "display_data"
    },
    {
     "data": {
      "text/plain": "  0%|          | 0/40 [00:00<?, ?it/s]",
      "application/vnd.jupyter.widget-view+json": {
       "version_major": 2,
       "version_minor": 0,
       "model_id": "1d2b0d5a31374047812efef3aff6ef4c"
      }
     },
     "metadata": {},
     "output_type": "display_data"
    },
    {
     "data": {
      "text/plain": "  0%|          | 0/40 [00:00<?, ?it/s]",
      "application/vnd.jupyter.widget-view+json": {
       "version_major": 2,
       "version_minor": 0,
       "model_id": "4131b58797ef4fd68ae7a2473350ec1c"
      }
     },
     "metadata": {},
     "output_type": "display_data"
    },
    {
     "data": {
      "text/plain": "  0%|          | 0/40 [00:00<?, ?it/s]",
      "application/vnd.jupyter.widget-view+json": {
       "version_major": 2,
       "version_minor": 0,
       "model_id": "b571725e620545259851f814ec7c4ee4"
      }
     },
     "metadata": {},
     "output_type": "display_data"
    },
    {
     "data": {
      "text/plain": "  0%|          | 0/40 [00:00<?, ?it/s]",
      "application/vnd.jupyter.widget-view+json": {
       "version_major": 2,
       "version_minor": 0,
       "model_id": "8f113baf203d44518c14a41f9401d287"
      }
     },
     "metadata": {},
     "output_type": "display_data"
    },
    {
     "data": {
      "text/plain": "  0%|          | 0/40 [00:00<?, ?it/s]",
      "application/vnd.jupyter.widget-view+json": {
       "version_major": 2,
       "version_minor": 0,
       "model_id": "ef21e88679364071a6bfa9cadf008436"
      }
     },
     "metadata": {},
     "output_type": "display_data"
    },
    {
     "data": {
      "text/plain": "  0%|          | 0/40 [00:00<?, ?it/s]",
      "application/vnd.jupyter.widget-view+json": {
       "version_major": 2,
       "version_minor": 0,
       "model_id": "f429d9079c6646b9aeb97219f67c0e44"
      }
     },
     "metadata": {},
     "output_type": "display_data"
    },
    {
     "data": {
      "text/plain": "  0%|          | 0/40 [00:00<?, ?it/s]",
      "application/vnd.jupyter.widget-view+json": {
       "version_major": 2,
       "version_minor": 0,
       "model_id": "b270860649ab4166903ead3344c342c7"
      }
     },
     "metadata": {},
     "output_type": "display_data"
    },
    {
     "data": {
      "text/plain": "  0%|          | 0/40 [00:00<?, ?it/s]",
      "application/vnd.jupyter.widget-view+json": {
       "version_major": 2,
       "version_minor": 0,
       "model_id": "454fbfeb03fc41768309f59ae35d7743"
      }
     },
     "metadata": {},
     "output_type": "display_data"
    },
    {
     "data": {
      "text/plain": "  0%|          | 0/40 [00:00<?, ?it/s]",
      "application/vnd.jupyter.widget-view+json": {
       "version_major": 2,
       "version_minor": 0,
       "model_id": "9dd3e062a69044849d0db4a89b9e50eb"
      }
     },
     "metadata": {},
     "output_type": "display_data"
    },
    {
     "data": {
      "text/plain": "  0%|          | 0/40 [00:00<?, ?it/s]",
      "application/vnd.jupyter.widget-view+json": {
       "version_major": 2,
       "version_minor": 0,
       "model_id": "3fac6e15df9a42679a634975f95fe856"
      }
     },
     "metadata": {},
     "output_type": "display_data"
    },
    {
     "data": {
      "text/plain": "  0%|          | 0/40 [00:00<?, ?it/s]",
      "application/vnd.jupyter.widget-view+json": {
       "version_major": 2,
       "version_minor": 0,
       "model_id": "e4b7459affcc4fb59a2d09401151e857"
      }
     },
     "metadata": {},
     "output_type": "display_data"
    },
    {
     "data": {
      "text/plain": "  0%|          | 0/40 [00:00<?, ?it/s]",
      "application/vnd.jupyter.widget-view+json": {
       "version_major": 2,
       "version_minor": 0,
       "model_id": "69ff093827cf4cea94146b5f73b49f05"
      }
     },
     "metadata": {},
     "output_type": "display_data"
    },
    {
     "data": {
      "text/plain": "  0%|          | 0/40 [00:00<?, ?it/s]",
      "application/vnd.jupyter.widget-view+json": {
       "version_major": 2,
       "version_minor": 0,
       "model_id": "9c196bdcde3f40d08fa0e4a984fac81c"
      }
     },
     "metadata": {},
     "output_type": "display_data"
    },
    {
     "data": {
      "text/plain": "  0%|          | 0/40 [00:00<?, ?it/s]",
      "application/vnd.jupyter.widget-view+json": {
       "version_major": 2,
       "version_minor": 0,
       "model_id": "008dec276d424ef1a66ad08e215ab487"
      }
     },
     "metadata": {},
     "output_type": "display_data"
    },
    {
     "data": {
      "text/plain": "  0%|          | 0/40 [00:00<?, ?it/s]",
      "application/vnd.jupyter.widget-view+json": {
       "version_major": 2,
       "version_minor": 0,
       "model_id": "47ff41567a04469d8704442ded77d619"
      }
     },
     "metadata": {},
     "output_type": "display_data"
    },
    {
     "data": {
      "text/plain": "  0%|          | 0/40 [00:00<?, ?it/s]",
      "application/vnd.jupyter.widget-view+json": {
       "version_major": 2,
       "version_minor": 0,
       "model_id": "b626965d5a1a4c5b88f6ed048ad96e18"
      }
     },
     "metadata": {},
     "output_type": "display_data"
    },
    {
     "data": {
      "text/plain": "  0%|          | 0/40 [00:00<?, ?it/s]",
      "application/vnd.jupyter.widget-view+json": {
       "version_major": 2,
       "version_minor": 0,
       "model_id": "7e3f5e454ae7472d8d16aef6cbb731ca"
      }
     },
     "metadata": {},
     "output_type": "display_data"
    },
    {
     "data": {
      "text/plain": "  0%|          | 0/40 [00:00<?, ?it/s]",
      "application/vnd.jupyter.widget-view+json": {
       "version_major": 2,
       "version_minor": 0,
       "model_id": "f8d291d166ed441d84db0f0fb17aed9b"
      }
     },
     "metadata": {},
     "output_type": "display_data"
    },
    {
     "data": {
      "text/plain": "  0%|          | 0/40 [00:00<?, ?it/s]",
      "application/vnd.jupyter.widget-view+json": {
       "version_major": 2,
       "version_minor": 0,
       "model_id": "9d06495124484b12895e931e1969e09c"
      }
     },
     "metadata": {},
     "output_type": "display_data"
    },
    {
     "data": {
      "text/plain": "  0%|          | 0/40 [00:00<?, ?it/s]",
      "application/vnd.jupyter.widget-view+json": {
       "version_major": 2,
       "version_minor": 0,
       "model_id": "dce27c1d3f7f406db185d2cbb314d9b5"
      }
     },
     "metadata": {},
     "output_type": "display_data"
    },
    {
     "data": {
      "text/plain": "  0%|          | 0/40 [00:00<?, ?it/s]",
      "application/vnd.jupyter.widget-view+json": {
       "version_major": 2,
       "version_minor": 0,
       "model_id": "dbf0e08a5e0c401eb86d7afbdbd81c41"
      }
     },
     "metadata": {},
     "output_type": "display_data"
    },
    {
     "data": {
      "text/plain": "  0%|          | 0/40 [00:00<?, ?it/s]",
      "application/vnd.jupyter.widget-view+json": {
       "version_major": 2,
       "version_minor": 0,
       "model_id": "9dfc8a87ceea495c81c958fe514024bb"
      }
     },
     "metadata": {},
     "output_type": "display_data"
    },
    {
     "data": {
      "text/plain": "  0%|          | 0/40 [00:00<?, ?it/s]",
      "application/vnd.jupyter.widget-view+json": {
       "version_major": 2,
       "version_minor": 0,
       "model_id": "4606b311cec048619f885b8635a6b332"
      }
     },
     "metadata": {},
     "output_type": "display_data"
    },
    {
     "data": {
      "text/plain": "  0%|          | 0/40 [00:00<?, ?it/s]",
      "application/vnd.jupyter.widget-view+json": {
       "version_major": 2,
       "version_minor": 0,
       "model_id": "e577eddbe5f6421aab524f342f1a5d56"
      }
     },
     "metadata": {},
     "output_type": "display_data"
    },
    {
     "data": {
      "text/plain": "  0%|          | 0/40 [00:00<?, ?it/s]",
      "application/vnd.jupyter.widget-view+json": {
       "version_major": 2,
       "version_minor": 0,
       "model_id": "4d8e57c788174f8c8ba00a37a2d3a174"
      }
     },
     "metadata": {},
     "output_type": "display_data"
    },
    {
     "data": {
      "text/plain": "  0%|          | 0/40 [00:00<?, ?it/s]",
      "application/vnd.jupyter.widget-view+json": {
       "version_major": 2,
       "version_minor": 0,
       "model_id": "489190dc91234b899d6ad174d208dc6a"
      }
     },
     "metadata": {},
     "output_type": "display_data"
    },
    {
     "data": {
      "text/plain": "  0%|          | 0/40 [00:00<?, ?it/s]",
      "application/vnd.jupyter.widget-view+json": {
       "version_major": 2,
       "version_minor": 0,
       "model_id": "15a94b7a93e84567921856899bfc8de4"
      }
     },
     "metadata": {},
     "output_type": "display_data"
    },
    {
     "data": {
      "text/plain": "  0%|          | 0/40 [00:00<?, ?it/s]",
      "application/vnd.jupyter.widget-view+json": {
       "version_major": 2,
       "version_minor": 0,
       "model_id": "ebbd4b9caa2743d39331a7c81cc6a69d"
      }
     },
     "metadata": {},
     "output_type": "display_data"
    },
    {
     "data": {
      "text/plain": "  0%|          | 0/40 [00:00<?, ?it/s]",
      "application/vnd.jupyter.widget-view+json": {
       "version_major": 2,
       "version_minor": 0,
       "model_id": "a0c778399e6b48288c71ce5387240bdf"
      }
     },
     "metadata": {},
     "output_type": "display_data"
    },
    {
     "data": {
      "text/plain": "  0%|          | 0/40 [00:00<?, ?it/s]",
      "application/vnd.jupyter.widget-view+json": {
       "version_major": 2,
       "version_minor": 0,
       "model_id": "b8695e4425014290932c01b0e7f2c9ce"
      }
     },
     "metadata": {},
     "output_type": "display_data"
    },
    {
     "data": {
      "text/plain": "  0%|          | 0/40 [00:00<?, ?it/s]",
      "application/vnd.jupyter.widget-view+json": {
       "version_major": 2,
       "version_minor": 0,
       "model_id": "9c1ceb90ea374a379ffb78e796c57733"
      }
     },
     "metadata": {},
     "output_type": "display_data"
    },
    {
     "data": {
      "text/plain": "  0%|          | 0/40 [00:00<?, ?it/s]",
      "application/vnd.jupyter.widget-view+json": {
       "version_major": 2,
       "version_minor": 0,
       "model_id": "aaed05c921954207b5116334074ea034"
      }
     },
     "metadata": {},
     "output_type": "display_data"
    },
    {
     "data": {
      "text/plain": "  0%|          | 0/40 [00:00<?, ?it/s]",
      "application/vnd.jupyter.widget-view+json": {
       "version_major": 2,
       "version_minor": 0,
       "model_id": "18efc75df6014f228afe1404a29f1b3b"
      }
     },
     "metadata": {},
     "output_type": "display_data"
    },
    {
     "data": {
      "text/plain": "  0%|          | 0/40 [00:00<?, ?it/s]",
      "application/vnd.jupyter.widget-view+json": {
       "version_major": 2,
       "version_minor": 0,
       "model_id": "cd9c980e9fae48f4afef008c2134d240"
      }
     },
     "metadata": {},
     "output_type": "display_data"
    },
    {
     "data": {
      "text/plain": "  0%|          | 0/40 [00:00<?, ?it/s]",
      "application/vnd.jupyter.widget-view+json": {
       "version_major": 2,
       "version_minor": 0,
       "model_id": "01ef3198d137458dae466391f3e15bbe"
      }
     },
     "metadata": {},
     "output_type": "display_data"
    },
    {
     "data": {
      "text/plain": "  0%|          | 0/40 [00:00<?, ?it/s]",
      "application/vnd.jupyter.widget-view+json": {
       "version_major": 2,
       "version_minor": 0,
       "model_id": "5f2f3b9e04984849b58b5391a8b9f6dd"
      }
     },
     "metadata": {},
     "output_type": "display_data"
    },
    {
     "data": {
      "text/plain": "  0%|          | 0/40 [00:00<?, ?it/s]",
      "application/vnd.jupyter.widget-view+json": {
       "version_major": 2,
       "version_minor": 0,
       "model_id": "d415bd36b2fa4a57a1b433eef895d463"
      }
     },
     "metadata": {},
     "output_type": "display_data"
    },
    {
     "data": {
      "text/plain": "  0%|          | 0/40 [00:00<?, ?it/s]",
      "application/vnd.jupyter.widget-view+json": {
       "version_major": 2,
       "version_minor": 0,
       "model_id": "8830b45fd2fd443e9a6439c040bc50e6"
      }
     },
     "metadata": {},
     "output_type": "display_data"
    },
    {
     "data": {
      "text/plain": "  0%|          | 0/40 [00:00<?, ?it/s]",
      "application/vnd.jupyter.widget-view+json": {
       "version_major": 2,
       "version_minor": 0,
       "model_id": "48cf43209f91435ebe62fea988a7f24a"
      }
     },
     "metadata": {},
     "output_type": "display_data"
    },
    {
     "data": {
      "text/plain": "  0%|          | 0/40 [00:00<?, ?it/s]",
      "application/vnd.jupyter.widget-view+json": {
       "version_major": 2,
       "version_minor": 0,
       "model_id": "f852b16781f74d9ea0f7edb3dd8b5015"
      }
     },
     "metadata": {},
     "output_type": "display_data"
    },
    {
     "data": {
      "text/plain": "  0%|          | 0/40 [00:00<?, ?it/s]",
      "application/vnd.jupyter.widget-view+json": {
       "version_major": 2,
       "version_minor": 0,
       "model_id": "6277947210714fb98bdd91b81e3959f8"
      }
     },
     "metadata": {},
     "output_type": "display_data"
    },
    {
     "data": {
      "text/plain": "  0%|          | 0/40 [00:00<?, ?it/s]",
      "application/vnd.jupyter.widget-view+json": {
       "version_major": 2,
       "version_minor": 0,
       "model_id": "3ef55b37699e45edbabc9b8f9e2b3a68"
      }
     },
     "metadata": {},
     "output_type": "display_data"
    },
    {
     "data": {
      "text/plain": "  0%|          | 0/40 [00:00<?, ?it/s]",
      "application/vnd.jupyter.widget-view+json": {
       "version_major": 2,
       "version_minor": 0,
       "model_id": "74d96db1e16d4796ae02969c224b7710"
      }
     },
     "metadata": {},
     "output_type": "display_data"
    },
    {
     "data": {
      "text/plain": "  0%|          | 0/40 [00:00<?, ?it/s]",
      "application/vnd.jupyter.widget-view+json": {
       "version_major": 2,
       "version_minor": 0,
       "model_id": "0f0d6697087e43e2a81eb2d6d2dcc54a"
      }
     },
     "metadata": {},
     "output_type": "display_data"
    },
    {
     "data": {
      "text/plain": "  0%|          | 0/40 [00:00<?, ?it/s]",
      "application/vnd.jupyter.widget-view+json": {
       "version_major": 2,
       "version_minor": 0,
       "model_id": "503723ae9c104af7941f3442c5b5f4d2"
      }
     },
     "metadata": {},
     "output_type": "display_data"
    },
    {
     "data": {
      "text/plain": "  0%|          | 0/40 [00:00<?, ?it/s]",
      "application/vnd.jupyter.widget-view+json": {
       "version_major": 2,
       "version_minor": 0,
       "model_id": "7ab225ee37744d50af01236e1be9ce37"
      }
     },
     "metadata": {},
     "output_type": "display_data"
    },
    {
     "data": {
      "text/plain": "  0%|          | 0/40 [00:00<?, ?it/s]",
      "application/vnd.jupyter.widget-view+json": {
       "version_major": 2,
       "version_minor": 0,
       "model_id": "70a6b37442024cce97a9b40c2a946560"
      }
     },
     "metadata": {},
     "output_type": "display_data"
    },
    {
     "data": {
      "text/plain": "  0%|          | 0/40 [00:00<?, ?it/s]",
      "application/vnd.jupyter.widget-view+json": {
       "version_major": 2,
       "version_minor": 0,
       "model_id": "6c7a8f9e3f5b45b294d0e7443c71ce5b"
      }
     },
     "metadata": {},
     "output_type": "display_data"
    },
    {
     "data": {
      "text/plain": "  0%|          | 0/40 [00:00<?, ?it/s]",
      "application/vnd.jupyter.widget-view+json": {
       "version_major": 2,
       "version_minor": 0,
       "model_id": "fd8bc86f86f64a2b9903479a751e7777"
      }
     },
     "metadata": {},
     "output_type": "display_data"
    },
    {
     "data": {
      "text/plain": "  0%|          | 0/40 [00:00<?, ?it/s]",
      "application/vnd.jupyter.widget-view+json": {
       "version_major": 2,
       "version_minor": 0,
       "model_id": "cb8360a1f144490ba1692f4632301077"
      }
     },
     "metadata": {},
     "output_type": "display_data"
    },
    {
     "data": {
      "text/plain": "  0%|          | 0/40 [00:00<?, ?it/s]",
      "application/vnd.jupyter.widget-view+json": {
       "version_major": 2,
       "version_minor": 0,
       "model_id": "f8895a9adc5b438fb1c000621ce4a67b"
      }
     },
     "metadata": {},
     "output_type": "display_data"
    },
    {
     "data": {
      "text/plain": "  0%|          | 0/40 [00:00<?, ?it/s]",
      "application/vnd.jupyter.widget-view+json": {
       "version_major": 2,
       "version_minor": 0,
       "model_id": "49d2a2a3fce54e3ab4507672d05f6afe"
      }
     },
     "metadata": {},
     "output_type": "display_data"
    },
    {
     "data": {
      "text/plain": "  0%|          | 0/40 [00:00<?, ?it/s]",
      "application/vnd.jupyter.widget-view+json": {
       "version_major": 2,
       "version_minor": 0,
       "model_id": "f2ebddaf774c49f99659ba5e2ac6fac1"
      }
     },
     "metadata": {},
     "output_type": "display_data"
    },
    {
     "data": {
      "text/plain": "  0%|          | 0/40 [00:00<?, ?it/s]",
      "application/vnd.jupyter.widget-view+json": {
       "version_major": 2,
       "version_minor": 0,
       "model_id": "837728ff4eea467eaf35113fb95be99d"
      }
     },
     "metadata": {},
     "output_type": "display_data"
    },
    {
     "data": {
      "text/plain": "  0%|          | 0/40 [00:00<?, ?it/s]",
      "application/vnd.jupyter.widget-view+json": {
       "version_major": 2,
       "version_minor": 0,
       "model_id": "4031d8d36e2c4b7685ad271e3696e7ab"
      }
     },
     "metadata": {},
     "output_type": "display_data"
    },
    {
     "data": {
      "text/plain": "  0%|          | 0/40 [00:00<?, ?it/s]",
      "application/vnd.jupyter.widget-view+json": {
       "version_major": 2,
       "version_minor": 0,
       "model_id": "d5570d85dd894d169b1d781594ed9126"
      }
     },
     "metadata": {},
     "output_type": "display_data"
    },
    {
     "data": {
      "text/plain": "  0%|          | 0/40 [00:00<?, ?it/s]",
      "application/vnd.jupyter.widget-view+json": {
       "version_major": 2,
       "version_minor": 0,
       "model_id": "5ec785a9d2fd4050bcd3f3005617de15"
      }
     },
     "metadata": {},
     "output_type": "display_data"
    },
    {
     "data": {
      "text/plain": "  0%|          | 0/40 [00:00<?, ?it/s]",
      "application/vnd.jupyter.widget-view+json": {
       "version_major": 2,
       "version_minor": 0,
       "model_id": "141d317f82de41c98a6a5345cd1813d2"
      }
     },
     "metadata": {},
     "output_type": "display_data"
    },
    {
     "data": {
      "text/plain": "  0%|          | 0/40 [00:00<?, ?it/s]",
      "application/vnd.jupyter.widget-view+json": {
       "version_major": 2,
       "version_minor": 0,
       "model_id": "df17a63155a7459a8edf4ad655b16f0e"
      }
     },
     "metadata": {},
     "output_type": "display_data"
    },
    {
     "data": {
      "text/plain": "  0%|          | 0/40 [00:00<?, ?it/s]",
      "application/vnd.jupyter.widget-view+json": {
       "version_major": 2,
       "version_minor": 0,
       "model_id": "38a5b31bdd4d4720a1fd3d65bc9bd110"
      }
     },
     "metadata": {},
     "output_type": "display_data"
    },
    {
     "data": {
      "text/plain": "  0%|          | 0/40 [00:00<?, ?it/s]",
      "application/vnd.jupyter.widget-view+json": {
       "version_major": 2,
       "version_minor": 0,
       "model_id": "d52f49c0f2dd4ad092916dc0f14c6212"
      }
     },
     "metadata": {},
     "output_type": "display_data"
    },
    {
     "data": {
      "text/plain": "  0%|          | 0/40 [00:00<?, ?it/s]",
      "application/vnd.jupyter.widget-view+json": {
       "version_major": 2,
       "version_minor": 0,
       "model_id": "9c0e267143c34a39a7cf68191ec3d47a"
      }
     },
     "metadata": {},
     "output_type": "display_data"
    },
    {
     "data": {
      "text/plain": "  0%|          | 0/40 [00:00<?, ?it/s]",
      "application/vnd.jupyter.widget-view+json": {
       "version_major": 2,
       "version_minor": 0,
       "model_id": "87d54e528df54205a7193026fc1db007"
      }
     },
     "metadata": {},
     "output_type": "display_data"
    },
    {
     "data": {
      "text/plain": "  0%|          | 0/40 [00:00<?, ?it/s]",
      "application/vnd.jupyter.widget-view+json": {
       "version_major": 2,
       "version_minor": 0,
       "model_id": "b9703a3492124b769fd47a7d4ef4f9ac"
      }
     },
     "metadata": {},
     "output_type": "display_data"
    },
    {
     "data": {
      "text/plain": "  0%|          | 0/40 [00:00<?, ?it/s]",
      "application/vnd.jupyter.widget-view+json": {
       "version_major": 2,
       "version_minor": 0,
       "model_id": "726dea7af312400a92d663d1e887ba67"
      }
     },
     "metadata": {},
     "output_type": "display_data"
    },
    {
     "data": {
      "text/plain": "  0%|          | 0/40 [00:00<?, ?it/s]",
      "application/vnd.jupyter.widget-view+json": {
       "version_major": 2,
       "version_minor": 0,
       "model_id": "6f81e0721bb24d039c2cecfe10fd18ce"
      }
     },
     "metadata": {},
     "output_type": "display_data"
    },
    {
     "data": {
      "text/plain": "  0%|          | 0/40 [00:00<?, ?it/s]",
      "application/vnd.jupyter.widget-view+json": {
       "version_major": 2,
       "version_minor": 0,
       "model_id": "00a674412ddd458485cbd42fdd81ed41"
      }
     },
     "metadata": {},
     "output_type": "display_data"
    },
    {
     "data": {
      "text/plain": "  0%|          | 0/40 [00:00<?, ?it/s]",
      "application/vnd.jupyter.widget-view+json": {
       "version_major": 2,
       "version_minor": 0,
       "model_id": "5ceb9ca70205432fb9cb06e47bb8890b"
      }
     },
     "metadata": {},
     "output_type": "display_data"
    },
    {
     "data": {
      "text/plain": "  0%|          | 0/40 [00:00<?, ?it/s]",
      "application/vnd.jupyter.widget-view+json": {
       "version_major": 2,
       "version_minor": 0,
       "model_id": "70a296d57dfc4d1f951ffabe71c10dd9"
      }
     },
     "metadata": {},
     "output_type": "display_data"
    },
    {
     "data": {
      "text/plain": "  0%|          | 0/40 [00:00<?, ?it/s]",
      "application/vnd.jupyter.widget-view+json": {
       "version_major": 2,
       "version_minor": 0,
       "model_id": "fe559cee8118433d88a997ec19b9e485"
      }
     },
     "metadata": {},
     "output_type": "display_data"
    },
    {
     "data": {
      "text/plain": "  0%|          | 0/40 [00:00<?, ?it/s]",
      "application/vnd.jupyter.widget-view+json": {
       "version_major": 2,
       "version_minor": 0,
       "model_id": "e6af36107428493e95c994d1a0e4471a"
      }
     },
     "metadata": {},
     "output_type": "display_data"
    },
    {
     "data": {
      "text/plain": "  0%|          | 0/40 [00:00<?, ?it/s]",
      "application/vnd.jupyter.widget-view+json": {
       "version_major": 2,
       "version_minor": 0,
       "model_id": "76855d76f44a481396147d2e76b7e51e"
      }
     },
     "metadata": {},
     "output_type": "display_data"
    },
    {
     "data": {
      "text/plain": "  0%|          | 0/40 [00:00<?, ?it/s]",
      "application/vnd.jupyter.widget-view+json": {
       "version_major": 2,
       "version_minor": 0,
       "model_id": "f57adf042dcc48c1835192f1c98e9242"
      }
     },
     "metadata": {},
     "output_type": "display_data"
    },
    {
     "data": {
      "text/plain": "  0%|          | 0/40 [00:00<?, ?it/s]",
      "application/vnd.jupyter.widget-view+json": {
       "version_major": 2,
       "version_minor": 0,
       "model_id": "03068b0e275e478caf8b523c57f6e308"
      }
     },
     "metadata": {},
     "output_type": "display_data"
    },
    {
     "data": {
      "text/plain": "  0%|          | 0/40 [00:00<?, ?it/s]",
      "application/vnd.jupyter.widget-view+json": {
       "version_major": 2,
       "version_minor": 0,
       "model_id": "bcfaff2c1998495ca13f427595e6c3ec"
      }
     },
     "metadata": {},
     "output_type": "display_data"
    },
    {
     "data": {
      "text/plain": "  0%|          | 0/40 [00:00<?, ?it/s]",
      "application/vnd.jupyter.widget-view+json": {
       "version_major": 2,
       "version_minor": 0,
       "model_id": "d0fff97eee384645917d6ba8a07dd722"
      }
     },
     "metadata": {},
     "output_type": "display_data"
    },
    {
     "data": {
      "text/plain": "  0%|          | 0/40 [00:00<?, ?it/s]",
      "application/vnd.jupyter.widget-view+json": {
       "version_major": 2,
       "version_minor": 0,
       "model_id": "d9abe2bff5e8497ca6d7f5330d546f3a"
      }
     },
     "metadata": {},
     "output_type": "display_data"
    },
    {
     "data": {
      "text/plain": "  0%|          | 0/40 [00:00<?, ?it/s]",
      "application/vnd.jupyter.widget-view+json": {
       "version_major": 2,
       "version_minor": 0,
       "model_id": "2e5372f6b8d841b397beb9bd0a5fe7c1"
      }
     },
     "metadata": {},
     "output_type": "display_data"
    },
    {
     "data": {
      "text/plain": "  0%|          | 0/40 [00:00<?, ?it/s]",
      "application/vnd.jupyter.widget-view+json": {
       "version_major": 2,
       "version_minor": 0,
       "model_id": "f5ab0a4ddee14144bd665dac59251ea3"
      }
     },
     "metadata": {},
     "output_type": "display_data"
    },
    {
     "data": {
      "text/plain": "  0%|          | 0/40 [00:00<?, ?it/s]",
      "application/vnd.jupyter.widget-view+json": {
       "version_major": 2,
       "version_minor": 0,
       "model_id": "7d0359b9e0c1482893147923ddf72480"
      }
     },
     "metadata": {},
     "output_type": "display_data"
    },
    {
     "data": {
      "text/plain": "  0%|          | 0/40 [00:00<?, ?it/s]",
      "application/vnd.jupyter.widget-view+json": {
       "version_major": 2,
       "version_minor": 0,
       "model_id": "868ab64d9cc24cb487c931f50ea729d0"
      }
     },
     "metadata": {},
     "output_type": "display_data"
    },
    {
     "data": {
      "text/plain": "  0%|          | 0/40 [00:00<?, ?it/s]",
      "application/vnd.jupyter.widget-view+json": {
       "version_major": 2,
       "version_minor": 0,
       "model_id": "9d2923c5b8ab46f9ac1be9ae1858abca"
      }
     },
     "metadata": {},
     "output_type": "display_data"
    },
    {
     "data": {
      "text/plain": "  0%|          | 0/40 [00:00<?, ?it/s]",
      "application/vnd.jupyter.widget-view+json": {
       "version_major": 2,
       "version_minor": 0,
       "model_id": "b508a9e3aa684cd19720fbc8df291e3f"
      }
     },
     "metadata": {},
     "output_type": "display_data"
    },
    {
     "data": {
      "text/plain": "  0%|          | 0/40 [00:00<?, ?it/s]",
      "application/vnd.jupyter.widget-view+json": {
       "version_major": 2,
       "version_minor": 0,
       "model_id": "ae4aac2e7db2425a9eb1f84348d9cf7f"
      }
     },
     "metadata": {},
     "output_type": "display_data"
    },
    {
     "data": {
      "text/plain": "  0%|          | 0/40 [00:00<?, ?it/s]",
      "application/vnd.jupyter.widget-view+json": {
       "version_major": 2,
       "version_minor": 0,
       "model_id": "8196832e60ed41c6a5013e2b45a3fccf"
      }
     },
     "metadata": {},
     "output_type": "display_data"
    },
    {
     "data": {
      "text/plain": "  0%|          | 0/40 [00:00<?, ?it/s]",
      "application/vnd.jupyter.widget-view+json": {
       "version_major": 2,
       "version_minor": 0,
       "model_id": "e356205d800841dba9833a6f56708f70"
      }
     },
     "metadata": {},
     "output_type": "display_data"
    },
    {
     "data": {
      "text/plain": "  0%|          | 0/40 [00:00<?, ?it/s]",
      "application/vnd.jupyter.widget-view+json": {
       "version_major": 2,
       "version_minor": 0,
       "model_id": "7481ad60320b4a538bdbae435e5bc4cd"
      }
     },
     "metadata": {},
     "output_type": "display_data"
    },
    {
     "data": {
      "text/plain": "  0%|          | 0/40 [00:00<?, ?it/s]",
      "application/vnd.jupyter.widget-view+json": {
       "version_major": 2,
       "version_minor": 0,
       "model_id": "ed8cd15d1ad445959432f74f52d9ce36"
      }
     },
     "metadata": {},
     "output_type": "display_data"
    },
    {
     "data": {
      "text/plain": "  0%|          | 0/40 [00:00<?, ?it/s]",
      "application/vnd.jupyter.widget-view+json": {
       "version_major": 2,
       "version_minor": 0,
       "model_id": "2a04be96c6b3498d9aed222b26862540"
      }
     },
     "metadata": {},
     "output_type": "display_data"
    },
    {
     "data": {
      "text/plain": "  0%|          | 0/40 [00:00<?, ?it/s]",
      "application/vnd.jupyter.widget-view+json": {
       "version_major": 2,
       "version_minor": 0,
       "model_id": "748138ce52c74bbbb0979d356296bbac"
      }
     },
     "metadata": {},
     "output_type": "display_data"
    },
    {
     "data": {
      "text/plain": "  0%|          | 0/40 [00:00<?, ?it/s]",
      "application/vnd.jupyter.widget-view+json": {
       "version_major": 2,
       "version_minor": 0,
       "model_id": "e96358c40b0743b198ef98cbf82fd5e9"
      }
     },
     "metadata": {},
     "output_type": "display_data"
    },
    {
     "data": {
      "text/plain": "  0%|          | 0/40 [00:00<?, ?it/s]",
      "application/vnd.jupyter.widget-view+json": {
       "version_major": 2,
       "version_minor": 0,
       "model_id": "3b8467e86aa74605a2c8255b475909d1"
      }
     },
     "metadata": {},
     "output_type": "display_data"
    },
    {
     "data": {
      "text/plain": "  0%|          | 0/40 [00:00<?, ?it/s]",
      "application/vnd.jupyter.widget-view+json": {
       "version_major": 2,
       "version_minor": 0,
       "model_id": "6fc0e65cda9d4f60a8d3cbe5632c8e55"
      }
     },
     "metadata": {},
     "output_type": "display_data"
    },
    {
     "data": {
      "text/plain": "  0%|          | 0/40 [00:00<?, ?it/s]",
      "application/vnd.jupyter.widget-view+json": {
       "version_major": 2,
       "version_minor": 0,
       "model_id": "2af7175ca59d47ea80c3e54155bc8b5b"
      }
     },
     "metadata": {},
     "output_type": "display_data"
    },
    {
     "data": {
      "text/plain": "  0%|          | 0/40 [00:00<?, ?it/s]",
      "application/vnd.jupyter.widget-view+json": {
       "version_major": 2,
       "version_minor": 0,
       "model_id": "028bc5e192c941fd887fdf8842cd1a22"
      }
     },
     "metadata": {},
     "output_type": "display_data"
    },
    {
     "data": {
      "text/plain": "  0%|          | 0/40 [00:00<?, ?it/s]",
      "application/vnd.jupyter.widget-view+json": {
       "version_major": 2,
       "version_minor": 0,
       "model_id": "9b7cdd965f7a40a79ff068058ae78213"
      }
     },
     "metadata": {},
     "output_type": "display_data"
    },
    {
     "data": {
      "text/plain": "  0%|          | 0/40 [00:00<?, ?it/s]",
      "application/vnd.jupyter.widget-view+json": {
       "version_major": 2,
       "version_minor": 0,
       "model_id": "dbb69c35509d4822a5d22b7ef36112bd"
      }
     },
     "metadata": {},
     "output_type": "display_data"
    },
    {
     "data": {
      "text/plain": "  0%|          | 0/40 [00:00<?, ?it/s]",
      "application/vnd.jupyter.widget-view+json": {
       "version_major": 2,
       "version_minor": 0,
       "model_id": "5d364d0424d947a3aa7708c5815d9dc5"
      }
     },
     "metadata": {},
     "output_type": "display_data"
    },
    {
     "data": {
      "text/plain": "  0%|          | 0/40 [00:00<?, ?it/s]",
      "application/vnd.jupyter.widget-view+json": {
       "version_major": 2,
       "version_minor": 0,
       "model_id": "c1e220ba6f5046b595cf2aafbdb6f27b"
      }
     },
     "metadata": {},
     "output_type": "display_data"
    },
    {
     "data": {
      "text/plain": "  0%|          | 0/40 [00:00<?, ?it/s]",
      "application/vnd.jupyter.widget-view+json": {
       "version_major": 2,
       "version_minor": 0,
       "model_id": "3c0d77d4c26f4132929ed698054214cd"
      }
     },
     "metadata": {},
     "output_type": "display_data"
    },
    {
     "data": {
      "text/plain": "  0%|          | 0/40 [00:00<?, ?it/s]",
      "application/vnd.jupyter.widget-view+json": {
       "version_major": 2,
       "version_minor": 0,
       "model_id": "cb43e9e07e7a472da8f1e005831cfe28"
      }
     },
     "metadata": {},
     "output_type": "display_data"
    },
    {
     "data": {
      "text/plain": "  0%|          | 0/40 [00:00<?, ?it/s]",
      "application/vnd.jupyter.widget-view+json": {
       "version_major": 2,
       "version_minor": 0,
       "model_id": "fbb1df060ed94aaaa86cb1bea8499c4a"
      }
     },
     "metadata": {},
     "output_type": "display_data"
    },
    {
     "data": {
      "text/plain": "  0%|          | 0/40 [00:00<?, ?it/s]",
      "application/vnd.jupyter.widget-view+json": {
       "version_major": 2,
       "version_minor": 0,
       "model_id": "866ae24c33b1452ba72acc26615a581b"
      }
     },
     "metadata": {},
     "output_type": "display_data"
    },
    {
     "data": {
      "text/plain": "  0%|          | 0/40 [00:00<?, ?it/s]",
      "application/vnd.jupyter.widget-view+json": {
       "version_major": 2,
       "version_minor": 0,
       "model_id": "4d430160ab73457e8fc3611f2372a9f4"
      }
     },
     "metadata": {},
     "output_type": "display_data"
    },
    {
     "data": {
      "text/plain": "  0%|          | 0/40 [00:00<?, ?it/s]",
      "application/vnd.jupyter.widget-view+json": {
       "version_major": 2,
       "version_minor": 0,
       "model_id": "20236f74aeb744a68a508f6d4a61edcf"
      }
     },
     "metadata": {},
     "output_type": "display_data"
    },
    {
     "data": {
      "text/plain": "  0%|          | 0/40 [00:00<?, ?it/s]",
      "application/vnd.jupyter.widget-view+json": {
       "version_major": 2,
       "version_minor": 0,
       "model_id": "35ade9d92130403591c2cf2807343aa7"
      }
     },
     "metadata": {},
     "output_type": "display_data"
    },
    {
     "data": {
      "text/plain": "  0%|          | 0/40 [00:00<?, ?it/s]",
      "application/vnd.jupyter.widget-view+json": {
       "version_major": 2,
       "version_minor": 0,
       "model_id": "facc7bf10e564a53b78b34dce4f6c24b"
      }
     },
     "metadata": {},
     "output_type": "display_data"
    },
    {
     "data": {
      "text/plain": "  0%|          | 0/40 [00:00<?, ?it/s]",
      "application/vnd.jupyter.widget-view+json": {
       "version_major": 2,
       "version_minor": 0,
       "model_id": "c1ced922cff9445a80ab3511f29b9e6a"
      }
     },
     "metadata": {},
     "output_type": "display_data"
    },
    {
     "data": {
      "text/plain": "  0%|          | 0/40 [00:00<?, ?it/s]",
      "application/vnd.jupyter.widget-view+json": {
       "version_major": 2,
       "version_minor": 0,
       "model_id": "875020bf098f425ca85a421cb86a9f09"
      }
     },
     "metadata": {},
     "output_type": "display_data"
    },
    {
     "data": {
      "text/plain": "  0%|          | 0/40 [00:00<?, ?it/s]",
      "application/vnd.jupyter.widget-view+json": {
       "version_major": 2,
       "version_minor": 0,
       "model_id": "1c9741aa098a4df79a83b75b5710ccf2"
      }
     },
     "metadata": {},
     "output_type": "display_data"
    },
    {
     "data": {
      "text/plain": "  0%|          | 0/40 [00:00<?, ?it/s]",
      "application/vnd.jupyter.widget-view+json": {
       "version_major": 2,
       "version_minor": 0,
       "model_id": "287e05e140fb4232bbaf6952fb2ce017"
      }
     },
     "metadata": {},
     "output_type": "display_data"
    },
    {
     "data": {
      "text/plain": "  0%|          | 0/40 [00:00<?, ?it/s]",
      "application/vnd.jupyter.widget-view+json": {
       "version_major": 2,
       "version_minor": 0,
       "model_id": "0cc89bcc005c4f0bae7377240ee0b982"
      }
     },
     "metadata": {},
     "output_type": "display_data"
    },
    {
     "data": {
      "text/plain": "  0%|          | 0/40 [00:00<?, ?it/s]",
      "application/vnd.jupyter.widget-view+json": {
       "version_major": 2,
       "version_minor": 0,
       "model_id": "d70a552f8cdb4873800d7b03658c89ba"
      }
     },
     "metadata": {},
     "output_type": "display_data"
    },
    {
     "data": {
      "text/plain": "  0%|          | 0/40 [00:00<?, ?it/s]",
      "application/vnd.jupyter.widget-view+json": {
       "version_major": 2,
       "version_minor": 0,
       "model_id": "daac5fe1da2441608d5749a5dffd2bf3"
      }
     },
     "metadata": {},
     "output_type": "display_data"
    },
    {
     "data": {
      "text/plain": "  0%|          | 0/40 [00:00<?, ?it/s]",
      "application/vnd.jupyter.widget-view+json": {
       "version_major": 2,
       "version_minor": 0,
       "model_id": "c4e5e3f27f084bb9af37b3b37b2892a9"
      }
     },
     "metadata": {},
     "output_type": "display_data"
    },
    {
     "data": {
      "text/plain": "  0%|          | 0/40 [00:00<?, ?it/s]",
      "application/vnd.jupyter.widget-view+json": {
       "version_major": 2,
       "version_minor": 0,
       "model_id": "26a46cdfc3ac41a5af4e20b75fb412d3"
      }
     },
     "metadata": {},
     "output_type": "display_data"
    },
    {
     "data": {
      "text/plain": "  0%|          | 0/40 [00:00<?, ?it/s]",
      "application/vnd.jupyter.widget-view+json": {
       "version_major": 2,
       "version_minor": 0,
       "model_id": "c6b8a39b61584d09832042998d0f4b53"
      }
     },
     "metadata": {},
     "output_type": "display_data"
    },
    {
     "data": {
      "text/plain": "  0%|          | 0/40 [00:00<?, ?it/s]",
      "application/vnd.jupyter.widget-view+json": {
       "version_major": 2,
       "version_minor": 0,
       "model_id": "72aa59b5108e424186bfe9ad637143a9"
      }
     },
     "metadata": {},
     "output_type": "display_data"
    },
    {
     "data": {
      "text/plain": "  0%|          | 0/40 [00:00<?, ?it/s]",
      "application/vnd.jupyter.widget-view+json": {
       "version_major": 2,
       "version_minor": 0,
       "model_id": "da1775b1e75b437187b764f0662a4ff7"
      }
     },
     "metadata": {},
     "output_type": "display_data"
    },
    {
     "data": {
      "text/plain": "  0%|          | 0/40 [00:00<?, ?it/s]",
      "application/vnd.jupyter.widget-view+json": {
       "version_major": 2,
       "version_minor": 0,
       "model_id": "fdb45ed6232c47e0bc2243ab2c84316a"
      }
     },
     "metadata": {},
     "output_type": "display_data"
    },
    {
     "data": {
      "text/plain": "  0%|          | 0/40 [00:00<?, ?it/s]",
      "application/vnd.jupyter.widget-view+json": {
       "version_major": 2,
       "version_minor": 0,
       "model_id": "3ca7ed56ec9345e7a76b7f944b2480a7"
      }
     },
     "metadata": {},
     "output_type": "display_data"
    },
    {
     "data": {
      "text/plain": "  0%|          | 0/40 [00:00<?, ?it/s]",
      "application/vnd.jupyter.widget-view+json": {
       "version_major": 2,
       "version_minor": 0,
       "model_id": "11781df483c64efca8a653444fb1c1f6"
      }
     },
     "metadata": {},
     "output_type": "display_data"
    },
    {
     "data": {
      "text/plain": "  0%|          | 0/40 [00:00<?, ?it/s]",
      "application/vnd.jupyter.widget-view+json": {
       "version_major": 2,
       "version_minor": 0,
       "model_id": "1a5c60ba305c45bcb36d688bfc39d7da"
      }
     },
     "metadata": {},
     "output_type": "display_data"
    },
    {
     "data": {
      "text/plain": "  0%|          | 0/40 [00:00<?, ?it/s]",
      "application/vnd.jupyter.widget-view+json": {
       "version_major": 2,
       "version_minor": 0,
       "model_id": "051e4a9569734c8ab66ba7d34be3a71e"
      }
     },
     "metadata": {},
     "output_type": "display_data"
    },
    {
     "data": {
      "text/plain": "  0%|          | 0/40 [00:00<?, ?it/s]",
      "application/vnd.jupyter.widget-view+json": {
       "version_major": 2,
       "version_minor": 0,
       "model_id": "54b320b0ce0b4a20abf73b6ab8158491"
      }
     },
     "metadata": {},
     "output_type": "display_data"
    },
    {
     "data": {
      "text/plain": "  0%|          | 0/40 [00:00<?, ?it/s]",
      "application/vnd.jupyter.widget-view+json": {
       "version_major": 2,
       "version_minor": 0,
       "model_id": "331e2a1ac4de4a50a5dc05312421b724"
      }
     },
     "metadata": {},
     "output_type": "display_data"
    },
    {
     "data": {
      "text/plain": "  0%|          | 0/40 [00:00<?, ?it/s]",
      "application/vnd.jupyter.widget-view+json": {
       "version_major": 2,
       "version_minor": 0,
       "model_id": "9f55a79a92f04ed78c644c1dbb3df9c6"
      }
     },
     "metadata": {},
     "output_type": "display_data"
    },
    {
     "data": {
      "text/plain": "  0%|          | 0/40 [00:00<?, ?it/s]",
      "application/vnd.jupyter.widget-view+json": {
       "version_major": 2,
       "version_minor": 0,
       "model_id": "aad90462a42741f08ee627503596ce2f"
      }
     },
     "metadata": {},
     "output_type": "display_data"
    },
    {
     "data": {
      "text/plain": "  0%|          | 0/40 [00:00<?, ?it/s]",
      "application/vnd.jupyter.widget-view+json": {
       "version_major": 2,
       "version_minor": 0,
       "model_id": "a9b3d1ae713d45fba62e106db3b6d3f6"
      }
     },
     "metadata": {},
     "output_type": "display_data"
    },
    {
     "data": {
      "text/plain": "  0%|          | 0/40 [00:00<?, ?it/s]",
      "application/vnd.jupyter.widget-view+json": {
       "version_major": 2,
       "version_minor": 0,
       "model_id": "351d5ccf068643a6aca9daefa2ea8e31"
      }
     },
     "metadata": {},
     "output_type": "display_data"
    },
    {
     "data": {
      "text/plain": "  0%|          | 0/40 [00:00<?, ?it/s]",
      "application/vnd.jupyter.widget-view+json": {
       "version_major": 2,
       "version_minor": 0,
       "model_id": "e8e6681196ae4480932bda8c508d2168"
      }
     },
     "metadata": {},
     "output_type": "display_data"
    },
    {
     "data": {
      "text/plain": "  0%|          | 0/40 [00:00<?, ?it/s]",
      "application/vnd.jupyter.widget-view+json": {
       "version_major": 2,
       "version_minor": 0,
       "model_id": "0bfda048b19244ac84d763fbc2305eb3"
      }
     },
     "metadata": {},
     "output_type": "display_data"
    },
    {
     "data": {
      "text/plain": "  0%|          | 0/40 [00:00<?, ?it/s]",
      "application/vnd.jupyter.widget-view+json": {
       "version_major": 2,
       "version_minor": 0,
       "model_id": "f11fc81522de471db89d152d665f571d"
      }
     },
     "metadata": {},
     "output_type": "display_data"
    },
    {
     "data": {
      "text/plain": "  0%|          | 0/40 [00:00<?, ?it/s]",
      "application/vnd.jupyter.widget-view+json": {
       "version_major": 2,
       "version_minor": 0,
       "model_id": "6ec0f6322333405ebd5091466e9a3f4e"
      }
     },
     "metadata": {},
     "output_type": "display_data"
    },
    {
     "data": {
      "text/plain": "  0%|          | 0/40 [00:00<?, ?it/s]",
      "application/vnd.jupyter.widget-view+json": {
       "version_major": 2,
       "version_minor": 0,
       "model_id": "fffda98b30e74e438c4aa8ab21073898"
      }
     },
     "metadata": {},
     "output_type": "display_data"
    },
    {
     "data": {
      "text/plain": "  0%|          | 0/40 [00:00<?, ?it/s]",
      "application/vnd.jupyter.widget-view+json": {
       "version_major": 2,
       "version_minor": 0,
       "model_id": "bc0b99d433774bde828b26e774f6eda3"
      }
     },
     "metadata": {},
     "output_type": "display_data"
    },
    {
     "data": {
      "text/plain": "  0%|          | 0/40 [00:00<?, ?it/s]",
      "application/vnd.jupyter.widget-view+json": {
       "version_major": 2,
       "version_minor": 0,
       "model_id": "70d6fafafb4745a78f832cb495e1c042"
      }
     },
     "metadata": {},
     "output_type": "display_data"
    },
    {
     "data": {
      "text/plain": "  0%|          | 0/40 [00:00<?, ?it/s]",
      "application/vnd.jupyter.widget-view+json": {
       "version_major": 2,
       "version_minor": 0,
       "model_id": "9046c36eef8b47cfaf15463931dd58ec"
      }
     },
     "metadata": {},
     "output_type": "display_data"
    },
    {
     "data": {
      "text/plain": "  0%|          | 0/40 [00:00<?, ?it/s]",
      "application/vnd.jupyter.widget-view+json": {
       "version_major": 2,
       "version_minor": 0,
       "model_id": "be16c0ffc2d04445ac78f5003207e589"
      }
     },
     "metadata": {},
     "output_type": "display_data"
    },
    {
     "data": {
      "text/plain": "  0%|          | 0/40 [00:00<?, ?it/s]",
      "application/vnd.jupyter.widget-view+json": {
       "version_major": 2,
       "version_minor": 0,
       "model_id": "cfaaa63ef76541cfa1edefb363348dcc"
      }
     },
     "metadata": {},
     "output_type": "display_data"
    },
    {
     "data": {
      "text/plain": "  0%|          | 0/40 [00:00<?, ?it/s]",
      "application/vnd.jupyter.widget-view+json": {
       "version_major": 2,
       "version_minor": 0,
       "model_id": "f75dffdf2005468c8477f4c045c6e1cf"
      }
     },
     "metadata": {},
     "output_type": "display_data"
    },
    {
     "data": {
      "text/plain": "  0%|          | 0/40 [00:00<?, ?it/s]",
      "application/vnd.jupyter.widget-view+json": {
       "version_major": 2,
       "version_minor": 0,
       "model_id": "0a4eb7b1917449e582dbf275f15c1d04"
      }
     },
     "metadata": {},
     "output_type": "display_data"
    },
    {
     "data": {
      "text/plain": "  0%|          | 0/40 [00:00<?, ?it/s]",
      "application/vnd.jupyter.widget-view+json": {
       "version_major": 2,
       "version_minor": 0,
       "model_id": "c6d4412e3df54e7ea91f0c8bb18fe058"
      }
     },
     "metadata": {},
     "output_type": "display_data"
    },
    {
     "data": {
      "text/plain": "  0%|          | 0/40 [00:00<?, ?it/s]",
      "application/vnd.jupyter.widget-view+json": {
       "version_major": 2,
       "version_minor": 0,
       "model_id": "5afefb74bef148b49f26b3d70066666b"
      }
     },
     "metadata": {},
     "output_type": "display_data"
    },
    {
     "data": {
      "text/plain": "  0%|          | 0/40 [00:00<?, ?it/s]",
      "application/vnd.jupyter.widget-view+json": {
       "version_major": 2,
       "version_minor": 0,
       "model_id": "93b3631e8ae64413bee9b73b5ffa7fa6"
      }
     },
     "metadata": {},
     "output_type": "display_data"
    },
    {
     "data": {
      "text/plain": "  0%|          | 0/40 [00:00<?, ?it/s]",
      "application/vnd.jupyter.widget-view+json": {
       "version_major": 2,
       "version_minor": 0,
       "model_id": "5955237bc70543b49aef49588697b008"
      }
     },
     "metadata": {},
     "output_type": "display_data"
    },
    {
     "data": {
      "text/plain": "  0%|          | 0/40 [00:00<?, ?it/s]",
      "application/vnd.jupyter.widget-view+json": {
       "version_major": 2,
       "version_minor": 0,
       "model_id": "be31c12d132d440e8a04c33136f6170f"
      }
     },
     "metadata": {},
     "output_type": "display_data"
    },
    {
     "data": {
      "text/plain": "  0%|          | 0/40 [00:00<?, ?it/s]",
      "application/vnd.jupyter.widget-view+json": {
       "version_major": 2,
       "version_minor": 0,
       "model_id": "9d601dc102c442c3be864dc6380de233"
      }
     },
     "metadata": {},
     "output_type": "display_data"
    },
    {
     "data": {
      "text/plain": "  0%|          | 0/40 [00:00<?, ?it/s]",
      "application/vnd.jupyter.widget-view+json": {
       "version_major": 2,
       "version_minor": 0,
       "model_id": "b43219ff39044d77a3489135380e2c99"
      }
     },
     "metadata": {},
     "output_type": "display_data"
    },
    {
     "data": {
      "text/plain": "  0%|          | 0/40 [00:00<?, ?it/s]",
      "application/vnd.jupyter.widget-view+json": {
       "version_major": 2,
       "version_minor": 0,
       "model_id": "3be815e93b0048098d80b27deb7723af"
      }
     },
     "metadata": {},
     "output_type": "display_data"
    },
    {
     "data": {
      "text/plain": "  0%|          | 0/40 [00:00<?, ?it/s]",
      "application/vnd.jupyter.widget-view+json": {
       "version_major": 2,
       "version_minor": 0,
       "model_id": "3ea604ae45df4b3693e044a3912e9872"
      }
     },
     "metadata": {},
     "output_type": "display_data"
    },
    {
     "data": {
      "text/plain": "  0%|          | 0/40 [00:00<?, ?it/s]",
      "application/vnd.jupyter.widget-view+json": {
       "version_major": 2,
       "version_minor": 0,
       "model_id": "053a7248e7d841dea4c57d7780f800a4"
      }
     },
     "metadata": {},
     "output_type": "display_data"
    },
    {
     "name": "stdout",
     "output_type": "stream",
     "text": [
      "0.5081967213114754\n",
      "[0.8032786885245902, 0.8032786885245902, 0.819672131147541]\n",
      "0.8360655737704918\n",
      "-----\n",
      "0.7540983606557377\n",
      "[0.7868852459016393, 0.7868852459016393, 0.8032786885245902]\n",
      "0.8360655737704918\n",
      "-----\n",
      "0.7540983606557377\n",
      "[0.7868852459016393, 0.7868852459016393, 0.8032786885245902]\n",
      "0.819672131147541\n"
     ]
    }
   ],
   "source": [
    "linear_accs = []\n",
    "maxplus_accs = []\n",
    "minplus_accs = []\n",
    "\n",
    "for _ in range(100):\n",
    "    heart_models = [\n",
    "        create_model(\"linear_relu\", num_features=13, num_classes=2, num_layers=2).to(device),\n",
    "        create_model(\"linear_maxplus\", num_features=13, num_classes=2, num_layers=2).to(device),\n",
    "        create_model(\"linear_minplus\", num_features=13, num_classes=2, num_layers=2).to(device),\n",
    "    ]\n",
    "    \n",
    "    loss = nn.CrossEntropyLoss()\n",
    "    epochs = 40\n",
    "    \n",
    "    for model in heart_models:\n",
    "        if model.name == \"linear_relu\":\n",
    "            optimizer = torch.optim.AdamW(model.parameters(), lr=6e-2)\n",
    "            scheduler = torch.optim.lr_scheduler.OneCycleLR(\n",
    "                optimizer,\n",
    "                max_lr=6e-2,\n",
    "                anneal_strategy=\"linear\",\n",
    "                pct_start=0.3,\n",
    "                three_phase=True,\n",
    "                final_div_factor=1000.0,\n",
    "                div_factor=10.0,\n",
    "                steps_per_epoch=len(heart_train),\n",
    "                epochs=epochs,\n",
    "            )\n",
    "            \n",
    "            linear_accs.append(\n",
    "                train(\n",
    "                    model,\n",
    "                    device,\n",
    "                    heart_train_loader,\n",
    "                    heart_test_loader,\n",
    "                    optimizer,\n",
    "                    scheduler,\n",
    "                    loss,\n",
    "                    epochs,\n",
    "                    statistics_mode=True\n",
    "                )\n",
    "            )\n",
    "        elif model.name == \"linear_maxplus\":\n",
    "            optimizer = torch.optim.AdamW(model.parameters(), lr=8e-2)\n",
    "            scheduler = torch.optim.lr_scheduler.OneCycleLR(\n",
    "                optimizer,\n",
    "                max_lr=8e-2,\n",
    "                anneal_strategy=\"linear\",\n",
    "                pct_start=0.3,\n",
    "                three_phase=True,\n",
    "                final_div_factor=1000.0,\n",
    "                div_factor=10.0,\n",
    "                steps_per_epoch=len(heart_train),\n",
    "                epochs=epochs,\n",
    "            )\n",
    "            \n",
    "            maxplus_accs.append(\n",
    "                train(\n",
    "                    model,\n",
    "                    device,\n",
    "                    heart_train_loader,\n",
    "                    heart_test_loader,\n",
    "                    optimizer,\n",
    "                    scheduler,\n",
    "                    loss,\n",
    "                    epochs,\n",
    "                    statistics_mode=True\n",
    "                )\n",
    "            )\n",
    "        elif model.name == \"linear_minplus\":\n",
    "            optimizer = torch.optim.AdamW(model.parameters(), lr=8e-2)\n",
    "            scheduler = torch.optim.lr_scheduler.OneCycleLR(\n",
    "                optimizer,\n",
    "                max_lr=8e-2,\n",
    "                anneal_strategy=\"linear\",\n",
    "                pct_start=0.3,\n",
    "                three_phase=True,\n",
    "                final_div_factor=1000.0,\n",
    "                div_factor=10.0,\n",
    "                steps_per_epoch=len(heart_train),\n",
    "                epochs=epochs,\n",
    "            )\n",
    "            \n",
    "            minplus_accs.append(\n",
    "                train(\n",
    "                    model,\n",
    "                    device,\n",
    "                    heart_train_loader,\n",
    "                    heart_test_loader,\n",
    "                    optimizer,\n",
    "                    scheduler,\n",
    "                    loss,\n",
    "                    epochs,\n",
    "                    statistics_mode=True\n",
    "                )\n",
    "            )\n",
    "        else:\n",
    "            raise RuntimeError(f\"Unknown model ({model.name})\")\n",
    "        \n",
    "print(min(linear_accs))\n",
    "print(quantiles(linear_accs))\n",
    "print(max(linear_accs))\n",
    "print('-----')\n",
    "print(min(maxplus_accs))\n",
    "print(quantiles(maxplus_accs))\n",
    "print(max(maxplus_accs))\n",
    "print('-----')\n",
    "print(min(minplus_accs))\n",
    "print(quantiles(minplus_accs))\n",
    "print(max(minplus_accs))"
   ],
   "metadata": {
    "collapsed": false,
    "ExecuteTime": {
     "end_time": "2023-09-01T13:21:04.208574600Z",
     "start_time": "2023-09-01T12:58:45.236485700Z"
    }
   }
  },
  {
   "cell_type": "code",
   "execution_count": 12,
   "outputs": [
    {
     "name": "stdout",
     "output_type": "stream",
     "text": [
      "linear/relu model has 256 parameters\n",
      "linear/maxplus model has 256 parameters\n",
      "linear/minplus model has 256 parameters\n"
     ]
    },
    {
     "data": {
      "text/plain": "''"
     },
     "metadata": {},
     "output_type": "display_data"
    },
    {
     "data": {
      "text/plain": "  0%|          | 0/15 [00:00<?, ?it/s]",
      "application/vnd.jupyter.widget-view+json": {
       "version_major": 2,
       "version_minor": 0,
       "model_id": "71f4a0cd9943449dbd3ee0d7b56c6327"
      }
     },
     "metadata": {},
     "output_type": "display_data"
    },
    {
     "data": {
      "text/plain": "''"
     },
     "metadata": {},
     "output_type": "display_data"
    },
    {
     "data": {
      "text/plain": "  0%|          | 0/15 [00:00<?, ?it/s]",
      "application/vnd.jupyter.widget-view+json": {
       "version_major": 2,
       "version_minor": 0,
       "model_id": "e08c17715327487e8dc842f7de1a92f4"
      }
     },
     "metadata": {},
     "output_type": "display_data"
    },
    {
     "data": {
      "text/plain": "''"
     },
     "metadata": {},
     "output_type": "display_data"
    },
    {
     "data": {
      "text/plain": "  0%|          | 0/15 [00:00<?, ?it/s]",
      "application/vnd.jupyter.widget-view+json": {
       "version_major": 2,
       "version_minor": 0,
       "model_id": "cee4223b0d5246bc99dad71f3851a8d2"
      }
     },
     "metadata": {},
     "output_type": "display_data"
    },
    {
     "data": {
      "text/plain": "<Figure size 600x400 with 1 Axes>",
      "image/png": "[encoded data removed]"
     },
     "metadata": {},
     "output_type": "display_data"
    },
    {
     "data": {
      "text/plain": "<Figure size 600x400 with 1 Axes>",
      "image/png": "[encoded data removed]"
     },
     "metadata": {},
     "output_type": "display_data"
    },
    {
     "data": {
      "text/plain": "<Figure size 600x400 with 1 Axes>",
      "image/png": "[encoded data removed]"
     },
     "metadata": {},
     "output_type": "display_data"
    }
   ],
   "source": [
    "circles_models = [\n",
    "    create_model(\"linear_relu\", num_features=2, num_classes=2, channel_size=8, num_layers=2).to(device),\n",
    "    create_model(\"linear_maxplus\", num_features=2, num_classes=2, channel_size=8, num_layers=2).to(device),\n",
    "    create_model(\"linear_minplus\", num_features=2, num_classes=2, channel_size=8, num_layers=2).to(device),\n",
    "]\n",
    "\n",
    "for model in circles_models:\n",
    "    model_ref = model.name.replace(\"_\", \"/\")\n",
    "    print(f\"{model_ref} model has {count_parameters(model)} parameters\")\n",
    "\n",
    "loss = nn.CrossEntropyLoss()\n",
    "epochs = 15\n",
    "\n",
    "for model in circles_models:\n",
    "    if model.name == \"linear_relu\":\n",
    "        optimizer = torch.optim.AdamW(model.parameters(), lr=6e-2)\n",
    "        scheduler = torch.optim.lr_scheduler.OneCycleLR(\n",
    "            optimizer,\n",
    "            max_lr=6e-2,\n",
    "            anneal_strategy=\"linear\",\n",
    "            pct_start=0.3,\n",
    "            three_phase=True,\n",
    "            final_div_factor=1000.0,\n",
    "            div_factor=10.0,\n",
    "            steps_per_epoch=len(circles_train),\n",
    "            epochs=epochs,\n",
    "        )\n",
    "    elif model.name == \"linear_maxplus\":\n",
    "        optimizer = torch.optim.AdamW(model.parameters(), lr=8e-2)\n",
    "        scheduler = torch.optim.lr_scheduler.OneCycleLR(\n",
    "            optimizer,\n",
    "            max_lr=8e-2,\n",
    "            anneal_strategy=\"linear\",\n",
    "            pct_start=0.3,\n",
    "            three_phase=True,\n",
    "            final_div_factor=1000.0,\n",
    "            div_factor=10.0,\n",
    "            steps_per_epoch=len(circles_train),\n",
    "            epochs=epochs,\n",
    "        )\n",
    "    elif model.name == \"linear_minplus\":\n",
    "        optimizer = torch.optim.AdamW(model.parameters(), lr=8e-2)\n",
    "        scheduler = torch.optim.lr_scheduler.OneCycleLR(\n",
    "            optimizer,\n",
    "            max_lr=8e-2,\n",
    "            anneal_strategy=\"linear\",\n",
    "            pct_start=0.3,\n",
    "            three_phase=True,\n",
    "            final_div_factor=1000.0,\n",
    "            div_factor=10.0,\n",
    "            steps_per_epoch=len(circles_train),\n",
    "            epochs=epochs,\n",
    "        )\n",
    "    else:\n",
    "        raise RuntimeError(f\"Unknown model ({model.name})\")\n",
    "\n",
    "    train(\n",
    "        model,\n",
    "        device,\n",
    "        circles_train_loader,\n",
    "        circles_test_loader,\n",
    "        optimizer,\n",
    "        scheduler,\n",
    "        loss,\n",
    "        epochs,\n",
    "    )"
   ],
   "metadata": {
    "collapsed": false,
    "ExecuteTime": {
     "end_time": "2023-09-01T13:22:54.237521900Z",
     "start_time": "2023-09-01T13:21:04.205102300Z"
    }
   }
  },
  {
   "cell_type": "code",
   "execution_count": null,
   "outputs": [],
   "source": [
    "linear_accs = []\n",
    "maxplus_accs = []\n",
    "minplus_accs = []\n",
    "\n",
    "for _ in range(100):\n",
    "    circles_models = [\n",
    "        create_model(\"linear_relu\", num_features=2, num_classes=2, channel_size=8, num_layers=2).to(device),\n",
    "        create_model(\"linear_maxplus\", num_features=2, num_classes=2, channel_size=8, num_layers=2).to(device),\n",
    "        create_model(\"linear_minplus\", num_features=2, num_classes=2, channel_size=8, num_layers=2).to(device),\n",
    "    ]\n",
    "    \n",
    "    loss = nn.CrossEntropyLoss()\n",
    "    epochs = 15\n",
    "    \n",
    "    for model in circles_models:\n",
    "        if model.name == \"linear_relu\":\n",
    "            optimizer = torch.optim.AdamW(model.parameters(), lr=6e-2)\n",
    "            scheduler = torch.optim.lr_scheduler.OneCycleLR(\n",
    "                optimizer,\n",
    "                max_lr=6e-2,\n",
    "                anneal_strategy=\"linear\",\n",
    "                pct_start=0.3,\n",
    "                three_phase=True,\n",
    "                final_div_factor=1000.0,\n",
    "                div_factor=10.0,\n",
    "                steps_per_epoch=len(circles_train),\n",
    "                epochs=epochs,\n",
    "            )\n",
    "            \n",
    "            linear_accs.append(\n",
    "                train(\n",
    "                    model,\n",
    "                    device,\n",
    "                    circles_train_loader,\n",
    "                    circles_test_loader,\n",
    "                    optimizer,\n",
    "                    scheduler,\n",
    "                    loss,\n",
    "                    epochs,\n",
    "                    statistics_mode=True\n",
    "                )\n",
    "            )\n",
    "        elif model.name == \"linear_maxplus\":\n",
    "            optimizer = torch.optim.AdamW(model.parameters(), lr=8e-2)\n",
    "            scheduler = torch.optim.lr_scheduler.OneCycleLR(\n",
    "                optimizer,\n",
    "                max_lr=8e-2,\n",
    "                anneal_strategy=\"linear\",\n",
    "                pct_start=0.3,\n",
    "                three_phase=True,\n",
    "                final_div_factor=1000.0,\n",
    "                div_factor=10.0,\n",
    "                steps_per_epoch=len(circles_train),\n",
    "                epochs=epochs,\n",
    "            )\n",
    "            \n",
    "            maxplus_accs.append(\n",
    "                train(\n",
    "                    model,\n",
    "                    device,\n",
    "                    circles_train_loader,\n",
    "                    circles_test_loader,\n",
    "                    optimizer,\n",
    "                    scheduler,\n",
    "                    loss,\n",
    "                    epochs,\n",
    "                    statistics_mode=True\n",
    "                )\n",
    "            )\n",
    "        elif model.name == \"linear_minplus\":\n",
    "            optimizer = torch.optim.AdamW(model.parameters(), lr=8e-2)\n",
    "            scheduler = torch.optim.lr_scheduler.OneCycleLR(\n",
    "                optimizer,\n",
    "                max_lr=8e-2,\n",
    "                anneal_strategy=\"linear\",\n",
    "                pct_start=0.3,\n",
    "                three_phase=True,\n",
    "                final_div_factor=1000.0,\n",
    "                div_factor=10.0,\n",
    "                steps_per_epoch=len(circles_train),\n",
    "                epochs=epochs,\n",
    "            )\n",
    "            \n",
    "            minplus_accs.append(\n",
    "                train(\n",
    "                    model,\n",
    "                    device,\n",
    "                    circles_train_loader,\n",
    "                    circles_test_loader,\n",
    "                    optimizer,\n",
    "                    scheduler,\n",
    "                    loss,\n",
    "                    epochs,\n",
    "                    statistics_mode=True\n",
    "                )\n",
    "            )\n",
    "        else:\n",
    "            raise RuntimeError(f\"Unknown model ({model.name})\")\n",
    "        \n",
    "print(min(linear_accs))\n",
    "print(quantiles(linear_accs))\n",
    "print(max(linear_accs))\n",
    "print('-----')\n",
    "print(min(maxplus_accs))\n",
    "print(quantiles(maxplus_accs))\n",
    "print(max(maxplus_accs))\n",
    "print('-----')\n",
    "print(min(minplus_accs))\n",
    "print(quantiles(minplus_accs))\n",
    "print(max(minplus_accs))"
   ],
   "metadata": {
    "collapsed": false
   }
  },
  {
   "cell_type": "code",
   "execution_count": null,
   "outputs": [],
   "source": [
    "rings_models = [\n",
    "    create_model(\"linear_relu\", num_features=3, num_classes=2, channel_size=8, num_layers=2).to(device),\n",
    "    create_model(\"linear_maxplus\", num_features=3, num_classes=2, channel_size=8, num_layers=2).to(device),\n",
    "    create_model(\"linear_minplus\", num_features=3, num_classes=2, channel_size=8, num_layers=2).to(device),\n",
    "]\n",
    "\n",
    "for model in rings_models:\n",
    "    model_ref = model.name.replace(\"_\", \"/\")\n",
    "    print(f\"{model_ref} model has {count_parameters(model)} parameters\")\n",
    "\n",
    "loss = nn.CrossEntropyLoss()\n",
    "epochs = 20\n",
    "\n",
    "for model in rings_models:\n",
    "    if model.name == \"linear_relu\":\n",
    "        optimizer = torch.optim.AdamW(model.parameters(), lr=4e-2)\n",
    "        scheduler = torch.optim.lr_scheduler.OneCycleLR(\n",
    "            optimizer,\n",
    "            max_lr=4e-2,\n",
    "            anneal_strategy=\"linear\",\n",
    "            pct_start=0.3,\n",
    "            three_phase=True,\n",
    "            final_div_factor=1000.0,\n",
    "            div_factor=10.0,\n",
    "            steps_per_epoch=len(rings_train),\n",
    "            epochs=epochs,\n",
    "        )\n",
    "    elif model.name == \"linear_maxplus\":\n",
    "        optimizer = torch.optim.AdamW(model.parameters(), lr=8e-2)\n",
    "        scheduler = torch.optim.lr_scheduler.OneCycleLR(\n",
    "            optimizer,\n",
    "            max_lr=8e-2,\n",
    "            anneal_strategy=\"linear\",\n",
    "            pct_start=0.3,\n",
    "            three_phase=True,\n",
    "            final_div_factor=1000.0,\n",
    "            div_factor=10.0,\n",
    "            steps_per_epoch=len(rings_train),\n",
    "            epochs=epochs,\n",
    "        )\n",
    "    elif model.name == \"linear_minplus\":\n",
    "        optimizer = torch.optim.AdamW(model.parameters(), lr=8e-2)\n",
    "        scheduler = torch.optim.lr_scheduler.OneCycleLR(\n",
    "            optimizer,\n",
    "            max_lr=8e-2,\n",
    "            anneal_strategy=\"linear\",\n",
    "            pct_start=0.3,\n",
    "            three_phase=True,\n",
    "            final_div_factor=1000.0,\n",
    "            div_factor=10.0,\n",
    "            steps_per_epoch=len(rings_train),\n",
    "            epochs=epochs,\n",
    "        )\n",
    "    else:\n",
    "        raise RuntimeError(f\"Unknown model ({model.name})\")\n",
    "\n",
    "    train(\n",
    "        model,\n",
    "        device,\n",
    "        rings_train_loader,\n",
    "        rings_test_loader,\n",
    "        optimizer,\n",
    "        scheduler,\n",
    "        loss,\n",
    "        epochs,\n",
    "    )"
   ],
   "metadata": {
    "collapsed": false,
    "ExecuteTime": {
     "end_time": "2023-09-01T15:59:22.933175700Z",
     "start_time": "2023-09-01T15:59:22.931191500Z"
    }
   }
  },
  {
   "cell_type": "code",
   "execution_count": null,
   "outputs": [],
   "source": [
    "linear_accs = []\n",
    "maxplus_accs = []\n",
    "minplus_accs = []\n",
    "\n",
    "for _ in range(100):\n",
    "    rings_models = [\n",
    "        create_model(\"linear_relu\", num_features=3, num_classes=2, channel_size=8, num_layers=2).to(device),\n",
    "        create_model(\"linear_maxplus\", num_features=3, num_classes=2, channel_size=8, num_layers=2).to(device),\n",
    "        create_model(\"linear_minplus\", num_features=3, num_classes=2, channel_size=8, num_layers=2).to(device),\n",
    "    ]\n",
    "    \n",
    "    loss = nn.CrossEntropyLoss()\n",
    "    epochs = 20\n",
    "    \n",
    "    for model in rings_models:\n",
    "        if model.name == \"linear_relu\":\n",
    "            optimizer = torch.optim.AdamW(model.parameters(), lr=4e-2)\n",
    "            scheduler = torch.optim.lr_scheduler.OneCycleLR(\n",
    "                optimizer,\n",
    "                max_lr=4e-2,\n",
    "                anneal_strategy=\"linear\",\n",
    "                pct_start=0.3,\n",
    "                three_phase=True,\n",
    "                final_div_factor=1000.0,\n",
    "                div_factor=10.0,\n",
    "                steps_per_epoch=len(rings_train),\n",
    "                epochs=epochs,\n",
    "            )\n",
    "            \n",
    "            linear_accs.append(\n",
    "                train(\n",
    "                    model,\n",
    "                    device,\n",
    "                    rings_train_loader,\n",
    "                    rings_test_loader,\n",
    "                    optimizer,\n",
    "                    scheduler,\n",
    "                    loss,\n",
    "                    epochs,\n",
    "                    statistics_mode=True\n",
    "                )\n",
    "            )\n",
    "        elif model.name == \"linear_maxplus\":\n",
    "            optimizer = torch.optim.AdamW(model.parameters(), lr=8e-2)\n",
    "            scheduler = torch.optim.lr_scheduler.OneCycleLR(\n",
    "                optimizer,\n",
    "                max_lr=8e-2,\n",
    "                anneal_strategy=\"linear\",\n",
    "                pct_start=0.3,\n",
    "                three_phase=True,\n",
    "                final_div_factor=1000.0,\n",
    "                div_factor=10.0,\n",
    "                steps_per_epoch=len(rings_train),\n",
    "                epochs=epochs,\n",
    "            )\n",
    "\n",
    "            maxplus_accs.append(\n",
    "                train(\n",
    "                    model,\n",
    "                    device,\n",
    "                    rings_train_loader,\n",
    "                    rings_test_loader,\n",
    "                    optimizer,\n",
    "                    scheduler,\n",
    "                    loss,\n",
    "                    epochs,\n",
    "                    statistics_mode=True\n",
    "                )\n",
    "            )\n",
    "        elif model.name == \"linear_minplus\":\n",
    "            optimizer = torch.optim.AdamW(model.parameters(), lr=8e-2)\n",
    "            scheduler = torch.optim.lr_scheduler.OneCycleLR(\n",
    "                optimizer,\n",
    "                max_lr=8e-2,\n",
    "                anneal_strategy=\"linear\",\n",
    "                pct_start=0.3,\n",
    "                three_phase=True,\n",
    "                final_div_factor=1000.0,\n",
    "                div_factor=10.0,\n",
    "                steps_per_epoch=len(rings_train),\n",
    "                epochs=epochs,\n",
    "            )\n",
    "            \n",
    "            minplus_accs.append(\n",
    "                train(\n",
    "                    model,\n",
    "                    device,\n",
    "                    rings_train_loader,\n",
    "                    rings_test_loader,\n",
    "                    optimizer,\n",
    "                    scheduler,\n",
    "                    loss,\n",
    "                    epochs,\n",
    "                    statistics_mode=True\n",
    "                )\n",
    "            )\n",
    "        else:\n",
    "            raise RuntimeError(f\"Unknown model ({model.name})\")\n",
    "        \n",
    "print(min(linear_accs))\n",
    "print(quantiles(linear_accs))\n",
    "print(max(linear_accs))\n",
    "print('-----')\n",
    "print(min(maxplus_accs))\n",
    "print(quantiles(maxplus_accs))\n",
    "print(max(maxplus_accs))\n",
    "print('-----')\n",
    "print(min(minplus_accs))\n",
    "print(quantiles(minplus_accs))\n",
    "print(max(minplus_accs))"
   ],
   "metadata": {
    "collapsed": false,
    "ExecuteTime": {
     "end_time": "2023-09-01T15:59:22.934662700Z",
     "start_time": "2023-09-01T15:59:22.933670900Z"
    }
   }
  },
  {
   "cell_type": "code",
   "execution_count": null,
   "outputs": [],
   "source": [
    "spheres_models = [\n",
    "    create_model(\"linear_relu\", num_features=3, num_classes=2, channel_size=8, num_layers=2).to(device),\n",
    "    create_model(\"linear_maxplus\", num_features=3, num_classes=2, channel_size=8, num_layers=2).to(device),\n",
    "    create_model(\"linear_minplus\", num_features=3, num_classes=2, channel_size=8, num_layers=2).to(device),\n",
    "]\n",
    "\n",
    "for model in rings_models:\n",
    "    model_ref = model.name.replace(\"_\", \"/\")\n",
    "    print(f\"{model_ref} model has {count_parameters(model)} parameters\")\n",
    "\n",
    "loss = nn.CrossEntropyLoss()\n",
    "epochs = 20\n",
    "\n",
    "for model in spheres_models:\n",
    "    if model.name == \"linear_relu\":\n",
    "        optimizer = torch.optim.AdamW(model.parameters(), lr=2e-2)\n",
    "        scheduler = torch.optim.lr_scheduler.OneCycleLR(\n",
    "            optimizer,\n",
    "            max_lr=2e-2,\n",
    "            anneal_strategy=\"linear\",\n",
    "            pct_start=0.3,\n",
    "            three_phase=True,\n",
    "            final_div_factor=1000.0,\n",
    "            div_factor=10.0,\n",
    "            steps_per_epoch=len(spheres_train),\n",
    "            epochs=epochs,\n",
    "        )\n",
    "    elif model.name == \"linear_maxplus\":\n",
    "        optimizer = torch.optim.AdamW(model.parameters(), lr=2e-2)\n",
    "        scheduler = torch.optim.lr_scheduler.OneCycleLR(\n",
    "            optimizer,\n",
    "            max_lr=2e-2,\n",
    "            anneal_strategy=\"linear\",\n",
    "            pct_start=0.3,\n",
    "            three_phase=True,\n",
    "            final_div_factor=1000.0,\n",
    "            div_factor=10.0,\n",
    "            steps_per_epoch=len(spheres_train),\n",
    "            epochs=epochs,\n",
    "        )\n",
    "    elif model.name == \"linear_minplus\":\n",
    "        optimizer = torch.optim.AdamW(model.parameters(), lr=2e-2)\n",
    "        scheduler = torch.optim.lr_scheduler.OneCycleLR(\n",
    "            optimizer,\n",
    "            max_lr=2e-2,\n",
    "            anneal_strategy=\"linear\",\n",
    "            pct_start=0.3,\n",
    "            three_phase=True,\n",
    "            final_div_factor=1000.0,\n",
    "            div_factor=10.0,\n",
    "            steps_per_epoch=len(spheres_train),\n",
    "            epochs=epochs,\n",
    "        )\n",
    "    else:\n",
    "        raise RuntimeError(f\"Unknown model ({model.name})\")\n",
    "\n",
    "    train(\n",
    "        model,\n",
    "        device,\n",
    "        spheres_train_loader,\n",
    "        spheres_test_loader,\n",
    "        optimizer,\n",
    "        scheduler,\n",
    "        loss,\n",
    "        epochs,\n",
    "    )"
   ],
   "metadata": {
    "collapsed": false,
    "ExecuteTime": {
     "end_time": "2023-09-01T15:59:22.935656500Z",
     "start_time": "2023-09-01T15:59:22.934662700Z"
    }
   }
  },
  {
   "cell_type": "code",
   "execution_count": null,
   "outputs": [],
   "source": [
    "linear_accs = []\n",
    "maxplus_accs = []\n",
    "minplus_accs = []\n",
    "\n",
    "for _ in range(100):\n",
    "    spheres_models = [\n",
    "        create_model(\"linear_relu\", num_features=3, num_classes=2, channel_size=8, num_layers=2).to(device),\n",
    "        create_model(\"linear_maxplus\", num_features=3, num_classes=2, channel_size=8, num_layers=2).to(device),\n",
    "        create_model(\"linear_minplus\", num_features=3, num_classes=2, channel_size=8, num_layers=2).to(device),\n",
    "    ]\n",
    "    \n",
    "    loss = nn.CrossEntropyLoss()\n",
    "    epochs = 20\n",
    "    \n",
    "    for model in spheres_models:\n",
    "        if model.name == \"linear_relu\":\n",
    "            optimizer = torch.optim.AdamW(model.parameters(), lr=2e-2)\n",
    "            scheduler = torch.optim.lr_scheduler.OneCycleLR(\n",
    "                optimizer,\n",
    "                max_lr=2e-2,\n",
    "                anneal_strategy=\"linear\",\n",
    "                pct_start=0.3,\n",
    "                three_phase=True,\n",
    "                final_div_factor=1000.0,\n",
    "                div_factor=10.0,\n",
    "                steps_per_epoch=len(spheres_train),\n",
    "                epochs=epochs,\n",
    "            )\n",
    "            \n",
    "            linear_accs.append(\n",
    "                train(\n",
    "                    model,\n",
    "                    device,\n",
    "                    spheres_train_loader,\n",
    "                    spheres_test_loader,\n",
    "                    optimizer,\n",
    "                    scheduler,\n",
    "                    loss,\n",
    "                    epochs,\n",
    "                    statistics_mode=True\n",
    "                )\n",
    "            )\n",
    "        elif model.name == \"linear_maxplus\":\n",
    "            optimizer = torch.optim.AdamW(model.parameters(), lr=2e-2)\n",
    "            scheduler = torch.optim.lr_scheduler.OneCycleLR(\n",
    "                optimizer,\n",
    "                max_lr=2e-2,\n",
    "                anneal_strategy=\"linear\",\n",
    "                pct_start=0.3,\n",
    "                three_phase=True,\n",
    "                final_div_factor=1000.0,\n",
    "                div_factor=10.0,\n",
    "                steps_per_epoch=len(spheres_train),\n",
    "                epochs=epochs,\n",
    "            )\n",
    "\n",
    "            maxplus_accs.append(\n",
    "                train(\n",
    "                    model,\n",
    "                    device,\n",
    "                    spheres_train_loader,\n",
    "                    spheres_test_loader,\n",
    "                    optimizer,\n",
    "                    scheduler,\n",
    "                    loss,\n",
    "                    epochs,\n",
    "                    statistics_mode=True\n",
    "                )\n",
    "            )\n",
    "        elif model.name == \"linear_minplus\":\n",
    "            optimizer = torch.optim.AdamW(model.parameters(), lr=2e-2)\n",
    "            scheduler = torch.optim.lr_scheduler.OneCycleLR(\n",
    "                optimizer,\n",
    "                max_lr=2e-2,\n",
    "                anneal_strategy=\"linear\",\n",
    "                pct_start=0.3,\n",
    "                three_phase=True,\n",
    "                final_div_factor=1000.0,\n",
    "                div_factor=10.0,\n",
    "                steps_per_epoch=len(spheres_train),\n",
    "                epochs=epochs,\n",
    "            )\n",
    "            \n",
    "            minplus_accs.append(\n",
    "                train(\n",
    "                    model,\n",
    "                    device,\n",
    "                    spheres_train_loader,\n",
    "                    spheres_test_loader,\n",
    "                    optimizer,\n",
    "                    scheduler,\n",
    "                    loss,\n",
    "                    epochs,\n",
    "                    statistics_mode=True\n",
    "                )\n",
    "            )\n",
    "        else:\n",
    "            raise RuntimeError(f\"Unknown model ({model.name})\")\n",
    "        \n",
    "print(min(linear_accs))\n",
    "print(quantiles(linear_accs))\n",
    "print(max(linear_accs))\n",
    "print('-----')\n",
    "print(min(maxplus_accs))\n",
    "print(quantiles(maxplus_accs))\n",
    "print(max(maxplus_accs))\n",
    "print('-----')\n",
    "print(min(minplus_accs))\n",
    "print(quantiles(minplus_accs))\n",
    "print(max(minplus_accs))"
   ],
   "metadata": {
    "collapsed": false,
    "ExecuteTime": {
     "end_time": "2023-09-01T15:59:22.939138400Z",
     "start_time": "2023-09-01T15:59:22.936152400Z"
    }
   }
  },
  {
   "cell_type": "markdown",
   "source": [
    "## Without proper initialisations"
   ],
   "metadata": {
    "collapsed": false
   }
  },
  {
   "cell_type": "code",
   "execution_count": null,
   "outputs": [],
   "source": [
    "iris_models = [\n",
    "    create_model(\"linear_relu\", num_features=4, num_classes=3, use_good_init=False).to(device),\n",
    "    create_model(\"linear_maxplus\", num_features=4, num_classes=3, use_good_init=False).to(device),\n",
    "    create_model(\"linear_minplus\", num_features=4, num_classes=3, use_good_init=False).to(device),\n",
    "]\n",
    "\n",
    "for model in iris_models:\n",
    "    model_ref = model.name.replace(\"_\", \"/\")\n",
    "    print(f\"{model_ref} model has {count_parameters(model)} trainable parameters\")\n",
    "\n",
    "loss = nn.CrossEntropyLoss()\n",
    "epochs = 40\n",
    "\n",
    "for model in iris_models:\n",
    "    if model.name == \"linear_relu\":\n",
    "        optimizer = torch.optim.AdamW(model.parameters(), lr=2e-2)\n",
    "        scheduler = torch.optim.lr_scheduler.OneCycleLR(\n",
    "            optimizer,\n",
    "            max_lr=2e-2,\n",
    "            anneal_strategy=\"linear\",\n",
    "            pct_start=0.3,\n",
    "            three_phase=True,\n",
    "            final_div_factor=1000.0,\n",
    "            div_factor=10.0,\n",
    "            steps_per_epoch=len(iris_train),\n",
    "            epochs=epochs,\n",
    "        )\n",
    "    elif model.name == \"linear_maxplus\":\n",
    "        optimizer = torch.optim.AdamW(model.parameters(), lr=2e-2)\n",
    "        scheduler = torch.optim.lr_scheduler.OneCycleLR(\n",
    "            optimizer,\n",
    "            max_lr=2e-2,\n",
    "            anneal_strategy=\"linear\",\n",
    "            pct_start=0.3,\n",
    "            three_phase=True,\n",
    "            final_div_factor=1000.0,\n",
    "            div_factor=10.0,\n",
    "            steps_per_epoch=len(iris_train),\n",
    "            epochs=epochs,\n",
    "        )\n",
    "    elif model.name == \"linear_minplus\":\n",
    "        optimizer = torch.optim.AdamW(model.parameters(), lr=2e-2)\n",
    "        scheduler = torch.optim.lr_scheduler.OneCycleLR(\n",
    "            optimizer,\n",
    "            max_lr=2e-2,\n",
    "            anneal_strategy=\"linear\",\n",
    "            pct_start=0.3,\n",
    "            three_phase=True,\n",
    "            final_div_factor=1000.0,\n",
    "            div_factor=10.0,\n",
    "            steps_per_epoch=len(iris_train),\n",
    "            epochs=epochs,\n",
    "        )\n",
    "    else:\n",
    "        raise RuntimeError(f\"Unknown model ({model.name})\")\n",
    "\n",
    "    train(\n",
    "        model,\n",
    "        device,\n",
    "        iris_train_loader,\n",
    "        iris_test_loader,\n",
    "        optimizer,\n",
    "        scheduler,\n",
    "        loss,\n",
    "        epochs,\n",
    "    )"
   ],
   "metadata": {
    "collapsed": false,
    "ExecuteTime": {
     "start_time": "2023-09-01T15:59:22.938134400Z"
    }
   }
  },
  {
   "cell_type": "code",
   "execution_count": null,
   "outputs": [],
   "source": [
    "linear_accs = []\n",
    "maxplus_accs = []\n",
    "minplus_accs = []\n",
    "\n",
    "for _ in range(100):\n",
    "    iris_models = [\n",
    "        create_model(\"linear_relu\", num_features=4, num_classes=3, use_good_init=False).to(device),\n",
    "        create_model(\"linear_maxplus\", num_features=4, num_classes=3, use_good_init=False).to(device),\n",
    "        create_model(\"linear_minplus\", num_features=4, num_classes=3, use_good_init=False).to(device),\n",
    "    ]\n",
    "    \n",
    "    loss = nn.CrossEntropyLoss()\n",
    "    epochs = 40\n",
    "    \n",
    "    for model in iris_models:\n",
    "        if model.name == \"linear_relu\":\n",
    "            optimizer = torch.optim.AdamW(model.parameters(), lr=2e-2)\n",
    "            scheduler = torch.optim.lr_scheduler.OneCycleLR(\n",
    "                optimizer,\n",
    "                max_lr=2e-2,\n",
    "                anneal_strategy=\"linear\",\n",
    "                pct_start=0.3,\n",
    "                three_phase=True,\n",
    "                final_div_factor=1000.0,\n",
    "                div_factor=10.0,\n",
    "                steps_per_epoch=len(iris_train),\n",
    "                epochs=epochs,\n",
    "            )\n",
    "            \n",
    "            linear_accs.append(\n",
    "                train(\n",
    "                    model,\n",
    "                    device,\n",
    "                    iris_train_loader,\n",
    "                    iris_test_loader,\n",
    "                    optimizer,\n",
    "                    scheduler,\n",
    "                    loss,\n",
    "                    epochs,\n",
    "                    statistics_mode=True\n",
    "                )\n",
    "            )\n",
    "        elif model.name == \"linear_maxplus\":\n",
    "            optimizer = torch.optim.AdamW(model.parameters(), lr=2e-2)\n",
    "            scheduler = torch.optim.lr_scheduler.OneCycleLR(\n",
    "                optimizer,\n",
    "                max_lr=2e-2,\n",
    "                anneal_strategy=\"linear\",\n",
    "                pct_start=0.3,\n",
    "                three_phase=True,\n",
    "                final_div_factor=1000.0,\n",
    "                div_factor=10.0,\n",
    "                steps_per_epoch=len(iris_train),\n",
    "                epochs=epochs,\n",
    "            )\n",
    "            \n",
    "            maxplus_accs.append(\n",
    "                train(\n",
    "                    model,\n",
    "                    device,\n",
    "                    iris_train_loader,\n",
    "                    iris_test_loader,\n",
    "                    optimizer,\n",
    "                    scheduler,\n",
    "                    loss,\n",
    "                    epochs,\n",
    "                    statistics_mode=True\n",
    "                )\n",
    "            )\n",
    "        elif model.name == \"linear_minplus\":\n",
    "            optimizer = torch.optim.AdamW(model.parameters(), lr=2e-2)\n",
    "            scheduler = torch.optim.lr_scheduler.OneCycleLR(\n",
    "                optimizer,\n",
    "                max_lr=2e-2,\n",
    "                anneal_strategy=\"linear\",\n",
    "                pct_start=0.3,\n",
    "                three_phase=True,\n",
    "                final_div_factor=1000.0,\n",
    "                div_factor=10.0,\n",
    "                steps_per_epoch=len(iris_train),\n",
    "                epochs=epochs,\n",
    "            )\n",
    "            \n",
    "            minplus_accs.append(\n",
    "                train(\n",
    "                    model,\n",
    "                    device,\n",
    "                    iris_train_loader,\n",
    "                    iris_test_loader,\n",
    "                    optimizer,\n",
    "                    scheduler,\n",
    "                    loss,\n",
    "                    epochs,\n",
    "                    statistics_mode=True\n",
    "                )\n",
    "            )\n",
    "        else:\n",
    "            raise RuntimeError(f\"Unknown model ({model.name})\")\n",
    "        \n",
    "print(min(linear_accs))\n",
    "print(quantiles(linear_accs))\n",
    "print(max(linear_accs))\n",
    "print('-----')\n",
    "print(min(maxplus_accs))\n",
    "print(quantiles(maxplus_accs))\n",
    "print(max(maxplus_accs))\n",
    "print('-----')\n",
    "print(min(minplus_accs))\n",
    "print(quantiles(minplus_accs))\n",
    "print(max(minplus_accs))"
   ],
   "metadata": {
    "collapsed": false,
    "ExecuteTime": {
     "end_time": "2023-09-01T15:59:22.940637400Z",
     "start_time": "2023-09-01T15:59:22.939643500Z"
    }
   }
  },
  {
   "cell_type": "code",
   "execution_count": null,
   "outputs": [],
   "source": [
    "heart_models = [\n",
    "    create_model(\"linear_relu\", num_features=13, num_classes=2, num_layers=2, use_good_init=False).to(device),\n",
    "    create_model(\"linear_maxplus\", num_features=13, num_classes=2, num_layers=2, use_good_init=False).to(device),\n",
    "    create_model(\"linear_minplus\", num_features=13, num_classes=2, num_layers=2, use_good_init=False).to(device),\n",
    "]\n",
    "\n",
    "for model in heart_models:\n",
    "    model_ref = model.name.replace(\"_\", \"/\")\n",
    "    print(f\"{model_ref} model has {count_parameters(model)} trainable parameters\")\n",
    "\n",
    "loss = nn.CrossEntropyLoss()\n",
    "epochs = 40\n",
    "\n",
    "for model in heart_models:\n",
    "    if model.name == \"linear_relu\":\n",
    "        optimizer = torch.optim.AdamW(model.parameters(), lr=6e-2)\n",
    "        scheduler = torch.optim.lr_scheduler.OneCycleLR(\n",
    "            optimizer,\n",
    "            max_lr=6e-2,\n",
    "            anneal_strategy=\"linear\",\n",
    "            pct_start=0.3,\n",
    "            three_phase=True,\n",
    "            final_div_factor=1000.0,\n",
    "            div_factor=10.0,\n",
    "            steps_per_epoch=len(heart_train),\n",
    "            epochs=epochs,\n",
    "        )\n",
    "    elif model.name == \"linear_maxplus\":\n",
    "        optimizer = torch.optim.AdamW(model.parameters(), lr=8e-2)\n",
    "        scheduler = torch.optim.lr_scheduler.OneCycleLR(\n",
    "            optimizer,\n",
    "            max_lr=8e-2,\n",
    "            anneal_strategy=\"linear\",\n",
    "            pct_start=0.3,\n",
    "            three_phase=True,\n",
    "            final_div_factor=1000.0,\n",
    "            div_factor=10.0,\n",
    "            steps_per_epoch=len(heart_train),\n",
    "            epochs=epochs,\n",
    "        )\n",
    "    elif model.name == \"linear_minplus\":\n",
    "        optimizer = torch.optim.AdamW(model.parameters(), lr=8e-2)\n",
    "        scheduler = torch.optim.lr_scheduler.OneCycleLR(\n",
    "            optimizer,\n",
    "            max_lr=8e-2,\n",
    "            anneal_strategy=\"linear\",\n",
    "            pct_start=0.3,\n",
    "            three_phase=True,\n",
    "            final_div_factor=1000.0,\n",
    "            div_factor=10.0,\n",
    "            steps_per_epoch=len(heart_train),\n",
    "            epochs=epochs,\n",
    "        )\n",
    "    else:\n",
    "        raise RuntimeError(f\"Unknown model ({model.name})\")\n",
    "\n",
    "    train(\n",
    "        model,\n",
    "        device,\n",
    "        heart_train_loader,\n",
    "        heart_test_loader,\n",
    "        optimizer,\n",
    "        scheduler,\n",
    "        loss,\n",
    "        epochs,\n",
    "    )"
   ],
   "metadata": {
    "collapsed": false,
    "ExecuteTime": {
     "start_time": "2023-09-01T15:59:22.941133400Z"
    }
   }
  },
  {
   "cell_type": "code",
   "execution_count": null,
   "outputs": [],
   "source": [
    "linear_accs = []\n",
    "maxplus_accs = []\n",
    "minplus_accs = []\n",
    "\n",
    "for _ in range(100):\n",
    "    heart_models = [\n",
    "        create_model(\"linear_relu\", num_features=13, num_classes=2, num_layers=2, use_good_init=False).to(device),\n",
    "        create_model(\"linear_maxplus\", num_features=13, num_classes=2, num_layers=2, use_good_init=False).to(device),\n",
    "        create_model(\"linear_minplus\", num_features=13, num_classes=2, num_layers=2, use_good_init=False).to(device),\n",
    "    ]\n",
    "    \n",
    "    loss = nn.CrossEntropyLoss()\n",
    "    epochs = 40\n",
    "    \n",
    "    for model in heart_models:\n",
    "        if model.name == \"linear_relu\":\n",
    "            optimizer = torch.optim.AdamW(model.parameters(), lr=6e-2)\n",
    "            scheduler = torch.optim.lr_scheduler.OneCycleLR(\n",
    "                optimizer,\n",
    "                max_lr=6e-2,\n",
    "                anneal_strategy=\"linear\",\n",
    "                pct_start=0.3,\n",
    "                three_phase=True,\n",
    "                final_div_factor=1000.0,\n",
    "                div_factor=10.0,\n",
    "                steps_per_epoch=len(heart_train),\n",
    "                epochs=epochs,\n",
    "            )\n",
    "            \n",
    "            linear_accs.append(\n",
    "                train(\n",
    "                    model,\n",
    "                    device,\n",
    "                    heart_train_loader,\n",
    "                    heart_test_loader,\n",
    "                    optimizer,\n",
    "                    scheduler,\n",
    "                    loss,\n",
    "                    epochs,\n",
    "                    statistics_mode=True\n",
    "                )\n",
    "            )\n",
    "        elif model.name == \"linear_maxplus\":\n",
    "            optimizer = torch.optim.AdamW(model.parameters(), lr=8e-2)\n",
    "            scheduler = torch.optim.lr_scheduler.OneCycleLR(\n",
    "                optimizer,\n",
    "                max_lr=8e-2,\n",
    "                anneal_strategy=\"linear\",\n",
    "                pct_start=0.3,\n",
    "                three_phase=True,\n",
    "                final_div_factor=1000.0,\n",
    "                div_factor=10.0,\n",
    "                steps_per_epoch=len(heart_train),\n",
    "                epochs=epochs,\n",
    "            )\n",
    "            \n",
    "            maxplus_accs.append(\n",
    "                train(\n",
    "                    model,\n",
    "                    device,\n",
    "                    heart_train_loader,\n",
    "                    heart_test_loader,\n",
    "                    optimizer,\n",
    "                    scheduler,\n",
    "                    loss,\n",
    "                    epochs,\n",
    "                    statistics_mode=True\n",
    "                )\n",
    "            )\n",
    "        elif model.name == \"linear_minplus\":\n",
    "            optimizer = torch.optim.AdamW(model.parameters(), lr=8e-2)\n",
    "            scheduler = torch.optim.lr_scheduler.OneCycleLR(\n",
    "                optimizer,\n",
    "                max_lr=8e-2,\n",
    "                anneal_strategy=\"linear\",\n",
    "                pct_start=0.3,\n",
    "                three_phase=True,\n",
    "                final_div_factor=1000.0,\n",
    "                div_factor=10.0,\n",
    "                steps_per_epoch=len(heart_train),\n",
    "                epochs=epochs,\n",
    "            )\n",
    "            \n",
    "            minplus_accs.append(\n",
    "                train(\n",
    "                    model,\n",
    "                    device,\n",
    "                    heart_train_loader,\n",
    "                    heart_test_loader,\n",
    "                    optimizer,\n",
    "                    scheduler,\n",
    "                    loss,\n",
    "                    epochs,\n",
    "                    statistics_mode=True\n",
    "                )\n",
    "            )\n",
    "        else:\n",
    "            raise RuntimeError(f\"Unknown model ({model.name})\")\n",
    "        \n",
    "print(min(linear_accs))\n",
    "print(quantiles(linear_accs))\n",
    "print(max(linear_accs))\n",
    "print('-----')\n",
    "print(min(maxplus_accs))\n",
    "print(quantiles(maxplus_accs))\n",
    "print(max(maxplus_accs))\n",
    "print('-----')\n",
    "print(min(minplus_accs))\n",
    "print(quantiles(minplus_accs))\n",
    "print(max(minplus_accs))"
   ],
   "metadata": {
    "collapsed": false,
    "ExecuteTime": {
     "end_time": "2023-09-01T15:59:22.956323200Z",
     "start_time": "2023-09-01T15:59:22.942623300Z"
    }
   }
  },
  {
   "cell_type": "code",
   "execution_count": null,
   "outputs": [],
   "source": [
    "circles_models = [\n",
    "    create_model(\"linear_relu\", num_features=2, num_classes=2, channel_size=8, num_layers=2, use_good_init=False).to(device),\n",
    "    create_model(\"linear_maxplus\", num_features=2, num_classes=2, channel_size=8, num_layers=2, use_good_init=False).to(device),\n",
    "    create_model(\"linear_minplus\", num_features=2, num_classes=2, channel_size=8, num_layers=2, use_good_init=False).to(device),\n",
    "]\n",
    "\n",
    "for model in circles_models:\n",
    "    model_ref = model.name.replace(\"_\", \"/\")\n",
    "    print(f\"{model_ref} model has {count_parameters(model)} parameters\")\n",
    "\n",
    "loss = nn.CrossEntropyLoss()\n",
    "epochs = 15\n",
    "\n",
    "for model in circles_models:\n",
    "    if model.name == \"linear_relu\":\n",
    "        optimizer = torch.optim.AdamW(model.parameters(), lr=6e-2)\n",
    "        scheduler = torch.optim.lr_scheduler.OneCycleLR(\n",
    "            optimizer,\n",
    "            max_lr=6e-2,\n",
    "            anneal_strategy=\"linear\",\n",
    "            pct_start=0.3,\n",
    "            three_phase=True,\n",
    "            final_div_factor=1000.0,\n",
    "            div_factor=10.0,\n",
    "            steps_per_epoch=len(circles_train),\n",
    "            epochs=epochs,\n",
    "        )\n",
    "    elif model.name == \"linear_maxplus\":\n",
    "        optimizer = torch.optim.AdamW(model.parameters(), lr=8e-2)\n",
    "        scheduler = torch.optim.lr_scheduler.OneCycleLR(\n",
    "            optimizer,\n",
    "            max_lr=8e-2,\n",
    "            anneal_strategy=\"linear\",\n",
    "            pct_start=0.3,\n",
    "            three_phase=True,\n",
    "            final_div_factor=1000.0,\n",
    "            div_factor=10.0,\n",
    "            steps_per_epoch=len(circles_train),\n",
    "            epochs=epochs,\n",
    "        )\n",
    "    elif model.name == \"linear_minplus\":\n",
    "        optimizer = torch.optim.AdamW(model.parameters(), lr=8e-2)\n",
    "        scheduler = torch.optim.lr_scheduler.OneCycleLR(\n",
    "            optimizer,\n",
    "            max_lr=8e-2,\n",
    "            anneal_strategy=\"linear\",\n",
    "            pct_start=0.3,\n",
    "            three_phase=True,\n",
    "            final_div_factor=1000.0,\n",
    "            div_factor=10.0,\n",
    "            steps_per_epoch=len(circles_train),\n",
    "            epochs=epochs,\n",
    "        )\n",
    "    else:\n",
    "        raise RuntimeError(f\"Unknown model ({model.name})\")\n",
    "\n",
    "    train(\n",
    "        model,\n",
    "        device,\n",
    "        circles_train_loader,\n",
    "        circles_test_loader,\n",
    "        optimizer,\n",
    "        scheduler,\n",
    "        loss,\n",
    "        epochs,\n",
    "    )"
   ],
   "metadata": {
    "collapsed": false,
    "ExecuteTime": {
     "start_time": "2023-09-01T15:59:22.944607100Z"
    }
   }
  },
  {
   "cell_type": "code",
   "execution_count": null,
   "outputs": [],
   "source": [
    "linear_accs = []\n",
    "maxplus_accs = []\n",
    "minplus_accs = []\n",
    "\n",
    "for _ in range(100):\n",
    "    circles_models = [\n",
    "        create_model(\"linear_relu\", num_features=2, num_classes=2, channel_size=8, num_layers=2, use_good_init=False).to(device),\n",
    "        create_model(\"linear_maxplus\", num_features=2, num_classes=2, channel_size=8, num_layers=2, use_good_init=False).to(device),\n",
    "        create_model(\"linear_minplus\", num_features=2, num_classes=2, channel_size=8, num_layers=2, use_good_init=False).to(device),\n",
    "    ]\n",
    "    \n",
    "    loss = nn.CrossEntropyLoss()\n",
    "    epochs = 15\n",
    "    \n",
    "    for model in circles_models:\n",
    "        if model.name == \"linear_relu\":\n",
    "            optimizer = torch.optim.AdamW(model.parameters(), lr=6e-2)\n",
    "            scheduler = torch.optim.lr_scheduler.OneCycleLR(\n",
    "                optimizer,\n",
    "                max_lr=6e-2,\n",
    "                anneal_strategy=\"linear\",\n",
    "                pct_start=0.3,\n",
    "                three_phase=True,\n",
    "                final_div_factor=1000.0,\n",
    "                div_factor=10.0,\n",
    "                steps_per_epoch=len(circles_train),\n",
    "                epochs=epochs,\n",
    "            )\n",
    "            \n",
    "            linear_accs.append(\n",
    "                train(\n",
    "                    model,\n",
    "                    device,\n",
    "                    circles_train_loader,\n",
    "                    circles_test_loader,\n",
    "                    optimizer,\n",
    "                    scheduler,\n",
    "                    loss,\n",
    "                    epochs,\n",
    "                    statistics_mode=True\n",
    "                )\n",
    "            )\n",
    "        elif model.name == \"linear_maxplus\":\n",
    "            optimizer = torch.optim.AdamW(model.parameters(), lr=8e-2)\n",
    "            scheduler = torch.optim.lr_scheduler.OneCycleLR(\n",
    "                optimizer,\n",
    "                max_lr=8e-2,\n",
    "                anneal_strategy=\"linear\",\n",
    "                pct_start=0.3,\n",
    "                three_phase=True,\n",
    "                final_div_factor=1000.0,\n",
    "                div_factor=10.0,\n",
    "                steps_per_epoch=len(circles_train),\n",
    "                epochs=epochs,\n",
    "            )\n",
    "            \n",
    "            maxplus_accs.append(\n",
    "                train(\n",
    "                    model,\n",
    "                    device,\n",
    "                    circles_train_loader,\n",
    "                    circles_test_loader,\n",
    "                    optimizer,\n",
    "                    scheduler,\n",
    "                    loss,\n",
    "                    epochs,\n",
    "                    statistics_mode=True\n",
    "                )\n",
    "            )\n",
    "        elif model.name == \"linear_minplus\":\n",
    "            optimizer = torch.optim.AdamW(model.parameters(), lr=8e-2)\n",
    "            scheduler = torch.optim.lr_scheduler.OneCycleLR(\n",
    "                optimizer,\n",
    "                max_lr=8e-2,\n",
    "                anneal_strategy=\"linear\",\n",
    "                pct_start=0.3,\n",
    "                three_phase=True,\n",
    "                final_div_factor=1000.0,\n",
    "                div_factor=10.0,\n",
    "                steps_per_epoch=len(circles_train),\n",
    "                epochs=epochs,\n",
    "            )\n",
    "            \n",
    "            minplus_accs.append(\n",
    "                train(\n",
    "                    model,\n",
    "                    device,\n",
    "                    circles_train_loader,\n",
    "                    circles_test_loader,\n",
    "                    optimizer,\n",
    "                    scheduler,\n",
    "                    loss,\n",
    "                    epochs,\n",
    "                    statistics_mode=True\n",
    "                )\n",
    "            )\n",
    "        else:\n",
    "            raise RuntimeError(f\"Unknown model ({model.name})\")\n",
    "        \n",
    "print(min(linear_accs))\n",
    "print(quantiles(linear_accs))\n",
    "print(max(linear_accs))\n",
    "print('-----')\n",
    "print(min(maxplus_accs))\n",
    "print(quantiles(maxplus_accs))\n",
    "print(max(maxplus_accs))\n",
    "print('-----')\n",
    "print(min(minplus_accs))\n",
    "print(quantiles(minplus_accs))\n",
    "print(max(minplus_accs))"
   ],
   "metadata": {
    "collapsed": false,
    "ExecuteTime": {
     "start_time": "2023-09-01T15:59:22.946591Z"
    }
   }
  },
  {
   "cell_type": "code",
   "execution_count": null,
   "outputs": [],
   "source": [
    "rings_models = [\n",
    "    create_model(\"linear_relu\", num_features=3, num_classes=2, channel_size=8, num_layers=2, use_good_init=False).to(device),\n",
    "    create_model(\"linear_maxplus\", num_features=3, num_classes=2, channel_size=8, num_layers=2, use_good_init=False).to(device),\n",
    "    create_model(\"linear_minplus\", num_features=3, num_classes=2, channel_size=8, num_layers=2, use_good_init=False).to(device),\n",
    "]\n",
    "\n",
    "for model in rings_models:\n",
    "    model_ref = model.name.replace(\"_\", \"/\")\n",
    "    print(f\"{model_ref} model has {count_parameters(model)} parameters\")\n",
    "\n",
    "loss = nn.CrossEntropyLoss()\n",
    "epochs = 20\n",
    "\n",
    "for model in rings_models:\n",
    "    if model.name == \"linear_relu\":\n",
    "        optimizer = torch.optim.AdamW(model.parameters(), lr=4e-2)\n",
    "        scheduler = torch.optim.lr_scheduler.OneCycleLR(\n",
    "            optimizer,\n",
    "            max_lr=4e-2,\n",
    "            anneal_strategy=\"linear\",\n",
    "            pct_start=0.3,\n",
    "            three_phase=True,\n",
    "            final_div_factor=1000.0,\n",
    "            div_factor=10.0,\n",
    "            steps_per_epoch=len(rings_train),\n",
    "            epochs=epochs,\n",
    "        )\n",
    "    elif model.name == \"linear_maxplus\":\n",
    "        optimizer = torch.optim.AdamW(model.parameters(), lr=8e-2)\n",
    "        scheduler = torch.optim.lr_scheduler.OneCycleLR(\n",
    "            optimizer,\n",
    "            max_lr=8e-2,\n",
    "            anneal_strategy=\"linear\",\n",
    "            pct_start=0.3,\n",
    "            three_phase=True,\n",
    "            final_div_factor=1000.0,\n",
    "            div_factor=10.0,\n",
    "            steps_per_epoch=len(rings_train),\n",
    "            epochs=epochs,\n",
    "        )\n",
    "    elif model.name == \"linear_minplus\":\n",
    "        optimizer = torch.optim.AdamW(model.parameters(), lr=8e-2)\n",
    "        scheduler = torch.optim.lr_scheduler.OneCycleLR(\n",
    "            optimizer,\n",
    "            max_lr=8e-2,\n",
    "            anneal_strategy=\"linear\",\n",
    "            pct_start=0.3,\n",
    "            three_phase=True,\n",
    "            final_div_factor=1000.0,\n",
    "            div_factor=10.0,\n",
    "            steps_per_epoch=len(rings_train),\n",
    "            epochs=epochs,\n",
    "        )\n",
    "    else:\n",
    "        raise RuntimeError(f\"Unknown model ({model.name})\")\n",
    "\n",
    "    train(\n",
    "        model,\n",
    "        device,\n",
    "        rings_train_loader,\n",
    "        rings_test_loader,\n",
    "        optimizer,\n",
    "        scheduler,\n",
    "        loss,\n",
    "        epochs,\n",
    "    )"
   ],
   "metadata": {
    "collapsed": false,
    "ExecuteTime": {
     "start_time": "2023-09-01T15:59:22.948079Z"
    }
   }
  },
  {
   "cell_type": "code",
   "execution_count": null,
   "outputs": [],
   "source": [
    "linear_accs = []\n",
    "maxplus_accs = []\n",
    "minplus_accs = []\n",
    "\n",
    "for _ in range(100):\n",
    "    rings_models = [\n",
    "        create_model(\"linear_relu\", num_features=3, num_classes=2, channel_size=8, num_layers=2, use_good_init=False).to(device),\n",
    "        create_model(\"linear_maxplus\", num_features=3, num_classes=2, channel_size=8, num_layers=2, use_good_init=False).to(device),\n",
    "        create_model(\"linear_minplus\", num_features=3, num_classes=2, channel_size=8, num_layers=2, use_good_init=False).to(device),\n",
    "    ]\n",
    "    \n",
    "    loss = nn.CrossEntropyLoss()\n",
    "    epochs = 20\n",
    "    \n",
    "    for model in rings_models:\n",
    "        if model.name == \"linear_relu\":\n",
    "            optimizer = torch.optim.AdamW(model.parameters(), lr=4e-2)\n",
    "            scheduler = torch.optim.lr_scheduler.OneCycleLR(\n",
    "                optimizer,\n",
    "                max_lr=4e-2,\n",
    "                anneal_strategy=\"linear\",\n",
    "                pct_start=0.3,\n",
    "                three_phase=True,\n",
    "                final_div_factor=1000.0,\n",
    "                div_factor=10.0,\n",
    "                steps_per_epoch=len(rings_train),\n",
    "                epochs=epochs,\n",
    "            )\n",
    "            \n",
    "            linear_accs.append(\n",
    "                train(\n",
    "                    model,\n",
    "                    device,\n",
    "                    rings_train_loader,\n",
    "                    rings_test_loader,\n",
    "                    optimizer,\n",
    "                    scheduler,\n",
    "                    loss,\n",
    "                    epochs,\n",
    "                    statistics_mode=True\n",
    "                )\n",
    "            )\n",
    "        elif model.name == \"linear_maxplus\":\n",
    "            optimizer = torch.optim.AdamW(model.parameters(), lr=8e-2)\n",
    "            scheduler = torch.optim.lr_scheduler.OneCycleLR(\n",
    "                optimizer,\n",
    "                max_lr=8e-2,\n",
    "                anneal_strategy=\"linear\",\n",
    "                pct_start=0.3,\n",
    "                three_phase=True,\n",
    "                final_div_factor=1000.0,\n",
    "                div_factor=10.0,\n",
    "                steps_per_epoch=len(rings_train),\n",
    "                epochs=epochs,\n",
    "            )\n",
    "\n",
    "            maxplus_accs.append(\n",
    "                train(\n",
    "                    model,\n",
    "                    device,\n",
    "                    rings_train_loader,\n",
    "                    rings_test_loader,\n",
    "                    optimizer,\n",
    "                    scheduler,\n",
    "                    loss,\n",
    "                    epochs,\n",
    "                    statistics_mode=True\n",
    "                )\n",
    "            )\n",
    "        elif model.name == \"linear_minplus\":\n",
    "            optimizer = torch.optim.AdamW(model.parameters(), lr=8e-2)\n",
    "            scheduler = torch.optim.lr_scheduler.OneCycleLR(\n",
    "                optimizer,\n",
    "                max_lr=8e-2,\n",
    "                anneal_strategy=\"linear\",\n",
    "                pct_start=0.3,\n",
    "                three_phase=True,\n",
    "                final_div_factor=1000.0,\n",
    "                div_factor=10.0,\n",
    "                steps_per_epoch=len(rings_train),\n",
    "                epochs=epochs,\n",
    "            )\n",
    "            \n",
    "            minplus_accs.append(\n",
    "                train(\n",
    "                    model,\n",
    "                    device,\n",
    "                    rings_train_loader,\n",
    "                    rings_test_loader,\n",
    "                    optimizer,\n",
    "                    scheduler,\n",
    "                    loss,\n",
    "                    epochs,\n",
    "                    statistics_mode=True\n",
    "                )\n",
    "            )\n",
    "        else:\n",
    "            raise RuntimeError(f\"Unknown model ({model.name})\")\n",
    "        \n",
    "print(min(linear_accs))\n",
    "print(quantiles(linear_accs))\n",
    "print(max(linear_accs))\n",
    "print('-----')\n",
    "print(min(maxplus_accs))\n",
    "print(quantiles(maxplus_accs))\n",
    "print(max(maxplus_accs))\n",
    "print('-----')\n",
    "print(min(minplus_accs))\n",
    "print(quantiles(minplus_accs))\n",
    "print(max(minplus_accs))"
   ],
   "metadata": {
    "collapsed": false,
    "ExecuteTime": {
     "start_time": "2023-09-01T15:59:22.949085600Z"
    }
   }
  },
  {
   "cell_type": "code",
   "execution_count": null,
   "outputs": [],
   "source": [
    "spheres_models = [\n",
    "    create_model(\"linear_relu\", num_features=3, num_classes=2, channel_size=8, num_layers=2, use_good_init=False).to(device),\n",
    "    create_model(\"linear_maxplus\", num_features=3, num_classes=2, channel_size=8, num_layers=2, use_good_init=False).to(device),\n",
    "    create_model(\"linear_minplus\", num_features=3, num_classes=2, channel_size=8, num_layers=2, use_good_init=False).to(device),\n",
    "]\n",
    "\n",
    "for model in rings_models:\n",
    "    model_ref = model.name.replace(\"_\", \"/\")\n",
    "    print(f\"{model_ref} model has {count_parameters(model)} parameters\")\n",
    "\n",
    "loss = nn.CrossEntropyLoss()\n",
    "epochs = 20\n",
    "\n",
    "for model in spheres_models:\n",
    "    if model.name == \"linear_relu\":\n",
    "        optimizer = torch.optim.AdamW(model.parameters(), lr=2e-2)\n",
    "        scheduler = torch.optim.lr_scheduler.OneCycleLR(\n",
    "            optimizer,\n",
    "            max_lr=2e-2,\n",
    "            anneal_strategy=\"linear\",\n",
    "            pct_start=0.3,\n",
    "            three_phase=True,\n",
    "            final_div_factor=1000.0,\n",
    "            div_factor=10.0,\n",
    "            steps_per_epoch=len(spheres_train),\n",
    "            epochs=epochs,\n",
    "        )\n",
    "    elif model.name == \"linear_maxplus\":\n",
    "        optimizer = torch.optim.AdamW(model.parameters(), lr=2e-2)\n",
    "        scheduler = torch.optim.lr_scheduler.OneCycleLR(\n",
    "            optimizer,\n",
    "            max_lr=2e-2,\n",
    "            anneal_strategy=\"linear\",\n",
    "            pct_start=0.3,\n",
    "            three_phase=True,\n",
    "            final_div_factor=1000.0,\n",
    "            div_factor=10.0,\n",
    "            steps_per_epoch=len(spheres_train),\n",
    "            epochs=epochs,\n",
    "        )\n",
    "    elif model.name == \"linear_minplus\":\n",
    "        optimizer = torch.optim.AdamW(model.parameters(), lr=2e-2)\n",
    "        scheduler = torch.optim.lr_scheduler.OneCycleLR(\n",
    "            optimizer,\n",
    "            max_lr=2e-2,\n",
    "            anneal_strategy=\"linear\",\n",
    "            pct_start=0.3,\n",
    "            three_phase=True,\n",
    "            final_div_factor=1000.0,\n",
    "            div_factor=10.0,\n",
    "            steps_per_epoch=len(spheres_train),\n",
    "            epochs=epochs,\n",
    "        )\n",
    "    else:\n",
    "        raise RuntimeError(f\"Unknown model ({model.name})\")\n",
    "\n",
    "    train(\n",
    "        model,\n",
    "        device,\n",
    "        spheres_train_loader,\n",
    "        spheres_test_loader,\n",
    "        optimizer,\n",
    "        scheduler,\n",
    "        loss,\n",
    "        epochs,\n",
    "    )"
   ],
   "metadata": {
    "collapsed": false,
    "ExecuteTime": {
     "start_time": "2023-09-01T15:59:22.950441400Z"
    }
   }
  },
  {
   "cell_type": "code",
   "execution_count": null,
   "outputs": [],
   "source": [
    "linear_accs = []\n",
    "maxplus_accs = []\n",
    "minplus_accs = []\n",
    "\n",
    "for _ in range(100):\n",
    "    spheres_models = [\n",
    "        create_model(\"linear_relu\", num_features=3, num_classes=2, channel_size=8, num_layers=2, use_good_init=False).to(device),\n",
    "        create_model(\"linear_maxplus\", num_features=3, num_classes=2, channel_size=8, num_layers=2, use_good_init=False).to(device),\n",
    "        create_model(\"linear_minplus\", num_features=3, num_classes=2, channel_size=8, num_layers=2, use_good_init=False).to(device),\n",
    "    ]\n",
    "    \n",
    "    loss = nn.CrossEntropyLoss()\n",
    "    epochs = 20\n",
    "    \n",
    "    for model in spheres_models:\n",
    "        if model.name == \"linear_relu\":\n",
    "            optimizer = torch.optim.AdamW(model.parameters(), lr=2e-2)\n",
    "            scheduler = torch.optim.lr_scheduler.OneCycleLR(\n",
    "                optimizer,\n",
    "                max_lr=2e-2,\n",
    "                anneal_strategy=\"linear\",\n",
    "                pct_start=0.3,\n",
    "                three_phase=True,\n",
    "                final_div_factor=1000.0,\n",
    "                div_factor=10.0,\n",
    "                steps_per_epoch=len(spheres_train),\n",
    "                epochs=epochs,\n",
    "            )\n",
    "            \n",
    "            linear_accs.append(\n",
    "                train(\n",
    "                    model,\n",
    "                    device,\n",
    "                    spheres_train_loader,\n",
    "                    spheres_test_loader,\n",
    "                    optimizer,\n",
    "                    scheduler,\n",
    "                    loss,\n",
    "                    epochs,\n",
    "                    statistics_mode=True\n",
    "                )\n",
    "            )\n",
    "        elif model.name == \"linear_maxplus\":\n",
    "            optimizer = torch.optim.AdamW(model.parameters(), lr=2e-2)\n",
    "            scheduler = torch.optim.lr_scheduler.OneCycleLR(\n",
    "                optimizer,\n",
    "                max_lr=2e-2,\n",
    "                anneal_strategy=\"linear\",\n",
    "                pct_start=0.3,\n",
    "                three_phase=True,\n",
    "                final_div_factor=1000.0,\n",
    "                div_factor=10.0,\n",
    "                steps_per_epoch=len(spheres_train),\n",
    "                epochs=epochs,\n",
    "            )\n",
    "\n",
    "            maxplus_accs.append(\n",
    "                train(\n",
    "                    model,\n",
    "                    device,\n",
    "                    spheres_train_loader,\n",
    "                    spheres_test_loader,\n",
    "                    optimizer,\n",
    "                    scheduler,\n",
    "                    loss,\n",
    "                    epochs,\n",
    "                    statistics_mode=True\n",
    "                )\n",
    "            )\n",
    "        elif model.name == \"linear_minplus\":\n",
    "            optimizer = torch.optim.AdamW(model.parameters(), lr=2e-2)\n",
    "            scheduler = torch.optim.lr_scheduler.OneCycleLR(\n",
    "                optimizer,\n",
    "                max_lr=2e-2,\n",
    "                anneal_strategy=\"linear\",\n",
    "                pct_start=0.3,\n",
    "                three_phase=True,\n",
    "                final_div_factor=1000.0,\n",
    "                div_factor=10.0,\n",
    "                steps_per_epoch=len(spheres_train),\n",
    "                epochs=epochs,\n",
    "            )\n",
    "            \n",
    "            minplus_accs.append(\n",
    "                train(\n",
    "                    model,\n",
    "                    device,\n",
    "                    spheres_train_loader,\n",
    "                    spheres_test_loader,\n",
    "                    optimizer,\n",
    "                    scheduler,\n",
    "                    loss,\n",
    "                    epochs,\n",
    "                    statistics_mode=True\n",
    "                )\n",
    "            )\n",
    "        else:\n",
    "            raise RuntimeError(f\"Unknown model ({model.name})\")\n",
    "        \n",
    "print(min(linear_accs))\n",
    "print(quantiles(linear_accs))\n",
    "print(max(linear_accs))\n",
    "print('-----')\n",
    "print(min(maxplus_accs))\n",
    "print(quantiles(maxplus_accs))\n",
    "print(max(maxplus_accs))\n",
    "print('-----')\n",
    "print(min(minplus_accs))\n",
    "print(quantiles(minplus_accs))\n",
    "print(max(minplus_accs))"
   ],
   "metadata": {
    "collapsed": false,
    "ExecuteTime": {
     "start_time": "2023-09-01T15:59:22.951335800Z"
    }
   }
  }
 ],
 "metadata": {
  "kernelspec": {
   "display_name": "torch20",
   "language": "python",
   "name": "python3"
  },
  "language_info": {
   "codemirror_mode": {
    "name": "ipython",
    "version": 3
   },
   "file_extension": ".py",
   "mimetype": "text/x-python",
   "name": "python",
   "nbconvert_exporter": "python",
   "pygments_lexer": "ipython3",
   "version": "3.10.11"
  },
  "orig_nbformat": 4
 },
 "nbformat": 4,
 "nbformat_minor": 2
}
