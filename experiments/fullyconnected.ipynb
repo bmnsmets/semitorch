{
 "cells": [
  {
   "attachments": {},
   "cell_type": "markdown",
   "metadata": {},
   "source": [
    "# Fully Connected Experiments"
   ]
  },
  {
   "cell_type": "code",
   "execution_count": 4,
   "metadata": {},
   "outputs": [
    {
     "name": "stdout",
     "output_type": "stream",
     "text": [
      "device = cuda\n"
     ]
    }
   ],
   "source": [
    "import torch\n",
    "import torch.nn as nn\n",
    "import semitorch\n",
    "from torch.utils.data import DataLoader\n",
    "import matplotlib.pyplot as plt\n",
    "import gc\n",
    "import numpy as np\n",
    "from IPython import display\n",
    "from tqdm.notebook import tqdm, trange\n",
    "import pandas as pd\n",
    "\n",
    "device = \"cuda\" if torch.cuda.is_available() else \"cpu\"\n",
    "print(f\"device = {device}\")"
   ]
  },
  {
   "attachments": {},
   "cell_type": "markdown",
   "metadata": {},
   "source": [
    "### Load iris data"
   ]
  },
  {
   "cell_type": "code",
   "execution_count": 57,
   "metadata": {},
   "outputs": [],
   "source": [
    "iris_df = pd.read_csv(\"data/iris.csv\", index_col=0, dtype={'Species':'string'})\n",
    "iris_x = torch.Tensor(iris_df.iloc[:, [0,1,2,3]].to_numpy())\n",
    "\n",
    "iris_setosa, iris_versicolor, iris_virginica = 0, 1, 2\n",
    "\n",
    "iris_y = iris_df['Species'].map({\n",
    "    'Iris-setosa': iris_setosa, \n",
    "    'Iris-versicolor': iris_versicolor, \n",
    "    'Iris-virginica': iris_virginica\n",
    "}).to_numpy()\n",
    "iris_y1 = torch.Tensor(iris_y).to(torch.int64)"
   ]
  },
  {
   "attachments": {},
   "cell_type": "markdown",
   "metadata": {},
   "source": [
    "### Load heart disease data"
   ]
  },
  {
   "cell_type": "code",
   "execution_count": 77,
   "metadata": {},
   "outputs": [],
   "source": [
    "heart_df = pd.read_csv(\"data/heart.csv\")\n",
    "heart_x = torch.Tensor(heart_df.iloc[:, range(13)].to_numpy()).to(torch.float32)\n",
    "heart_y = torch.Tensor(heart_df.iloc[:, -1].to_numpy()).to(torch.int64)"
   ]
  }
 ],
 "metadata": {
  "kernelspec": {
   "display_name": "torch20",
   "language": "python",
   "name": "python3"
  },
  "language_info": {
   "codemirror_mode": {
    "name": "ipython",
    "version": 3
   },
   "file_extension": ".py",
   "mimetype": "text/x-python",
   "name": "python",
   "nbconvert_exporter": "python",
   "pygments_lexer": "ipython3",
   "version": "3.11.4"
  },
  "orig_nbformat": 4
 },
 "nbformat": 4,
 "nbformat_minor": 2
}
