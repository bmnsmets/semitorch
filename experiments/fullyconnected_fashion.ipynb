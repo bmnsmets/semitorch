{
 "cells": [
  {
   "attachments": {},
   "cell_type": "markdown",
   "metadata": {},
   "source": [
    "# Fully Connected Experiments on FashionMNIST with a standardized setup\n",
    "\n",
    "\n",
    "## 1. Setup"
   ]
  },
  {
   "cell_type": "code",
   "execution_count": 1,
   "metadata": {
    "ExecuteTime": {
     "end_time": "2023-09-02T18:55:06.813467500Z",
     "start_time": "2023-09-02T18:55:00.639270600Z"
    }
   },
   "outputs": [
    {
     "name": "stdout",
     "output_type": "stream",
     "text": [
      "[Taichi] version 1.6.0, llvm 15.0.1, commit f1c6fbbd, win, python 3.10.7\n",
      "[Taichi] Starting on arch=cuda\n"
     ]
    }
   ],
   "source": [
    "import gc\n",
    "import matplotlib.pyplot as plt\n",
    "import numpy as np\n",
    "import os\n",
    "import pandas as pd\n",
    "import torch\n",
    "import torch.nn as nn\n",
    "import seaborn as sns\n",
    "\n",
    "from copy import deepcopy\n",
    "from IPython import display\n",
    "from random import uniform\n",
    "from semitorch import MaxPlus, maxplus_parameters, nonmaxplus_parameters\n",
    "from semitorch import MinPlus, minplus_parameters, nonminplus_parameters\n",
    "from semitorch import SemiLog, semilog_parameters, nonsemilog_parameters\n",
    "from semitorch import SemiLogShiftedScaled, semilog_shifted_scaled_parameters, nonsemilog_shifted_scaled_parameters\n",
    "from semitorch import TropicalSGD\n",
    "from statistics import quantiles\n",
    "from torch.utils.data import DataLoader\n",
    "from torchvision import transforms\n",
    "from torchvision.datasets import FashionMNIST\n",
    "from tqdm.notebook import trange\n",
    "\n",
    "data_path = os.path.abspath(\"./data\" if os.path.isdir(\"./data\") else \"../data\")\n",
    "device = \"cuda\" if torch.cuda.is_available() else \"cpu\""
   ]
  },
  {
   "attachments": {},
   "cell_type": "markdown",
   "metadata": {},
   "source": [
    "### Load FashionMNIST data"
   ]
  },
  {
   "cell_type": "code",
   "execution_count": 2,
   "metadata": {
    "ExecuteTime": {
     "end_time": "2023-09-02T18:55:06.905229300Z",
     "start_time": "2023-09-02T18:55:06.815333Z"
    }
   },
   "outputs": [],
   "source": [
    "batch_size = 256\n",
    "num_workers = 8\n",
    "\n",
    "transforms_train = transforms.Compose(\n",
    "    [\n",
    "        transforms.RandomHorizontalFlip(),\n",
    "        transforms.ToTensor(),\n",
    "        transforms.Normalize((0.286,), (0.353,)),\n",
    "    ]\n",
    ")\n",
    "\n",
    "transforms_test = transforms.Compose(\n",
    "    [\n",
    "        transforms.ToTensor(),\n",
    "        transforms.Normalize((0.286,), (0.353,)),\n",
    "    ]\n",
    ")\n",
    "\n",
    "fmnist_trainset = FashionMNIST(root=\".\", train=True, download=True, transform=transforms_train)\n",
    "fmnist_testset = FashionMNIST(root=\".\", train=False, download=True, transform=transforms_test)\n",
    "\n",
    "fmnist_trainloader = DataLoader(fmnist_trainset, batch_size=batch_size, shuffle=True, num_workers=num_workers)\n",
    "fmnist_testloader = DataLoader(fmnist_testset, batch_size=batch_size, shuffle=False, num_workers=num_workers)"
   ]
  },
  {
   "attachments": {},
   "cell_type": "markdown",
   "metadata": {},
   "source": [
    "## 2. Models"
   ]
  },
  {
   "cell_type": "code",
   "execution_count": 3,
   "outputs": [],
   "source": [
    "class Model(nn.Module):\n",
    "    def __init__(\n",
    "            self,\n",
    "            model_name: str,\n",
    "            layer_norm: bool = False,\n",
    "            skip_connections: bool = False,\n",
    "            k: float = None,\n",
    "            mu: float = None,\n",
    "    ) -> None:\n",
    "        super().__init__()\n",
    "        self.name = model_name\n",
    "        self.skip_connections = skip_connections\n",
    "\n",
    "        self.stem = nn.Sequential(*list(filter(lambda layer: layer is not None, [\n",
    "            nn.Conv2d(in_channels=1, out_channels=8, kernel_size=4, stride=4),\n",
    "            nn.Flatten(),\n",
    "            nn.LayerNorm(8 * 7 * 7) if layer_norm else None,\n",
    "        ])))\n",
    "\n",
    "        if model_name == \"linear/relu\":\n",
    "            self.backbone_1 = nn.Sequential(\n",
    "                nn.Linear(8 * 7 * 7, 300), nn.ReLU(),\n",
    "                nn.Linear(300, 250), nn.ReLU(),\n",
    "            )\n",
    "            self.backbone_2 = nn.Sequential(\n",
    "                nn.Linear(250 + (8 * 7 * 7 if self.skip_connections else 0), 200), nn.ReLU(),\n",
    "                nn.Linear(200, 150), nn.ReLU(),\n",
    "            )\n",
    "            self.backbone_3 = nn.Sequential(\n",
    "                nn.Linear(150 + (250 if self.skip_connections else 0), 100), nn.ReLU(),\n",
    "                nn.Linear(100, 50), nn.ReLU(),\n",
    "            )\n",
    "        elif model_name == \"linear/maxplus\":\n",
    "            self.backbone_1 = nn.Sequential(\n",
    "                nn.Linear(8 * 7 * 7, 300),\n",
    "                MaxPlus(300, 250, k=k),\n",
    "            )\n",
    "            self.backbone_2 = nn.Sequential(\n",
    "                nn.Linear(250 + (8 * 7 * 7 if self.skip_connections else 0), 200),\n",
    "                MaxPlus(200, 150, k=k),\n",
    "            )\n",
    "            self.backbone_3 = nn.Sequential(\n",
    "                nn.Linear(150 + (250 if self.skip_connections else 0), 100),\n",
    "                MaxPlus(100, 50, k=k),\n",
    "            )\n",
    "        elif model_name == \"linear/minplus\":\n",
    "            self.backbone_1 = nn.Sequential(\n",
    "                nn.Linear(8 * 7 * 7, 300),\n",
    "                MinPlus(300, 250, k=k),\n",
    "            )\n",
    "            self.backbone_2 = nn.Sequential(\n",
    "                nn.Linear(250 + (8 * 7 * 7 if self.skip_connections else 0), 200),\n",
    "                MinPlus(200, 150, k=k),\n",
    "            )\n",
    "            self.backbone_3 = nn.Sequential(\n",
    "                nn.Linear(150 + (250 if self.skip_connections else 0), 100),\n",
    "                MinPlus(100, 50, k=k),\n",
    "            )\n",
    "        elif model_name == \"linear/log\":\n",
    "            self.backbone_1 = nn.Sequential(\n",
    "                nn.Linear(8 * 7 * 7, 300),\n",
    "                SemiLog(300, 250, k=k, mu=mu),\n",
    "            )\n",
    "            self.backbone_2 = nn.Sequential(\n",
    "                nn.Linear(250 + (8 * 7 * 7 if self.skip_connections else 0), 200),\n",
    "                SemiLog(200, 150, k=k, mu=mu),\n",
    "            )\n",
    "            self.backbone_3 = nn.Sequential(\n",
    "                nn.Linear(150 + (250 if self.skip_connections else 0), 100),\n",
    "                SemiLog(100, 50, k=k, mu=mu),\n",
    "            )\n",
    "        elif model_name == \"linear/log_shifted_scaled\":\n",
    "            self.backbone_1 = nn.Sequential(\n",
    "                nn.Linear(8 * 7 * 7, 300),\n",
    "                SemiLogShiftedScaled(300, 250, k=k, mu=mu),\n",
    "            )\n",
    "            self.backbone_2 = nn.Sequential(\n",
    "                nn.Linear(250 + (8 * 7 * 7 if self.skip_connections else 0), 200),\n",
    "                SemiLogShiftedScaled(200, 150, k=k, mu=mu),\n",
    "            )\n",
    "            self.backbone_3 = nn.Sequential(\n",
    "                nn.Linear(150 + (250 if self.skip_connections else 0), 100),\n",
    "                SemiLogShiftedScaled(100, 50, k=k, mu=mu),\n",
    "            )\n",
    "        else:\n",
    "            raise RuntimeError(f\"Unknown model ({model_name})\")\n",
    "\n",
    "        self.head = nn.Linear(50, 10, bias=False)\n",
    "\n",
    "    def forward(self, x: torch.Tensor) -> torch.Tensor:\n",
    "        input_0 = x\n",
    "        result_0 = self.stem(input_0)\n",
    "\n",
    "        input_1 = result_0\n",
    "        result_1 = self.backbone_1(input_1)\n",
    "\n",
    "        if self.skip_connections:\n",
    "            input_2 = torch.cat((result_1, result_0), dim=-1)\n",
    "        else:\n",
    "            input_2 = result_1\n",
    "        result_2 = self.backbone_2(input_2)\n",
    "\n",
    "        if self.skip_connections:\n",
    "            input_3 = torch.cat((result_2, result_1), dim=-1)\n",
    "        else:\n",
    "            input_3 = result_2\n",
    "        result_3 = self.backbone_3(input_3)\n",
    "\n",
    "        output = self.head(result_3)\n",
    "\n",
    "        return output"
   ],
   "metadata": {
    "collapsed": false,
    "ExecuteTime": {
     "end_time": "2023-09-02T18:55:06.921674700Z",
     "start_time": "2023-09-02T18:55:06.907213400Z"
    }
   }
  },
  {
   "cell_type": "code",
   "execution_count": 4,
   "outputs": [],
   "source": [
    "def count_parameters(parameters) -> int:\n",
    "    return sum(p.numel() for p in parameters if p.requires_grad)"
   ],
   "metadata": {
    "collapsed": false,
    "ExecuteTime": {
     "end_time": "2023-09-02T18:55:06.973360300Z",
     "start_time": "2023-09-02T18:55:06.922171200Z"
    }
   }
  },
  {
   "attachments": {},
   "cell_type": "markdown",
   "metadata": {},
   "source": [
    "## 3. Training"
   ]
  },
  {
   "cell_type": "code",
   "execution_count": 5,
   "metadata": {
    "ExecuteTime": {
     "end_time": "2023-09-02T18:55:06.974362500Z",
     "start_time": "2023-09-02T18:55:06.937187400Z"
    }
   },
   "outputs": [],
   "source": [
    "def accuracy(model: nn.Module, x: torch.Tensor, y: torch.Tensor) -> float:\n",
    "    with torch.no_grad():\n",
    "        yout = model(x)\n",
    "        _, prediction = torch.max(yout.cpu(), dim=1)\n",
    "\n",
    "        return (y.cpu() == prediction).sum().item() / float(y.numel())\n",
    "\n",
    "\n",
    "def test(model: nn.Module, testloader: DataLoader) -> float:\n",
    "    model.eval()\n",
    "    accs = []\n",
    "\n",
    "    with torch.no_grad():\n",
    "        for x, y in testloader:\n",
    "            x = x.to(device)\n",
    "            accs.append(accuracy(model, x, y))\n",
    "\n",
    "    return sum(accs) / len(accs)\n",
    "\n",
    "\n",
    "def confusion_matrix(model: nn.Module, testloader: DataLoader) -> None:\n",
    "    model.eval()\n",
    "\n",
    "    conf_matrix = torch.zeros(len(fmnist_testset.classes), len(fmnist_testset.classes))\n",
    "\n",
    "    with torch.no_grad():\n",
    "        for x, y in testloader:\n",
    "            x, y = x.to(device), y.to(device)\n",
    "            yout = model(x)\n",
    "            _, prediction = torch.max(yout.cpu(), dim=1)\n",
    "\n",
    "            conf_matrix[y.cpu(), prediction] += 1\n",
    "\n",
    "    plt.figure(figsize=(6, 4))\n",
    "\n",
    "    df_cm = pd.DataFrame(conf_matrix, index=fmnist_testset.classes, columns=fmnist_testset.classes).astype(int)\n",
    "    heatmap = sns.heatmap(df_cm, annot=True, fmt=\"d\")\n",
    "\n",
    "    heatmap.yaxis.set_ticklabels(heatmap.yaxis.get_ticklabels(), rotation=0, ha='right', fontsize=15)\n",
    "    heatmap.xaxis.set_ticklabels(heatmap.xaxis.get_ticklabels(), rotation=45, ha='right', fontsize=15)\n",
    "    plt.ylabel('True label')\n",
    "    plt.xlabel('Predicted label')\n",
    "\n",
    "\n",
    "def train(\n",
    "        model: nn.Module,\n",
    "        trainloader: DataLoader,\n",
    "        testloader: DataLoader,\n",
    "        optimizers: list[torch.optim.Optimizer],\n",
    "        schedulers: list[torch.optim.lr_scheduler],\n",
    "        loss: torch.nn.modules.loss,\n",
    "        epochs: int,\n",
    "        statistics_mode: bool = False  # If True: (return max acc and do not generate output)\n",
    ") -> None | float:\n",
    "    accs = []  # list of accuracy on the test dataset for every epoch\n",
    "    trainaccs = []  # a list of the accuracies of all the training batches\n",
    "\n",
    "    if not statistics_mode:\n",
    "        fig, ax = plt.subplots(1, 1, figsize=[6, 4])\n",
    "        hdisplay = display.display(\"\", display_id=True)\n",
    "\n",
    "    for _ in trange(epochs):\n",
    "        model.train()\n",
    "\n",
    "        for x, y in trainloader:\n",
    "            x, y = x.to(device), y.to(device)\n",
    "            for optimizer in optimizers:\n",
    "                optimizer.zero_grad()\n",
    "            yout = model(x)\n",
    "            _, prediction = torch.max(yout.cpu(), dim=1)\n",
    "            trainaccs.append((y.cpu() == prediction).sum().item() / float(y.numel()))\n",
    "\n",
    "            l = loss(yout, y.squeeze())\n",
    "            l.backward()\n",
    "            for optimizer in optimizers:\n",
    "                if isinstance(optimizer, TropicalSGD):\n",
    "                    optimizer.step(input_tensor=x.cpu())\n",
    "                else:\n",
    "                    optimizer.step()\n",
    "\n",
    "            for scheduler in schedulers:\n",
    "                scheduler.step()\n",
    "\n",
    "        accs.append(test(model, testloader))\n",
    "\n",
    "        if not statistics_mode:\n",
    "            ax.clear()\n",
    "            ax.set_xlim(0, epochs)\n",
    "            ax.set_ylim(-0.02, 1.02)\n",
    "            ax.plot(\n",
    "                np.linspace(0, len(accs), len(trainaccs)),\n",
    "                trainaccs,\n",
    "                \".\",\n",
    "                markersize=1.5,\n",
    "                markerfacecolor=(0, 0, 1, 0.3),\n",
    "            )\n",
    "            ax.plot(np.linspace(1, len(accs), len(accs)), accs)\n",
    "            ax.text(\n",
    "                0.6 * epochs,\n",
    "                0.30,\n",
    "                f\"max test acc = {max(accs):.2%}\",\n",
    "                ha=\"center\",\n",
    "                fontsize=10,\n",
    "            )\n",
    "            hdisplay.update(fig)\n",
    "\n",
    "        # prevents OOM when GPU memory is tight\n",
    "        torch.cuda.empty_cache()\n",
    "        gc.collect()\n",
    "\n",
    "    if not statistics_mode:\n",
    "        confusion_matrix(model, testloader)\n",
    "        \n",
    "    if statistics_mode:\n",
    "        return max(accs)"
   ]
  },
  {
   "cell_type": "code",
   "execution_count": 6,
   "outputs": [],
   "source": [
    "def run_model_for_config(config: dict, best_accuracy: float) -> dict:\n",
    "    loss = nn.CrossEntropyLoss()\n",
    "    epochs = 20\n",
    "\n",
    "    # Create model\n",
    "    model_name = config[\"model_name\"]\n",
    "    layer_norm = config[\"layer_norm\"]\n",
    "    skip_connections = config[\"skip_connections\"]\n",
    "    k = config[\"k\"]\n",
    "    mu = config[\"mu\"]\n",
    "\n",
    "    model = Model(model_name=model_name, layer_norm=layer_norm, skip_connections=skip_connections, k=k, mu=mu).to(\n",
    "        device)\n",
    "\n",
    "    # Separate model parameters\n",
    "    if model_name == \"linear/relu\":\n",
    "        linear_params = model.parameters()\n",
    "        semiring_params = nn.ParameterList()\n",
    "    elif model_name == \"linear/maxplus\":\n",
    "        linear_params = nonmaxplus_parameters(model)\n",
    "        semiring_params = maxplus_parameters(model)\n",
    "    elif model_name == \"linear/minplus\":\n",
    "        linear_params = nonminplus_parameters(model)\n",
    "        semiring_params = minplus_parameters(model)\n",
    "    elif model_name == \"linear/log\":\n",
    "        linear_params = nonsemilog_parameters(model)\n",
    "        semiring_params = semilog_parameters(model)\n",
    "    elif model_name == \"linear/log_shifted_scaled\":\n",
    "        linear_params = nonsemilog_shifted_scaled_parameters(model)\n",
    "        semiring_params = semilog_shifted_scaled_parameters(model)\n",
    "    else:\n",
    "        raise RuntimeError(f\"Unknown model ({model_name})\")\n",
    "\n",
    "    # Create linear optimizer\n",
    "    linear_lr = config[\"linear_lr\"]\n",
    "    if config[\"linear_optimizer\"] == \"AdamW\":\n",
    "        linear_optimizer = torch.optim.AdamW(linear_params, lr=linear_lr)\n",
    "    elif config[\"linear_optimizer\"] == \"SGD\":\n",
    "        linear_optimizer = torch.optim.SGD(linear_params, lr=linear_lr)\n",
    "    else:\n",
    "        raise RuntimeError(f'Unknown linear optimizer {config[\"linear_optimizer\"]}')\n",
    "    if config[\"linear_scheduler\"]:\n",
    "        linear_scheduler = torch.optim.lr_scheduler.OneCycleLR(\n",
    "            linear_optimizer,\n",
    "            max_lr=linear_lr,\n",
    "            anneal_strategy=\"linear\",\n",
    "            pct_start=0.3,\n",
    "            three_phase=True,\n",
    "            final_div_factor=1000.0,\n",
    "            div_factor=10.0,\n",
    "            steps_per_epoch=len(fmnist_trainloader),\n",
    "            epochs=epochs,\n",
    "        )\n",
    "    else:\n",
    "        linear_scheduler = None\n",
    "\n",
    "    # Create semiring optimizer\n",
    "    semiring_lr = config[\"semiring_lr\"]\n",
    "    if config[\"semiring_optimizer\"] is None:\n",
    "        semiring_optimizer = None\n",
    "    elif config[\"semiring_optimizer\"] == \"AdamW\":\n",
    "        semiring_optimizer = torch.optim.AdamW(semiring_params, lr=semiring_lr)\n",
    "    elif config[\"semiring_optimizer\"] == \"SGD\":\n",
    "        semiring_optimizer = torch.optim.SGD(semiring_params, lr=semiring_lr)\n",
    "    elif config[\"semiring_optimizer\"] == \"TropicalSGD\":\n",
    "        semiring_optimizer = TropicalSGD(semiring_params, lr=semiring_lr)\n",
    "    else:\n",
    "        raise RuntimeError(f'Unknown semiring optimizer {config[\"semiring_optimizer\"]}')\n",
    "    if config[\"semiring_scheduler\"]:\n",
    "        semiring_scheduler = torch.optim.lr_scheduler.OneCycleLR(\n",
    "            semiring_optimizer,\n",
    "            max_lr=semiring_lr,\n",
    "            anneal_strategy=\"linear\",\n",
    "            pct_start=0.3,\n",
    "            three_phase=True,\n",
    "            final_div_factor=1000.0,\n",
    "            div_factor=10.0,\n",
    "            steps_per_epoch=len(fmnist_trainloader),\n",
    "            epochs=epochs,\n",
    "        )\n",
    "    else:\n",
    "        semiring_scheduler = None\n",
    "\n",
    "    # Create optimizers and schedulers\n",
    "    optimizers = list(filter(lambda opt: opt is not None, [linear_optimizer, semiring_optimizer]))\n",
    "    schedulers = list(filter(lambda sch: sch is not None, [linear_scheduler, semiring_scheduler]))\n",
    "\n",
    "    report, reported_accuracy, last_reported_accuracy = [], 0, 0\n",
    "    for epoch in range(epochs):\n",
    "        last_reported_accuracy = reported_accuracy\n",
    "\n",
    "        # Feed to training function\n",
    "        reported_accuracy = train_model(\n",
    "            model,\n",
    "            fmnist_trainloader,\n",
    "            fmnist_testloader,\n",
    "            optimizers,\n",
    "            schedulers,\n",
    "            loss,\n",
    "        )\n",
    "\n",
    "        # Try some stopping conditions\n",
    "        if ((epoch > 2) and (reported_accuracy < 0.15)) or ((epoch > 5) and (reported_accuracy < best_accuracy / 2)):\n",
    "            # Bad trial\n",
    "            return {\"accuracy\": reported_accuracy, \"config\": config}\n",
    "\n",
    "        if (epoch > 2) and (abs(last_reported_accuracy - reported_accuracy) < 1e-6):\n",
    "            # Run is done, no sense to train it any further\n",
    "            break  # Break for-loop to report\n",
    "\n",
    "    return {\"accuracy\": reported_accuracy, \"config\": config}\n",
    "\n",
    "\n",
    "def train_model(\n",
    "        model: nn.Module,\n",
    "        trainloader: DataLoader,\n",
    "        testloader: DataLoader,\n",
    "        optimizers: list[torch.optim.Optimizer],\n",
    "        schedulers: list[torch.optim.lr_scheduler],\n",
    "        loss: torch.nn.modules.loss,\n",
    ") -> float:\n",
    "    model.train()\n",
    "\n",
    "    for x, y in trainloader:\n",
    "        x, y = x.to(device), y.to(device)\n",
    "        for optimizer in optimizers:\n",
    "            optimizer.zero_grad()\n",
    "\n",
    "        l = loss(model(x), y.squeeze())\n",
    "        l.backward()\n",
    "\n",
    "        for optimizer in optimizers:\n",
    "            if isinstance(optimizer, TropicalSGD):\n",
    "                optimizer.step(input_tensor=x.cpu())\n",
    "            else:\n",
    "                optimizer.step()\n",
    "\n",
    "        for scheduler in schedulers:\n",
    "            scheduler.step()\n",
    "\n",
    "        # prevents OOM when GPU memory is tight\n",
    "        torch.cuda.empty_cache()\n",
    "        gc.collect()\n",
    "\n",
    "    return test(model, testloader)\n",
    "\n",
    "\n",
    "def run_random_search_for_config(config: dict) -> dict:\n",
    "    best_accuracy, best_config, current_config = 0, deepcopy(config), deepcopy(config)\n",
    "    step_size, bad_step_counter, good_step_counter = 0.1, 0, 0\n",
    "    for num_trial in range(100):\n",
    "        result = run_model_for_config(current_config, best_accuracy=best_accuracy)\n",
    "\n",
    "        if result[\"accuracy\"] > best_accuracy:\n",
    "            bad_step_counter = 0\n",
    "            good_step_counter += 1\n",
    "\n",
    "            best_accuracy, best_config = result[\"accuracy\"], deepcopy(current_config)\n",
    "        else:\n",
    "            bad_step_counter += 1\n",
    "            good_step_counter = 0\n",
    "\n",
    "        if bad_step_counter > 10:\n",
    "            break  # Terminate run, likely no better accuracy possible\n",
    "\n",
    "        current_config, step_size, bad_step_counter, good_step_counter = adaptive_step_update_config(\n",
    "            config=deepcopy(best_config),\n",
    "            step_size=step_size,\n",
    "            bad_step_counter=bad_step_counter,\n",
    "            good_step_counter=good_step_counter,\n",
    "        )\n",
    "\n",
    "        if step_size < 1e-2:\n",
    "            # Step size too small to make any impact, terminate run\n",
    "            break\n",
    "\n",
    "    return {\"accuracy\": best_accuracy, \"config\": best_config}\n",
    "\n",
    "\n",
    "def adaptive_step_update_config(\n",
    "        config: dict,\n",
    "        step_size: float,\n",
    "        bad_step_counter: int,\n",
    "        good_step_counter: int,\n",
    ") -> tuple[dict, float, int, int]:\n",
    "    # Update step_size\n",
    "    if bad_step_counter > 2:\n",
    "        step_size /= 2\n",
    "        bad_step_counter = 0\n",
    "    if (good_step_counter > 2) and (step_size < 0.5):\n",
    "        step_size *= 2\n",
    "        good_step_counter = 0\n",
    "\n",
    "    # Update config values\n",
    "    if config[\"model_name\"] == \"linear/relu\":\n",
    "        config[\"linear_lr\"] = uniform(\n",
    "            config[\"linear_lr\"] * (1 - step_size),\n",
    "            config[\"linear_lr\"] * (1 + step_size),\n",
    "        )\n",
    "    if config[\"model_name\"] != \"linear/relu\":\n",
    "        config[\"k\"] = uniform(\n",
    "            config[\"k\"] * (1 - step_size),\n",
    "            config[\"k\"] * (1 + step_size),\n",
    "        )\n",
    "        config[\"semiring_lr\"] = uniform(\n",
    "            config[\"semiring_lr\"] * (1 - step_size),\n",
    "            config[\"semiring_lr\"] * (1 + step_size),\n",
    "        )\n",
    "    if config[\"model_name\"] in [\"linear/log\", \"linear/log_shifted_scaled\"]:\n",
    "        config[\"mu\"] = uniform(\n",
    "            config[\"mu\"] * (1 - step_size),\n",
    "            config[\"mu\"] * (1 + step_size),\n",
    "        )\n",
    "\n",
    "    return config, step_size, bad_step_counter, good_step_counter\n",
    "\n",
    "\n",
    "def find_best_model_for(config: dict) -> None:\n",
    "    current_config, results = deepcopy(config), []\n",
    "\n",
    "    if config[\"model_name\"] == \"linear/relu\":\n",
    "        for linear_optimizer in config[\"linear_optimizer\"]:\n",
    "            current_config[\"linear_optimizer\"] = linear_optimizer\n",
    "            for linear_scheduler in config[\"linear_scheduler\"]:\n",
    "                current_config[\"linear_scheduler\"] = linear_scheduler\n",
    "\n",
    "                print(f\"Starting linear run for config {current_config}\")\n",
    "                results.append(run_random_search_for_config(current_config))\n",
    "    else:\n",
    "        for semiring_optimizer in config[\"semiring_optimizer\"]:\n",
    "            current_config[\"semiring_optimizer\"] = semiring_optimizer\n",
    "            if semiring_optimizer == \"TropicalSGD\":\n",
    "                # TropicalSGD does not support momentum and cycle-momentum\n",
    "                # Both are necessary for one-cycle scheduler\n",
    "                print(f\"Starting semiring run for config {current_config}\")\n",
    "                results.append(run_random_search_for_config(current_config))\n",
    "            else:\n",
    "                for semiring_scheduler in config[\"semiring_scheduler\"]:\n",
    "                    current_config[\"semiring_scheduler\"] = semiring_scheduler\n",
    "\n",
    "                    print(f\"Starting semiring run for config {current_config}\")\n",
    "                    results.append(run_random_search_for_config(current_config))\n",
    "\n",
    "    sorted_results = sorted(results, key=lambda dictionary: dictionary[\"accuracy\"], reverse=True)\n",
    "\n",
    "    display.clear_output(wait=True)\n",
    "    print(f'Best trial config with accuracy of {sorted_results[0][\"accuracy\"]}: {sorted_results[0][\"config\"]}')\n",
    "    print(f\"-----------------\")\n",
    "    print(*sorted_results, sep=\"\\n\")"
   ],
   "metadata": {
    "collapsed": false,
    "ExecuteTime": {
     "end_time": "2023-09-02T18:55:07.019818400Z",
     "start_time": "2023-09-02T18:55:06.983352100Z"
    }
   }
  },
  {
   "cell_type": "markdown",
   "source": [
    "# Default Linear Models"
   ],
   "metadata": {
    "collapsed": false
   }
  },
  {
   "cell_type": "code",
   "execution_count": 7,
   "outputs": [
    {
     "name": "stdout",
     "output_type": "stream",
     "text": [
      "Best trial config with accuracy of 0.89921875: {'model_name': 'linear/relu', 'layer_norm': True, 'skip_connections': True, 'k': None, 'linear_optimizer': 'SGD', 'linear_scheduler': True, 'linear_lr': 0.05971752653541055, 'semiring_lr': None, 'semiring_optimizer': None, 'semiring_scheduler': None, 'mu': None}\n",
      "-----------------\n",
      "{'accuracy': 0.89921875, 'config': {'model_name': 'linear/relu', 'layer_norm': True, 'skip_connections': True, 'k': None, 'linear_optimizer': 'SGD', 'linear_scheduler': True, 'linear_lr': 0.05971752653541055, 'semiring_lr': None, 'semiring_optimizer': None, 'semiring_scheduler': None, 'mu': None}}\n",
      "{'accuracy': 0.88173828125, 'config': {'model_name': 'linear/relu', 'layer_norm': True, 'skip_connections': True, 'k': None, 'linear_optimizer': 'SGD', 'linear_scheduler': False, 'linear_lr': 0.06000084767438664, 'semiring_lr': None, 'semiring_optimizer': None, 'semiring_scheduler': None, 'mu': None}}\n",
      "{'accuracy': 0.09931640625, 'config': {'model_name': 'linear/relu', 'layer_norm': True, 'skip_connections': True, 'k': None, 'linear_optimizer': 'AdamW', 'linear_scheduler': True, 'linear_lr': 0.059873835854729544, 'semiring_lr': None, 'semiring_optimizer': None, 'semiring_scheduler': None, 'mu': None}}\n",
      "{'accuracy': 0.09765625, 'config': {'model_name': 'linear/relu', 'layer_norm': True, 'skip_connections': True, 'k': None, 'linear_optimizer': 'AdamW', 'linear_scheduler': False, 'linear_lr': 0.06031567246272906, 'semiring_lr': None, 'semiring_optimizer': None, 'semiring_scheduler': None, 'mu': None}}\n"
     ]
    }
   ],
   "source": [
    "find_best_model_for(config={\n",
    "    \"model_name\": \"linear/relu\",\n",
    "    \"layer_norm\": True,\n",
    "    \"skip_connections\": True,\n",
    "    \"k\": None,\n",
    "    \"linear_optimizer\": [\"AdamW\", \"SGD\"],\n",
    "    \"linear_scheduler\": [True, False],\n",
    "    \"linear_lr\": 10 ** uniform(-3, -1),\n",
    "    \"semiring_lr\": None,\n",
    "    \"semiring_optimizer\": None,\n",
    "    \"semiring_scheduler\": None,\n",
    "    \"mu\": None,\n",
    "})"
   ],
   "metadata": {
    "collapsed": false
   }
  },
  {
   "cell_type": "code",
   "execution_count": 8,
   "outputs": [
    {
     "name": "stdout",
     "output_type": "stream",
     "text": [
      "Best trial config with accuracy of 0.89609375: {'model_name': 'linear/relu', 'layer_norm': True, 'skip_connections': False, 'k': None, 'linear_optimizer': 'SGD', 'linear_scheduler': True, 'linear_lr': 0.03354577137468155, 'semiring_lr': None, 'semiring_optimizer': None, 'semiring_scheduler': None, 'mu': None}\n",
      "-----------------\n",
      "{'accuracy': 0.89609375, 'config': {'model_name': 'linear/relu', 'layer_norm': True, 'skip_connections': False, 'k': None, 'linear_optimizer': 'SGD', 'linear_scheduler': True, 'linear_lr': 0.03354577137468155, 'semiring_lr': None, 'semiring_optimizer': None, 'semiring_scheduler': None, 'mu': None}}\n",
      "{'accuracy': 0.87412109375, 'config': {'model_name': 'linear/relu', 'layer_norm': True, 'skip_connections': False, 'k': None, 'linear_optimizer': 'SGD', 'linear_scheduler': False, 'linear_lr': 0.03835297415554376, 'semiring_lr': None, 'semiring_optimizer': None, 'semiring_scheduler': None, 'mu': None}}\n",
      "{'accuracy': 0.1005859375, 'config': {'model_name': 'linear/relu', 'layer_norm': True, 'skip_connections': False, 'k': None, 'linear_optimizer': 'AdamW', 'linear_scheduler': True, 'linear_lr': 0.03640717628614364, 'semiring_lr': None, 'semiring_optimizer': None, 'semiring_scheduler': None, 'mu': None}}\n",
      "{'accuracy': 0.09912109375, 'config': {'model_name': 'linear/relu', 'layer_norm': True, 'skip_connections': False, 'k': None, 'linear_optimizer': 'AdamW', 'linear_scheduler': False, 'linear_lr': 0.038452125069902664, 'semiring_lr': None, 'semiring_optimizer': None, 'semiring_scheduler': None, 'mu': None}}\n"
     ]
    }
   ],
   "source": [
    "find_best_model_for(config={\n",
    "    \"model_name\": \"linear/relu\",\n",
    "    \"layer_norm\": True,\n",
    "    \"skip_connections\": False,\n",
    "    \"k\": None,\n",
    "    \"linear_optimizer\": [\"AdamW\", \"SGD\"],\n",
    "    \"linear_scheduler\": [True, False],\n",
    "    \"linear_lr\": 10 ** uniform(-3, -1),\n",
    "    \"semiring_lr\": None,\n",
    "    \"semiring_optimizer\": None,\n",
    "    \"semiring_scheduler\": None,\n",
    "    \"mu\": None,\n",
    "})"
   ],
   "metadata": {
    "collapsed": false
   }
  },
  {
   "cell_type": "code",
   "execution_count": 7,
   "outputs": [
    {
     "name": "stdout",
     "output_type": "stream",
     "text": [
      "Best trial config with accuracy of 0.8990234375: {'model_name': 'linear/relu', 'layer_norm': False, 'skip_connections': True, 'k': None, 'linear_optimizer': 'AdamW', 'linear_scheduler': True, 'linear_lr': 0.007762420362152599, 'semiring_lr': None, 'semiring_optimizer': None, 'semiring_scheduler': None, 'mu': None}\n",
      "-----------------\n",
      "{'accuracy': 0.8990234375, 'config': {'model_name': 'linear/relu', 'layer_norm': False, 'skip_connections': True, 'k': None, 'linear_optimizer': 'AdamW', 'linear_scheduler': True, 'linear_lr': 0.007762420362152599, 'semiring_lr': None, 'semiring_optimizer': None, 'semiring_scheduler': None, 'mu': None}}\n",
      "{'accuracy': 0.88740234375, 'config': {'model_name': 'linear/relu', 'layer_norm': False, 'skip_connections': True, 'k': None, 'linear_optimizer': 'AdamW', 'linear_scheduler': False, 'linear_lr': 0.007287032211674688, 'semiring_lr': None, 'semiring_optimizer': None, 'semiring_scheduler': None, 'mu': None}}\n",
      "{'accuracy': 0.88603515625, 'config': {'model_name': 'linear/relu', 'layer_norm': False, 'skip_connections': True, 'k': None, 'linear_optimizer': 'SGD', 'linear_scheduler': True, 'linear_lr': 0.011786403461967507, 'semiring_lr': None, 'semiring_optimizer': None, 'semiring_scheduler': None, 'mu': None}}\n",
      "{'accuracy': 0.84296875, 'config': {'model_name': 'linear/relu', 'layer_norm': False, 'skip_connections': True, 'k': None, 'linear_optimizer': 'SGD', 'linear_scheduler': False, 'linear_lr': 0.009231899502133125, 'semiring_lr': None, 'semiring_optimizer': None, 'semiring_scheduler': None, 'mu': None}}\n"
     ]
    }
   ],
   "source": [
    "find_best_model_for(config={\n",
    "    \"model_name\": \"linear/relu\",\n",
    "    \"layer_norm\": False,\n",
    "    \"skip_connections\": True,\n",
    "    \"k\": None,\n",
    "    \"linear_optimizer\": [\"AdamW\", \"SGD\"],\n",
    "    \"linear_scheduler\": [True, False],\n",
    "    \"linear_lr\": 10 ** uniform(-3, -1),\n",
    "    \"semiring_lr\": None,\n",
    "    \"semiring_optimizer\": None,\n",
    "    \"semiring_scheduler\": None,\n",
    "    \"mu\": None,\n",
    "})"
   ],
   "metadata": {
    "collapsed": false
   }
  },
  {
   "cell_type": "code",
   "execution_count": 7,
   "outputs": [
    {
     "name": "stdout",
     "output_type": "stream",
     "text": [
      "Best trial config with accuracy of 0.89599609375: {'model_name': 'linear/relu', 'layer_norm': False, 'skip_connections': False, 'k': None, 'linear_optimizer': 'AdamW', 'linear_scheduler': True, 'linear_lr': 0.0031251852421539513, 'semiring_lr': None, 'semiring_optimizer': None, 'semiring_scheduler': None, 'mu': None}\n",
      "-----------------\n",
      "{'accuracy': 0.89599609375, 'config': {'model_name': 'linear/relu', 'layer_norm': False, 'skip_connections': False, 'k': None, 'linear_optimizer': 'AdamW', 'linear_scheduler': True, 'linear_lr': 0.0031251852421539513, 'semiring_lr': None, 'semiring_optimizer': None, 'semiring_scheduler': None, 'mu': None}}\n",
      "{'accuracy': 0.89248046875, 'config': {'model_name': 'linear/relu', 'layer_norm': False, 'skip_connections': False, 'k': None, 'linear_optimizer': 'AdamW', 'linear_scheduler': False, 'linear_lr': 0.002888360604567611, 'semiring_lr': None, 'semiring_optimizer': None, 'semiring_scheduler': None, 'mu': None}}\n",
      "{'accuracy': 0.74658203125, 'config': {'model_name': 'linear/relu', 'layer_norm': False, 'skip_connections': False, 'k': None, 'linear_optimizer': 'SGD', 'linear_scheduler': True, 'linear_lr': 0.002685885452241567, 'semiring_lr': None, 'semiring_optimizer': None, 'semiring_scheduler': None, 'mu': None}}\n",
      "{'accuracy': 0.10791015625, 'config': {'model_name': 'linear/relu', 'layer_norm': False, 'skip_connections': False, 'k': None, 'linear_optimizer': 'SGD', 'linear_scheduler': False, 'linear_lr': 0.002945884219417537, 'semiring_lr': None, 'semiring_optimizer': None, 'semiring_scheduler': None, 'mu': None}}\n"
     ]
    }
   ],
   "source": [
    "find_best_model_for(config={\n",
    "    \"model_name\": \"linear/relu\",\n",
    "    \"layer_norm\": False,\n",
    "    \"skip_connections\": False,\n",
    "    \"k\": None,\n",
    "    \"linear_optimizer\": [\"AdamW\", \"SGD\"],\n",
    "    \"linear_scheduler\": [True, False],\n",
    "    \"linear_lr\": 10 ** uniform(-3, -1),\n",
    "    \"semiring_lr\": None,\n",
    "    \"semiring_optimizer\": None,\n",
    "    \"semiring_scheduler\": None,\n",
    "    \"mu\": None,\n",
    "})"
   ],
   "metadata": {
    "collapsed": false
   }
  },
  {
   "cell_type": "code",
   "execution_count": 7,
   "outputs": [],
   "source": [
    "# Return best linear hyperparams, optimiser and scheduler for config\n",
    "def get_linear_info(layer_norm: bool, skip_connections: bool) -> (float, str, bool):\n",
    "    \"\"\"\n",
    "    Using SGD for linear parameters in semiring models does not work.\n",
    "    As the configurations for layer norm True or False are roughly the same\n",
    "    for AdamW, we will simply ignore the layer_norm input and set it to False always.\n",
    "    \"\"\"\n",
    "    layer_norm = False\n",
    "    \n",
    "    if layer_norm and skip_connections:\n",
    "        # 'linear_optimizer': 'SGD', 'linear_scheduler': True, 'linear_lr': 0.05971752653541055\n",
    "        return 0.05971752653541055, 'SGD', True\n",
    "    elif layer_norm and not skip_connections:\n",
    "        # 'linear_optimizer': 'SGD', 'linear_scheduler': True, 'linear_lr': 0.03354577137468155\n",
    "        return 0.03354577137468155, 'SGD', True\n",
    "    elif not layer_norm and skip_connections:\n",
    "        # 'linear_optimizer': 'AdamW', 'linear_scheduler': True, 'linear_lr': 0.007762420362152599\n",
    "        return 0.007762420362152599, 'AdamW', True\n",
    "    elif not layer_norm and not skip_connections:\n",
    "        # 'linear_optimizer': 'AdamW', 'linear_scheduler': True, 'linear_lr': 0.0031251852421539513\n",
    "        return 0.0031251852421539513, 'AdamW', True\n",
    "    else:\n",
    "        raise RuntimeError(\"This case should not exist\")\n",
    "        "
   ],
   "metadata": {
    "collapsed": false,
    "ExecuteTime": {
     "end_time": "2023-09-02T18:55:07.021331Z",
     "start_time": "2023-09-02T18:55:06.999339Z"
    }
   }
  },
  {
   "cell_type": "markdown",
   "source": [
    "Best linear model"
   ],
   "metadata": {
    "collapsed": false
   }
  },
  {
   "cell_type": "code",
   "execution_count": 9,
   "metadata": {
    "ExecuteTime": {
     "end_time": "2023-08-25T08:08:52.464339800Z",
     "start_time": "2023-08-25T08:05:51.514284500Z"
    }
   },
   "outputs": [
    {
     "name": "stdout",
     "output_type": "stream",
     "text": [
      "linear/relu model has 398470 trainable parameters\n"
     ]
    },
    {
     "data": {
      "text/plain": "''"
     },
     "metadata": {},
     "output_type": "display_data"
    },
    {
     "data": {
      "text/plain": "  0%|          | 0/20 [00:00<?, ?it/s]",
      "application/vnd.jupyter.widget-view+json": {
       "version_major": 2,
       "version_minor": 0,
       "model_id": "0465e67f4ac3468c9ce7e56da0f2847d"
      }
     },
     "metadata": {},
     "output_type": "display_data"
    },
    {
     "data": {
      "text/plain": "<Figure size 600x400 with 1 Axes>",
      "image/png": "[encoded data removed]"
     },
     "metadata": {},
     "output_type": "display_data"
    },
    {
     "data": {
      "text/plain": "<Figure size 600x400 with 2 Axes>",
      "image/png": "[encoded data removed]"
     },
     "metadata": {},
     "output_type": "display_data"
    }
   ],
   "source": [
    "best_linear_model = Model(model_name=\"linear/relu\", layer_norm=True, skip_connections=True).to(device)\n",
    "print(f\"{best_linear_model.name} model has {count_parameters(best_linear_model.parameters())} trainable parameters\")\n",
    "\n",
    "best_linear_optimizer = torch.optim.SGD(best_linear_model.parameters(), lr=0.05971752653541055)\n",
    "best_linear_scheduler = torch.optim.lr_scheduler.OneCycleLR(\n",
    "    best_linear_optimizer,\n",
    "    max_lr=0.05971752653541055,\n",
    "    anneal_strategy=\"linear\",\n",
    "    pct_start=0.3,\n",
    "    three_phase=True,\n",
    "    final_div_factor=1000.0,\n",
    "    div_factor=10.0,\n",
    "    steps_per_epoch=len(fmnist_trainloader),\n",
    "    epochs=20,\n",
    ")\n",
    "\n",
    "train(\n",
    "    best_linear_model,\n",
    "    fmnist_trainloader,\n",
    "    fmnist_testloader,\n",
    "    [best_linear_optimizer],\n",
    "    [best_linear_scheduler],\n",
    "    nn.CrossEntropyLoss(),\n",
    "    20,\n",
    ")"
   ]
  },
  {
   "cell_type": "code",
   "execution_count": 23,
   "outputs": [
    {
     "data": {
      "text/plain": "  0%|          | 0/20 [00:00<?, ?it/s]",
      "application/vnd.jupyter.widget-view+json": {
       "version_major": 2,
       "version_minor": 0,
       "model_id": "bb1c348b4ddc4168bcc57cd9928fa00a"
      }
     },
     "metadata": {},
     "output_type": "display_data"
    },
    {
     "data": {
      "text/plain": "  0%|          | 0/20 [00:00<?, ?it/s]",
      "application/vnd.jupyter.widget-view+json": {
       "version_major": 2,
       "version_minor": 0,
       "model_id": "9452e21ce54f414fbc4db8c3cb5c9c25"
      }
     },
     "metadata": {},
     "output_type": "display_data"
    },
    {
     "data": {
      "text/plain": "  0%|          | 0/20 [00:00<?, ?it/s]",
      "application/vnd.jupyter.widget-view+json": {
       "version_major": 2,
       "version_minor": 0,
       "model_id": "f7d11bb506c142e8ac43a713921b6add"
      }
     },
     "metadata": {},
     "output_type": "display_data"
    },
    {
     "data": {
      "text/plain": "  0%|          | 0/20 [00:00<?, ?it/s]",
      "application/vnd.jupyter.widget-view+json": {
       "version_major": 2,
       "version_minor": 0,
       "model_id": "c5605841514c4d91a1f6ba17cc30726e"
      }
     },
     "metadata": {},
     "output_type": "display_data"
    },
    {
     "data": {
      "text/plain": "  0%|          | 0/20 [00:00<?, ?it/s]",
      "application/vnd.jupyter.widget-view+json": {
       "version_major": 2,
       "version_minor": 0,
       "model_id": "ed8af5cf9bf9444ab7e66e18cd61b1fc"
      }
     },
     "metadata": {},
     "output_type": "display_data"
    },
    {
     "data": {
      "text/plain": "  0%|          | 0/20 [00:00<?, ?it/s]",
      "application/vnd.jupyter.widget-view+json": {
       "version_major": 2,
       "version_minor": 0,
       "model_id": "b571c986fac24d179d415c1029e1270f"
      }
     },
     "metadata": {},
     "output_type": "display_data"
    },
    {
     "data": {
      "text/plain": "  0%|          | 0/20 [00:00<?, ?it/s]",
      "application/vnd.jupyter.widget-view+json": {
       "version_major": 2,
       "version_minor": 0,
       "model_id": "9e0a841db9da4976aabfbd4761d8548d"
      }
     },
     "metadata": {},
     "output_type": "display_data"
    },
    {
     "data": {
      "text/plain": "  0%|          | 0/20 [00:00<?, ?it/s]",
      "application/vnd.jupyter.widget-view+json": {
       "version_major": 2,
       "version_minor": 0,
       "model_id": "8b5dcd5529e44aa09ec496445aadad0d"
      }
     },
     "metadata": {},
     "output_type": "display_data"
    },
    {
     "data": {
      "text/plain": "  0%|          | 0/20 [00:00<?, ?it/s]",
      "application/vnd.jupyter.widget-view+json": {
       "version_major": 2,
       "version_minor": 0,
       "model_id": "f0710ead0616417fb42ac509998a7127"
      }
     },
     "metadata": {},
     "output_type": "display_data"
    },
    {
     "data": {
      "text/plain": "  0%|          | 0/20 [00:00<?, ?it/s]",
      "application/vnd.jupyter.widget-view+json": {
       "version_major": 2,
       "version_minor": 0,
       "model_id": "120b3c59c239437dbb0d69548cab22f8"
      }
     },
     "metadata": {},
     "output_type": "display_data"
    },
    {
     "data": {
      "text/plain": "  0%|          | 0/20 [00:00<?, ?it/s]",
      "application/vnd.jupyter.widget-view+json": {
       "version_major": 2,
       "version_minor": 0,
       "model_id": "4f634801d7cf423c82edd55ec0abcb8d"
      }
     },
     "metadata": {},
     "output_type": "display_data"
    },
    {
     "data": {
      "text/plain": "  0%|          | 0/20 [00:00<?, ?it/s]",
      "application/vnd.jupyter.widget-view+json": {
       "version_major": 2,
       "version_minor": 0,
       "model_id": "9c0549aef4924270934187f3725b6039"
      }
     },
     "metadata": {},
     "output_type": "display_data"
    },
    {
     "data": {
      "text/plain": "  0%|          | 0/20 [00:00<?, ?it/s]",
      "application/vnd.jupyter.widget-view+json": {
       "version_major": 2,
       "version_minor": 0,
       "model_id": "3f684d8a12324b13b7c46475f8c86997"
      }
     },
     "metadata": {},
     "output_type": "display_data"
    },
    {
     "data": {
      "text/plain": "  0%|          | 0/20 [00:00<?, ?it/s]",
      "application/vnd.jupyter.widget-view+json": {
       "version_major": 2,
       "version_minor": 0,
       "model_id": "d9815c83eef24cb3af7382955878d6e8"
      }
     },
     "metadata": {},
     "output_type": "display_data"
    },
    {
     "data": {
      "text/plain": "  0%|          | 0/20 [00:00<?, ?it/s]",
      "application/vnd.jupyter.widget-view+json": {
       "version_major": 2,
       "version_minor": 0,
       "model_id": "b937cfab6b7c4009ad15d04d40d5eb26"
      }
     },
     "metadata": {},
     "output_type": "display_data"
    },
    {
     "data": {
      "text/plain": "  0%|          | 0/20 [00:00<?, ?it/s]",
      "application/vnd.jupyter.widget-view+json": {
       "version_major": 2,
       "version_minor": 0,
       "model_id": "0afa26e255994628b0bd1006a1129cc7"
      }
     },
     "metadata": {},
     "output_type": "display_data"
    },
    {
     "data": {
      "text/plain": "  0%|          | 0/20 [00:00<?, ?it/s]",
      "application/vnd.jupyter.widget-view+json": {
       "version_major": 2,
       "version_minor": 0,
       "model_id": "eab8be22009843838560205fafa6f97d"
      }
     },
     "metadata": {},
     "output_type": "display_data"
    },
    {
     "data": {
      "text/plain": "  0%|          | 0/20 [00:00<?, ?it/s]",
      "application/vnd.jupyter.widget-view+json": {
       "version_major": 2,
       "version_minor": 0,
       "model_id": "72691129c6d14571b86837e8745bb78f"
      }
     },
     "metadata": {},
     "output_type": "display_data"
    },
    {
     "data": {
      "text/plain": "  0%|          | 0/20 [00:00<?, ?it/s]",
      "application/vnd.jupyter.widget-view+json": {
       "version_major": 2,
       "version_minor": 0,
       "model_id": "eee688409d7848d4a0f62e70e8c437b8"
      }
     },
     "metadata": {},
     "output_type": "display_data"
    },
    {
     "data": {
      "text/plain": "  0%|          | 0/20 [00:00<?, ?it/s]",
      "application/vnd.jupyter.widget-view+json": {
       "version_major": 2,
       "version_minor": 0,
       "model_id": "76ce9f5f7f8d477e82bdcdc67fee82a3"
      }
     },
     "metadata": {},
     "output_type": "display_data"
    },
    {
     "data": {
      "text/plain": "  0%|          | 0/20 [00:00<?, ?it/s]",
      "application/vnd.jupyter.widget-view+json": {
       "version_major": 2,
       "version_minor": 0,
       "model_id": "a989f7dd70f14b0daed22e88f5cb95cc"
      }
     },
     "metadata": {},
     "output_type": "display_data"
    },
    {
     "data": {
      "text/plain": "  0%|          | 0/20 [00:00<?, ?it/s]",
      "application/vnd.jupyter.widget-view+json": {
       "version_major": 2,
       "version_minor": 0,
       "model_id": "cc8490149938430b8b6ac7a08c6c28cb"
      }
     },
     "metadata": {},
     "output_type": "display_data"
    },
    {
     "data": {
      "text/plain": "  0%|          | 0/20 [00:00<?, ?it/s]",
      "application/vnd.jupyter.widget-view+json": {
       "version_major": 2,
       "version_minor": 0,
       "model_id": "51e21a62331541d1ba1778806dfdb6fe"
      }
     },
     "metadata": {},
     "output_type": "display_data"
    },
    {
     "data": {
      "text/plain": "  0%|          | 0/20 [00:00<?, ?it/s]",
      "application/vnd.jupyter.widget-view+json": {
       "version_major": 2,
       "version_minor": 0,
       "model_id": "26c48ef2f2404565be6717c7c45469b6"
      }
     },
     "metadata": {},
     "output_type": "display_data"
    },
    {
     "data": {
      "text/plain": "  0%|          | 0/20 [00:00<?, ?it/s]",
      "application/vnd.jupyter.widget-view+json": {
       "version_major": 2,
       "version_minor": 0,
       "model_id": "0061148c899f4601898b0ba5517cdc3e"
      }
     },
     "metadata": {},
     "output_type": "display_data"
    },
    {
     "data": {
      "text/plain": "  0%|          | 0/20 [00:00<?, ?it/s]",
      "application/vnd.jupyter.widget-view+json": {
       "version_major": 2,
       "version_minor": 0,
       "model_id": "8dfefd438afc4f33906e4c03a2520b4c"
      }
     },
     "metadata": {},
     "output_type": "display_data"
    },
    {
     "data": {
      "text/plain": "  0%|          | 0/20 [00:00<?, ?it/s]",
      "application/vnd.jupyter.widget-view+json": {
       "version_major": 2,
       "version_minor": 0,
       "model_id": "c6e8b5a3268c499da6daf7955f272ada"
      }
     },
     "metadata": {},
     "output_type": "display_data"
    },
    {
     "data": {
      "text/plain": "  0%|          | 0/20 [00:00<?, ?it/s]",
      "application/vnd.jupyter.widget-view+json": {
       "version_major": 2,
       "version_minor": 0,
       "model_id": "e23432ffabd440f1aec4c31b844b8d02"
      }
     },
     "metadata": {},
     "output_type": "display_data"
    },
    {
     "data": {
      "text/plain": "  0%|          | 0/20 [00:00<?, ?it/s]",
      "application/vnd.jupyter.widget-view+json": {
       "version_major": 2,
       "version_minor": 0,
       "model_id": "f49eeddd263d45bd9b26af67f51f85f4"
      }
     },
     "metadata": {},
     "output_type": "display_data"
    },
    {
     "data": {
      "text/plain": "  0%|          | 0/20 [00:00<?, ?it/s]",
      "application/vnd.jupyter.widget-view+json": {
       "version_major": 2,
       "version_minor": 0,
       "model_id": "10b7d7eef203458ca451e9065a2c69a0"
      }
     },
     "metadata": {},
     "output_type": "display_data"
    },
    {
     "data": {
      "text/plain": "  0%|          | 0/20 [00:00<?, ?it/s]",
      "application/vnd.jupyter.widget-view+json": {
       "version_major": 2,
       "version_minor": 0,
       "model_id": "b39c75a8059347f282085c56c5c8255c"
      }
     },
     "metadata": {},
     "output_type": "display_data"
    },
    {
     "data": {
      "text/plain": "  0%|          | 0/20 [00:00<?, ?it/s]",
      "application/vnd.jupyter.widget-view+json": {
       "version_major": 2,
       "version_minor": 0,
       "model_id": "4673db24a54a4234b4246c6372778934"
      }
     },
     "metadata": {},
     "output_type": "display_data"
    },
    {
     "data": {
      "text/plain": "  0%|          | 0/20 [00:00<?, ?it/s]",
      "application/vnd.jupyter.widget-view+json": {
       "version_major": 2,
       "version_minor": 0,
       "model_id": "a0da4d1ff6c246548075ccd0b2397c15"
      }
     },
     "metadata": {},
     "output_type": "display_data"
    },
    {
     "data": {
      "text/plain": "  0%|          | 0/20 [00:00<?, ?it/s]",
      "application/vnd.jupyter.widget-view+json": {
       "version_major": 2,
       "version_minor": 0,
       "model_id": "0985bf405d1448f094cee160bf2b3ef1"
      }
     },
     "metadata": {},
     "output_type": "display_data"
    },
    {
     "data": {
      "text/plain": "  0%|          | 0/20 [00:00<?, ?it/s]",
      "application/vnd.jupyter.widget-view+json": {
       "version_major": 2,
       "version_minor": 0,
       "model_id": "a28950aac4f642919eea55c0cef53f99"
      }
     },
     "metadata": {},
     "output_type": "display_data"
    },
    {
     "data": {
      "text/plain": "  0%|          | 0/20 [00:00<?, ?it/s]",
      "application/vnd.jupyter.widget-view+json": {
       "version_major": 2,
       "version_minor": 0,
       "model_id": "18bd257f526d48e5a43c59fdd0cc5b2f"
      }
     },
     "metadata": {},
     "output_type": "display_data"
    },
    {
     "data": {
      "text/plain": "  0%|          | 0/20 [00:00<?, ?it/s]",
      "application/vnd.jupyter.widget-view+json": {
       "version_major": 2,
       "version_minor": 0,
       "model_id": "26129da9a234475a8be78992cd2b6b44"
      }
     },
     "metadata": {},
     "output_type": "display_data"
    },
    {
     "data": {
      "text/plain": "  0%|          | 0/20 [00:00<?, ?it/s]",
      "application/vnd.jupyter.widget-view+json": {
       "version_major": 2,
       "version_minor": 0,
       "model_id": "744bf7ebd34d48abab7e33724b12d3b5"
      }
     },
     "metadata": {},
     "output_type": "display_data"
    },
    {
     "data": {
      "text/plain": "  0%|          | 0/20 [00:00<?, ?it/s]",
      "application/vnd.jupyter.widget-view+json": {
       "version_major": 2,
       "version_minor": 0,
       "model_id": "2e9bb98a4b164f5c9d1ed706c20e2419"
      }
     },
     "metadata": {},
     "output_type": "display_data"
    },
    {
     "data": {
      "text/plain": "  0%|          | 0/20 [00:00<?, ?it/s]",
      "application/vnd.jupyter.widget-view+json": {
       "version_major": 2,
       "version_minor": 0,
       "model_id": "093b99c72d9c40a4b7fb3fead2a07ec1"
      }
     },
     "metadata": {},
     "output_type": "display_data"
    },
    {
     "data": {
      "text/plain": "  0%|          | 0/20 [00:00<?, ?it/s]",
      "application/vnd.jupyter.widget-view+json": {
       "version_major": 2,
       "version_minor": 0,
       "model_id": "92e73309d4044793b0bcb1c896b184de"
      }
     },
     "metadata": {},
     "output_type": "display_data"
    },
    {
     "data": {
      "text/plain": "  0%|          | 0/20 [00:00<?, ?it/s]",
      "application/vnd.jupyter.widget-view+json": {
       "version_major": 2,
       "version_minor": 0,
       "model_id": "08306441aa38450baa0e3d16a14331dc"
      }
     },
     "metadata": {},
     "output_type": "display_data"
    },
    {
     "data": {
      "text/plain": "  0%|          | 0/20 [00:00<?, ?it/s]",
      "application/vnd.jupyter.widget-view+json": {
       "version_major": 2,
       "version_minor": 0,
       "model_id": "a349c6179f514fdbbb11433e37c872cc"
      }
     },
     "metadata": {},
     "output_type": "display_data"
    },
    {
     "data": {
      "text/plain": "  0%|          | 0/20 [00:00<?, ?it/s]",
      "application/vnd.jupyter.widget-view+json": {
       "version_major": 2,
       "version_minor": 0,
       "model_id": "b6d968423402445ebc321fd5549807f2"
      }
     },
     "metadata": {},
     "output_type": "display_data"
    },
    {
     "data": {
      "text/plain": "  0%|          | 0/20 [00:00<?, ?it/s]",
      "application/vnd.jupyter.widget-view+json": {
       "version_major": 2,
       "version_minor": 0,
       "model_id": "36accc852f614afba1fd39e85ae2e681"
      }
     },
     "metadata": {},
     "output_type": "display_data"
    },
    {
     "data": {
      "text/plain": "  0%|          | 0/20 [00:00<?, ?it/s]",
      "application/vnd.jupyter.widget-view+json": {
       "version_major": 2,
       "version_minor": 0,
       "model_id": "6a8d95e6de96421887103e5465d0c2a5"
      }
     },
     "metadata": {},
     "output_type": "display_data"
    },
    {
     "data": {
      "text/plain": "  0%|          | 0/20 [00:00<?, ?it/s]",
      "application/vnd.jupyter.widget-view+json": {
       "version_major": 2,
       "version_minor": 0,
       "model_id": "c14ac76e020041f5bf81d0409435bede"
      }
     },
     "metadata": {},
     "output_type": "display_data"
    },
    {
     "data": {
      "text/plain": "  0%|          | 0/20 [00:00<?, ?it/s]",
      "application/vnd.jupyter.widget-view+json": {
       "version_major": 2,
       "version_minor": 0,
       "model_id": "798b2e86876d4c9994f0349dbbd5ee70"
      }
     },
     "metadata": {},
     "output_type": "display_data"
    },
    {
     "data": {
      "text/plain": "  0%|          | 0/20 [00:00<?, ?it/s]",
      "application/vnd.jupyter.widget-view+json": {
       "version_major": 2,
       "version_minor": 0,
       "model_id": "07ddc4907edf47e6a0dc3dbc08b1a6fa"
      }
     },
     "metadata": {},
     "output_type": "display_data"
    },
    {
     "data": {
      "text/plain": "  0%|          | 0/20 [00:00<?, ?it/s]",
      "application/vnd.jupyter.widget-view+json": {
       "version_major": 2,
       "version_minor": 0,
       "model_id": "10d483efe0234fa685d779d29e9a4807"
      }
     },
     "metadata": {},
     "output_type": "display_data"
    },
    {
     "data": {
      "text/plain": "  0%|          | 0/20 [00:00<?, ?it/s]",
      "application/vnd.jupyter.widget-view+json": {
       "version_major": 2,
       "version_minor": 0,
       "model_id": "fb46d73cea3b443bb1b07be660e57ab6"
      }
     },
     "metadata": {},
     "output_type": "display_data"
    },
    {
     "data": {
      "text/plain": "  0%|          | 0/20 [00:00<?, ?it/s]",
      "application/vnd.jupyter.widget-view+json": {
       "version_major": 2,
       "version_minor": 0,
       "model_id": "0c7d687d2df640aca002c7ab7b08c93f"
      }
     },
     "metadata": {},
     "output_type": "display_data"
    },
    {
     "data": {
      "text/plain": "  0%|          | 0/20 [00:00<?, ?it/s]",
      "application/vnd.jupyter.widget-view+json": {
       "version_major": 2,
       "version_minor": 0,
       "model_id": "6deb7b996c0144caaafb44a28b7e690a"
      }
     },
     "metadata": {},
     "output_type": "display_data"
    },
    {
     "data": {
      "text/plain": "  0%|          | 0/20 [00:00<?, ?it/s]",
      "application/vnd.jupyter.widget-view+json": {
       "version_major": 2,
       "version_minor": 0,
       "model_id": "6bc3a4178aff48e0abed5ab6e85f4728"
      }
     },
     "metadata": {},
     "output_type": "display_data"
    },
    {
     "data": {
      "text/plain": "  0%|          | 0/20 [00:00<?, ?it/s]",
      "application/vnd.jupyter.widget-view+json": {
       "version_major": 2,
       "version_minor": 0,
       "model_id": "42fc19ccc1704fdfa84f4c731871ab5e"
      }
     },
     "metadata": {},
     "output_type": "display_data"
    },
    {
     "data": {
      "text/plain": "  0%|          | 0/20 [00:00<?, ?it/s]",
      "application/vnd.jupyter.widget-view+json": {
       "version_major": 2,
       "version_minor": 0,
       "model_id": "12a77a7465304eef8bad6513821e2794"
      }
     },
     "metadata": {},
     "output_type": "display_data"
    },
    {
     "data": {
      "text/plain": "  0%|          | 0/20 [00:00<?, ?it/s]",
      "application/vnd.jupyter.widget-view+json": {
       "version_major": 2,
       "version_minor": 0,
       "model_id": "4472a1cc3a944d7b8c0fb1eabaa9b93b"
      }
     },
     "metadata": {},
     "output_type": "display_data"
    },
    {
     "data": {
      "text/plain": "  0%|          | 0/20 [00:00<?, ?it/s]",
      "application/vnd.jupyter.widget-view+json": {
       "version_major": 2,
       "version_minor": 0,
       "model_id": "9e556ddb8ad647248b4ddff99ba4f8f6"
      }
     },
     "metadata": {},
     "output_type": "display_data"
    },
    {
     "data": {
      "text/plain": "  0%|          | 0/20 [00:00<?, ?it/s]",
      "application/vnd.jupyter.widget-view+json": {
       "version_major": 2,
       "version_minor": 0,
       "model_id": "b9cec3f106d649be9d1e6bf758827f5c"
      }
     },
     "metadata": {},
     "output_type": "display_data"
    },
    {
     "data": {
      "text/plain": "  0%|          | 0/20 [00:00<?, ?it/s]",
      "application/vnd.jupyter.widget-view+json": {
       "version_major": 2,
       "version_minor": 0,
       "model_id": "3c481978b7c5455b8e60284720425d6b"
      }
     },
     "metadata": {},
     "output_type": "display_data"
    },
    {
     "data": {
      "text/plain": "  0%|          | 0/20 [00:00<?, ?it/s]",
      "application/vnd.jupyter.widget-view+json": {
       "version_major": 2,
       "version_minor": 0,
       "model_id": "995e88bcf28f44c6ae9aa14d5ab75134"
      }
     },
     "metadata": {},
     "output_type": "display_data"
    },
    {
     "data": {
      "text/plain": "  0%|          | 0/20 [00:00<?, ?it/s]",
      "application/vnd.jupyter.widget-view+json": {
       "version_major": 2,
       "version_minor": 0,
       "model_id": "0c6f354e58ac4e79a5dedf239c831deb"
      }
     },
     "metadata": {},
     "output_type": "display_data"
    },
    {
     "data": {
      "text/plain": "  0%|          | 0/20 [00:00<?, ?it/s]",
      "application/vnd.jupyter.widget-view+json": {
       "version_major": 2,
       "version_minor": 0,
       "model_id": "5a595a5cf4e342bc98a11e860190e65a"
      }
     },
     "metadata": {},
     "output_type": "display_data"
    },
    {
     "data": {
      "text/plain": "  0%|          | 0/20 [00:00<?, ?it/s]",
      "application/vnd.jupyter.widget-view+json": {
       "version_major": 2,
       "version_minor": 0,
       "model_id": "28444e7305db45168c90dfa65c418d65"
      }
     },
     "metadata": {},
     "output_type": "display_data"
    },
    {
     "data": {
      "text/plain": "  0%|          | 0/20 [00:00<?, ?it/s]",
      "application/vnd.jupyter.widget-view+json": {
       "version_major": 2,
       "version_minor": 0,
       "model_id": "da6e89be36cf46c69a2e647a3805eceb"
      }
     },
     "metadata": {},
     "output_type": "display_data"
    },
    {
     "data": {
      "text/plain": "  0%|          | 0/20 [00:00<?, ?it/s]",
      "application/vnd.jupyter.widget-view+json": {
       "version_major": 2,
       "version_minor": 0,
       "model_id": "ab9ccfdf2ce54f32ad3a52264b7b9022"
      }
     },
     "metadata": {},
     "output_type": "display_data"
    },
    {
     "data": {
      "text/plain": "  0%|          | 0/20 [00:00<?, ?it/s]",
      "application/vnd.jupyter.widget-view+json": {
       "version_major": 2,
       "version_minor": 0,
       "model_id": "55b3f2f26f034868bb558b5a5989edb6"
      }
     },
     "metadata": {},
     "output_type": "display_data"
    },
    {
     "data": {
      "text/plain": "  0%|          | 0/20 [00:00<?, ?it/s]",
      "application/vnd.jupyter.widget-view+json": {
       "version_major": 2,
       "version_minor": 0,
       "model_id": "75e4205f3d5a4eb994df2eed2455f3ba"
      }
     },
     "metadata": {},
     "output_type": "display_data"
    },
    {
     "data": {
      "text/plain": "  0%|          | 0/20 [00:00<?, ?it/s]",
      "application/vnd.jupyter.widget-view+json": {
       "version_major": 2,
       "version_minor": 0,
       "model_id": "92cbf1429be140e5999b11a13981f1e6"
      }
     },
     "metadata": {},
     "output_type": "display_data"
    },
    {
     "data": {
      "text/plain": "  0%|          | 0/20 [00:00<?, ?it/s]",
      "application/vnd.jupyter.widget-view+json": {
       "version_major": 2,
       "version_minor": 0,
       "model_id": "809446bc7e9540278172aeccba0c8843"
      }
     },
     "metadata": {},
     "output_type": "display_data"
    },
    {
     "data": {
      "text/plain": "  0%|          | 0/20 [00:00<?, ?it/s]",
      "application/vnd.jupyter.widget-view+json": {
       "version_major": 2,
       "version_minor": 0,
       "model_id": "1198874be4644d44902d5f72b847bd8f"
      }
     },
     "metadata": {},
     "output_type": "display_data"
    },
    {
     "data": {
      "text/plain": "  0%|          | 0/20 [00:00<?, ?it/s]",
      "application/vnd.jupyter.widget-view+json": {
       "version_major": 2,
       "version_minor": 0,
       "model_id": "1946d31bca9d48c6ae397182da5a2bab"
      }
     },
     "metadata": {},
     "output_type": "display_data"
    },
    {
     "data": {
      "text/plain": "  0%|          | 0/20 [00:00<?, ?it/s]",
      "application/vnd.jupyter.widget-view+json": {
       "version_major": 2,
       "version_minor": 0,
       "model_id": "1c3804e698e14a4eb6db0a8db56f9db0"
      }
     },
     "metadata": {},
     "output_type": "display_data"
    },
    {
     "data": {
      "text/plain": "  0%|          | 0/20 [00:00<?, ?it/s]",
      "application/vnd.jupyter.widget-view+json": {
       "version_major": 2,
       "version_minor": 0,
       "model_id": "376d1871f3ce41fca390542b4718ca3b"
      }
     },
     "metadata": {},
     "output_type": "display_data"
    },
    {
     "data": {
      "text/plain": "  0%|          | 0/20 [00:00<?, ?it/s]",
      "application/vnd.jupyter.widget-view+json": {
       "version_major": 2,
       "version_minor": 0,
       "model_id": "074ef2f54c934cfeb07e657960dfcb47"
      }
     },
     "metadata": {},
     "output_type": "display_data"
    },
    {
     "data": {
      "text/plain": "  0%|          | 0/20 [00:00<?, ?it/s]",
      "application/vnd.jupyter.widget-view+json": {
       "version_major": 2,
       "version_minor": 0,
       "model_id": "59d74b2f817b4258a0efe0d3c11251ab"
      }
     },
     "metadata": {},
     "output_type": "display_data"
    },
    {
     "data": {
      "text/plain": "  0%|          | 0/20 [00:00<?, ?it/s]",
      "application/vnd.jupyter.widget-view+json": {
       "version_major": 2,
       "version_minor": 0,
       "model_id": "4dfa47db6c2045c6900a9da7376fae87"
      }
     },
     "metadata": {},
     "output_type": "display_data"
    },
    {
     "data": {
      "text/plain": "  0%|          | 0/20 [00:00<?, ?it/s]",
      "application/vnd.jupyter.widget-view+json": {
       "version_major": 2,
       "version_minor": 0,
       "model_id": "cab1c5bd84094ed7886ff9fc63faeab3"
      }
     },
     "metadata": {},
     "output_type": "display_data"
    },
    {
     "data": {
      "text/plain": "  0%|          | 0/20 [00:00<?, ?it/s]",
      "application/vnd.jupyter.widget-view+json": {
       "version_major": 2,
       "version_minor": 0,
       "model_id": "96fba19ee4344f119f6fab2a78a0f865"
      }
     },
     "metadata": {},
     "output_type": "display_data"
    },
    {
     "data": {
      "text/plain": "  0%|          | 0/20 [00:00<?, ?it/s]",
      "application/vnd.jupyter.widget-view+json": {
       "version_major": 2,
       "version_minor": 0,
       "model_id": "959cf1b94fe7452b9025223339e89042"
      }
     },
     "metadata": {},
     "output_type": "display_data"
    },
    {
     "data": {
      "text/plain": "  0%|          | 0/20 [00:00<?, ?it/s]",
      "application/vnd.jupyter.widget-view+json": {
       "version_major": 2,
       "version_minor": 0,
       "model_id": "ca88bfe77ecf43e48a028d17cc00a37b"
      }
     },
     "metadata": {},
     "output_type": "display_data"
    },
    {
     "data": {
      "text/plain": "  0%|          | 0/20 [00:00<?, ?it/s]",
      "application/vnd.jupyter.widget-view+json": {
       "version_major": 2,
       "version_minor": 0,
       "model_id": "36ea6be90c8b47ada9e4ccd981d295ed"
      }
     },
     "metadata": {},
     "output_type": "display_data"
    },
    {
     "data": {
      "text/plain": "  0%|          | 0/20 [00:00<?, ?it/s]",
      "application/vnd.jupyter.widget-view+json": {
       "version_major": 2,
       "version_minor": 0,
       "model_id": "bb1b689b7d0345bf9b4795b41c99a2f7"
      }
     },
     "metadata": {},
     "output_type": "display_data"
    },
    {
     "data": {
      "text/plain": "  0%|          | 0/20 [00:00<?, ?it/s]",
      "application/vnd.jupyter.widget-view+json": {
       "version_major": 2,
       "version_minor": 0,
       "model_id": "05116b8d76604a16bbae6b1f7d17cc5a"
      }
     },
     "metadata": {},
     "output_type": "display_data"
    },
    {
     "data": {
      "text/plain": "  0%|          | 0/20 [00:00<?, ?it/s]",
      "application/vnd.jupyter.widget-view+json": {
       "version_major": 2,
       "version_minor": 0,
       "model_id": "bc526339385440ccbc56e36ab15be0b5"
      }
     },
     "metadata": {},
     "output_type": "display_data"
    },
    {
     "data": {
      "text/plain": "  0%|          | 0/20 [00:00<?, ?it/s]",
      "application/vnd.jupyter.widget-view+json": {
       "version_major": 2,
       "version_minor": 0,
       "model_id": "f3393076a7ec49ef9920d5d3de0da502"
      }
     },
     "metadata": {},
     "output_type": "display_data"
    },
    {
     "data": {
      "text/plain": "  0%|          | 0/20 [00:00<?, ?it/s]",
      "application/vnd.jupyter.widget-view+json": {
       "version_major": 2,
       "version_minor": 0,
       "model_id": "ab0170ef54574d46b971a981d8a62040"
      }
     },
     "metadata": {},
     "output_type": "display_data"
    },
    {
     "data": {
      "text/plain": "  0%|          | 0/20 [00:00<?, ?it/s]",
      "application/vnd.jupyter.widget-view+json": {
       "version_major": 2,
       "version_minor": 0,
       "model_id": "490203ea0cf44d1ea87dcfa7098c805a"
      }
     },
     "metadata": {},
     "output_type": "display_data"
    },
    {
     "data": {
      "text/plain": "  0%|          | 0/20 [00:00<?, ?it/s]",
      "application/vnd.jupyter.widget-view+json": {
       "version_major": 2,
       "version_minor": 0,
       "model_id": "a840bf8c8c9d472dbf451369e4dfb1b9"
      }
     },
     "metadata": {},
     "output_type": "display_data"
    },
    {
     "data": {
      "text/plain": "  0%|          | 0/20 [00:00<?, ?it/s]",
      "application/vnd.jupyter.widget-view+json": {
       "version_major": 2,
       "version_minor": 0,
       "model_id": "4c1bbea479a94f5d94539e57f19fb190"
      }
     },
     "metadata": {},
     "output_type": "display_data"
    },
    {
     "data": {
      "text/plain": "  0%|          | 0/20 [00:00<?, ?it/s]",
      "application/vnd.jupyter.widget-view+json": {
       "version_major": 2,
       "version_minor": 0,
       "model_id": "75a5713b60244995933f38060908bde3"
      }
     },
     "metadata": {},
     "output_type": "display_data"
    },
    {
     "data": {
      "text/plain": "  0%|          | 0/20 [00:00<?, ?it/s]",
      "application/vnd.jupyter.widget-view+json": {
       "version_major": 2,
       "version_minor": 0,
       "model_id": "26cef9417ad0442a9b442436bc0a1c13"
      }
     },
     "metadata": {},
     "output_type": "display_data"
    },
    {
     "data": {
      "text/plain": "  0%|          | 0/20 [00:00<?, ?it/s]",
      "application/vnd.jupyter.widget-view+json": {
       "version_major": 2,
       "version_minor": 0,
       "model_id": "a3d1fe2b95fc47cc8434f3eae6016d82"
      }
     },
     "metadata": {},
     "output_type": "display_data"
    },
    {
     "data": {
      "text/plain": "  0%|          | 0/20 [00:00<?, ?it/s]",
      "application/vnd.jupyter.widget-view+json": {
       "version_major": 2,
       "version_minor": 0,
       "model_id": "07d5855b87954c40a33304e092b03456"
      }
     },
     "metadata": {},
     "output_type": "display_data"
    },
    {
     "data": {
      "text/plain": "  0%|          | 0/20 [00:00<?, ?it/s]",
      "application/vnd.jupyter.widget-view+json": {
       "version_major": 2,
       "version_minor": 0,
       "model_id": "31cd015e61cd43f3aa7b87881d8cdc38"
      }
     },
     "metadata": {},
     "output_type": "display_data"
    },
    {
     "data": {
      "text/plain": "  0%|          | 0/20 [00:00<?, ?it/s]",
      "application/vnd.jupyter.widget-view+json": {
       "version_major": 2,
       "version_minor": 0,
       "model_id": "756943599b1e4616b48373df76e0e6f2"
      }
     },
     "metadata": {},
     "output_type": "display_data"
    },
    {
     "data": {
      "text/plain": "  0%|          | 0/20 [00:00<?, ?it/s]",
      "application/vnd.jupyter.widget-view+json": {
       "version_major": 2,
       "version_minor": 0,
       "model_id": "799e4fc32b5545159123e855d87a8f88"
      }
     },
     "metadata": {},
     "output_type": "display_data"
    },
    {
     "data": {
      "text/plain": "  0%|          | 0/20 [00:00<?, ?it/s]",
      "application/vnd.jupyter.widget-view+json": {
       "version_major": 2,
       "version_minor": 0,
       "model_id": "c2351e744bde4f22ba185fa590e20c42"
      }
     },
     "metadata": {},
     "output_type": "display_data"
    },
    {
     "data": {
      "text/plain": "  0%|          | 0/20 [00:00<?, ?it/s]",
      "application/vnd.jupyter.widget-view+json": {
       "version_major": 2,
       "version_minor": 0,
       "model_id": "6550f0042f4e4be9a612ce67a9a73b70"
      }
     },
     "metadata": {},
     "output_type": "display_data"
    },
    {
     "data": {
      "text/plain": "  0%|          | 0/20 [00:00<?, ?it/s]",
      "application/vnd.jupyter.widget-view+json": {
       "version_major": 2,
       "version_minor": 0,
       "model_id": "95cd39be25a544229e85846412e1909e"
      }
     },
     "metadata": {},
     "output_type": "display_data"
    },
    {
     "name": "stdout",
     "output_type": "stream",
     "text": [
      "0.8931640625\n",
      "[0.8960205078125, 0.897216796875, 0.8982177734374999]\n",
      "0.90166015625\n"
     ]
    }
   ],
   "source": [
    "best_linear_model_accs = []\n",
    "for _ in range(100):\n",
    "    best_linear_model = Model(model_name=\"linear/relu\", layer_norm=True, skip_connections=True).to(device)\n",
    "    \n",
    "    best_linear_optimizer = torch.optim.SGD(best_linear_model.parameters(), lr=0.05971752653541055)\n",
    "    best_linear_scheduler = torch.optim.lr_scheduler.OneCycleLR(\n",
    "        best_linear_optimizer,\n",
    "        max_lr=0.05971752653541055,\n",
    "        anneal_strategy=\"linear\",\n",
    "        pct_start=0.3,\n",
    "        three_phase=True,\n",
    "        final_div_factor=1000.0,\n",
    "        div_factor=10.0,\n",
    "        steps_per_epoch=len(fmnist_trainloader),\n",
    "        epochs=20,\n",
    "    )\n",
    "    \n",
    "    best_linear_model_accs.append(train(\n",
    "        best_linear_model,\n",
    "        fmnist_trainloader,\n",
    "        fmnist_testloader,\n",
    "        [best_linear_optimizer],\n",
    "        [best_linear_scheduler],\n",
    "        nn.CrossEntropyLoss(),\n",
    "        20,\n",
    "        statistics_mode=True,\n",
    "    ))\n",
    "\n",
    "print(min(best_linear_model_accs))\n",
    "print(quantiles(best_linear_model_accs))\n",
    "print(max(best_linear_model_accs))"
   ],
   "metadata": {
    "collapsed": false,
    "ExecuteTime": {
     "end_time": "2023-08-30T01:49:58.164172700Z",
     "start_time": "2023-08-29T21:43:36.670088800Z"
    }
   }
  },
  {
   "cell_type": "markdown",
   "source": [
    "# Tropical models"
   ],
   "metadata": {
    "collapsed": false
   }
  },
  {
   "cell_type": "markdown",
   "source": [
    "MaxPlus"
   ],
   "metadata": {
    "collapsed": false
   }
  },
  {
   "cell_type": "code",
   "execution_count": 8,
   "outputs": [
    {
     "name": "stdout",
     "output_type": "stream",
     "text": [
      "Best trial config with accuracy of 0.8876953125: {'model_name': 'linear/maxplus', 'layer_norm': True, 'skip_connections': False, 'k': 2.6196357564250334, 'linear_optimizer': 'AdamW', 'linear_scheduler': True, 'linear_lr': 0.0031251852421539513, 'semiring_lr': 0.0029371935236854486, 'semiring_optimizer': 'AdamW', 'semiring_scheduler': False, 'mu': None}\n",
      "-----------------\n",
      "{'accuracy': 0.8876953125, 'config': {'model_name': 'linear/maxplus', 'layer_norm': True, 'skip_connections': False, 'k': 2.6196357564250334, 'linear_optimizer': 'AdamW', 'linear_scheduler': True, 'linear_lr': 0.0031251852421539513, 'semiring_lr': 0.0029371935236854486, 'semiring_optimizer': 'AdamW', 'semiring_scheduler': False, 'mu': None}}\n",
      "{'accuracy': 0.88740234375, 'config': {'model_name': 'linear/maxplus', 'layer_norm': True, 'skip_connections': False, 'k': 2.6815860227565693, 'linear_optimizer': 'AdamW', 'linear_scheduler': True, 'linear_lr': 0.0031251852421539513, 'semiring_lr': 0.002666213567849813, 'semiring_optimizer': 'AdamW', 'semiring_scheduler': True, 'mu': None}}\n",
      "{'accuracy': 0.88583984375, 'config': {'model_name': 'linear/maxplus', 'layer_norm': True, 'skip_connections': False, 'k': 2.5859890512159787, 'linear_optimizer': 'AdamW', 'linear_scheduler': True, 'linear_lr': 0.0031251852421539513, 'semiring_lr': 0.002824834071529307, 'semiring_optimizer': 'SGD', 'semiring_scheduler': True, 'mu': None}}\n",
      "{'accuracy': 0.88349609375, 'config': {'model_name': 'linear/maxplus', 'layer_norm': True, 'skip_connections': False, 'k': 2.341892601200901, 'linear_optimizer': 'AdamW', 'linear_scheduler': True, 'linear_lr': 0.0031251852421539513, 'semiring_lr': 0.0026133645267577654, 'semiring_optimizer': 'SGD', 'semiring_scheduler': False, 'mu': None}}\n",
      "{'accuracy': 0.88134765625, 'config': {'model_name': 'linear/maxplus', 'layer_norm': True, 'skip_connections': False, 'k': 2.594723024234814, 'linear_optimizer': 'AdamW', 'linear_scheduler': True, 'linear_lr': 0.0031251852421539513, 'semiring_lr': 0.002818917476294541, 'semiring_optimizer': 'TropicalSGD', 'semiring_scheduler': False, 'mu': None}}\n"
     ]
    }
   ],
   "source": [
    "linear_lr, linear_optimizer, linear_scheduler = get_linear_info(layer_norm=True, skip_connections=False)\n",
    "\n",
    "find_best_model_for(config={\n",
    "    \"model_name\": \"linear/maxplus\",\n",
    "    \"layer_norm\": True,\n",
    "    \"skip_connections\": False,\n",
    "    \"k\": uniform(1, 3),\n",
    "    \"linear_optimizer\": linear_optimizer,\n",
    "    \"linear_scheduler\": linear_scheduler,\n",
    "    \"linear_lr\": linear_lr,\n",
    "    \"semiring_lr\": 10 ** uniform(-3, -2),\n",
    "    \"semiring_optimizer\": [\"AdamW\", \"SGD\", \"TropicalSGD\"],\n",
    "    \"semiring_scheduler\": [True, False],\n",
    "    \"mu\": None,\n",
    "})"
   ],
   "metadata": {
    "collapsed": false
   }
  },
  {
   "cell_type": "code",
   "execution_count": 11,
   "outputs": [
    {
     "name": "stdout",
     "output_type": "stream",
     "text": [
      "Best trial config with accuracy of 0.8876953125: {'model_name': 'linear/maxplus', 'layer_norm': False, 'skip_connections': False, 'k': 2.256427031094938, 'linear_optimizer': 'AdamW', 'linear_scheduler': True, 'linear_lr': 0.0031251852421539513, 'semiring_lr': 0.002433015507337236, 'semiring_optimizer': 'AdamW', 'semiring_scheduler': False, 'mu': None}\n",
      "-----------------\n",
      "{'accuracy': 0.8876953125, 'config': {'model_name': 'linear/maxplus', 'layer_norm': False, 'skip_connections': False, 'k': 2.256427031094938, 'linear_optimizer': 'AdamW', 'linear_scheduler': True, 'linear_lr': 0.0031251852421539513, 'semiring_lr': 0.002433015507337236, 'semiring_optimizer': 'AdamW', 'semiring_scheduler': False, 'mu': None}}\n",
      "{'accuracy': 0.8853515625, 'config': {'model_name': 'linear/maxplus', 'layer_norm': False, 'skip_connections': False, 'k': 2.2220299425190944, 'linear_optimizer': 'AdamW', 'linear_scheduler': True, 'linear_lr': 0.0031251852421539513, 'semiring_lr': 0.00244281604406467, 'semiring_optimizer': 'AdamW', 'semiring_scheduler': True, 'mu': None}}\n",
      "{'accuracy': 0.88486328125, 'config': {'model_name': 'linear/maxplus', 'layer_norm': False, 'skip_connections': False, 'k': 2.348658150306221, 'linear_optimizer': 'AdamW', 'linear_scheduler': True, 'linear_lr': 0.0031251852421539513, 'semiring_lr': 0.002514641590817742, 'semiring_optimizer': 'TropicalSGD', 'semiring_scheduler': False, 'mu': None}}\n",
      "{'accuracy': 0.8826171875, 'config': {'model_name': 'linear/maxplus', 'layer_norm': False, 'skip_connections': False, 'k': 2.511288853299737, 'linear_optimizer': 'AdamW', 'linear_scheduler': True, 'linear_lr': 0.0031251852421539513, 'semiring_lr': 0.002144462198522847, 'semiring_optimizer': 'SGD', 'semiring_scheduler': True, 'mu': None}}\n",
      "{'accuracy': 0.8818359375, 'config': {'model_name': 'linear/maxplus', 'layer_norm': False, 'skip_connections': False, 'k': 2.2463422684454835, 'linear_optimizer': 'AdamW', 'linear_scheduler': True, 'linear_lr': 0.0031251852421539513, 'semiring_lr': 0.0023929230844008643, 'semiring_optimizer': 'SGD', 'semiring_scheduler': False, 'mu': None}}\n"
     ]
    }
   ],
   "source": [
    "linear_lr, linear_optimizer, linear_scheduler = get_linear_info(layer_norm=False, skip_connections=False)\n",
    "\n",
    "find_best_model_for(config={\n",
    "    \"model_name\": \"linear/maxplus\",\n",
    "    \"layer_norm\": False,\n",
    "    \"skip_connections\": False,\n",
    "    \"k\": uniform(1, 3),\n",
    "    \"linear_optimizer\": linear_optimizer,\n",
    "    \"linear_scheduler\": linear_scheduler,\n",
    "    \"linear_lr\": linear_lr,\n",
    "    \"semiring_lr\": 10 ** uniform(-3, -2),\n",
    "    \"semiring_optimizer\": [\"AdamW\", \"SGD\", \"TropicalSGD\"],\n",
    "    \"semiring_scheduler\": [True, False],\n",
    "    \"mu\": None,\n",
    "})"
   ],
   "metadata": {
    "collapsed": false
   }
  },
  {
   "cell_type": "code",
   "execution_count": 10,
   "outputs": [
    {
     "name": "stdout",
     "output_type": "stream",
     "text": [
      "Best trial config with accuracy of 0.86962890625: {'model_name': 'linear/maxplus', 'layer_norm': True, 'skip_connections': True, 'k': 1.7769617673024865, 'linear_optimizer': 'AdamW', 'linear_scheduler': True, 'linear_lr': 0.007762420362152599, 'semiring_lr': 0.001822442346929929, 'semiring_optimizer': 'TropicalSGD', 'semiring_scheduler': False, 'mu': None}\n",
      "-----------------\n",
      "{'accuracy': 0.86962890625, 'config': {'model_name': 'linear/maxplus', 'layer_norm': True, 'skip_connections': True, 'k': 1.7769617673024865, 'linear_optimizer': 'AdamW', 'linear_scheduler': True, 'linear_lr': 0.007762420362152599, 'semiring_lr': 0.001822442346929929, 'semiring_optimizer': 'TropicalSGD', 'semiring_scheduler': False, 'mu': None}}\n",
      "{'accuracy': 0.86845703125, 'config': {'model_name': 'linear/maxplus', 'layer_norm': True, 'skip_connections': True, 'k': 1.724313290903413, 'linear_optimizer': 'AdamW', 'linear_scheduler': True, 'linear_lr': 0.007762420362152599, 'semiring_lr': 0.001986198545207986, 'semiring_optimizer': 'AdamW', 'semiring_scheduler': True, 'mu': None}}\n",
      "{'accuracy': 0.83623046875, 'config': {'model_name': 'linear/maxplus', 'layer_norm': True, 'skip_connections': True, 'k': 1.892167802229838, 'linear_optimizer': 'AdamW', 'linear_scheduler': True, 'linear_lr': 0.007762420362152599, 'semiring_lr': 0.001936571858173527, 'semiring_optimizer': 'AdamW', 'semiring_scheduler': False, 'mu': None}}\n",
      "{'accuracy': 0.8361328125, 'config': {'model_name': 'linear/maxplus', 'layer_norm': True, 'skip_connections': True, 'k': 1.8075789543462655, 'linear_optimizer': 'AdamW', 'linear_scheduler': True, 'linear_lr': 0.007762420362152599, 'semiring_lr': 0.0020473599988871283, 'semiring_optimizer': 'SGD', 'semiring_scheduler': False, 'mu': None}}\n",
      "{'accuracy': 0.69912109375, 'config': {'model_name': 'linear/maxplus', 'layer_norm': True, 'skip_connections': True, 'k': 1.8906403669302971, 'linear_optimizer': 'AdamW', 'linear_scheduler': True, 'linear_lr': 0.007762420362152599, 'semiring_lr': 0.0018168475263419682, 'semiring_optimizer': 'SGD', 'semiring_scheduler': True, 'mu': None}}\n"
     ]
    }
   ],
   "source": [
    "linear_lr, linear_optimizer, linear_scheduler = get_linear_info(layer_norm=True, skip_connections=True)\n",
    "\n",
    "find_best_model_for(config={\n",
    "    \"model_name\": \"linear/maxplus\",\n",
    "    \"layer_norm\": True,\n",
    "    \"skip_connections\": True,\n",
    "    \"k\": uniform(1, 3),\n",
    "    \"linear_optimizer\": linear_optimizer,\n",
    "    \"linear_scheduler\": linear_scheduler,\n",
    "    \"linear_lr\": linear_lr,\n",
    "    \"semiring_lr\": 10 ** uniform(-3, -2),\n",
    "    \"semiring_optimizer\": [\"AdamW\", \"SGD\", \"TropicalSGD\"],\n",
    "    \"semiring_scheduler\": [True, False],\n",
    "    \"mu\": None,\n",
    "})"
   ],
   "metadata": {
    "collapsed": false
   }
  },
  {
   "cell_type": "code",
   "execution_count": 9,
   "outputs": [
    {
     "name": "stdout",
     "output_type": "stream",
     "text": [
      "Best trial config with accuracy of 0.88681640625: {'model_name': 'linear/maxplus', 'layer_norm': False, 'skip_connections': True, 'k': 3.036865953332137, 'linear_optimizer': 'AdamW', 'linear_scheduler': True, 'linear_lr': 0.007762420362152599, 'semiring_lr': 0.007683624419514911, 'semiring_optimizer': 'AdamW', 'semiring_scheduler': False, 'mu': None}\n",
      "-----------------\n",
      "{'accuracy': 0.88681640625, 'config': {'model_name': 'linear/maxplus', 'layer_norm': False, 'skip_connections': True, 'k': 3.036865953332137, 'linear_optimizer': 'AdamW', 'linear_scheduler': True, 'linear_lr': 0.007762420362152599, 'semiring_lr': 0.007683624419514911, 'semiring_optimizer': 'AdamW', 'semiring_scheduler': False, 'mu': None}}\n",
      "{'accuracy': 0.88515625, 'config': {'model_name': 'linear/maxplus', 'layer_norm': False, 'skip_connections': True, 'k': 2.390796766202493, 'linear_optimizer': 'AdamW', 'linear_scheduler': True, 'linear_lr': 0.007762420362152599, 'semiring_lr': 0.00894457763563847, 'semiring_optimizer': 'AdamW', 'semiring_scheduler': True, 'mu': None}}\n",
      "{'accuracy': 0.88173828125, 'config': {'model_name': 'linear/maxplus', 'layer_norm': False, 'skip_connections': True, 'k': 3.242332653084076, 'linear_optimizer': 'AdamW', 'linear_scheduler': True, 'linear_lr': 0.007762420362152599, 'semiring_lr': 0.0077209014552841095, 'semiring_optimizer': 'SGD', 'semiring_scheduler': False, 'mu': None}}\n",
      "{'accuracy': 0.85009765625, 'config': {'model_name': 'linear/maxplus', 'layer_norm': False, 'skip_connections': True, 'k': 2.6288455535588593, 'linear_optimizer': 'AdamW', 'linear_scheduler': True, 'linear_lr': 0.007762420362152599, 'semiring_lr': 0.007937539467233945, 'semiring_optimizer': 'TropicalSGD', 'semiring_scheduler': False, 'mu': None}}\n",
      "{'accuracy': 0.8267578125, 'config': {'model_name': 'linear/maxplus', 'layer_norm': False, 'skip_connections': True, 'k': 2.451203982527171, 'linear_optimizer': 'AdamW', 'linear_scheduler': True, 'linear_lr': 0.007762420362152599, 'semiring_lr': 0.007770462180060519, 'semiring_optimizer': 'SGD', 'semiring_scheduler': True, 'mu': None}}\n"
     ]
    }
   ],
   "source": [
    "linear_lr, linear_optimizer, linear_scheduler = get_linear_info(layer_norm=False, skip_connections=True)\n",
    "\n",
    "find_best_model_for(config={\n",
    "    \"model_name\": \"linear/maxplus\",\n",
    "    \"layer_norm\": False,\n",
    "    \"skip_connections\": True,\n",
    "    \"k\": uniform(1, 3),\n",
    "    \"linear_optimizer\": linear_optimizer,\n",
    "    \"linear_scheduler\": linear_scheduler,\n",
    "    \"linear_lr\": linear_lr,\n",
    "    \"semiring_lr\": 10 ** uniform(-3, -2),\n",
    "    \"semiring_optimizer\": [\"AdamW\", \"SGD\", \"TropicalSGD\"],\n",
    "    \"semiring_scheduler\": [True, False],\n",
    "    \"mu\": None,\n",
    "})"
   ],
   "metadata": {
    "collapsed": false
   }
  },
  {
   "cell_type": "markdown",
   "source": [
    "Best MaxPlus model"
   ],
   "metadata": {
    "collapsed": false
   }
  },
  {
   "cell_type": "code",
   "execution_count": 11,
   "outputs": [
    {
     "name": "stdout",
     "output_type": "stream",
     "text": [
      "linear/maxplus model has 295070 trainable parameters, of which 184620 are linear and 110450 are semiring related\n"
     ]
    },
    {
     "data": {
      "text/plain": "''"
     },
     "metadata": {},
     "output_type": "display_data"
    },
    {
     "data": {
      "text/plain": "  0%|          | 0/20 [00:00<?, ?it/s]",
      "application/vnd.jupyter.widget-view+json": {
       "version_major": 2,
       "version_minor": 0,
       "model_id": "28f43b33682b4d45ae2e1e5ae791fce9"
      }
     },
     "metadata": {},
     "output_type": "display_data"
    },
    {
     "data": {
      "text/plain": "<Figure size 600x400 with 1 Axes>",
      "image/png": "[encoded data removed]"
     },
     "metadata": {},
     "output_type": "display_data"
    },
    {
     "data": {
      "text/plain": "<Figure size 600x400 with 2 Axes>",
      "image/png": "[encoded data removed]"
     },
     "metadata": {},
     "output_type": "display_data"
    }
   ],
   "source": [
    "best_maxplus_model = Model(\"linear/maxplus\", layer_norm=True, skip_connections=False, k=2.6196357564250334).to(device)\n",
    "\n",
    "print(f\"{best_maxplus_model.name} model has {count_parameters(best_maxplus_model.parameters())} trainable parameters, \"\n",
    "      f\"of which {count_parameters(nonmaxplus_parameters(best_maxplus_model))} are linear \"\n",
    "      f\"and {count_parameters(maxplus_parameters(best_maxplus_model))} are semiring related\")\n",
    "\n",
    "best_maxplus_linear_optimizer = torch.optim.AdamW(nonmaxplus_parameters(best_maxplus_model), lr=0.0031251852421539513)\n",
    "best_maxplus_linear_scheduler = torch.optim.lr_scheduler.OneCycleLR(\n",
    "    best_maxplus_linear_optimizer,\n",
    "    max_lr=0.0031251852421539513,\n",
    "    anneal_strategy=\"linear\",\n",
    "    pct_start=0.3,\n",
    "    three_phase=True,\n",
    "    final_div_factor=1000.0,\n",
    "    div_factor=10.0,\n",
    "    steps_per_epoch=len(fmnist_trainloader),\n",
    "    epochs=20,\n",
    ")\n",
    "best_maxplus_semiring_optimizer = torch.optim.AdamW(maxplus_parameters(best_maxplus_model), lr=0.0029371935236854486)\n",
    "\n",
    "best_maxplus_optimizers = [best_maxplus_linear_optimizer, best_maxplus_semiring_optimizer]\n",
    "best_maxplus_schedulers = [best_maxplus_linear_scheduler]\n",
    "\n",
    "train(\n",
    "    best_maxplus_model,\n",
    "    fmnist_trainloader,\n",
    "    fmnist_testloader,\n",
    "    best_maxplus_optimizers,\n",
    "    best_maxplus_schedulers,\n",
    "    nn.CrossEntropyLoss(),\n",
    "    20,\n",
    ")"
   ],
   "metadata": {
    "collapsed": false,
    "ExecuteTime": {
     "end_time": "2023-08-31T10:59:16.390062200Z",
     "start_time": "2023-08-31T10:56:27.962136600Z"
    }
   }
  },
  {
   "cell_type": "code",
   "execution_count": 24,
   "outputs": [
    {
     "data": {
      "text/plain": "  0%|          | 0/20 [00:00<?, ?it/s]",
      "application/vnd.jupyter.widget-view+json": {
       "version_major": 2,
       "version_minor": 0,
       "model_id": "ea572b2f3ace45e59b39d36e2b895e15"
      }
     },
     "metadata": {},
     "output_type": "display_data"
    },
    {
     "data": {
      "text/plain": "  0%|          | 0/20 [00:00<?, ?it/s]",
      "application/vnd.jupyter.widget-view+json": {
       "version_major": 2,
       "version_minor": 0,
       "model_id": "05cbae8c30d448e6bc3107e5fc205554"
      }
     },
     "metadata": {},
     "output_type": "display_data"
    },
    {
     "data": {
      "text/plain": "  0%|          | 0/20 [00:00<?, ?it/s]",
      "application/vnd.jupyter.widget-view+json": {
       "version_major": 2,
       "version_minor": 0,
       "model_id": "eb73a99a8e264e28905c39deb28d484b"
      }
     },
     "metadata": {},
     "output_type": "display_data"
    },
    {
     "data": {
      "text/plain": "  0%|          | 0/20 [00:00<?, ?it/s]",
      "application/vnd.jupyter.widget-view+json": {
       "version_major": 2,
       "version_minor": 0,
       "model_id": "414192d0ad7c472bba0428794f6acb5a"
      }
     },
     "metadata": {},
     "output_type": "display_data"
    },
    {
     "data": {
      "text/plain": "  0%|          | 0/20 [00:00<?, ?it/s]",
      "application/vnd.jupyter.widget-view+json": {
       "version_major": 2,
       "version_minor": 0,
       "model_id": "5d177f13e373407198d8cd5443ec7f7c"
      }
     },
     "metadata": {},
     "output_type": "display_data"
    },
    {
     "data": {
      "text/plain": "  0%|          | 0/20 [00:00<?, ?it/s]",
      "application/vnd.jupyter.widget-view+json": {
       "version_major": 2,
       "version_minor": 0,
       "model_id": "d53eac9772184cb9b8ef3521e1593459"
      }
     },
     "metadata": {},
     "output_type": "display_data"
    },
    {
     "data": {
      "text/plain": "  0%|          | 0/20 [00:00<?, ?it/s]",
      "application/vnd.jupyter.widget-view+json": {
       "version_major": 2,
       "version_minor": 0,
       "model_id": "69caa6f3813d4a0b8c449ee7c8e58606"
      }
     },
     "metadata": {},
     "output_type": "display_data"
    },
    {
     "data": {
      "text/plain": "  0%|          | 0/20 [00:00<?, ?it/s]",
      "application/vnd.jupyter.widget-view+json": {
       "version_major": 2,
       "version_minor": 0,
       "model_id": "9cb0476e42fb4abba0c2232d0a80045c"
      }
     },
     "metadata": {},
     "output_type": "display_data"
    },
    {
     "data": {
      "text/plain": "  0%|          | 0/20 [00:00<?, ?it/s]",
      "application/vnd.jupyter.widget-view+json": {
       "version_major": 2,
       "version_minor": 0,
       "model_id": "31e5639d70854c0aad6e65712aab929b"
      }
     },
     "metadata": {},
     "output_type": "display_data"
    },
    {
     "data": {
      "text/plain": "  0%|          | 0/20 [00:00<?, ?it/s]",
      "application/vnd.jupyter.widget-view+json": {
       "version_major": 2,
       "version_minor": 0,
       "model_id": "e8176e3e1e7749ba8c48ee9719c933db"
      }
     },
     "metadata": {},
     "output_type": "display_data"
    },
    {
     "data": {
      "text/plain": "  0%|          | 0/20 [00:00<?, ?it/s]",
      "application/vnd.jupyter.widget-view+json": {
       "version_major": 2,
       "version_minor": 0,
       "model_id": "c82ccc55e2a84cb983de69c4b515ef42"
      }
     },
     "metadata": {},
     "output_type": "display_data"
    },
    {
     "data": {
      "text/plain": "  0%|          | 0/20 [00:00<?, ?it/s]",
      "application/vnd.jupyter.widget-view+json": {
       "version_major": 2,
       "version_minor": 0,
       "model_id": "04627eb3f8b9493fa4f2684460b59d80"
      }
     },
     "metadata": {},
     "output_type": "display_data"
    },
    {
     "data": {
      "text/plain": "  0%|          | 0/20 [00:00<?, ?it/s]",
      "application/vnd.jupyter.widget-view+json": {
       "version_major": 2,
       "version_minor": 0,
       "model_id": "e78c07e026dc425bbd9fa8b77257cc58"
      }
     },
     "metadata": {},
     "output_type": "display_data"
    },
    {
     "data": {
      "text/plain": "  0%|          | 0/20 [00:00<?, ?it/s]",
      "application/vnd.jupyter.widget-view+json": {
       "version_major": 2,
       "version_minor": 0,
       "model_id": "46dc506d48e34859862b554252dba9db"
      }
     },
     "metadata": {},
     "output_type": "display_data"
    },
    {
     "data": {
      "text/plain": "  0%|          | 0/20 [00:00<?, ?it/s]",
      "application/vnd.jupyter.widget-view+json": {
       "version_major": 2,
       "version_minor": 0,
       "model_id": "ca2bf421bf384d7d9a04d62543351fad"
      }
     },
     "metadata": {},
     "output_type": "display_data"
    },
    {
     "data": {
      "text/plain": "  0%|          | 0/20 [00:00<?, ?it/s]",
      "application/vnd.jupyter.widget-view+json": {
       "version_major": 2,
       "version_minor": 0,
       "model_id": "f6c065d7907d4fdba127113b9e1af7af"
      }
     },
     "metadata": {},
     "output_type": "display_data"
    },
    {
     "data": {
      "text/plain": "  0%|          | 0/20 [00:00<?, ?it/s]",
      "application/vnd.jupyter.widget-view+json": {
       "version_major": 2,
       "version_minor": 0,
       "model_id": "cb247c579181499f8b4d25e5346e758d"
      }
     },
     "metadata": {},
     "output_type": "display_data"
    },
    {
     "data": {
      "text/plain": "  0%|          | 0/20 [00:00<?, ?it/s]",
      "application/vnd.jupyter.widget-view+json": {
       "version_major": 2,
       "version_minor": 0,
       "model_id": "45d20523018e47da967173fcf4d25593"
      }
     },
     "metadata": {},
     "output_type": "display_data"
    },
    {
     "data": {
      "text/plain": "  0%|          | 0/20 [00:00<?, ?it/s]",
      "application/vnd.jupyter.widget-view+json": {
       "version_major": 2,
       "version_minor": 0,
       "model_id": "7517eb321c6e4954bb7467c25720d510"
      }
     },
     "metadata": {},
     "output_type": "display_data"
    },
    {
     "data": {
      "text/plain": "  0%|          | 0/20 [00:00<?, ?it/s]",
      "application/vnd.jupyter.widget-view+json": {
       "version_major": 2,
       "version_minor": 0,
       "model_id": "643a5004d59445a6812f60502711a2d4"
      }
     },
     "metadata": {},
     "output_type": "display_data"
    },
    {
     "data": {
      "text/plain": "  0%|          | 0/20 [00:00<?, ?it/s]",
      "application/vnd.jupyter.widget-view+json": {
       "version_major": 2,
       "version_minor": 0,
       "model_id": "67d1b4dc6cec4317b42f78d66efd7157"
      }
     },
     "metadata": {},
     "output_type": "display_data"
    },
    {
     "data": {
      "text/plain": "  0%|          | 0/20 [00:00<?, ?it/s]",
      "application/vnd.jupyter.widget-view+json": {
       "version_major": 2,
       "version_minor": 0,
       "model_id": "127ae4a7153e46789081036261adf4fa"
      }
     },
     "metadata": {},
     "output_type": "display_data"
    },
    {
     "data": {
      "text/plain": "  0%|          | 0/20 [00:00<?, ?it/s]",
      "application/vnd.jupyter.widget-view+json": {
       "version_major": 2,
       "version_minor": 0,
       "model_id": "88850e174b924a6f898e9f2756d649d8"
      }
     },
     "metadata": {},
     "output_type": "display_data"
    },
    {
     "data": {
      "text/plain": "  0%|          | 0/20 [00:00<?, ?it/s]",
      "application/vnd.jupyter.widget-view+json": {
       "version_major": 2,
       "version_minor": 0,
       "model_id": "61f45dd7ed5442c08e21219f77bae9e7"
      }
     },
     "metadata": {},
     "output_type": "display_data"
    },
    {
     "data": {
      "text/plain": "  0%|          | 0/20 [00:00<?, ?it/s]",
      "application/vnd.jupyter.widget-view+json": {
       "version_major": 2,
       "version_minor": 0,
       "model_id": "2e196f71adff4b9085dab0e6ad95dff1"
      }
     },
     "metadata": {},
     "output_type": "display_data"
    },
    {
     "data": {
      "text/plain": "  0%|          | 0/20 [00:00<?, ?it/s]",
      "application/vnd.jupyter.widget-view+json": {
       "version_major": 2,
       "version_minor": 0,
       "model_id": "0f71acdf753c4f78853ecb782fc39868"
      }
     },
     "metadata": {},
     "output_type": "display_data"
    },
    {
     "data": {
      "text/plain": "  0%|          | 0/20 [00:00<?, ?it/s]",
      "application/vnd.jupyter.widget-view+json": {
       "version_major": 2,
       "version_minor": 0,
       "model_id": "b0903e707e3a4106b7adda08faf3cd12"
      }
     },
     "metadata": {},
     "output_type": "display_data"
    },
    {
     "data": {
      "text/plain": "  0%|          | 0/20 [00:00<?, ?it/s]",
      "application/vnd.jupyter.widget-view+json": {
       "version_major": 2,
       "version_minor": 0,
       "model_id": "a9594d81af3842fc9cf2e27b1d0b2145"
      }
     },
     "metadata": {},
     "output_type": "display_data"
    },
    {
     "data": {
      "text/plain": "  0%|          | 0/20 [00:00<?, ?it/s]",
      "application/vnd.jupyter.widget-view+json": {
       "version_major": 2,
       "version_minor": 0,
       "model_id": "d688b0f2cb074e5e99fd123fd1427cd1"
      }
     },
     "metadata": {},
     "output_type": "display_data"
    },
    {
     "data": {
      "text/plain": "  0%|          | 0/20 [00:00<?, ?it/s]",
      "application/vnd.jupyter.widget-view+json": {
       "version_major": 2,
       "version_minor": 0,
       "model_id": "17d0ac3a45e04cae9731e095b5cc2e62"
      }
     },
     "metadata": {},
     "output_type": "display_data"
    },
    {
     "data": {
      "text/plain": "  0%|          | 0/20 [00:00<?, ?it/s]",
      "application/vnd.jupyter.widget-view+json": {
       "version_major": 2,
       "version_minor": 0,
       "model_id": "bbde234cca924734aa473a243ca9e0ca"
      }
     },
     "metadata": {},
     "output_type": "display_data"
    },
    {
     "data": {
      "text/plain": "  0%|          | 0/20 [00:00<?, ?it/s]",
      "application/vnd.jupyter.widget-view+json": {
       "version_major": 2,
       "version_minor": 0,
       "model_id": "e4f56f50f8714065b246f651917a1ae8"
      }
     },
     "metadata": {},
     "output_type": "display_data"
    },
    {
     "data": {
      "text/plain": "  0%|          | 0/20 [00:00<?, ?it/s]",
      "application/vnd.jupyter.widget-view+json": {
       "version_major": 2,
       "version_minor": 0,
       "model_id": "a1020046c3984356ac0d5a6972b17c8f"
      }
     },
     "metadata": {},
     "output_type": "display_data"
    },
    {
     "data": {
      "text/plain": "  0%|          | 0/20 [00:00<?, ?it/s]",
      "application/vnd.jupyter.widget-view+json": {
       "version_major": 2,
       "version_minor": 0,
       "model_id": "41e2b2946f13495c8d4e7c7f45d90e5c"
      }
     },
     "metadata": {},
     "output_type": "display_data"
    },
    {
     "data": {
      "text/plain": "  0%|          | 0/20 [00:00<?, ?it/s]",
      "application/vnd.jupyter.widget-view+json": {
       "version_major": 2,
       "version_minor": 0,
       "model_id": "5679bb228f7946648418f775c1094c61"
      }
     },
     "metadata": {},
     "output_type": "display_data"
    },
    {
     "data": {
      "text/plain": "  0%|          | 0/20 [00:00<?, ?it/s]",
      "application/vnd.jupyter.widget-view+json": {
       "version_major": 2,
       "version_minor": 0,
       "model_id": "8fa46810c5134c518830dcaa51e7b95a"
      }
     },
     "metadata": {},
     "output_type": "display_data"
    },
    {
     "data": {
      "text/plain": "  0%|          | 0/20 [00:00<?, ?it/s]",
      "application/vnd.jupyter.widget-view+json": {
       "version_major": 2,
       "version_minor": 0,
       "model_id": "4328293b047447ff822836ad22f56571"
      }
     },
     "metadata": {},
     "output_type": "display_data"
    },
    {
     "data": {
      "text/plain": "  0%|          | 0/20 [00:00<?, ?it/s]",
      "application/vnd.jupyter.widget-view+json": {
       "version_major": 2,
       "version_minor": 0,
       "model_id": "48f6830ca9ed4cd082d7ddca7e0685b0"
      }
     },
     "metadata": {},
     "output_type": "display_data"
    },
    {
     "data": {
      "text/plain": "  0%|          | 0/20 [00:00<?, ?it/s]",
      "application/vnd.jupyter.widget-view+json": {
       "version_major": 2,
       "version_minor": 0,
       "model_id": "7b869a3794b74b42933645456bfaaa7c"
      }
     },
     "metadata": {},
     "output_type": "display_data"
    },
    {
     "data": {
      "text/plain": "  0%|          | 0/20 [00:00<?, ?it/s]",
      "application/vnd.jupyter.widget-view+json": {
       "version_major": 2,
       "version_minor": 0,
       "model_id": "568237818b224d4b955d423223ee4859"
      }
     },
     "metadata": {},
     "output_type": "display_data"
    },
    {
     "data": {
      "text/plain": "  0%|          | 0/20 [00:00<?, ?it/s]",
      "application/vnd.jupyter.widget-view+json": {
       "version_major": 2,
       "version_minor": 0,
       "model_id": "2d4d24357f194cd6a8cbfa76c9e95ce3"
      }
     },
     "metadata": {},
     "output_type": "display_data"
    },
    {
     "data": {
      "text/plain": "  0%|          | 0/20 [00:00<?, ?it/s]",
      "application/vnd.jupyter.widget-view+json": {
       "version_major": 2,
       "version_minor": 0,
       "model_id": "23699c0af9154c63bebf601ee5d3c633"
      }
     },
     "metadata": {},
     "output_type": "display_data"
    },
    {
     "data": {
      "text/plain": "  0%|          | 0/20 [00:00<?, ?it/s]",
      "application/vnd.jupyter.widget-view+json": {
       "version_major": 2,
       "version_minor": 0,
       "model_id": "053fcffc1dea48158a8771b34d7b09c6"
      }
     },
     "metadata": {},
     "output_type": "display_data"
    },
    {
     "data": {
      "text/plain": "  0%|          | 0/20 [00:00<?, ?it/s]",
      "application/vnd.jupyter.widget-view+json": {
       "version_major": 2,
       "version_minor": 0,
       "model_id": "6daf14649fd7455dad0fba9ff560f6f5"
      }
     },
     "metadata": {},
     "output_type": "display_data"
    },
    {
     "data": {
      "text/plain": "  0%|          | 0/20 [00:00<?, ?it/s]",
      "application/vnd.jupyter.widget-view+json": {
       "version_major": 2,
       "version_minor": 0,
       "model_id": "0a1c8ca00de34554bee1d81d9fe1cedb"
      }
     },
     "metadata": {},
     "output_type": "display_data"
    },
    {
     "data": {
      "text/plain": "  0%|          | 0/20 [00:00<?, ?it/s]",
      "application/vnd.jupyter.widget-view+json": {
       "version_major": 2,
       "version_minor": 0,
       "model_id": "d630219cade6498cab8a974dd081245a"
      }
     },
     "metadata": {},
     "output_type": "display_data"
    },
    {
     "data": {
      "text/plain": "  0%|          | 0/20 [00:00<?, ?it/s]",
      "application/vnd.jupyter.widget-view+json": {
       "version_major": 2,
       "version_minor": 0,
       "model_id": "135b72c800564b818fefc34ba71a8204"
      }
     },
     "metadata": {},
     "output_type": "display_data"
    },
    {
     "data": {
      "text/plain": "  0%|          | 0/20 [00:00<?, ?it/s]",
      "application/vnd.jupyter.widget-view+json": {
       "version_major": 2,
       "version_minor": 0,
       "model_id": "eb9bfa49ba9d433c85a1466ab288cb9a"
      }
     },
     "metadata": {},
     "output_type": "display_data"
    },
    {
     "data": {
      "text/plain": "  0%|          | 0/20 [00:00<?, ?it/s]",
      "application/vnd.jupyter.widget-view+json": {
       "version_major": 2,
       "version_minor": 0,
       "model_id": "a2d89d25d12e4bf9ac3afdee3647e02f"
      }
     },
     "metadata": {},
     "output_type": "display_data"
    },
    {
     "data": {
      "text/plain": "  0%|          | 0/20 [00:00<?, ?it/s]",
      "application/vnd.jupyter.widget-view+json": {
       "version_major": 2,
       "version_minor": 0,
       "model_id": "b15ccb9f2adf436f9fcc881b361f535b"
      }
     },
     "metadata": {},
     "output_type": "display_data"
    },
    {
     "data": {
      "text/plain": "  0%|          | 0/20 [00:00<?, ?it/s]",
      "application/vnd.jupyter.widget-view+json": {
       "version_major": 2,
       "version_minor": 0,
       "model_id": "2bb0f1c14d904b94bc3530068b5e6b05"
      }
     },
     "metadata": {},
     "output_type": "display_data"
    },
    {
     "data": {
      "text/plain": "  0%|          | 0/20 [00:00<?, ?it/s]",
      "application/vnd.jupyter.widget-view+json": {
       "version_major": 2,
       "version_minor": 0,
       "model_id": "93eeb3633ce84a2e87778e50eee0cf21"
      }
     },
     "metadata": {},
     "output_type": "display_data"
    },
    {
     "data": {
      "text/plain": "  0%|          | 0/20 [00:00<?, ?it/s]",
      "application/vnd.jupyter.widget-view+json": {
       "version_major": 2,
       "version_minor": 0,
       "model_id": "6a8cdec90063406896b2bcd21e55eddd"
      }
     },
     "metadata": {},
     "output_type": "display_data"
    },
    {
     "data": {
      "text/plain": "  0%|          | 0/20 [00:00<?, ?it/s]",
      "application/vnd.jupyter.widget-view+json": {
       "version_major": 2,
       "version_minor": 0,
       "model_id": "a1c420aee64f408aa8e6a0327e2176e2"
      }
     },
     "metadata": {},
     "output_type": "display_data"
    },
    {
     "data": {
      "text/plain": "  0%|          | 0/20 [00:00<?, ?it/s]",
      "application/vnd.jupyter.widget-view+json": {
       "version_major": 2,
       "version_minor": 0,
       "model_id": "573e6641b2e049248ffcf743e585266a"
      }
     },
     "metadata": {},
     "output_type": "display_data"
    },
    {
     "data": {
      "text/plain": "  0%|          | 0/20 [00:00<?, ?it/s]",
      "application/vnd.jupyter.widget-view+json": {
       "version_major": 2,
       "version_minor": 0,
       "model_id": "a02ceedc68884dc487c1bc49fb9a0e08"
      }
     },
     "metadata": {},
     "output_type": "display_data"
    },
    {
     "data": {
      "text/plain": "  0%|          | 0/20 [00:00<?, ?it/s]",
      "application/vnd.jupyter.widget-view+json": {
       "version_major": 2,
       "version_minor": 0,
       "model_id": "59c0048d87764f2e834942f0705af6f1"
      }
     },
     "metadata": {},
     "output_type": "display_data"
    },
    {
     "data": {
      "text/plain": "  0%|          | 0/20 [00:00<?, ?it/s]",
      "application/vnd.jupyter.widget-view+json": {
       "version_major": 2,
       "version_minor": 0,
       "model_id": "a8cf5da983624f3a99869709ae39d37c"
      }
     },
     "metadata": {},
     "output_type": "display_data"
    },
    {
     "data": {
      "text/plain": "  0%|          | 0/20 [00:00<?, ?it/s]",
      "application/vnd.jupyter.widget-view+json": {
       "version_major": 2,
       "version_minor": 0,
       "model_id": "740cedc79383480eb3299883f99827c4"
      }
     },
     "metadata": {},
     "output_type": "display_data"
    },
    {
     "data": {
      "text/plain": "  0%|          | 0/20 [00:00<?, ?it/s]",
      "application/vnd.jupyter.widget-view+json": {
       "version_major": 2,
       "version_minor": 0,
       "model_id": "3200260b513f4f6291a2b963d10b7fa6"
      }
     },
     "metadata": {},
     "output_type": "display_data"
    },
    {
     "data": {
      "text/plain": "  0%|          | 0/20 [00:00<?, ?it/s]",
      "application/vnd.jupyter.widget-view+json": {
       "version_major": 2,
       "version_minor": 0,
       "model_id": "dac4ab812cec40bdba6ecbe441e29545"
      }
     },
     "metadata": {},
     "output_type": "display_data"
    },
    {
     "data": {
      "text/plain": "  0%|          | 0/20 [00:00<?, ?it/s]",
      "application/vnd.jupyter.widget-view+json": {
       "version_major": 2,
       "version_minor": 0,
       "model_id": "6f449d5d4c864f1c960d2c78e993b765"
      }
     },
     "metadata": {},
     "output_type": "display_data"
    },
    {
     "data": {
      "text/plain": "  0%|          | 0/20 [00:00<?, ?it/s]",
      "application/vnd.jupyter.widget-view+json": {
       "version_major": 2,
       "version_minor": 0,
       "model_id": "6089e70bc4d745c3b9d58517c689be2f"
      }
     },
     "metadata": {},
     "output_type": "display_data"
    },
    {
     "data": {
      "text/plain": "  0%|          | 0/20 [00:00<?, ?it/s]",
      "application/vnd.jupyter.widget-view+json": {
       "version_major": 2,
       "version_minor": 0,
       "model_id": "b36f50fd66584fa5a2c223b0d0b88976"
      }
     },
     "metadata": {},
     "output_type": "display_data"
    },
    {
     "data": {
      "text/plain": "  0%|          | 0/20 [00:00<?, ?it/s]",
      "application/vnd.jupyter.widget-view+json": {
       "version_major": 2,
       "version_minor": 0,
       "model_id": "3eef5a9924a54121a8581c59dd3c90d6"
      }
     },
     "metadata": {},
     "output_type": "display_data"
    },
    {
     "data": {
      "text/plain": "  0%|          | 0/20 [00:00<?, ?it/s]",
      "application/vnd.jupyter.widget-view+json": {
       "version_major": 2,
       "version_minor": 0,
       "model_id": "4d3d432a0bbb447ea8ef8e6ad9cd58c1"
      }
     },
     "metadata": {},
     "output_type": "display_data"
    },
    {
     "data": {
      "text/plain": "  0%|          | 0/20 [00:00<?, ?it/s]",
      "application/vnd.jupyter.widget-view+json": {
       "version_major": 2,
       "version_minor": 0,
       "model_id": "2c8b6c66bffc4f2a97537326ef1afaa4"
      }
     },
     "metadata": {},
     "output_type": "display_data"
    },
    {
     "data": {
      "text/plain": "  0%|          | 0/20 [00:00<?, ?it/s]",
      "application/vnd.jupyter.widget-view+json": {
       "version_major": 2,
       "version_minor": 0,
       "model_id": "99901c5a92974463a20982fd8ad68c64"
      }
     },
     "metadata": {},
     "output_type": "display_data"
    },
    {
     "data": {
      "text/plain": "  0%|          | 0/20 [00:00<?, ?it/s]",
      "application/vnd.jupyter.widget-view+json": {
       "version_major": 2,
       "version_minor": 0,
       "model_id": "e6dc0517d839461da079b3de636ea729"
      }
     },
     "metadata": {},
     "output_type": "display_data"
    },
    {
     "data": {
      "text/plain": "  0%|          | 0/20 [00:00<?, ?it/s]",
      "application/vnd.jupyter.widget-view+json": {
       "version_major": 2,
       "version_minor": 0,
       "model_id": "e0855c854cd7403691d78611f57b17c2"
      }
     },
     "metadata": {},
     "output_type": "display_data"
    },
    {
     "data": {
      "text/plain": "  0%|          | 0/20 [00:00<?, ?it/s]",
      "application/vnd.jupyter.widget-view+json": {
       "version_major": 2,
       "version_minor": 0,
       "model_id": "caf5083a42364b2698e868d87b96dfbb"
      }
     },
     "metadata": {},
     "output_type": "display_data"
    },
    {
     "data": {
      "text/plain": "  0%|          | 0/20 [00:00<?, ?it/s]",
      "application/vnd.jupyter.widget-view+json": {
       "version_major": 2,
       "version_minor": 0,
       "model_id": "2bfaed8c518e48a88bf2b15ed99f95aa"
      }
     },
     "metadata": {},
     "output_type": "display_data"
    },
    {
     "data": {
      "text/plain": "  0%|          | 0/20 [00:00<?, ?it/s]",
      "application/vnd.jupyter.widget-view+json": {
       "version_major": 2,
       "version_minor": 0,
       "model_id": "8fcb9d4002cb40b982d9bf633572ed6b"
      }
     },
     "metadata": {},
     "output_type": "display_data"
    },
    {
     "data": {
      "text/plain": "  0%|          | 0/20 [00:00<?, ?it/s]",
      "application/vnd.jupyter.widget-view+json": {
       "version_major": 2,
       "version_minor": 0,
       "model_id": "3498f6a8bb3541babeac99478fbf6c1d"
      }
     },
     "metadata": {},
     "output_type": "display_data"
    },
    {
     "data": {
      "text/plain": "  0%|          | 0/20 [00:00<?, ?it/s]",
      "application/vnd.jupyter.widget-view+json": {
       "version_major": 2,
       "version_minor": 0,
       "model_id": "8046daeb734344ce93d0c4b8f2083e13"
      }
     },
     "metadata": {},
     "output_type": "display_data"
    },
    {
     "data": {
      "text/plain": "  0%|          | 0/20 [00:00<?, ?it/s]",
      "application/vnd.jupyter.widget-view+json": {
       "version_major": 2,
       "version_minor": 0,
       "model_id": "8ee2423d21e847f39b66ba8b65849d53"
      }
     },
     "metadata": {},
     "output_type": "display_data"
    },
    {
     "data": {
      "text/plain": "  0%|          | 0/20 [00:00<?, ?it/s]",
      "application/vnd.jupyter.widget-view+json": {
       "version_major": 2,
       "version_minor": 0,
       "model_id": "6b8fa21391d84a65a787b0a29ec56d39"
      }
     },
     "metadata": {},
     "output_type": "display_data"
    },
    {
     "data": {
      "text/plain": "  0%|          | 0/20 [00:00<?, ?it/s]",
      "application/vnd.jupyter.widget-view+json": {
       "version_major": 2,
       "version_minor": 0,
       "model_id": "d2006b66bc094f14b8b12b31a931a314"
      }
     },
     "metadata": {},
     "output_type": "display_data"
    },
    {
     "data": {
      "text/plain": "  0%|          | 0/20 [00:00<?, ?it/s]",
      "application/vnd.jupyter.widget-view+json": {
       "version_major": 2,
       "version_minor": 0,
       "model_id": "9f12b552ed724e0bbef65a422dbe38b1"
      }
     },
     "metadata": {},
     "output_type": "display_data"
    },
    {
     "data": {
      "text/plain": "  0%|          | 0/20 [00:00<?, ?it/s]",
      "application/vnd.jupyter.widget-view+json": {
       "version_major": 2,
       "version_minor": 0,
       "model_id": "8faa7d84e79d4dfd91a323528bfbeed8"
      }
     },
     "metadata": {},
     "output_type": "display_data"
    },
    {
     "data": {
      "text/plain": "  0%|          | 0/20 [00:00<?, ?it/s]",
      "application/vnd.jupyter.widget-view+json": {
       "version_major": 2,
       "version_minor": 0,
       "model_id": "29c0a91d4f914b9da8901c9f10ceaae6"
      }
     },
     "metadata": {},
     "output_type": "display_data"
    },
    {
     "data": {
      "text/plain": "  0%|          | 0/20 [00:00<?, ?it/s]",
      "application/vnd.jupyter.widget-view+json": {
       "version_major": 2,
       "version_minor": 0,
       "model_id": "6aa6e11764844cb1a19b10542ec16409"
      }
     },
     "metadata": {},
     "output_type": "display_data"
    },
    {
     "data": {
      "text/plain": "  0%|          | 0/20 [00:00<?, ?it/s]",
      "application/vnd.jupyter.widget-view+json": {
       "version_major": 2,
       "version_minor": 0,
       "model_id": "3ad83ef6329441d9a853246b57c1ebab"
      }
     },
     "metadata": {},
     "output_type": "display_data"
    },
    {
     "data": {
      "text/plain": "  0%|          | 0/20 [00:00<?, ?it/s]",
      "application/vnd.jupyter.widget-view+json": {
       "version_major": 2,
       "version_minor": 0,
       "model_id": "a9766206cf3941a293c9d0da4215559f"
      }
     },
     "metadata": {},
     "output_type": "display_data"
    },
    {
     "data": {
      "text/plain": "  0%|          | 0/20 [00:00<?, ?it/s]",
      "application/vnd.jupyter.widget-view+json": {
       "version_major": 2,
       "version_minor": 0,
       "model_id": "a0388813b7ff4553a9c85a34c44f8436"
      }
     },
     "metadata": {},
     "output_type": "display_data"
    },
    {
     "data": {
      "text/plain": "  0%|          | 0/20 [00:00<?, ?it/s]",
      "application/vnd.jupyter.widget-view+json": {
       "version_major": 2,
       "version_minor": 0,
       "model_id": "036c61be39464aefb46d91c0b1e3306e"
      }
     },
     "metadata": {},
     "output_type": "display_data"
    },
    {
     "data": {
      "text/plain": "  0%|          | 0/20 [00:00<?, ?it/s]",
      "application/vnd.jupyter.widget-view+json": {
       "version_major": 2,
       "version_minor": 0,
       "model_id": "0a8bd71c1fdf49cc800b8d6458467926"
      }
     },
     "metadata": {},
     "output_type": "display_data"
    },
    {
     "data": {
      "text/plain": "  0%|          | 0/20 [00:00<?, ?it/s]",
      "application/vnd.jupyter.widget-view+json": {
       "version_major": 2,
       "version_minor": 0,
       "model_id": "9fab7041856c407d9562c5479de3793f"
      }
     },
     "metadata": {},
     "output_type": "display_data"
    },
    {
     "data": {
      "text/plain": "  0%|          | 0/20 [00:00<?, ?it/s]",
      "application/vnd.jupyter.widget-view+json": {
       "version_major": 2,
       "version_minor": 0,
       "model_id": "b2dd98959376451984996e50659aa3be"
      }
     },
     "metadata": {},
     "output_type": "display_data"
    },
    {
     "data": {
      "text/plain": "  0%|          | 0/20 [00:00<?, ?it/s]",
      "application/vnd.jupyter.widget-view+json": {
       "version_major": 2,
       "version_minor": 0,
       "model_id": "b001d4f0aeda4ffbbcdc646f20e1a73f"
      }
     },
     "metadata": {},
     "output_type": "display_data"
    },
    {
     "data": {
      "text/plain": "  0%|          | 0/20 [00:00<?, ?it/s]",
      "application/vnd.jupyter.widget-view+json": {
       "version_major": 2,
       "version_minor": 0,
       "model_id": "ded5989803484538bccc82f1ef197c7c"
      }
     },
     "metadata": {},
     "output_type": "display_data"
    },
    {
     "data": {
      "text/plain": "  0%|          | 0/20 [00:00<?, ?it/s]",
      "application/vnd.jupyter.widget-view+json": {
       "version_major": 2,
       "version_minor": 0,
       "model_id": "44848c67660d43f8a56e025f6154e9e5"
      }
     },
     "metadata": {},
     "output_type": "display_data"
    },
    {
     "data": {
      "text/plain": "  0%|          | 0/20 [00:00<?, ?it/s]",
      "application/vnd.jupyter.widget-view+json": {
       "version_major": 2,
       "version_minor": 0,
       "model_id": "cddc44f727a849f0acb169ca548438bb"
      }
     },
     "metadata": {},
     "output_type": "display_data"
    },
    {
     "data": {
      "text/plain": "  0%|          | 0/20 [00:00<?, ?it/s]",
      "application/vnd.jupyter.widget-view+json": {
       "version_major": 2,
       "version_minor": 0,
       "model_id": "7db7d880e76f49d685c203abfeb15488"
      }
     },
     "metadata": {},
     "output_type": "display_data"
    },
    {
     "data": {
      "text/plain": "  0%|          | 0/20 [00:00<?, ?it/s]",
      "application/vnd.jupyter.widget-view+json": {
       "version_major": 2,
       "version_minor": 0,
       "model_id": "2a6bc8e0eca04375963067264fd93b2c"
      }
     },
     "metadata": {},
     "output_type": "display_data"
    },
    {
     "data": {
      "text/plain": "  0%|          | 0/20 [00:00<?, ?it/s]",
      "application/vnd.jupyter.widget-view+json": {
       "version_major": 2,
       "version_minor": 0,
       "model_id": "ad8897bcd63545e7857c8311e11ad60d"
      }
     },
     "metadata": {},
     "output_type": "display_data"
    },
    {
     "data": {
      "text/plain": "  0%|          | 0/20 [00:00<?, ?it/s]",
      "application/vnd.jupyter.widget-view+json": {
       "version_major": 2,
       "version_minor": 0,
       "model_id": "71e8e9b70c514d1fa2f2158942aa9680"
      }
     },
     "metadata": {},
     "output_type": "display_data"
    },
    {
     "data": {
      "text/plain": "  0%|          | 0/20 [00:00<?, ?it/s]",
      "application/vnd.jupyter.widget-view+json": {
       "version_major": 2,
       "version_minor": 0,
       "model_id": "e7d2bc887ec045f881548c5aae70bb2c"
      }
     },
     "metadata": {},
     "output_type": "display_data"
    },
    {
     "data": {
      "text/plain": "  0%|          | 0/20 [00:00<?, ?it/s]",
      "application/vnd.jupyter.widget-view+json": {
       "version_major": 2,
       "version_minor": 0,
       "model_id": "452d9e8a137d46c78bab915dde22db9a"
      }
     },
     "metadata": {},
     "output_type": "display_data"
    },
    {
     "data": {
      "text/plain": "  0%|          | 0/20 [00:00<?, ?it/s]",
      "application/vnd.jupyter.widget-view+json": {
       "version_major": 2,
       "version_minor": 0,
       "model_id": "6a788bbe98964f60a27d8315180e1980"
      }
     },
     "metadata": {},
     "output_type": "display_data"
    },
    {
     "name": "stdout",
     "output_type": "stream",
     "text": [
      "0.83046875\n",
      "[0.8802001953124999, 0.88388671875, 0.8861083984375]\n",
      "0.89033203125\n"
     ]
    }
   ],
   "source": [
    "best_maxplus_model_accs = []\n",
    "for _ in range(100):\n",
    "    best_maxplus_model = Model(\"linear/maxplus\", layer_norm=True, skip_connections=False, k=2.6196357564250334).to(device)\n",
    "\n",
    "    best_maxplus_linear_optimizer = torch.optim.AdamW(nonmaxplus_parameters(best_maxplus_model), lr=0.0031251852421539513)\n",
    "    best_maxplus_linear_scheduler = torch.optim.lr_scheduler.OneCycleLR(\n",
    "        best_maxplus_linear_optimizer,\n",
    "        max_lr=0.0031251852421539513,\n",
    "        anneal_strategy=\"linear\",\n",
    "        pct_start=0.3,\n",
    "        three_phase=True,\n",
    "        final_div_factor=1000.0,\n",
    "        div_factor=10.0,\n",
    "        steps_per_epoch=len(fmnist_trainloader),\n",
    "        epochs=20,\n",
    "    )\n",
    "    best_maxplus_semiring_optimizer = torch.optim.AdamW(maxplus_parameters(best_maxplus_model), lr=0.0029371935236854486)\n",
    "    \n",
    "    best_maxplus_optimizers = [best_maxplus_linear_optimizer, best_maxplus_semiring_optimizer]\n",
    "    best_maxplus_schedulers = [best_maxplus_linear_scheduler]\n",
    "    \n",
    "    best_maxplus_model_accs.append(train(\n",
    "        best_maxplus_model,\n",
    "        fmnist_trainloader,\n",
    "        fmnist_testloader,\n",
    "        best_maxplus_optimizers,\n",
    "        best_maxplus_schedulers,\n",
    "        nn.CrossEntropyLoss(),\n",
    "        20,\n",
    "        statistics_mode=True,\n",
    "    ))\n",
    "    \n",
    "print(min(best_maxplus_model_accs))\n",
    "print(quantiles(best_maxplus_model_accs))\n",
    "print(max(best_maxplus_model_accs))"
   ],
   "metadata": {
    "collapsed": false,
    "ExecuteTime": {
     "end_time": "2023-08-30T05:59:21.550341Z",
     "start_time": "2023-08-30T01:49:58.160700500Z"
    }
   }
  },
  {
   "cell_type": "markdown",
   "source": [
    "MinPlus"
   ],
   "metadata": {
    "collapsed": false
   }
  },
  {
   "cell_type": "code",
   "execution_count": 8,
   "outputs": [
    {
     "name": "stdout",
     "output_type": "stream",
     "text": [
      "Best trial config with accuracy of 0.87314453125: {'model_name': 'linear/minplus', 'layer_norm': True, 'skip_connections': False, 'k': 1.3097532472594304, 'linear_optimizer': 'AdamW', 'linear_scheduler': True, 'linear_lr': 0.0031251852421539513, 'semiring_lr': 0.0017434216955479886, 'semiring_optimizer': 'AdamW', 'semiring_scheduler': False, 'mu': None}\n",
      "-----------------\n",
      "{'accuracy': 0.87314453125, 'config': {'model_name': 'linear/minplus', 'layer_norm': True, 'skip_connections': False, 'k': 1.3097532472594304, 'linear_optimizer': 'AdamW', 'linear_scheduler': True, 'linear_lr': 0.0031251852421539513, 'semiring_lr': 0.0017434216955479886, 'semiring_optimizer': 'AdamW', 'semiring_scheduler': False, 'mu': None}}\n",
      "{'accuracy': 0.87001953125, 'config': {'model_name': 'linear/minplus', 'layer_norm': True, 'skip_connections': False, 'k': 1.2069146758235552, 'linear_optimizer': 'AdamW', 'linear_scheduler': True, 'linear_lr': 0.0031251852421539513, 'semiring_lr': 0.0017933901392479825, 'semiring_optimizer': 'TropicalSGD', 'semiring_scheduler': False, 'mu': None}}\n",
      "{'accuracy': 0.8646484375, 'config': {'model_name': 'linear/minplus', 'layer_norm': True, 'skip_connections': False, 'k': 1.1462722870989928, 'linear_optimizer': 'AdamW', 'linear_scheduler': True, 'linear_lr': 0.0031251852421539513, 'semiring_lr': 0.0017467271105580618, 'semiring_optimizer': 'SGD', 'semiring_scheduler': False, 'mu': None}}\n",
      "{'accuracy': 0.8359375, 'config': {'model_name': 'linear/minplus', 'layer_norm': True, 'skip_connections': False, 'k': 1.1832207544256514, 'linear_optimizer': 'AdamW', 'linear_scheduler': True, 'linear_lr': 0.0031251852421539513, 'semiring_lr': 0.0018850809685130902, 'semiring_optimizer': 'AdamW', 'semiring_scheduler': True, 'mu': None}}\n",
      "{'accuracy': 0.834375, 'config': {'model_name': 'linear/minplus', 'layer_norm': True, 'skip_connections': False, 'k': 0.9803796122259433, 'linear_optimizer': 'AdamW', 'linear_scheduler': True, 'linear_lr': 0.0031251852421539513, 'semiring_lr': 0.0017055617837264208, 'semiring_optimizer': 'SGD', 'semiring_scheduler': True, 'mu': None}}\n"
     ]
    }
   ],
   "source": [
    "linear_lr, linear_optimizer, linear_scheduler = get_linear_info(layer_norm=True, skip_connections=False)\n",
    "\n",
    "find_best_model_for(config={\n",
    "    \"model_name\": \"linear/minplus\",\n",
    "    \"layer_norm\": True,\n",
    "    \"skip_connections\": False,\n",
    "    \"k\": uniform(1, 3),\n",
    "    \"linear_optimizer\": linear_optimizer,\n",
    "    \"linear_scheduler\": linear_scheduler,\n",
    "    \"linear_lr\": linear_lr,\n",
    "    \"semiring_lr\": 10 ** uniform(-3, -1),\n",
    "    \"semiring_optimizer\": [\"AdamW\", \"SGD\", \"TropicalSGD\"],\n",
    "    \"semiring_scheduler\": [True, False],\n",
    "    \"mu\": None,\n",
    "})"
   ],
   "metadata": {
    "collapsed": false
   }
  },
  {
   "cell_type": "code",
   "execution_count": 10,
   "outputs": [
    {
     "name": "stdout",
     "output_type": "stream",
     "text": [
      "Best trial config with accuracy of 0.88876953125: {'model_name': 'linear/minplus', 'layer_norm': False, 'skip_connections': False, 'k': 2.746123627581554, 'linear_optimizer': 'AdamW', 'linear_scheduler': True, 'linear_lr': 0.0031251852421539513, 'semiring_lr': 0.0025919037802080752, 'semiring_optimizer': 'AdamW', 'semiring_scheduler': False, 'mu': None}\n",
      "-----------------\n",
      "{'accuracy': 0.88876953125, 'config': {'model_name': 'linear/minplus', 'layer_norm': False, 'skip_connections': False, 'k': 2.746123627581554, 'linear_optimizer': 'AdamW', 'linear_scheduler': True, 'linear_lr': 0.0031251852421539513, 'semiring_lr': 0.0025919037802080752, 'semiring_optimizer': 'AdamW', 'semiring_scheduler': False, 'mu': None}}\n",
      "{'accuracy': 0.88740234375, 'config': {'model_name': 'linear/minplus', 'layer_norm': False, 'skip_connections': False, 'k': 2.4205515556583856, 'linear_optimizer': 'AdamW', 'linear_scheduler': True, 'linear_lr': 0.0031251852421539513, 'semiring_lr': 0.002765388406754773, 'semiring_optimizer': 'AdamW', 'semiring_scheduler': True, 'mu': None}}\n",
      "{'accuracy': 0.88564453125, 'config': {'model_name': 'linear/minplus', 'layer_norm': False, 'skip_connections': False, 'k': 2.521557858886217, 'linear_optimizer': 'AdamW', 'linear_scheduler': True, 'linear_lr': 0.0031251852421539513, 'semiring_lr': 0.002682058058892883, 'semiring_optimizer': 'TropicalSGD', 'semiring_scheduler': False, 'mu': None}}\n",
      "{'accuracy': 0.88486328125, 'config': {'model_name': 'linear/minplus', 'layer_norm': False, 'skip_connections': False, 'k': 2.1661100467193393, 'linear_optimizer': 'AdamW', 'linear_scheduler': True, 'linear_lr': 0.0031251852421539513, 'semiring_lr': 0.0023799264867895463, 'semiring_optimizer': 'SGD', 'semiring_scheduler': False, 'mu': None}}\n",
      "{'accuracy': 0.88330078125, 'config': {'model_name': 'linear/minplus', 'layer_norm': False, 'skip_connections': False, 'k': 2.2091820745194677, 'linear_optimizer': 'AdamW', 'linear_scheduler': True, 'linear_lr': 0.0031251852421539513, 'semiring_lr': 0.002777297680198217, 'semiring_optimizer': 'SGD', 'semiring_scheduler': True, 'mu': None}}\n"
     ]
    }
   ],
   "source": [
    "linear_lr, linear_optimizer, linear_scheduler = get_linear_info(layer_norm=False, skip_connections=False)\n",
    "\n",
    "find_best_model_for(config={\n",
    "    \"model_name\": \"linear/minplus\",\n",
    "    \"layer_norm\": False,\n",
    "    \"skip_connections\": False,\n",
    "    \"k\": uniform(1, 3),\n",
    "    \"linear_optimizer\": linear_optimizer,\n",
    "    \"linear_scheduler\": linear_scheduler,\n",
    "    \"linear_lr\": linear_lr,\n",
    "    \"semiring_lr\": 10 ** uniform(-3, -1),\n",
    "    \"semiring_optimizer\": [\"AdamW\", \"SGD\", \"TropicalSGD\"],\n",
    "    \"semiring_scheduler\": [True, False],\n",
    "    \"mu\": None,\n",
    "})"
   ],
   "metadata": {
    "collapsed": false
   }
  },
  {
   "cell_type": "code",
   "execution_count": 9,
   "outputs": [
    {
     "name": "stdout",
     "output_type": "stream",
     "text": [
      "Best trial config with accuracy of 0.884375: {'model_name': 'linear/minplus', 'layer_norm': True, 'skip_connections': True, 'k': 2.009728273446162, 'linear_optimizer': 'AdamW', 'linear_scheduler': True, 'linear_lr': 0.007762420362152599, 'semiring_lr': 0.019230999221391914, 'semiring_optimizer': 'AdamW', 'semiring_scheduler': False, 'mu': None}\n",
      "-----------------\n",
      "{'accuracy': 0.884375, 'config': {'model_name': 'linear/minplus', 'layer_norm': True, 'skip_connections': True, 'k': 2.009728273446162, 'linear_optimizer': 'AdamW', 'linear_scheduler': True, 'linear_lr': 0.007762420362152599, 'semiring_lr': 0.019230999221391914, 'semiring_optimizer': 'AdamW', 'semiring_scheduler': False, 'mu': None}}\n",
      "{'accuracy': 0.88349609375, 'config': {'model_name': 'linear/minplus', 'layer_norm': True, 'skip_connections': True, 'k': 1.8989482778100804, 'linear_optimizer': 'AdamW', 'linear_scheduler': True, 'linear_lr': 0.007762420362152599, 'semiring_lr': 0.018785339766414545, 'semiring_optimizer': 'AdamW', 'semiring_scheduler': True, 'mu': None}}\n",
      "{'accuracy': 0.87666015625, 'config': {'model_name': 'linear/minplus', 'layer_norm': True, 'skip_connections': True, 'k': 1.9759474284329956, 'linear_optimizer': 'AdamW', 'linear_scheduler': True, 'linear_lr': 0.007762420362152599, 'semiring_lr': 0.019064435115141807, 'semiring_optimizer': 'SGD', 'semiring_scheduler': True, 'mu': None}}\n",
      "{'accuracy': 0.87587890625, 'config': {'model_name': 'linear/minplus', 'layer_norm': True, 'skip_connections': True, 'k': 1.8600932956704301, 'linear_optimizer': 'AdamW', 'linear_scheduler': True, 'linear_lr': 0.007762420362152599, 'semiring_lr': 0.016554662649689033, 'semiring_optimizer': 'TropicalSGD', 'semiring_scheduler': False, 'mu': None}}\n",
      "{'accuracy': 0.850390625, 'config': {'model_name': 'linear/minplus', 'layer_norm': True, 'skip_connections': True, 'k': 1.8989482778100804, 'linear_optimizer': 'AdamW', 'linear_scheduler': True, 'linear_lr': 0.007762420362152599, 'semiring_lr': 0.018785339766414545, 'semiring_optimizer': 'SGD', 'semiring_scheduler': False, 'mu': None}}\n"
     ]
    }
   ],
   "source": [
    "linear_lr, linear_optimizer, linear_scheduler = get_linear_info(layer_norm=True, skip_connections=True)\n",
    "\n",
    "find_best_model_for(config={\n",
    "    \"model_name\": \"linear/minplus\",\n",
    "    \"layer_norm\": True,\n",
    "    \"skip_connections\": True,\n",
    "    \"k\": uniform(1, 3),\n",
    "    \"linear_optimizer\": linear_optimizer,\n",
    "    \"linear_scheduler\": linear_scheduler,\n",
    "    \"linear_lr\": linear_lr,\n",
    "    \"semiring_lr\": 10 ** uniform(-3, -1),\n",
    "    \"semiring_optimizer\": [\"AdamW\", \"SGD\", \"TropicalSGD\"],\n",
    "    \"semiring_scheduler\": [True, False],\n",
    "    \"mu\": None,\n",
    "})"
   ],
   "metadata": {
    "collapsed": false
   }
  },
  {
   "cell_type": "code",
   "execution_count": 10,
   "outputs": [
    {
     "name": "stdout",
     "output_type": "stream",
     "text": [
      "Best trial config with accuracy of 0.8734375: {'model_name': 'linear/minplus', 'layer_norm': False, 'skip_connections': True, 'k': 1.0548205908834332, 'linear_optimizer': 'AdamW', 'linear_scheduler': True, 'linear_lr': 0.007762420362152599, 'semiring_lr': 0.0045690495898574, 'semiring_optimizer': 'AdamW', 'semiring_scheduler': False, 'mu': None}\n",
      "-----------------\n",
      "{'accuracy': 0.8734375, 'config': {'model_name': 'linear/minplus', 'layer_norm': False, 'skip_connections': True, 'k': 1.0548205908834332, 'linear_optimizer': 'AdamW', 'linear_scheduler': True, 'linear_lr': 0.007762420362152599, 'semiring_lr': 0.0045690495898574, 'semiring_optimizer': 'AdamW', 'semiring_scheduler': False, 'mu': None}}\n",
      "{'accuracy': 0.85087890625, 'config': {'model_name': 'linear/minplus', 'layer_norm': False, 'skip_connections': True, 'k': 1.0551299104164866, 'linear_optimizer': 'AdamW', 'linear_scheduler': True, 'linear_lr': 0.007762420362152599, 'semiring_lr': 0.004518505279847813, 'semiring_optimizer': 'AdamW', 'semiring_scheduler': True, 'mu': None}}\n",
      "{'accuracy': 0.8419921875, 'config': {'model_name': 'linear/minplus', 'layer_norm': False, 'skip_connections': True, 'k': 1.0307999498608615, 'linear_optimizer': 'AdamW', 'linear_scheduler': True, 'linear_lr': 0.007762420362152599, 'semiring_lr': 0.0045008755001184906, 'semiring_optimizer': 'TropicalSGD', 'semiring_scheduler': False, 'mu': None}}\n",
      "{'accuracy': 0.7767578125, 'config': {'model_name': 'linear/minplus', 'layer_norm': False, 'skip_connections': True, 'k': 1.030392339080431, 'linear_optimizer': 'AdamW', 'linear_scheduler': True, 'linear_lr': 0.007762420362152599, 'semiring_lr': 0.004348560855147296, 'semiring_optimizer': 'SGD', 'semiring_scheduler': False, 'mu': None}}\n",
      "{'accuracy': 0.76865234375, 'config': {'model_name': 'linear/minplus', 'layer_norm': False, 'skip_connections': True, 'k': 0.9903445691732043, 'linear_optimizer': 'AdamW', 'linear_scheduler': True, 'linear_lr': 0.007762420362152599, 'semiring_lr': 0.003920497703658334, 'semiring_optimizer': 'SGD', 'semiring_scheduler': True, 'mu': None}}\n"
     ]
    }
   ],
   "source": [
    "linear_lr, linear_optimizer, linear_scheduler = get_linear_info(layer_norm=False, skip_connections=True)\n",
    "\n",
    "find_best_model_for(config={\n",
    "    \"model_name\": \"linear/minplus\",\n",
    "    \"layer_norm\": False,\n",
    "    \"skip_connections\": True,\n",
    "    \"k\": uniform(1, 3),\n",
    "    \"linear_optimizer\": linear_optimizer,\n",
    "    \"linear_scheduler\": linear_scheduler,\n",
    "    \"linear_lr\": linear_lr,\n",
    "    \"semiring_lr\": 10 ** uniform(-3, -1),\n",
    "    \"semiring_optimizer\": [\"AdamW\", \"SGD\", \"TropicalSGD\"],\n",
    "    \"semiring_scheduler\": [True, False],\n",
    "    \"mu\": None,\n",
    "})"
   ],
   "metadata": {
    "collapsed": false
   }
  },
  {
   "cell_type": "markdown",
   "source": [
    "Best MinPlus model"
   ],
   "metadata": {
    "collapsed": false
   }
  },
  {
   "cell_type": "code",
   "execution_count": 13,
   "outputs": [
    {
     "name": "stdout",
     "output_type": "stream",
     "text": [
      "linear/minplus model has 294286 trainable parameters, of which 183836 are linear and 110450 are semiring related\n"
     ]
    },
    {
     "data": {
      "text/plain": "''"
     },
     "metadata": {},
     "output_type": "display_data"
    },
    {
     "data": {
      "text/plain": "  0%|          | 0/20 [00:00<?, ?it/s]",
      "application/vnd.jupyter.widget-view+json": {
       "version_major": 2,
       "version_minor": 0,
       "model_id": "0fbb70886f97413cb9e52b9d0531c3b7"
      }
     },
     "metadata": {},
     "output_type": "display_data"
    },
    {
     "data": {
      "text/plain": "<Figure size 600x400 with 1 Axes>",
      "image/png": "[encoded data removed]"
     },
     "metadata": {},
     "output_type": "display_data"
    },
    {
     "data": {
      "text/plain": "<Figure size 600x400 with 2 Axes>",
      "image/png": "[encoded data removed]"
     },
     "metadata": {},
     "output_type": "display_data"
    }
   ],
   "source": [
    "best_minplus_model = Model(\"linear/minplus\", layer_norm=False, skip_connections=False, k=2.746123627581554).to(device)\n",
    "\n",
    "print(f\"{best_minplus_model.name} model has {count_parameters(best_minplus_model.parameters())} trainable parameters, \"\n",
    "      f\"of which {count_parameters(nonminplus_parameters(best_minplus_model))} are linear \"\n",
    "      f\"and {count_parameters(minplus_parameters(best_minplus_model))} are semiring related\")\n",
    "\n",
    "best_minplus_linear_optimizer = torch.optim.AdamW(nonminplus_parameters(best_minplus_model), lr=0.0031251852421539513)\n",
    "best_minplus_linear_scheduler = torch.optim.lr_scheduler.OneCycleLR(\n",
    "    best_minplus_linear_optimizer,\n",
    "    max_lr=0.0031251852421539513,\n",
    "    anneal_strategy=\"linear\",\n",
    "    pct_start=0.3,\n",
    "    three_phase=True,\n",
    "    final_div_factor=1000.0,\n",
    "    div_factor=10.0,\n",
    "    steps_per_epoch=len(fmnist_trainloader),\n",
    "    epochs=20,\n",
    ")\n",
    "best_minplus_semiring_optimizer = torch.optim.AdamW(minplus_parameters(best_minplus_model), lr=0.0025919037802080752)\n",
    "\n",
    "best_minplus_optimizers = [best_minplus_linear_optimizer, best_minplus_semiring_optimizer]\n",
    "best_minplus_schedulers = [best_minplus_linear_scheduler]\n",
    "\n",
    "train(\n",
    "    best_minplus_model,\n",
    "    fmnist_trainloader,\n",
    "    fmnist_testloader,\n",
    "    best_minplus_optimizers,\n",
    "    best_minplus_schedulers,\n",
    "    nn.CrossEntropyLoss(),\n",
    "    20,\n",
    ")"
   ],
   "metadata": {
    "collapsed": false,
    "ExecuteTime": {
     "end_time": "2023-08-31T11:07:18.973335100Z",
     "start_time": "2023-08-31T11:04:24.188885200Z"
    }
   }
  },
  {
   "cell_type": "code",
   "execution_count": 14,
   "outputs": [
    {
     "data": {
      "text/plain": "  0%|          | 0/20 [00:00<?, ?it/s]",
      "application/vnd.jupyter.widget-view+json": {
       "version_major": 2,
       "version_minor": 0,
       "model_id": "414d2afbbcce4109a8c7d49c17ba980a"
      }
     },
     "metadata": {},
     "output_type": "display_data"
    },
    {
     "data": {
      "text/plain": "  0%|          | 0/20 [00:00<?, ?it/s]",
      "application/vnd.jupyter.widget-view+json": {
       "version_major": 2,
       "version_minor": 0,
       "model_id": "bcb6a8e8c8dc4d259e33ade8aac92911"
      }
     },
     "metadata": {},
     "output_type": "display_data"
    },
    {
     "data": {
      "text/plain": "  0%|          | 0/20 [00:00<?, ?it/s]",
      "application/vnd.jupyter.widget-view+json": {
       "version_major": 2,
       "version_minor": 0,
       "model_id": "74b59736a07745fe8be80af230b154bb"
      }
     },
     "metadata": {},
     "output_type": "display_data"
    },
    {
     "data": {
      "text/plain": "  0%|          | 0/20 [00:00<?, ?it/s]",
      "application/vnd.jupyter.widget-view+json": {
       "version_major": 2,
       "version_minor": 0,
       "model_id": "629f72fc5e3f440e8a7ed475827e9364"
      }
     },
     "metadata": {},
     "output_type": "display_data"
    },
    {
     "data": {
      "text/plain": "  0%|          | 0/20 [00:00<?, ?it/s]",
      "application/vnd.jupyter.widget-view+json": {
       "version_major": 2,
       "version_minor": 0,
       "model_id": "645a8ba76f084459b8a2d56fecde755a"
      }
     },
     "metadata": {},
     "output_type": "display_data"
    },
    {
     "data": {
      "text/plain": "  0%|          | 0/20 [00:00<?, ?it/s]",
      "application/vnd.jupyter.widget-view+json": {
       "version_major": 2,
       "version_minor": 0,
       "model_id": "9192c357a5f94766aa1c5916f84dff16"
      }
     },
     "metadata": {},
     "output_type": "display_data"
    },
    {
     "data": {
      "text/plain": "  0%|          | 0/20 [00:00<?, ?it/s]",
      "application/vnd.jupyter.widget-view+json": {
       "version_major": 2,
       "version_minor": 0,
       "model_id": "8a459317e47f45ea90dc7ba5b2f7eeea"
      }
     },
     "metadata": {},
     "output_type": "display_data"
    },
    {
     "data": {
      "text/plain": "  0%|          | 0/20 [00:00<?, ?it/s]",
      "application/vnd.jupyter.widget-view+json": {
       "version_major": 2,
       "version_minor": 0,
       "model_id": "99d4f98ba7de4393848a01ff89af4572"
      }
     },
     "metadata": {},
     "output_type": "display_data"
    },
    {
     "data": {
      "text/plain": "  0%|          | 0/20 [00:00<?, ?it/s]",
      "application/vnd.jupyter.widget-view+json": {
       "version_major": 2,
       "version_minor": 0,
       "model_id": "14c88d953b9147c38e53c2bf4a70b1f4"
      }
     },
     "metadata": {},
     "output_type": "display_data"
    },
    {
     "data": {
      "text/plain": "  0%|          | 0/20 [00:00<?, ?it/s]",
      "application/vnd.jupyter.widget-view+json": {
       "version_major": 2,
       "version_minor": 0,
       "model_id": "d5346f5caac843cba199b69e0060e3f5"
      }
     },
     "metadata": {},
     "output_type": "display_data"
    },
    {
     "data": {
      "text/plain": "  0%|          | 0/20 [00:00<?, ?it/s]",
      "application/vnd.jupyter.widget-view+json": {
       "version_major": 2,
       "version_minor": 0,
       "model_id": "f729fb20ec184b95af9443452a4ddd60"
      }
     },
     "metadata": {},
     "output_type": "display_data"
    },
    {
     "data": {
      "text/plain": "  0%|          | 0/20 [00:00<?, ?it/s]",
      "application/vnd.jupyter.widget-view+json": {
       "version_major": 2,
       "version_minor": 0,
       "model_id": "bb15f7bf7d044eb6be2a08e24a2d44de"
      }
     },
     "metadata": {},
     "output_type": "display_data"
    },
    {
     "data": {
      "text/plain": "  0%|          | 0/20 [00:00<?, ?it/s]",
      "application/vnd.jupyter.widget-view+json": {
       "version_major": 2,
       "version_minor": 0,
       "model_id": "f74402326d5141228de576b3b551d041"
      }
     },
     "metadata": {},
     "output_type": "display_data"
    },
    {
     "data": {
      "text/plain": "  0%|          | 0/20 [00:00<?, ?it/s]",
      "application/vnd.jupyter.widget-view+json": {
       "version_major": 2,
       "version_minor": 0,
       "model_id": "dabbaf07f2d844a3a6fd1f9994f60351"
      }
     },
     "metadata": {},
     "output_type": "display_data"
    },
    {
     "data": {
      "text/plain": "  0%|          | 0/20 [00:00<?, ?it/s]",
      "application/vnd.jupyter.widget-view+json": {
       "version_major": 2,
       "version_minor": 0,
       "model_id": "08e6e0ed28e64adfb928fc7d103467bf"
      }
     },
     "metadata": {},
     "output_type": "display_data"
    },
    {
     "data": {
      "text/plain": "  0%|          | 0/20 [00:00<?, ?it/s]",
      "application/vnd.jupyter.widget-view+json": {
       "version_major": 2,
       "version_minor": 0,
       "model_id": "ee633b96d6d74048b1ce48584b5fa7aa"
      }
     },
     "metadata": {},
     "output_type": "display_data"
    },
    {
     "data": {
      "text/plain": "  0%|          | 0/20 [00:00<?, ?it/s]",
      "application/vnd.jupyter.widget-view+json": {
       "version_major": 2,
       "version_minor": 0,
       "model_id": "87820ddb37024e1e8b61beab43285cf7"
      }
     },
     "metadata": {},
     "output_type": "display_data"
    },
    {
     "data": {
      "text/plain": "  0%|          | 0/20 [00:00<?, ?it/s]",
      "application/vnd.jupyter.widget-view+json": {
       "version_major": 2,
       "version_minor": 0,
       "model_id": "781b2b698f3246dd80baab4d04a0cf82"
      }
     },
     "metadata": {},
     "output_type": "display_data"
    },
    {
     "data": {
      "text/plain": "  0%|          | 0/20 [00:00<?, ?it/s]",
      "application/vnd.jupyter.widget-view+json": {
       "version_major": 2,
       "version_minor": 0,
       "model_id": "a4dc103548954d508d609954f0ed7347"
      }
     },
     "metadata": {},
     "output_type": "display_data"
    },
    {
     "data": {
      "text/plain": "  0%|          | 0/20 [00:00<?, ?it/s]",
      "application/vnd.jupyter.widget-view+json": {
       "version_major": 2,
       "version_minor": 0,
       "model_id": "50e99f9e145547029412a904a1753d58"
      }
     },
     "metadata": {},
     "output_type": "display_data"
    },
    {
     "data": {
      "text/plain": "  0%|          | 0/20 [00:00<?, ?it/s]",
      "application/vnd.jupyter.widget-view+json": {
       "version_major": 2,
       "version_minor": 0,
       "model_id": "ac1a12ad01954631aadd615f70a049a2"
      }
     },
     "metadata": {},
     "output_type": "display_data"
    },
    {
     "data": {
      "text/plain": "  0%|          | 0/20 [00:00<?, ?it/s]",
      "application/vnd.jupyter.widget-view+json": {
       "version_major": 2,
       "version_minor": 0,
       "model_id": "c77e83930e74450292291ad1abe1b7db"
      }
     },
     "metadata": {},
     "output_type": "display_data"
    },
    {
     "data": {
      "text/plain": "  0%|          | 0/20 [00:00<?, ?it/s]",
      "application/vnd.jupyter.widget-view+json": {
       "version_major": 2,
       "version_minor": 0,
       "model_id": "4566f874ff5945bba915efc8105df1a3"
      }
     },
     "metadata": {},
     "output_type": "display_data"
    },
    {
     "data": {
      "text/plain": "  0%|          | 0/20 [00:00<?, ?it/s]",
      "application/vnd.jupyter.widget-view+json": {
       "version_major": 2,
       "version_minor": 0,
       "model_id": "f58dbebae495432a939fdf10747c2fa1"
      }
     },
     "metadata": {},
     "output_type": "display_data"
    },
    {
     "data": {
      "text/plain": "  0%|          | 0/20 [00:00<?, ?it/s]",
      "application/vnd.jupyter.widget-view+json": {
       "version_major": 2,
       "version_minor": 0,
       "model_id": "5263499836234e23b0d696941f50f191"
      }
     },
     "metadata": {},
     "output_type": "display_data"
    },
    {
     "data": {
      "text/plain": "  0%|          | 0/20 [00:00<?, ?it/s]",
      "application/vnd.jupyter.widget-view+json": {
       "version_major": 2,
       "version_minor": 0,
       "model_id": "76b107a3be6641798619dbdaf2962ad5"
      }
     },
     "metadata": {},
     "output_type": "display_data"
    },
    {
     "data": {
      "text/plain": "  0%|          | 0/20 [00:00<?, ?it/s]",
      "application/vnd.jupyter.widget-view+json": {
       "version_major": 2,
       "version_minor": 0,
       "model_id": "61c9b0b57a8e43fcacf00c262c2aea77"
      }
     },
     "metadata": {},
     "output_type": "display_data"
    },
    {
     "data": {
      "text/plain": "  0%|          | 0/20 [00:00<?, ?it/s]",
      "application/vnd.jupyter.widget-view+json": {
       "version_major": 2,
       "version_minor": 0,
       "model_id": "d6ce2f84f7574bd99513c1e586aeed5f"
      }
     },
     "metadata": {},
     "output_type": "display_data"
    },
    {
     "data": {
      "text/plain": "  0%|          | 0/20 [00:00<?, ?it/s]",
      "application/vnd.jupyter.widget-view+json": {
       "version_major": 2,
       "version_minor": 0,
       "model_id": "2f27646fc3c14004bf1a6ba6b3d85df5"
      }
     },
     "metadata": {},
     "output_type": "display_data"
    },
    {
     "data": {
      "text/plain": "  0%|          | 0/20 [00:00<?, ?it/s]",
      "application/vnd.jupyter.widget-view+json": {
       "version_major": 2,
       "version_minor": 0,
       "model_id": "08a86b4b82864fa8af854ae93e6fc5c1"
      }
     },
     "metadata": {},
     "output_type": "display_data"
    },
    {
     "data": {
      "text/plain": "  0%|          | 0/20 [00:00<?, ?it/s]",
      "application/vnd.jupyter.widget-view+json": {
       "version_major": 2,
       "version_minor": 0,
       "model_id": "6a0af70f010a40358b51e627c18b9725"
      }
     },
     "metadata": {},
     "output_type": "display_data"
    },
    {
     "data": {
      "text/plain": "  0%|          | 0/20 [00:00<?, ?it/s]",
      "application/vnd.jupyter.widget-view+json": {
       "version_major": 2,
       "version_minor": 0,
       "model_id": "33e35b59dafa418f97b1421a4f2f2d51"
      }
     },
     "metadata": {},
     "output_type": "display_data"
    },
    {
     "data": {
      "text/plain": "  0%|          | 0/20 [00:00<?, ?it/s]",
      "application/vnd.jupyter.widget-view+json": {
       "version_major": 2,
       "version_minor": 0,
       "model_id": "4f7f89be796f43feb64309f36ff9816e"
      }
     },
     "metadata": {},
     "output_type": "display_data"
    },
    {
     "data": {
      "text/plain": "  0%|          | 0/20 [00:00<?, ?it/s]",
      "application/vnd.jupyter.widget-view+json": {
       "version_major": 2,
       "version_minor": 0,
       "model_id": "df562bfc28234873b0b08e6ca32235bc"
      }
     },
     "metadata": {},
     "output_type": "display_data"
    },
    {
     "data": {
      "text/plain": "  0%|          | 0/20 [00:00<?, ?it/s]",
      "application/vnd.jupyter.widget-view+json": {
       "version_major": 2,
       "version_minor": 0,
       "model_id": "37fcf73ba89040a08acf29f9da1d896e"
      }
     },
     "metadata": {},
     "output_type": "display_data"
    },
    {
     "data": {
      "text/plain": "  0%|          | 0/20 [00:00<?, ?it/s]",
      "application/vnd.jupyter.widget-view+json": {
       "version_major": 2,
       "version_minor": 0,
       "model_id": "98f4962f522443678d33cbb91b3b31b1"
      }
     },
     "metadata": {},
     "output_type": "display_data"
    },
    {
     "data": {
      "text/plain": "  0%|          | 0/20 [00:00<?, ?it/s]",
      "application/vnd.jupyter.widget-view+json": {
       "version_major": 2,
       "version_minor": 0,
       "model_id": "0a6a509be0f8439d8aa829cbfaff414b"
      }
     },
     "metadata": {},
     "output_type": "display_data"
    },
    {
     "data": {
      "text/plain": "  0%|          | 0/20 [00:00<?, ?it/s]",
      "application/vnd.jupyter.widget-view+json": {
       "version_major": 2,
       "version_minor": 0,
       "model_id": "0783e75257214595b55457deffe856b7"
      }
     },
     "metadata": {},
     "output_type": "display_data"
    },
    {
     "data": {
      "text/plain": "  0%|          | 0/20 [00:00<?, ?it/s]",
      "application/vnd.jupyter.widget-view+json": {
       "version_major": 2,
       "version_minor": 0,
       "model_id": "eed41f15b501495c975c9328db4cb43a"
      }
     },
     "metadata": {},
     "output_type": "display_data"
    },
    {
     "data": {
      "text/plain": "  0%|          | 0/20 [00:00<?, ?it/s]",
      "application/vnd.jupyter.widget-view+json": {
       "version_major": 2,
       "version_minor": 0,
       "model_id": "6968a0b528d342b39e515edfdb23ad13"
      }
     },
     "metadata": {},
     "output_type": "display_data"
    },
    {
     "data": {
      "text/plain": "  0%|          | 0/20 [00:00<?, ?it/s]",
      "application/vnd.jupyter.widget-view+json": {
       "version_major": 2,
       "version_minor": 0,
       "model_id": "a2a9bcba3b8c4c599b9abb29cdfc3a1c"
      }
     },
     "metadata": {},
     "output_type": "display_data"
    },
    {
     "data": {
      "text/plain": "  0%|          | 0/20 [00:00<?, ?it/s]",
      "application/vnd.jupyter.widget-view+json": {
       "version_major": 2,
       "version_minor": 0,
       "model_id": "a5e500ed45154ed1a527abb5a1057a69"
      }
     },
     "metadata": {},
     "output_type": "display_data"
    },
    {
     "data": {
      "text/plain": "  0%|          | 0/20 [00:00<?, ?it/s]",
      "application/vnd.jupyter.widget-view+json": {
       "version_major": 2,
       "version_minor": 0,
       "model_id": "e5960053630e49a8a53d6087d6e5b9bc"
      }
     },
     "metadata": {},
     "output_type": "display_data"
    },
    {
     "data": {
      "text/plain": "  0%|          | 0/20 [00:00<?, ?it/s]",
      "application/vnd.jupyter.widget-view+json": {
       "version_major": 2,
       "version_minor": 0,
       "model_id": "408ca87936c1467c8696d5a0b8028d67"
      }
     },
     "metadata": {},
     "output_type": "display_data"
    },
    {
     "data": {
      "text/plain": "  0%|          | 0/20 [00:00<?, ?it/s]",
      "application/vnd.jupyter.widget-view+json": {
       "version_major": 2,
       "version_minor": 0,
       "model_id": "99cdd1b0be6940e291ab127d2bef8155"
      }
     },
     "metadata": {},
     "output_type": "display_data"
    },
    {
     "data": {
      "text/plain": "  0%|          | 0/20 [00:00<?, ?it/s]",
      "application/vnd.jupyter.widget-view+json": {
       "version_major": 2,
       "version_minor": 0,
       "model_id": "cd80ccd9b2b64e9c8be1d5c09602549e"
      }
     },
     "metadata": {},
     "output_type": "display_data"
    },
    {
     "data": {
      "text/plain": "  0%|          | 0/20 [00:00<?, ?it/s]",
      "application/vnd.jupyter.widget-view+json": {
       "version_major": 2,
       "version_minor": 0,
       "model_id": "6853c220afbf4a9e8f238f23e41d2356"
      }
     },
     "metadata": {},
     "output_type": "display_data"
    },
    {
     "data": {
      "text/plain": "  0%|          | 0/20 [00:00<?, ?it/s]",
      "application/vnd.jupyter.widget-view+json": {
       "version_major": 2,
       "version_minor": 0,
       "model_id": "08191d62846c4e68be972a677ef7632a"
      }
     },
     "metadata": {},
     "output_type": "display_data"
    },
    {
     "data": {
      "text/plain": "  0%|          | 0/20 [00:00<?, ?it/s]",
      "application/vnd.jupyter.widget-view+json": {
       "version_major": 2,
       "version_minor": 0,
       "model_id": "6eb8d3b4f70a4f8d80a54e4b93254397"
      }
     },
     "metadata": {},
     "output_type": "display_data"
    },
    {
     "data": {
      "text/plain": "  0%|          | 0/20 [00:00<?, ?it/s]",
      "application/vnd.jupyter.widget-view+json": {
       "version_major": 2,
       "version_minor": 0,
       "model_id": "5b23cc7dbb07449181e7f0b10c1c2eba"
      }
     },
     "metadata": {},
     "output_type": "display_data"
    },
    {
     "data": {
      "text/plain": "  0%|          | 0/20 [00:00<?, ?it/s]",
      "application/vnd.jupyter.widget-view+json": {
       "version_major": 2,
       "version_minor": 0,
       "model_id": "bca3ecdffbe74d349a4c8cb087f8ff96"
      }
     },
     "metadata": {},
     "output_type": "display_data"
    },
    {
     "data": {
      "text/plain": "  0%|          | 0/20 [00:00<?, ?it/s]",
      "application/vnd.jupyter.widget-view+json": {
       "version_major": 2,
       "version_minor": 0,
       "model_id": "d28c29a3400f4fbfae76455eaf9b8fb3"
      }
     },
     "metadata": {},
     "output_type": "display_data"
    },
    {
     "data": {
      "text/plain": "  0%|          | 0/20 [00:00<?, ?it/s]",
      "application/vnd.jupyter.widget-view+json": {
       "version_major": 2,
       "version_minor": 0,
       "model_id": "0ceb4e7500a14324963e41f3504c69b6"
      }
     },
     "metadata": {},
     "output_type": "display_data"
    },
    {
     "data": {
      "text/plain": "  0%|          | 0/20 [00:00<?, ?it/s]",
      "application/vnd.jupyter.widget-view+json": {
       "version_major": 2,
       "version_minor": 0,
       "model_id": "09cec76b62374c55a8dd594d68420a3a"
      }
     },
     "metadata": {},
     "output_type": "display_data"
    },
    {
     "data": {
      "text/plain": "  0%|          | 0/20 [00:00<?, ?it/s]",
      "application/vnd.jupyter.widget-view+json": {
       "version_major": 2,
       "version_minor": 0,
       "model_id": "9d4e8c4ada11411285f56a261e1ba8ec"
      }
     },
     "metadata": {},
     "output_type": "display_data"
    },
    {
     "data": {
      "text/plain": "  0%|          | 0/20 [00:00<?, ?it/s]",
      "application/vnd.jupyter.widget-view+json": {
       "version_major": 2,
       "version_minor": 0,
       "model_id": "73e8bc1eb5c54590a8189d1f63618311"
      }
     },
     "metadata": {},
     "output_type": "display_data"
    },
    {
     "data": {
      "text/plain": "  0%|          | 0/20 [00:00<?, ?it/s]",
      "application/vnd.jupyter.widget-view+json": {
       "version_major": 2,
       "version_minor": 0,
       "model_id": "e6fa1389e5104732bd388cd47ceed17b"
      }
     },
     "metadata": {},
     "output_type": "display_data"
    },
    {
     "data": {
      "text/plain": "  0%|          | 0/20 [00:00<?, ?it/s]",
      "application/vnd.jupyter.widget-view+json": {
       "version_major": 2,
       "version_minor": 0,
       "model_id": "764e046c78784d548ac8bb86ff7a588d"
      }
     },
     "metadata": {},
     "output_type": "display_data"
    },
    {
     "data": {
      "text/plain": "  0%|          | 0/20 [00:00<?, ?it/s]",
      "application/vnd.jupyter.widget-view+json": {
       "version_major": 2,
       "version_minor": 0,
       "model_id": "09aa17f7d4454a6fa32fe4faf6635254"
      }
     },
     "metadata": {},
     "output_type": "display_data"
    },
    {
     "data": {
      "text/plain": "  0%|          | 0/20 [00:00<?, ?it/s]",
      "application/vnd.jupyter.widget-view+json": {
       "version_major": 2,
       "version_minor": 0,
       "model_id": "8c643c70adce4c209302bbc4c1bfc7a8"
      }
     },
     "metadata": {},
     "output_type": "display_data"
    },
    {
     "data": {
      "text/plain": "  0%|          | 0/20 [00:00<?, ?it/s]",
      "application/vnd.jupyter.widget-view+json": {
       "version_major": 2,
       "version_minor": 0,
       "model_id": "3824220554374d96aa7984ad64663a1c"
      }
     },
     "metadata": {},
     "output_type": "display_data"
    },
    {
     "data": {
      "text/plain": "  0%|          | 0/20 [00:00<?, ?it/s]",
      "application/vnd.jupyter.widget-view+json": {
       "version_major": 2,
       "version_minor": 0,
       "model_id": "9cc54ce6ae134f9985cf2e466855f1c8"
      }
     },
     "metadata": {},
     "output_type": "display_data"
    },
    {
     "data": {
      "text/plain": "  0%|          | 0/20 [00:00<?, ?it/s]",
      "application/vnd.jupyter.widget-view+json": {
       "version_major": 2,
       "version_minor": 0,
       "model_id": "b1ea769d6e4149599f3c777337f13e84"
      }
     },
     "metadata": {},
     "output_type": "display_data"
    },
    {
     "data": {
      "text/plain": "  0%|          | 0/20 [00:00<?, ?it/s]",
      "application/vnd.jupyter.widget-view+json": {
       "version_major": 2,
       "version_minor": 0,
       "model_id": "d163b2aede3a42718d78607c34901ee1"
      }
     },
     "metadata": {},
     "output_type": "display_data"
    },
    {
     "data": {
      "text/plain": "  0%|          | 0/20 [00:00<?, ?it/s]",
      "application/vnd.jupyter.widget-view+json": {
       "version_major": 2,
       "version_minor": 0,
       "model_id": "7f6ec132a1df4745a321ddf94c0fa6da"
      }
     },
     "metadata": {},
     "output_type": "display_data"
    },
    {
     "data": {
      "text/plain": "  0%|          | 0/20 [00:00<?, ?it/s]",
      "application/vnd.jupyter.widget-view+json": {
       "version_major": 2,
       "version_minor": 0,
       "model_id": "c60113b4657a4b3684fa7c4789045cf1"
      }
     },
     "metadata": {},
     "output_type": "display_data"
    },
    {
     "data": {
      "text/plain": "  0%|          | 0/20 [00:00<?, ?it/s]",
      "application/vnd.jupyter.widget-view+json": {
       "version_major": 2,
       "version_minor": 0,
       "model_id": "9028f642bd66409aba9385ca379b322e"
      }
     },
     "metadata": {},
     "output_type": "display_data"
    },
    {
     "data": {
      "text/plain": "  0%|          | 0/20 [00:00<?, ?it/s]",
      "application/vnd.jupyter.widget-view+json": {
       "version_major": 2,
       "version_minor": 0,
       "model_id": "0e93d179b49649afa707cb9171332843"
      }
     },
     "metadata": {},
     "output_type": "display_data"
    },
    {
     "data": {
      "text/plain": "  0%|          | 0/20 [00:00<?, ?it/s]",
      "application/vnd.jupyter.widget-view+json": {
       "version_major": 2,
       "version_minor": 0,
       "model_id": "01cb12dc71a2486c8416a5b23f462d9e"
      }
     },
     "metadata": {},
     "output_type": "display_data"
    },
    {
     "data": {
      "text/plain": "  0%|          | 0/20 [00:00<?, ?it/s]",
      "application/vnd.jupyter.widget-view+json": {
       "version_major": 2,
       "version_minor": 0,
       "model_id": "627ff90d828649c197fdf3c2c15c4868"
      }
     },
     "metadata": {},
     "output_type": "display_data"
    },
    {
     "data": {
      "text/plain": "  0%|          | 0/20 [00:00<?, ?it/s]",
      "application/vnd.jupyter.widget-view+json": {
       "version_major": 2,
       "version_minor": 0,
       "model_id": "7afeffeeb7d14c0a9aec0babfe711d04"
      }
     },
     "metadata": {},
     "output_type": "display_data"
    },
    {
     "data": {
      "text/plain": "  0%|          | 0/20 [00:00<?, ?it/s]",
      "application/vnd.jupyter.widget-view+json": {
       "version_major": 2,
       "version_minor": 0,
       "model_id": "c30dbb4932c6461bb58d0c39fd348924"
      }
     },
     "metadata": {},
     "output_type": "display_data"
    },
    {
     "data": {
      "text/plain": "  0%|          | 0/20 [00:00<?, ?it/s]",
      "application/vnd.jupyter.widget-view+json": {
       "version_major": 2,
       "version_minor": 0,
       "model_id": "fe6eb3cdf1cd4d0280c68ccada8cc67b"
      }
     },
     "metadata": {},
     "output_type": "display_data"
    },
    {
     "data": {
      "text/plain": "  0%|          | 0/20 [00:00<?, ?it/s]",
      "application/vnd.jupyter.widget-view+json": {
       "version_major": 2,
       "version_minor": 0,
       "model_id": "0355f17eea6844d4907a25feda32df83"
      }
     },
     "metadata": {},
     "output_type": "display_data"
    },
    {
     "data": {
      "text/plain": "  0%|          | 0/20 [00:00<?, ?it/s]",
      "application/vnd.jupyter.widget-view+json": {
       "version_major": 2,
       "version_minor": 0,
       "model_id": "4bf4f6964e13440bba75609ea7975fdd"
      }
     },
     "metadata": {},
     "output_type": "display_data"
    },
    {
     "data": {
      "text/plain": "  0%|          | 0/20 [00:00<?, ?it/s]",
      "application/vnd.jupyter.widget-view+json": {
       "version_major": 2,
       "version_minor": 0,
       "model_id": "1fb17a23b724441bbd5ae13006887cac"
      }
     },
     "metadata": {},
     "output_type": "display_data"
    },
    {
     "data": {
      "text/plain": "  0%|          | 0/20 [00:00<?, ?it/s]",
      "application/vnd.jupyter.widget-view+json": {
       "version_major": 2,
       "version_minor": 0,
       "model_id": "79d655e83a8c4011aa00c34eb36c773b"
      }
     },
     "metadata": {},
     "output_type": "display_data"
    },
    {
     "data": {
      "text/plain": "  0%|          | 0/20 [00:00<?, ?it/s]",
      "application/vnd.jupyter.widget-view+json": {
       "version_major": 2,
       "version_minor": 0,
       "model_id": "6cf44d8e7c0a4be0ab0ac23a77202a71"
      }
     },
     "metadata": {},
     "output_type": "display_data"
    },
    {
     "data": {
      "text/plain": "  0%|          | 0/20 [00:00<?, ?it/s]",
      "application/vnd.jupyter.widget-view+json": {
       "version_major": 2,
       "version_minor": 0,
       "model_id": "973fcdaf8dec4724a5dd05a59b039f5e"
      }
     },
     "metadata": {},
     "output_type": "display_data"
    },
    {
     "data": {
      "text/plain": "  0%|          | 0/20 [00:00<?, ?it/s]",
      "application/vnd.jupyter.widget-view+json": {
       "version_major": 2,
       "version_minor": 0,
       "model_id": "7a547f5e3bd547f3af91bdb76622c827"
      }
     },
     "metadata": {},
     "output_type": "display_data"
    },
    {
     "data": {
      "text/plain": "  0%|          | 0/20 [00:00<?, ?it/s]",
      "application/vnd.jupyter.widget-view+json": {
       "version_major": 2,
       "version_minor": 0,
       "model_id": "d0b0b0d9978a40289d0c9236bc4b3b20"
      }
     },
     "metadata": {},
     "output_type": "display_data"
    },
    {
     "data": {
      "text/plain": "  0%|          | 0/20 [00:00<?, ?it/s]",
      "application/vnd.jupyter.widget-view+json": {
       "version_major": 2,
       "version_minor": 0,
       "model_id": "f01476d3750444e780f820c1f9671416"
      }
     },
     "metadata": {},
     "output_type": "display_data"
    },
    {
     "data": {
      "text/plain": "  0%|          | 0/20 [00:00<?, ?it/s]",
      "application/vnd.jupyter.widget-view+json": {
       "version_major": 2,
       "version_minor": 0,
       "model_id": "67bd0551c22c472c9de02b66df03adad"
      }
     },
     "metadata": {},
     "output_type": "display_data"
    },
    {
     "data": {
      "text/plain": "  0%|          | 0/20 [00:00<?, ?it/s]",
      "application/vnd.jupyter.widget-view+json": {
       "version_major": 2,
       "version_minor": 0,
       "model_id": "4b8463c148244d8090a57e3b92cd655c"
      }
     },
     "metadata": {},
     "output_type": "display_data"
    },
    {
     "data": {
      "text/plain": "  0%|          | 0/20 [00:00<?, ?it/s]",
      "application/vnd.jupyter.widget-view+json": {
       "version_major": 2,
       "version_minor": 0,
       "model_id": "3170471608524eae85ce7a6407108f49"
      }
     },
     "metadata": {},
     "output_type": "display_data"
    },
    {
     "data": {
      "text/plain": "  0%|          | 0/20 [00:00<?, ?it/s]",
      "application/vnd.jupyter.widget-view+json": {
       "version_major": 2,
       "version_minor": 0,
       "model_id": "2089dfc3c21b4bd2aa6985b08c8f023e"
      }
     },
     "metadata": {},
     "output_type": "display_data"
    },
    {
     "data": {
      "text/plain": "  0%|          | 0/20 [00:00<?, ?it/s]",
      "application/vnd.jupyter.widget-view+json": {
       "version_major": 2,
       "version_minor": 0,
       "model_id": "b77d0927db7c4ccf9002ede305f03c71"
      }
     },
     "metadata": {},
     "output_type": "display_data"
    },
    {
     "data": {
      "text/plain": "  0%|          | 0/20 [00:00<?, ?it/s]",
      "application/vnd.jupyter.widget-view+json": {
       "version_major": 2,
       "version_minor": 0,
       "model_id": "5488b18b8c264eeba565474c965c9709"
      }
     },
     "metadata": {},
     "output_type": "display_data"
    },
    {
     "data": {
      "text/plain": "  0%|          | 0/20 [00:00<?, ?it/s]",
      "application/vnd.jupyter.widget-view+json": {
       "version_major": 2,
       "version_minor": 0,
       "model_id": "2d98830b73e24e6f81faa40b34065f92"
      }
     },
     "metadata": {},
     "output_type": "display_data"
    },
    {
     "data": {
      "text/plain": "  0%|          | 0/20 [00:00<?, ?it/s]",
      "application/vnd.jupyter.widget-view+json": {
       "version_major": 2,
       "version_minor": 0,
       "model_id": "9f2c35b56f63477e91463a1de83e9ca8"
      }
     },
     "metadata": {},
     "output_type": "display_data"
    },
    {
     "data": {
      "text/plain": "  0%|          | 0/20 [00:00<?, ?it/s]",
      "application/vnd.jupyter.widget-view+json": {
       "version_major": 2,
       "version_minor": 0,
       "model_id": "71e30ec526f749cdb2210112e9cdb5c7"
      }
     },
     "metadata": {},
     "output_type": "display_data"
    },
    {
     "data": {
      "text/plain": "  0%|          | 0/20 [00:00<?, ?it/s]",
      "application/vnd.jupyter.widget-view+json": {
       "version_major": 2,
       "version_minor": 0,
       "model_id": "1ea2e1fde98e48acab0ac898a3b74bdf"
      }
     },
     "metadata": {},
     "output_type": "display_data"
    },
    {
     "data": {
      "text/plain": "  0%|          | 0/20 [00:00<?, ?it/s]",
      "application/vnd.jupyter.widget-view+json": {
       "version_major": 2,
       "version_minor": 0,
       "model_id": "d620fe6cf9ad49969b87ea73bbad181d"
      }
     },
     "metadata": {},
     "output_type": "display_data"
    },
    {
     "data": {
      "text/plain": "  0%|          | 0/20 [00:00<?, ?it/s]",
      "application/vnd.jupyter.widget-view+json": {
       "version_major": 2,
       "version_minor": 0,
       "model_id": "e9c5ebd0066b41149da2cbf816bb82e7"
      }
     },
     "metadata": {},
     "output_type": "display_data"
    },
    {
     "data": {
      "text/plain": "  0%|          | 0/20 [00:00<?, ?it/s]",
      "application/vnd.jupyter.widget-view+json": {
       "version_major": 2,
       "version_minor": 0,
       "model_id": "5b4e2564010844a79abe0b92aa0d6b9b"
      }
     },
     "metadata": {},
     "output_type": "display_data"
    },
    {
     "data": {
      "text/plain": "  0%|          | 0/20 [00:00<?, ?it/s]",
      "application/vnd.jupyter.widget-view+json": {
       "version_major": 2,
       "version_minor": 0,
       "model_id": "80e67a10876544d48ce678084d70b3b6"
      }
     },
     "metadata": {},
     "output_type": "display_data"
    },
    {
     "data": {
      "text/plain": "  0%|          | 0/20 [00:00<?, ?it/s]",
      "application/vnd.jupyter.widget-view+json": {
       "version_major": 2,
       "version_minor": 0,
       "model_id": "d45030091fe847ddbbbef1f818517373"
      }
     },
     "metadata": {},
     "output_type": "display_data"
    },
    {
     "data": {
      "text/plain": "  0%|          | 0/20 [00:00<?, ?it/s]",
      "application/vnd.jupyter.widget-view+json": {
       "version_major": 2,
       "version_minor": 0,
       "model_id": "61d0beeb1c0745d08bb92cfd8b76b268"
      }
     },
     "metadata": {},
     "output_type": "display_data"
    },
    {
     "data": {
      "text/plain": "  0%|          | 0/20 [00:00<?, ?it/s]",
      "application/vnd.jupyter.widget-view+json": {
       "version_major": 2,
       "version_minor": 0,
       "model_id": "07693af35a864057bf9a09bc19f633d8"
      }
     },
     "metadata": {},
     "output_type": "display_data"
    },
    {
     "data": {
      "text/plain": "  0%|          | 0/20 [00:00<?, ?it/s]",
      "application/vnd.jupyter.widget-view+json": {
       "version_major": 2,
       "version_minor": 0,
       "model_id": "081f589600614222bc2e6f7b6c4fcb45"
      }
     },
     "metadata": {},
     "output_type": "display_data"
    },
    {
     "name": "stdout",
     "output_type": "stream",
     "text": [
      "0.86064453125\n",
      "[0.8803955078125, 0.882763671875, 0.88447265625]\n",
      "0.89033203125\n"
     ]
    }
   ],
   "source": [
    "best_minplus_model_accs = []\n",
    "for _ in range(100):\n",
    "    best_minplus_model = Model(\"linear/minplus\", layer_norm=False, skip_connections=False, k=2.746123627581554).to(device)\n",
    "\n",
    "    best_minplus_linear_optimizer = torch.optim.AdamW(nonminplus_parameters(best_minplus_model), lr=0.0031251852421539513)\n",
    "    best_minplus_linear_scheduler = torch.optim.lr_scheduler.OneCycleLR(\n",
    "        best_minplus_linear_optimizer,\n",
    "        max_lr=0.0031251852421539513,\n",
    "        anneal_strategy=\"linear\",\n",
    "        pct_start=0.3,\n",
    "        three_phase=True,\n",
    "        final_div_factor=1000.0,\n",
    "        div_factor=10.0,\n",
    "        steps_per_epoch=len(fmnist_trainloader),\n",
    "        epochs=20,\n",
    "    )\n",
    "    best_minplus_semiring_optimizer = torch.optim.AdamW(minplus_parameters(best_minplus_model), lr=0.0025919037802080752)\n",
    "    \n",
    "    best_minplus_optimizers = [best_minplus_linear_optimizer, best_minplus_semiring_optimizer]\n",
    "    best_minplus_schedulers = [best_minplus_linear_scheduler]\n",
    "    \n",
    "    best_minplus_model_accs.append(train(\n",
    "        best_minplus_model,\n",
    "        fmnist_trainloader,\n",
    "        fmnist_testloader,\n",
    "        best_minplus_optimizers,\n",
    "        best_minplus_schedulers,\n",
    "        nn.CrossEntropyLoss(),\n",
    "        20,\n",
    "        statistics_mode=True,\n",
    "    ))\n",
    "    \n",
    "print(min(best_minplus_model_accs))\n",
    "print(quantiles(best_minplus_model_accs))\n",
    "print(max(best_minplus_model_accs))"
   ],
   "metadata": {
    "collapsed": false,
    "ExecuteTime": {
     "end_time": "2023-08-31T17:42:03.931877800Z",
     "start_time": "2023-08-31T13:17:59.821641700Z"
    }
   }
  },
  {
   "cell_type": "markdown",
   "source": [
    "Log semiring"
   ],
   "metadata": {
    "collapsed": false
   }
  },
  {
   "cell_type": "code",
   "execution_count": 8,
   "outputs": [
    {
     "name": "stdout",
     "output_type": "stream",
     "text": [
      "Best trial config with accuracy of 0.89150390625: {'model_name': 'linear/log', 'layer_norm': True, 'skip_connections': False, 'k': 7.737157442182755, 'linear_optimizer': 'AdamW', 'linear_scheduler': True, 'linear_lr': 0.0031251852421539513, 'semiring_lr': 0.004904255262470137, 'semiring_optimizer': 'AdamW', 'semiring_scheduler': False, 'mu': 1.039532030955584}\n",
      "-----------------\n",
      "{'accuracy': 0.89150390625, 'config': {'model_name': 'linear/log', 'layer_norm': True, 'skip_connections': False, 'k': 7.737157442182755, 'linear_optimizer': 'AdamW', 'linear_scheduler': True, 'linear_lr': 0.0031251852421539513, 'semiring_lr': 0.004904255262470137, 'semiring_optimizer': 'AdamW', 'semiring_scheduler': False, 'mu': 1.039532030955584}}\n",
      "{'accuracy': 0.89091796875, 'config': {'model_name': 'linear/log', 'layer_norm': True, 'skip_connections': False, 'k': 9.849440249307467, 'linear_optimizer': 'AdamW', 'linear_scheduler': True, 'linear_lr': 0.0031251852421539513, 'semiring_lr': 0.0038734466986648478, 'semiring_optimizer': 'AdamW', 'semiring_scheduler': True, 'mu': 1.2060019627509173}}\n",
      "{'accuracy': 0.88720703125, 'config': {'model_name': 'linear/log', 'layer_norm': True, 'skip_connections': False, 'k': 10.752538989300614, 'linear_optimizer': 'AdamW', 'linear_scheduler': True, 'linear_lr': 0.0031251852421539513, 'semiring_lr': 0.004856420031768423, 'semiring_optimizer': 'SGD', 'semiring_scheduler': False, 'mu': 1.0355806322355183}}\n",
      "{'accuracy': 0.88466796875, 'config': {'model_name': 'linear/log', 'layer_norm': True, 'skip_connections': False, 'k': 10.096359218109878, 'linear_optimizer': 'AdamW', 'linear_scheduler': True, 'linear_lr': 0.0031251852421539513, 'semiring_lr': 0.004259162563199113, 'semiring_optimizer': 'SGD', 'semiring_scheduler': True, 'mu': 1.0}}\n"
     ]
    }
   ],
   "source": [
    "linear_lr, linear_optimizer, linear_scheduler = get_linear_info(layer_norm=True, skip_connections=False)\n",
    "\n",
    "find_best_model_for(config={\n",
    "    \"model_name\": \"linear/log\",\n",
    "    \"layer_norm\": True,\n",
    "    \"skip_connections\": False,\n",
    "    \"k\": 5 * uniform(1, 3),\n",
    "    \"linear_optimizer\": linear_optimizer,\n",
    "    \"linear_scheduler\": linear_scheduler,\n",
    "    \"linear_lr\": linear_lr,\n",
    "    \"semiring_lr\": 10 ** uniform(-3, -1),\n",
    "    \"semiring_optimizer\": [\"AdamW\", \"SGD\"],\n",
    "    \"semiring_scheduler\": [True, False],\n",
    "    \"mu\": 1.0,\n",
    "})"
   ],
   "metadata": {
    "collapsed": false
   }
  },
  {
   "cell_type": "code",
   "execution_count": 9,
   "outputs": [
    {
     "name": "stdout",
     "output_type": "stream",
     "text": [
      "Best trial config with accuracy of 0.8875: {'model_name': 'linear/log', 'layer_norm': False, 'skip_connections': False, 'k': 10.34077025842527, 'linear_optimizer': 'AdamW', 'linear_scheduler': True, 'linear_lr': 0.0031251852421539513, 'semiring_lr': 0.0019546028819927034, 'semiring_optimizer': 'SGD', 'semiring_scheduler': False, 'mu': 1.0384464527817765}\n",
      "-----------------\n",
      "{'accuracy': 0.8875, 'config': {'model_name': 'linear/log', 'layer_norm': False, 'skip_connections': False, 'k': 10.34077025842527, 'linear_optimizer': 'AdamW', 'linear_scheduler': True, 'linear_lr': 0.0031251852421539513, 'semiring_lr': 0.0019546028819927034, 'semiring_optimizer': 'SGD', 'semiring_scheduler': False, 'mu': 1.0384464527817765}}\n",
      "{'accuracy': 0.8869140625, 'config': {'model_name': 'linear/log', 'layer_norm': False, 'skip_connections': False, 'k': 10.549601032293031, 'linear_optimizer': 'AdamW', 'linear_scheduler': True, 'linear_lr': 0.0031251852421539513, 'semiring_lr': 0.0021628024267518024, 'semiring_optimizer': 'AdamW', 'semiring_scheduler': False, 'mu': 1.0910328010636559}}\n",
      "{'accuracy': 0.8859375, 'config': {'model_name': 'linear/log', 'layer_norm': False, 'skip_connections': False, 'k': 11.581751216544864, 'linear_optimizer': 'AdamW', 'linear_scheduler': True, 'linear_lr': 0.0031251852421539513, 'semiring_lr': 0.002033140261963275, 'semiring_optimizer': 'AdamW', 'semiring_scheduler': True, 'mu': 0.982805565552983}}\n",
      "{'accuracy': 0.8857421875, 'config': {'model_name': 'linear/log', 'layer_norm': False, 'skip_connections': False, 'k': 12.830474128159079, 'linear_optimizer': 'AdamW', 'linear_scheduler': True, 'linear_lr': 0.0031251852421539513, 'semiring_lr': 0.002144571790387224, 'semiring_optimizer': 'SGD', 'semiring_scheduler': True, 'mu': 0.7961750567843504}}\n"
     ]
    }
   ],
   "source": [
    "linear_lr, linear_optimizer, linear_scheduler = get_linear_info(layer_norm=False, skip_connections=False)\n",
    "\n",
    "find_best_model_for(config={\n",
    "    \"model_name\": \"linear/log\",\n",
    "    \"layer_norm\": False,\n",
    "    \"skip_connections\": False,\n",
    "    \"k\": 5 * uniform(1, 3),\n",
    "    \"linear_optimizer\": linear_optimizer,\n",
    "    \"linear_scheduler\": linear_scheduler,\n",
    "    \"linear_lr\": linear_lr,\n",
    "    \"semiring_lr\": 10 ** uniform(-3, -1),\n",
    "    \"semiring_optimizer\": [\"AdamW\", \"SGD\"],\n",
    "    \"semiring_scheduler\": [True, False],\n",
    "    \"mu\": 1.0,\n",
    "})"
   ],
   "metadata": {
    "collapsed": false
   }
  },
  {
   "cell_type": "code",
   "execution_count": 8,
   "outputs": [
    {
     "name": "stdout",
     "output_type": "stream",
     "text": [
      "Best trial config with accuracy of 0.8892578125: {'model_name': 'linear/log', 'layer_norm': True, 'skip_connections': True, 'k': 7.72591105421962, 'linear_optimizer': 'AdamW', 'linear_scheduler': True, 'linear_lr': 0.007762420362152599, 'semiring_lr': 0.00185139159287734, 'semiring_optimizer': 'AdamW', 'semiring_scheduler': False, 'mu': 0.9895035017888075}\n",
      "-----------------\n",
      "{'accuracy': 0.8892578125, 'config': {'model_name': 'linear/log', 'layer_norm': True, 'skip_connections': True, 'k': 7.72591105421962, 'linear_optimizer': 'AdamW', 'linear_scheduler': True, 'linear_lr': 0.007762420362152599, 'semiring_lr': 0.00185139159287734, 'semiring_optimizer': 'AdamW', 'semiring_scheduler': False, 'mu': 0.9895035017888075}}\n",
      "{'accuracy': 0.88173828125, 'config': {'model_name': 'linear/log', 'layer_norm': True, 'skip_connections': True, 'k': 7.699850071797916, 'linear_optimizer': 'AdamW', 'linear_scheduler': True, 'linear_lr': 0.007762420362152599, 'semiring_lr': 0.001837108674227146, 'semiring_optimizer': 'AdamW', 'semiring_scheduler': True, 'mu': 1.0}}\n",
      "{'accuracy': 0.09765625, 'config': {'model_name': 'linear/log', 'layer_norm': True, 'skip_connections': True, 'k': 7.699850071797916, 'linear_optimizer': 'AdamW', 'linear_scheduler': True, 'linear_lr': 0.007762420362152599, 'semiring_lr': 0.001837108674227146, 'semiring_optimizer': 'SGD', 'semiring_scheduler': True, 'mu': 1.0}}\n",
      "{'accuracy': 0.09765625, 'config': {'model_name': 'linear/log', 'layer_norm': True, 'skip_connections': True, 'k': 7.699850071797916, 'linear_optimizer': 'AdamW', 'linear_scheduler': True, 'linear_lr': 0.007762420362152599, 'semiring_lr': 0.001837108674227146, 'semiring_optimizer': 'SGD', 'semiring_scheduler': False, 'mu': 1.0}}\n"
     ]
    }
   ],
   "source": [
    "linear_lr, linear_optimizer, linear_scheduler = get_linear_info(layer_norm=True, skip_connections=True)\n",
    "\n",
    "find_best_model_for(config={\n",
    "    \"model_name\": \"linear/log\",\n",
    "    \"layer_norm\": True,\n",
    "    \"skip_connections\": True,\n",
    "    \"k\": 5 * uniform(1, 3),\n",
    "    \"linear_optimizer\": linear_optimizer,\n",
    "    \"linear_scheduler\": linear_scheduler,\n",
    "    \"linear_lr\": linear_lr,\n",
    "    \"semiring_lr\": 10 ** uniform(-3, -1),\n",
    "    \"semiring_optimizer\": [\"AdamW\", \"SGD\"],\n",
    "    \"semiring_scheduler\": [True, False],\n",
    "    \"mu\": 1.0,\n",
    "})"
   ],
   "metadata": {
    "collapsed": false
   }
  },
  {
   "cell_type": "code",
   "execution_count": 9,
   "outputs": [
    {
     "name": "stdout",
     "output_type": "stream",
     "text": [
      "Best trial config with accuracy of 0.8888671875: {'model_name': 'linear/log', 'layer_norm': False, 'skip_connections': True, 'k': 8.945542044337907, 'linear_optimizer': 'AdamW', 'linear_scheduler': True, 'linear_lr': 0.007762420362152599, 'semiring_lr': 0.005767148481253821, 'semiring_optimizer': 'AdamW', 'semiring_scheduler': False, 'mu': 0.914139814694531}\n",
      "-----------------\n",
      "{'accuracy': 0.8888671875, 'config': {'model_name': 'linear/log', 'layer_norm': False, 'skip_connections': True, 'k': 8.945542044337907, 'linear_optimizer': 'AdamW', 'linear_scheduler': True, 'linear_lr': 0.007762420362152599, 'semiring_lr': 0.005767148481253821, 'semiring_optimizer': 'AdamW', 'semiring_scheduler': False, 'mu': 0.914139814694531}}\n",
      "{'accuracy': 0.88623046875, 'config': {'model_name': 'linear/log', 'layer_norm': False, 'skip_connections': True, 'k': 9.126285012578608, 'linear_optimizer': 'AdamW', 'linear_scheduler': True, 'linear_lr': 0.007762420362152599, 'semiring_lr': 0.005340019213911219, 'semiring_optimizer': 'SGD', 'semiring_scheduler': True, 'mu': 0.9929954284638667}}\n",
      "{'accuracy': 0.883984375, 'config': {'model_name': 'linear/log', 'layer_norm': False, 'skip_connections': True, 'k': 9.542162249755549, 'linear_optimizer': 'AdamW', 'linear_scheduler': True, 'linear_lr': 0.007762420362152599, 'semiring_lr': 0.005515867481232242, 'semiring_optimizer': 'AdamW', 'semiring_scheduler': True, 'mu': 1.0066816394452898}}\n",
      "{'accuracy': 0.09765625, 'config': {'model_name': 'linear/log', 'layer_norm': False, 'skip_connections': True, 'k': 9.76735704740047, 'linear_optimizer': 'AdamW', 'linear_scheduler': True, 'linear_lr': 0.007762420362152599, 'semiring_lr': 0.005625072053602865, 'semiring_optimizer': 'SGD', 'semiring_scheduler': False, 'mu': 1.0}}\n"
     ]
    }
   ],
   "source": [
    "linear_lr, linear_optimizer, linear_scheduler = get_linear_info(layer_norm=False, skip_connections=True)\n",
    "\n",
    "find_best_model_for(config={\n",
    "    \"model_name\": \"linear/log\",\n",
    "    \"layer_norm\": False,\n",
    "    \"skip_connections\": True,\n",
    "    \"k\": 5 * uniform(1, 3),\n",
    "    \"linear_optimizer\": linear_optimizer,\n",
    "    \"linear_scheduler\": linear_scheduler,\n",
    "    \"linear_lr\": linear_lr,\n",
    "    \"semiring_lr\": 10 ** uniform(-3, -1),\n",
    "    \"semiring_optimizer\": [\"AdamW\", \"SGD\"],\n",
    "    \"semiring_scheduler\": [True, False],\n",
    "    \"mu\": 1.0,\n",
    "})"
   ],
   "metadata": {
    "collapsed": false
   }
  },
  {
   "cell_type": "code",
   "execution_count": 10,
   "outputs": [
    {
     "name": "stdout",
     "output_type": "stream",
     "text": [
      "Best trial config with accuracy of 0.88271484375: {'model_name': 'linear/log', 'layer_norm': True, 'skip_connections': False, 'k': 14.534498064198916, 'linear_optimizer': 'AdamW', 'linear_scheduler': True, 'linear_lr': 0.0031251852421539513, 'semiring_lr': 0.003185216473277317, 'semiring_optimizer': 'AdamW', 'semiring_scheduler': False, 'mu': -1.0228585193423796}\n",
      "-----------------\n",
      "{'accuracy': 0.88271484375, 'config': {'model_name': 'linear/log', 'layer_norm': True, 'skip_connections': False, 'k': 14.534498064198916, 'linear_optimizer': 'AdamW', 'linear_scheduler': True, 'linear_lr': 0.0031251852421539513, 'semiring_lr': 0.003185216473277317, 'semiring_optimizer': 'AdamW', 'semiring_scheduler': False, 'mu': -1.0228585193423796}}\n",
      "{'accuracy': 0.8814453125, 'config': {'model_name': 'linear/log', 'layer_norm': True, 'skip_connections': False, 'k': 13.01870393793592, 'linear_optimizer': 'AdamW', 'linear_scheduler': True, 'linear_lr': 0.0031251852421539513, 'semiring_lr': 0.0030611324663487116, 'semiring_optimizer': 'SGD', 'semiring_scheduler': False, 'mu': -1.0593878107018402}}\n",
      "{'accuracy': 0.88115234375, 'config': {'model_name': 'linear/log', 'layer_norm': True, 'skip_connections': False, 'k': 13.193652080281002, 'linear_optimizer': 'AdamW', 'linear_scheduler': True, 'linear_lr': 0.0031251852421539513, 'semiring_lr': 0.0034009710757982575, 'semiring_optimizer': 'AdamW', 'semiring_scheduler': True, 'mu': -1.1543703416124331}}\n",
      "{'accuracy': 0.87763671875, 'config': {'model_name': 'linear/log', 'layer_norm': True, 'skip_connections': False, 'k': 14.259227534682687, 'linear_optimizer': 'AdamW', 'linear_scheduler': True, 'linear_lr': 0.0031251852421539513, 'semiring_lr': 0.0030039699305171755, 'semiring_optimizer': 'SGD', 'semiring_scheduler': True, 'mu': -1.072174113380234}}\n"
     ]
    }
   ],
   "source": [
    "linear_lr, linear_optimizer, linear_scheduler = get_linear_info(layer_norm=True, skip_connections=False)\n",
    "\n",
    "find_best_model_for(config={\n",
    "    \"model_name\": \"linear/log\",\n",
    "    \"layer_norm\": True,\n",
    "    \"skip_connections\": False,\n",
    "    \"k\": 5 * uniform(1, 3),\n",
    "    \"linear_optimizer\": linear_optimizer,\n",
    "    \"linear_scheduler\": linear_scheduler,\n",
    "    \"linear_lr\": linear_lr,\n",
    "    \"semiring_lr\": 10 ** uniform(-3, -1),\n",
    "    \"semiring_optimizer\": [\"AdamW\", \"SGD\"],\n",
    "    \"semiring_scheduler\": [True, False],\n",
    "    \"mu\": -1.0,\n",
    "})"
   ],
   "metadata": {
    "collapsed": false
   }
  },
  {
   "cell_type": "code",
   "execution_count": 8,
   "outputs": [
    {
     "name": "stdout",
     "output_type": "stream",
     "text": [
      "Best trial config with accuracy of 0.8919921875: {'model_name': 'linear/log', 'layer_norm': False, 'skip_connections': False, 'k': 11.1434941492021, 'linear_optimizer': 'AdamW', 'linear_scheduler': True, 'linear_lr': 0.0031251852421539513, 'semiring_lr': 0.0340559406041131, 'semiring_optimizer': 'AdamW', 'semiring_scheduler': True, 'mu': -1.0084365296090092}\n",
      "-----------------\n",
      "{'accuracy': 0.8919921875, 'config': {'model_name': 'linear/log', 'layer_norm': False, 'skip_connections': False, 'k': 11.1434941492021, 'linear_optimizer': 'AdamW', 'linear_scheduler': True, 'linear_lr': 0.0031251852421539513, 'semiring_lr': 0.0340559406041131, 'semiring_optimizer': 'AdamW', 'semiring_scheduler': True, 'mu': -1.0084365296090092}}\n",
      "{'accuracy': 0.88701171875, 'config': {'model_name': 'linear/log', 'layer_norm': False, 'skip_connections': False, 'k': 10.419604014012824, 'linear_optimizer': 'AdamW', 'linear_scheduler': True, 'linear_lr': 0.0031251852421539513, 'semiring_lr': 0.034695431154748456, 'semiring_optimizer': 'SGD', 'semiring_scheduler': False, 'mu': -1.0}}\n",
      "{'accuracy': 0.863671875, 'config': {'model_name': 'linear/log', 'layer_norm': False, 'skip_connections': False, 'k': 9.598355334488884, 'linear_optimizer': 'AdamW', 'linear_scheduler': True, 'linear_lr': 0.0031251852421539513, 'semiring_lr': 0.03788466326700206, 'semiring_optimizer': 'AdamW', 'semiring_scheduler': False, 'mu': -1.0890268822421465}}\n",
      "{'accuracy': 0.09765625, 'config': {'model_name': 'linear/log', 'layer_norm': False, 'skip_connections': False, 'k': 10.419604014012824, 'linear_optimizer': 'AdamW', 'linear_scheduler': True, 'linear_lr': 0.0031251852421539513, 'semiring_lr': 0.034695431154748456, 'semiring_optimizer': 'SGD', 'semiring_scheduler': True, 'mu': -1.0}}\n"
     ]
    }
   ],
   "source": [
    "linear_lr, linear_optimizer, linear_scheduler = get_linear_info(layer_norm=False, skip_connections=False)\n",
    "\n",
    "find_best_model_for(config={\n",
    "    \"model_name\": \"linear/log\",\n",
    "    \"layer_norm\": False,\n",
    "    \"skip_connections\": False,\n",
    "    \"k\": 5 * uniform(1, 3),\n",
    "    \"linear_optimizer\": linear_optimizer,\n",
    "    \"linear_scheduler\": linear_scheduler,\n",
    "    \"linear_lr\": linear_lr,\n",
    "    \"semiring_lr\": 10 ** uniform(-3, -1),\n",
    "    \"semiring_optimizer\": [\"AdamW\", \"SGD\"],\n",
    "    \"semiring_scheduler\": [True, False],\n",
    "    \"mu\": -1.0,\n",
    "})"
   ],
   "metadata": {
    "collapsed": false
   }
  },
  {
   "cell_type": "code",
   "execution_count": 14,
   "outputs": [
    {
     "name": "stdout",
     "output_type": "stream",
     "text": [
      "Best trial config with accuracy of 0.88955078125: {'model_name': 'linear/log', 'layer_norm': True, 'skip_connections': True, 'k': 13.356458088367017, 'linear_optimizer': 'AdamW', 'linear_scheduler': True, 'linear_lr': 0.007762420362152599, 'semiring_lr': 0.039319365694389825, 'semiring_optimizer': 'AdamW', 'semiring_scheduler': True, 'mu': -1.003132936085835}\n",
      "-----------------\n",
      "{'accuracy': 0.88955078125, 'config': {'model_name': 'linear/log', 'layer_norm': True, 'skip_connections': True, 'k': 13.356458088367017, 'linear_optimizer': 'AdamW', 'linear_scheduler': True, 'linear_lr': 0.007762420362152599, 'semiring_lr': 0.039319365694389825, 'semiring_optimizer': 'AdamW', 'semiring_scheduler': True, 'mu': -1.003132936085835}}\n",
      "{'accuracy': 0.09765625, 'config': {'model_name': 'linear/log', 'layer_norm': True, 'skip_connections': True, 'k': 13.352136063017088, 'linear_optimizer': 'AdamW', 'linear_scheduler': True, 'linear_lr': 0.007762420362152599, 'semiring_lr': 0.03936480054697463, 'semiring_optimizer': 'AdamW', 'semiring_scheduler': False, 'mu': -1.0}}\n",
      "{'accuracy': 0.09765625, 'config': {'model_name': 'linear/log', 'layer_norm': True, 'skip_connections': True, 'k': 13.352136063017088, 'linear_optimizer': 'AdamW', 'linear_scheduler': True, 'linear_lr': 0.007762420362152599, 'semiring_lr': 0.03936480054697463, 'semiring_optimizer': 'SGD', 'semiring_scheduler': True, 'mu': -1.0}}\n",
      "{'accuracy': 0.09765625, 'config': {'model_name': 'linear/log', 'layer_norm': True, 'skip_connections': True, 'k': 13.352136063017088, 'linear_optimizer': 'AdamW', 'linear_scheduler': True, 'linear_lr': 0.007762420362152599, 'semiring_lr': 0.03936480054697463, 'semiring_optimizer': 'SGD', 'semiring_scheduler': False, 'mu': -1.0}}\n"
     ]
    }
   ],
   "source": [
    "linear_lr, linear_optimizer, linear_scheduler = get_linear_info(layer_norm=True, skip_connections=True)\n",
    "\n",
    "find_best_model_for(config={\n",
    "    \"model_name\": \"linear/log\",\n",
    "    \"layer_norm\": True,\n",
    "    \"skip_connections\": True,\n",
    "    \"k\": 5 * uniform(1, 3),\n",
    "    \"linear_optimizer\": linear_optimizer,\n",
    "    \"linear_scheduler\": linear_scheduler,\n",
    "    \"linear_lr\": linear_lr,\n",
    "    \"semiring_lr\": 10 ** uniform(-3, -1),\n",
    "    \"semiring_optimizer\": [\"AdamW\", \"SGD\"],\n",
    "    \"semiring_scheduler\": [True, False],\n",
    "    \"mu\": -1.0,\n",
    "})"
   ],
   "metadata": {
    "collapsed": false
   }
  },
  {
   "cell_type": "code",
   "execution_count": 12,
   "outputs": [
    {
     "name": "stdout",
     "output_type": "stream",
     "text": [
      "Best trial config with accuracy of 0.88994140625: {'model_name': 'linear/log', 'layer_norm': False, 'skip_connections': True, 'k': 8.330521546343432, 'linear_optimizer': 'AdamW', 'linear_scheduler': True, 'linear_lr': 0.007762420362152599, 'semiring_lr': 0.00690614936984945, 'semiring_optimizer': 'SGD', 'semiring_scheduler': True, 'mu': -0.9588002766087744}\n",
      "-----------------\n",
      "{'accuracy': 0.88994140625, 'config': {'model_name': 'linear/log', 'layer_norm': False, 'skip_connections': True, 'k': 8.330521546343432, 'linear_optimizer': 'AdamW', 'linear_scheduler': True, 'linear_lr': 0.007762420362152599, 'semiring_lr': 0.00690614936984945, 'semiring_optimizer': 'SGD', 'semiring_scheduler': True, 'mu': -0.9588002766087744}}\n",
      "{'accuracy': 0.88408203125, 'config': {'model_name': 'linear/log', 'layer_norm': False, 'skip_connections': True, 'k': 8.909128513380965, 'linear_optimizer': 'AdamW', 'linear_scheduler': True, 'linear_lr': 0.007762420362152599, 'semiring_lr': 0.006418254116872302, 'semiring_optimizer': 'SGD', 'semiring_scheduler': False, 'mu': -1.0375152065196103}}\n",
      "{'accuracy': 0.883984375, 'config': {'model_name': 'linear/log', 'layer_norm': False, 'skip_connections': True, 'k': 8.060676717754594, 'linear_optimizer': 'AdamW', 'linear_scheduler': True, 'linear_lr': 0.007762420362152599, 'semiring_lr': 0.006688525185164023, 'semiring_optimizer': 'AdamW', 'semiring_scheduler': False, 'mu': -1.021419530322662}}\n",
      "{'accuracy': 0.09765625, 'config': {'model_name': 'linear/log', 'layer_norm': False, 'skip_connections': True, 'k': 8.885807388893976, 'linear_optimizer': 'AdamW', 'linear_scheduler': True, 'linear_lr': 0.007762420362152599, 'semiring_lr': 0.006674489337584784, 'semiring_optimizer': 'AdamW', 'semiring_scheduler': True, 'mu': -1.0}}\n"
     ]
    }
   ],
   "source": [
    "linear_lr, linear_optimizer, linear_scheduler = get_linear_info(layer_norm=False, skip_connections=True)\n",
    "\n",
    "find_best_model_for(config={\n",
    "    \"model_name\": \"linear/log\",\n",
    "    \"layer_norm\": False,\n",
    "    \"skip_connections\": True,\n",
    "    \"k\": 5 * uniform(1, 3),\n",
    "    \"linear_optimizer\": linear_optimizer,\n",
    "    \"linear_scheduler\": linear_scheduler,\n",
    "    \"linear_lr\": linear_lr,\n",
    "    \"semiring_lr\": 10 ** uniform(-3, -1),\n",
    "    \"semiring_optimizer\": [\"AdamW\", \"SGD\"],\n",
    "    \"semiring_scheduler\": [True, False],\n",
    "    \"mu\": -1.0,\n",
    "})"
   ],
   "metadata": {
    "collapsed": false
   }
  },
  {
   "cell_type": "markdown",
   "source": [
    "Best SemiLog model (unstable)"
   ],
   "metadata": {
    "collapsed": false
   }
  },
  {
   "cell_type": "code",
   "execution_count": 10,
   "outputs": [
    {
     "name": "stdout",
     "output_type": "stream",
     "text": [
      "linear/log model has 398473 trainable parameters, of which 288020 are linear and 110453 are semiring related\n"
     ]
    },
    {
     "data": {
      "text/plain": "''"
     },
     "metadata": {},
     "output_type": "display_data"
    },
    {
     "data": {
      "text/plain": "  0%|          | 0/20 [00:00<?, ?it/s]",
      "application/vnd.jupyter.widget-view+json": {
       "version_major": 2,
       "version_minor": 0,
       "model_id": "3b31e5c4fede446bbd2668fd15490cb7"
      }
     },
     "metadata": {},
     "output_type": "display_data"
    },
    {
     "data": {
      "text/plain": "<Figure size 600x400 with 1 Axes>",
      "image/png": "[encoded data removed]"
     },
     "metadata": {},
     "output_type": "display_data"
    },
    {
     "data": {
      "text/plain": "<Figure size 600x400 with 2 Axes>",
      "image/png": "[encoded data removed]"
     },
     "metadata": {},
     "output_type": "display_data"
    }
   ],
   "source": [
    "best_semilog_model = Model(\"linear/log\", layer_norm=True, skip_connections=True, k=6.1283850413012875,\n",
    "                           mu=0.97622306742588).to(device)\n",
    "\n",
    "print(f\"{best_semilog_model.name} model has {count_parameters(best_semilog_model.parameters())} trainable parameters, \"\n",
    "      f\"of which {count_parameters(nonsemilog_parameters(best_semilog_model))} are linear \"\n",
    "      f\"and {count_parameters(semilog_parameters(best_semilog_model))} are semiring related\")\n",
    "\n",
    "best_semilog_linear_optimizer = torch.optim.AdamW(nonsemilog_parameters(best_semilog_model), lr=0.05971752653541055)\n",
    "best_semilog_linear_scheduler = torch.optim.lr_scheduler.OneCycleLR(\n",
    "    best_semilog_linear_optimizer,\n",
    "    max_lr=0.05971752653541055,\n",
    "    anneal_strategy=\"linear\",\n",
    "    pct_start=0.3,\n",
    "    three_phase=True,\n",
    "    final_div_factor=1000.0,\n",
    "    div_factor=10.0,\n",
    "    steps_per_epoch=len(fmnist_trainloader),\n",
    "    epochs=20,\n",
    ")\n",
    "best_semilog_semiring_optimizer = torch.optim.SGD(semilog_parameters(best_semilog_model), lr=0.004074057814487343)\n",
    "\n",
    "best_semilog_optimizers = [best_semilog_linear_optimizer, best_semilog_semiring_optimizer]\n",
    "best_semilog_schedulers = [best_semilog_linear_scheduler]\n",
    "\n",
    "train(\n",
    "    best_semilog_model,\n",
    "    fmnist_trainloader,\n",
    "    fmnist_testloader,\n",
    "    best_semilog_optimizers,\n",
    "    best_semilog_schedulers,\n",
    "    nn.CrossEntropyLoss(),\n",
    "    20,\n",
    ")"
   ],
   "metadata": {
    "collapsed": false,
    "ExecuteTime": {
     "end_time": "2023-08-22T14:58:45.365543700Z",
     "start_time": "2023-08-22T14:55:43.418531900Z"
    }
   }
  },
  {
   "cell_type": "markdown",
   "source": [
    "Log semiring experiments with a shifted and scaled variant of the SemiLog using the exact same configuration"
   ],
   "metadata": {
    "collapsed": false
   }
  },
  {
   "cell_type": "code",
   "execution_count": 8,
   "outputs": [
    {
     "name": "stdout",
     "output_type": "stream",
     "text": [
      "linear/log_shifted_scaled model has 398473 trainable parameters, of which 288020 are linear and 110453 are semiring related\n"
     ]
    },
    {
     "data": {
      "text/plain": "''"
     },
     "metadata": {},
     "output_type": "display_data"
    },
    {
     "data": {
      "text/plain": "  0%|          | 0/20 [00:00<?, ?it/s]",
      "application/vnd.jupyter.widget-view+json": {
       "version_major": 2,
       "version_minor": 0,
       "model_id": "76d20d17d0114b4fbfffc031a78d4db1"
      }
     },
     "metadata": {},
     "output_type": "display_data"
    },
    {
     "data": {
      "text/plain": "<Figure size 600x400 with 1 Axes>",
      "image/png": "[encoded data removed]"
     },
     "metadata": {},
     "output_type": "display_data"
    },
    {
     "data": {
      "text/plain": "<Figure size 600x400 with 2 Axes>",
      "image/png": "[encoded data removed]"
     },
     "metadata": {},
     "output_type": "display_data"
    }
   ],
   "source": [
    "semilog_shifted_scaled_model = Model(\"linear/log_shifted_scaled\", layer_norm=True, skip_connections=True,\n",
    "                                     k=6.1283850413012875,\n",
    "                                     mu=0.97622306742588).to(device)\n",
    "\n",
    "print(\n",
    "    f\"{semilog_shifted_scaled_model.name} model has {count_parameters(semilog_shifted_scaled_model.parameters())} trainable parameters, \"\n",
    "    f\"of which {count_parameters(nonsemilog_shifted_scaled_parameters(semilog_shifted_scaled_model))} are linear \"\n",
    "    f\"and {count_parameters(semilog_shifted_scaled_parameters(semilog_shifted_scaled_model))} are semiring related\")\n",
    "\n",
    "semilog_shifted_scaled_linear_optimizer = torch.optim.AdamW(\n",
    "    nonsemilog_shifted_scaled_parameters(semilog_shifted_scaled_model),\n",
    "    lr=0.05971752653541055)\n",
    "semilog_shifted_scaled_linear_scheduler = torch.optim.lr_scheduler.OneCycleLR(\n",
    "    semilog_shifted_scaled_linear_optimizer,\n",
    "    max_lr=0.05971752653541055,\n",
    "    anneal_strategy=\"linear\",\n",
    "    pct_start=0.3,\n",
    "    three_phase=True,\n",
    "    final_div_factor=900.0,\n",
    "    div_factor=10.0,\n",
    "    steps_per_epoch=len(fmnist_trainloader),\n",
    "    epochs=20,\n",
    ")\n",
    "semilog_shifted_scaled_semiring_optimizer = torch.optim.SGD(\n",
    "    semilog_shifted_scaled_parameters(semilog_shifted_scaled_model), lr=0.004074057814487343)\n",
    "\n",
    "semilog_shifted_scaled_optimizers = [semilog_shifted_scaled_linear_optimizer, semilog_shifted_scaled_semiring_optimizer]\n",
    "semilog_shifted_scaled_schedulers = [semilog_shifted_scaled_linear_scheduler]\n",
    "\n",
    "train(\n",
    "    semilog_shifted_scaled_model,\n",
    "    fmnist_trainloader,\n",
    "    fmnist_testloader,\n",
    "    semilog_shifted_scaled_optimizers,\n",
    "    semilog_shifted_scaled_schedulers,\n",
    "    nn.CrossEntropyLoss(),\n",
    "    20,\n",
    ")"
   ],
   "metadata": {
    "collapsed": false,
    "ExecuteTime": {
     "end_time": "2023-08-22T17:00:46.854459Z",
     "start_time": "2023-08-22T16:57:34.432427Z"
    }
   }
  }
 ],
 "metadata": {
  "kernelspec": {
   "display_name": "torch20",
   "language": "python",
   "name": "python3"
  },
  "language_info": {
   "codemirror_mode": {
    "name": "ipython",
    "version": 3
   },
   "file_extension": ".py",
   "mimetype": "text/x-python",
   "name": "python",
   "nbconvert_exporter": "python",
   "pygments_lexer": "ipython3",
   "version": "3.10.11"
  },
  "orig_nbformat": 4
 },
 "nbformat": 4,
 "nbformat_minor": 2
}
