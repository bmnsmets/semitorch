{
 "cells": [
  {
   "cell_type": "code",
   "execution_count": 1,
   "metadata": {},
   "outputs": [
    {
     "name": "stdout",
     "output_type": "stream",
     "text": [
      "[Taichi] version 1.5.0, llvm 15.0.4, commit 7b885c28, linux, python 3.10.10\n"
     ]
    },
    {
     "name": "stderr",
     "output_type": "stream",
     "text": [
      "[I 04/13/23 16:54:22.747 40737] [shell.py:_shell_pop_print@23] Graphical python shell detected, using wrapped sys.stdout\n"
     ]
    }
   ],
   "source": [
    "import torch\n",
    "import torchvision\n",
    "import matplotlib.pyplot as plt\n",
    "from PIL import Image\n",
    "from mpl_toolkits.axes_grid1 import ImageGrid\n",
    "import ipywidgets as widgets\n",
    "import numpy as np\n",
    "from utils import Timer, CUDATimer, ntuple, mnistplot\n",
    "from typing import Optional, Union, Tuple, TypeVar\n",
    "\n",
    "import taichi as ti\n",
    "import taichi.math as tm\n",
    "\n",
    "device = torch.device('cuda')\n"
   ]
  },
  {
   "cell_type": "code",
   "execution_count": 58,
   "metadata": {},
   "outputs": [
    {
     "data": {
      "image/png": "[encoded data removed]",
      "text/plain": [
       "<Figure size 1000x200 with 40 Axes>"
      ]
     },
     "metadata": {},
     "output_type": "display_data"
    },
    {
     "name": "stdout",
     "output_type": "stream",
     "text": [
      "Elapsed: 668.11 ms\n"
     ]
    }
   ],
   "source": [
    "transform = torchvision.transforms.Compose([\n",
    "    torchvision.transforms.ToTensor(),\n",
    "    # torchvision.transforms.Normalize((0.1307,), (0.3081,)),\n",
    "])\n",
    "\n",
    "trainset = torchvision.datasets.MNIST(\n",
    "    '~/.cache', train=True, download=True, transform=transform)\n",
    "testset = torchvision.datasets.MNIST(\n",
    "    '~/.cache', train=False, download=True, transform=transform)\n",
    "\n",
    "x = torch.unsqueeze(torch.concat([trainset[i][0] for i in range(1, 6)]), 0)\n",
    "with Timer():\n",
    "    mnistplot(x)"
   ]
  },
  {
   "cell_type": "code",
   "execution_count": 60,
   "metadata": {},
   "outputs": [],
   "source": [
    "@ti.dataclass\n",
    "class ConvDims:\n",
    "    input_size: ti.types.vector(2, ti.i32)\n",
    "    kernel_size: ti.types.vector(2, ti.i32)\n",
    "    in_channels: ti.i32\n",
    "    out_channels: ti.i32\n",
    "    padding: ti.types.vector(4, ti.i32)\n",
    "    stride: ti.types.vector(2, ti.i32)\n",
    "    dilation: ti.types.vector(2, ti.i32)\n",
    "    groups: ti.i32\n",
    "\n",
    "    def output_size(self):\n",
    "        insize = [self.input_size[i] + self.padding[2*i+1] + self.padding[2*i]\n",
    "                  for i in range(2)]\n",
    "        ksize = [(self.kernel_size[i] - 1) * self.dilation[i] + 1 for i in range(2)]\n",
    "        return [(insize[i] - ksize[i]) // self.stride[i] + 1 for i in range(2)]\n",
    "\n",
    "\n",
    "def create_convdims2d(\n",
    "    input_size: Tuple[int, int],\n",
    "    kernel_size: Tuple[int, int],\n",
    "    in_channels: int,\n",
    "    out_channels: int,\n",
    "    padding: Union[str, int, Tuple[int, int, int, int]] = 0,\n",
    "    stride: Union[int, Tuple[int, int]] = 1,\n",
    "    dilation: Union[int, Tuple[int, int]] = 1,\n",
    "    groups: int = 1\n",
    "):\n",
    "    stride = ntuple(stride, 2)\n",
    "    dilation = ntuple(dilation, 2)\n",
    "\n",
    "    if isinstance(padding, str):\n",
    "        assert padding in {'same'}, 'padding = \\'{padding}\\' is not a valid argument.'\n",
    "        if padding == 'same':\n",
    "            padding = [0, 0, 0, 0]\n",
    "            for d, k, i in zip(dilation, kernel_size,\n",
    "                               range(len(kernel_size))):\n",
    "                total_padding = d * (k - 1)\n",
    "                left_pad = total_padding // 2\n",
    "                padding[2*i] = left_pad\n",
    "                padding[2*i+1] = total_padding - left_pad\n",
    "\n",
    "    padding = ntuple(padding, 4)\n",
    "\n",
    "    return ConvDims(\n",
    "        input_size=input_size,\n",
    "        kernel_size=kernel_size,\n",
    "        in_channels=in_channels,\n",
    "        out_channels=out_channels,\n",
    "        padding=padding,\n",
    "        stride=stride,\n",
    "        dilation=dilation,\n",
    "        groups=groups\n",
    "    )\n"
   ]
  },
  {
   "cell_type": "code",
   "execution_count": null,
   "metadata": {},
   "outputs": [],
   "source": [
    "\n",
    "\n",
    "@ti.kernel\n",
    "def maxplus_fw_kernel_v1(\n",
    "    y: ti.types.ndarray(ndim=5), # [B,G,Cy,Hy,Wy]\n",
    "    hits: ti.types.ndarray(dtype=ti.i32, ndim=5), # [B,G,Cx,Hx,Wx]\n",
    "    x: ti.types.ndarray(ndim=5), # [B,G,Cx,Hx,Wx]\n",
    "    w: ti.types.ndarray(ndim=4), # [G,Cout,Cin,Hw,Ww]\n",
    "    cdims: ConvDims\n",
    "):\n",
    "    pass"
   ]
  },
  {
   "cell_type": "code",
   "execution_count": null,
   "metadata": {},
   "outputs": [],
   "source": []
  }
 ],
 "metadata": {
  "kernelspec": {
   "display_name": "pytorch200cu118",
   "language": "python",
   "name": "python3"
  },
  "language_info": {
   "codemirror_mode": {
    "name": "ipython",
    "version": 3
   },
   "file_extension": ".py",
   "mimetype": "text/x-python",
   "name": "python",
   "nbconvert_exporter": "python",
   "pygments_lexer": "ipython3",
   "version": "3.10.10"
  },
  "orig_nbformat": 4
 },
 "nbformat": 4,
 "nbformat_minor": 2
}
