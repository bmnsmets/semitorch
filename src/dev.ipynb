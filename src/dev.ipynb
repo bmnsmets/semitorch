{
 "cells": [
  {
   "cell_type": "code",
   "execution_count": 94,
   "metadata": {},
   "outputs": [],
   "source": [
    "import torch, torchvision\n",
    "import matplotlib.pyplot as plt\n",
    "from PIL import Image\n",
    "from mpl_toolkits.axes_grid1 import ImageGrid\n",
    "import ipywidgets as widgets\n",
    "import numpy as np\n",
    "\n",
    "device = torch.device(\"cuda\")\n",
    "\n",
    "def mnistplot(x):\n",
    "    assert x.ndim in (2, 3)\n",
    "\n",
    "    vmin = -0.4242\n",
    "    vmax = 2.8215\n",
    "\n",
    "    if isinstance(x, torch.Tensor):\n",
    "        x = x.cpu().numpy()\n",
    "    else:\n",
    "        x = np.array(x)\n",
    "\n",
    "    if x.ndim == 3 and x.shape[0] == 1:\n",
    "        x = x[0]\n",
    "\n",
    "    if len(x.shape) == 2:\n",
    "        plt.axis('off')\n",
    "        plt.imshow(x, cmap='gray', vmin=vmin, vmax=vmax)\n",
    "    elif len(x.shape) == 3:\n",
    "        ncols = 4\n",
    "        nrows = -(x.shape[0] // -4)\n",
    "\n",
    "        fig = plt.figure(figsize=(4 * ncols, 4 * nrows))\n",
    "        grid = ImageGrid(fig, 111, nrows_ncols=(nrows, ncols))\n",
    "\n",
    "        for ax in grid:\n",
    "            ax.axis(\"off\")\n",
    "\n",
    "        for ax, i in enumerate(grid):\n",
    "            if i >= x.shape[0]:\n",
    "                break\n",
    "            ax.imshow(x[i], cmap='gray', vmin=vmin, vmax=vmax)\n",
    "\n",
    "        plt.show()\n",
    "\n",
    "    "
   ]
  },
  {
   "cell_type": "code",
   "execution_count": 47,
   "metadata": {},
   "outputs": [],
   "source": [
    "transform = torchvision.transforms.Compose([\n",
    "    torchvision.transforms.ToTensor(),\n",
    "    torchvision.transforms.Normalize((0.1307,), (0.3081,)),\n",
    "])\n",
    "\n",
    "trainset = torchvision.datasets.MNIST('~/.cache', train=True, download=True, transform=transform)\n",
    "testset = torchvision.datasets.MNIST('~/.cache', train=False, download=True, transform=transform)"
   ]
  },
  {
   "cell_type": "code",
   "execution_count": 97,
   "metadata": {},
   "outputs": [
    {
     "data": {
      "image/png": "[encoded data removed]",
      "text/plain": [
       "<Figure size 640x480 with 1 Axes>"
      ]
     },
     "metadata": {},
     "output_type": "display_data"
    }
   ],
   "source": [
    "mnistplot(trainset[10][0][0])"
   ]
  },
  {
   "cell_type": "code",
   "execution_count": 71,
   "metadata": {},
   "outputs": [
    {
     "data": {
      "text/plain": [
       "tensor(2.8215)"
      ]
     },
     "execution_count": 71,
     "metadata": {},
     "output_type": "execute_result"
    }
   ],
   "source": [
    "max([torch.max(x[0]) for x in testset])"
   ]
  },
  {
   "cell_type": "code",
   "execution_count": 56,
   "metadata": {},
   "outputs": [
    {
     "data": {
      "text/plain": [
       "3"
      ]
     },
     "execution_count": 56,
     "metadata": {},
     "output_type": "execute_result"
    }
   ],
   "source": [
    "len(trainset[0][0].numpy().shape)"
   ]
  },
  {
   "cell_type": "code",
   "execution_count": 59,
   "metadata": {},
   "outputs": [
    {
     "data": {
      "text/plain": [
       "True"
      ]
     },
     "execution_count": 59,
     "metadata": {},
     "output_type": "execute_result"
    }
   ],
   "source": [
    "3 in (1,2,3)"
   ]
  },
  {
   "cell_type": "code",
   "execution_count": 99,
   "metadata": {},
   "outputs": [
    {
     "data": {
      "text/plain": [
       "list"
      ]
     },
     "execution_count": 99,
     "metadata": {},
     "output_type": "execute_result"
    }
   ],
   "source": [
    "type([x for x in (1,2,3)])"
   ]
  },
  {
   "cell_type": "code",
   "execution_count": null,
   "metadata": {},
   "outputs": [],
   "source": []
  }
 ],
 "metadata": {
  "kernelspec": {
   "display_name": "pytorch200cu118",
   "language": "python",
   "name": "python3"
  },
  "language_info": {
   "codemirror_mode": {
    "name": "ipython",
    "version": 3
   },
   "file_extension": ".py",
   "mimetype": "text/x-python",
   "name": "python",
   "nbconvert_exporter": "python",
   "pygments_lexer": "ipython3",
   "version": "3.10.10"
  },
  "orig_nbformat": 4
 },
 "nbformat": 4,
 "nbformat_minor": 2
}
